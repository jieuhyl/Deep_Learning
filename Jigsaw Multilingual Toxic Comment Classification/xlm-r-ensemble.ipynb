{
 "cells": [
  {
   "cell_type": "code",
   "execution_count": 1,
   "metadata": {
    "_cell_guid": "b1076dfc-b9ad-4769-8c92-a6c4dae69d19",
    "_uuid": "8f2839f25d086af736a60e9eeb907d3b93b6e0e5",
    "execution": {
     "iopub.execute_input": "2020-09-20T14:09:53.376721Z",
     "iopub.status.busy": "2020-09-20T14:09:53.375432Z",
     "iopub.status.idle": "2020-09-20T14:09:53.398886Z",
     "shell.execute_reply": "2020-09-20T14:09:53.397622Z"
    },
    "papermill": {
     "duration": 0.041381,
     "end_time": "2020-09-20T14:09:53.399086",
     "exception": false,
     "start_time": "2020-09-20T14:09:53.357705",
     "status": "completed"
    },
    "tags": []
   },
   "outputs": [
    {
     "name": "stdout",
     "output_type": "stream",
     "text": [
      "/kaggle/input/bert-benchmark/__resultx__.html\n",
      "/kaggle/input/bert-benchmark/custom.css\n",
      "/kaggle/input/bert-benchmark/__notebook__.ipynb\n",
      "/kaggle/input/bert-benchmark/__results__.html\n",
      "/kaggle/input/bert-benchmark/__output__.json\n",
      "/kaggle/input/bert-benchmark/submission.csv\n",
      "/kaggle/input/bert-benchmark/__results___files/__results___28_1.png\n",
      "/kaggle/input/bert-benchmark/bert_base_uncased/vocab.txt\n",
      "/kaggle/input/bert-benchmark/bert_base_uncased/special_tokens_map.json\n",
      "/kaggle/input/bert-benchmark/bert_base_uncased/tokenizer_config.json\n",
      "/kaggle/input/xlm-roberta-pseudo-labeling/custom.css\n",
      "/kaggle/input/xlm-roberta-pseudo-labeling/__notebook__.ipynb\n",
      "/kaggle/input/xlm-roberta-pseudo-labeling/__results__.html\n",
      "/kaggle/input/xlm-roberta-pseudo-labeling/__output__.json\n",
      "/kaggle/input/xlm-roberta-pseudo-labeling/submission.csv\n",
      "/kaggle/input/distilbert-baseline/__resultx__.html\n",
      "/kaggle/input/distilbert-baseline/custom.css\n",
      "/kaggle/input/distilbert-baseline/__notebook__.ipynb\n",
      "/kaggle/input/distilbert-baseline/__results__.html\n",
      "/kaggle/input/distilbert-baseline/__output__.json\n",
      "/kaggle/input/distilbert-baseline/submission.csv\n",
      "/kaggle/input/distilbert-baseline/__results___files/__results___28_1.png\n",
      "/kaggle/input/distilbert-baseline/distilbert_base_uncased/vocab.txt\n",
      "/kaggle/input/distilbert-baseline/distilbert_base_uncased/special_tokens_map.json\n",
      "/kaggle/input/distilbert-baseline/distilbert_base_uncased/tokenizer_config.json\n",
      "/kaggle/input/xlm-roberta-ensemble/custom.css\n",
      "/kaggle/input/xlm-roberta-ensemble/__notebook__.ipynb\n",
      "/kaggle/input/xlm-roberta-ensemble/__results__.html\n",
      "/kaggle/input/xlm-roberta-ensemble/__output__.json\n",
      "/kaggle/input/xlm-roberta-ensemble/submission.csv\n",
      "/kaggle/input/xlm-roberta-ensemble/__results___files/__results___27_2.png\n",
      "/kaggle/input/jigsaw-multilingual-toxic-comment-classification/jigsaw-unintended-bias-train.csv\n",
      "/kaggle/input/jigsaw-multilingual-toxic-comment-classification/validation-processed-seqlen128.csv\n",
      "/kaggle/input/jigsaw-multilingual-toxic-comment-classification/jigsaw-toxic-comment-train-processed-seqlen128.csv\n",
      "/kaggle/input/jigsaw-multilingual-toxic-comment-classification/validation.csv\n",
      "/kaggle/input/jigsaw-multilingual-toxic-comment-classification/test-processed-seqlen128.csv\n",
      "/kaggle/input/jigsaw-multilingual-toxic-comment-classification/jigsaw-toxic-comment-train.csv\n",
      "/kaggle/input/jigsaw-multilingual-toxic-comment-classification/test.csv\n",
      "/kaggle/input/jigsaw-multilingual-toxic-comment-classification/sample_submission.csv\n",
      "/kaggle/input/jigsaw-multilingual-toxic-comment-classification/jigsaw-unintended-bias-train-processed-seqlen128.csv\n",
      "/kaggle/input/jigsaw/submission_bert13.csv\n",
      "/kaggle/input/jigsaw/submission_ensemble25.csv\n",
      "/kaggle/input/jigsaw/submission_distillbert11.csv\n",
      "/kaggle/input/jigsaw/submission_sl23.csv\n"
     ]
    }
   ],
   "source": [
    "# This Python 3 environment comes with many helpful analytics libraries installed\n",
    "# It is defined by the kaggle/python Docker image: https://github.com/kaggle/docker-python\n",
    "# For example, here's several helpful packages to load\n",
    "\n",
    "import numpy as np # linear algebra\n",
    "import pandas as pd # data processing, CSV file I/O (e.g. pd.read_csv)\n",
    "\n",
    "# Input data files are available in the read-only \"../input/\" directory\n",
    "# For example, running this (by clicking run or pressing Shift+Enter) will list all files under the input directory\n",
    "\n",
    "import os\n",
    "for dirname, _, filenames in os.walk('/kaggle/input'):\n",
    "    for filename in filenames:\n",
    "        print(os.path.join(dirname, filename))\n",
    "\n",
    "# You can write up to 5GB to the current directory (/kaggle/working/) that gets preserved as output when you create a version using \"Save & Run All\" \n",
    "# You can also write temporary files to /kaggle/temp/, but they won't be saved outside of the current session"
   ]
  },
  {
   "cell_type": "code",
   "execution_count": 2,
   "metadata": {
    "_cell_guid": "79c7e3d0-c299-4dcb-8224-4455121ee9b0",
    "_uuid": "d629ff2d2480ee46fbb7e2d37f6b5fab8052498a",
    "execution": {
     "iopub.execute_input": "2020-09-20T14:09:53.426923Z",
     "iopub.status.busy": "2020-09-20T14:09:53.426092Z",
     "iopub.status.idle": "2020-09-20T14:09:54.128373Z",
     "shell.execute_reply": "2020-09-20T14:09:54.127667Z"
    },
    "papermill": {
     "duration": 0.720572,
     "end_time": "2020-09-20T14:09:54.128517",
     "exception": false,
     "start_time": "2020-09-20T14:09:53.407945",
     "status": "completed"
    },
    "tags": []
   },
   "outputs": [],
   "source": [
    "sub = pd.read_csv('/kaggle/input/jigsaw-multilingual-toxic-comment-classification/sample_submission.csv')\n",
    "sub0 = pd.read_csv('../input/jigsaw/submission_ensemble25.csv')\n",
    "sub1 = pd.read_csv('../input/jigsaw/submission_sl23.csv')\n",
    "sub2 = pd.read_csv('../input/jigsaw/submission_bert13.csv')\n",
    "sub3 = pd.read_csv('../input/jigsaw/submission_distillbert11.csv')\n",
    "test = pd.read_csv('../input/jigsaw-multilingual-toxic-comment-classification/test.csv')"
   ]
  },
  {
   "cell_type": "code",
   "execution_count": 3,
   "metadata": {
    "execution": {
     "iopub.execute_input": "2020-09-20T14:09:54.151871Z",
     "iopub.status.busy": "2020-09-20T14:09:54.151045Z",
     "iopub.status.idle": "2020-09-20T14:09:54.516309Z",
     "shell.execute_reply": "2020-09-20T14:09:54.515483Z"
    },
    "papermill": {
     "duration": 0.379966,
     "end_time": "2020-09-20T14:09:54.516443",
     "exception": false,
     "start_time": "2020-09-20T14:09:54.136477",
     "status": "completed"
    },
    "tags": []
   },
   "outputs": [
    {
     "name": "stdout",
     "output_type": "stream",
     "text": [
      "[0.45, 0.25, 0.1, 0.05]\n"
     ]
    }
   ],
   "source": [
    "from scipy.special import softmax\n",
    "\n",
    "#pb = np.array([0.9455,0.9443,0.9270,0.8794])\n",
    "#\"\"\"Weighted by sofmax of 1 over 1 minus pb score.\"\"\"\n",
    "#weight = lambda x: softmax(1/(1-x))\n",
    "#w = weight(pb)\n",
    "w = [0.45, 0.25, 0.1, 0.05]\n",
    "print([round(i, 2) for i in w])"
   ]
  },
  {
   "cell_type": "code",
   "execution_count": 4,
   "metadata": {
    "execution": {
     "iopub.execute_input": "2020-09-20T14:09:54.544299Z",
     "iopub.status.busy": "2020-09-20T14:09:54.543497Z",
     "iopub.status.idle": "2020-09-20T14:09:54.573510Z",
     "shell.execute_reply": "2020-09-20T14:09:54.572659Z"
    },
    "papermill": {
     "duration": 0.048706,
     "end_time": "2020-09-20T14:09:54.573645",
     "exception": false,
     "start_time": "2020-09-20T14:09:54.524939",
     "status": "completed"
    },
    "tags": []
   },
   "outputs": [],
   "source": [
    "sub['toxic'] = sub0['toxic']*w[0] + sub1['toxic']*w[1] + sub2['toxic']*w[2] + sub3['toxic']*w[3]"
   ]
  },
  {
   "cell_type": "code",
   "execution_count": 5,
   "metadata": {
    "execution": {
     "iopub.execute_input": "2020-09-20T14:09:54.611864Z",
     "iopub.status.busy": "2020-09-20T14:09:54.611006Z",
     "iopub.status.idle": "2020-09-20T14:09:54.652071Z",
     "shell.execute_reply": "2020-09-20T14:09:54.651150Z"
    },
    "papermill": {
     "duration": 0.069937,
     "end_time": "2020-09-20T14:09:54.652220",
     "exception": false,
     "start_time": "2020-09-20T14:09:54.582283",
     "status": "completed"
    },
    "tags": []
   },
   "outputs": [],
   "source": [
    "sub.loc[test[\"lang\"] == \"es\", \"toxic\"] *= 1.11\n",
    "#sub.loc[test[\"lang\"] == \"fr\", \"toxic\"] *= 0.99\n",
    "#sub.loc[test[\"lang\"] == \"it\", \"toxic\"] *= 0.98\n",
    "sub.loc[test[\"lang\"] == \"pt\", \"toxic\"] *= 0.94\n",
    "sub.loc[test[\"lang\"] == \"tr\", \"toxic\"] *= 1.17\n",
    "\n",
    "sub.toxic -= sub.toxic.min()\n",
    "sub.toxic /= (sub.toxic.max() - sub.toxic.min())"
   ]
  },
  {
   "cell_type": "code",
   "execution_count": 6,
   "metadata": {
    "execution": {
     "iopub.execute_input": "2020-09-20T14:09:54.677167Z",
     "iopub.status.busy": "2020-09-20T14:09:54.676310Z",
     "iopub.status.idle": "2020-09-20T14:09:55.124907Z",
     "shell.execute_reply": "2020-09-20T14:09:55.125479Z"
    },
    "papermill": {
     "duration": 0.464166,
     "end_time": "2020-09-20T14:09:55.125671",
     "exception": false,
     "start_time": "2020-09-20T14:09:54.661505",
     "status": "completed"
    },
    "tags": []
   },
   "outputs": [
    {
     "data": {
      "text/plain": [
       "<matplotlib.axes._subplots.AxesSubplot at 0x7fd453bd2750>"
      ]
     },
     "execution_count": 6,
     "metadata": {},
     "output_type": "execute_result"
    },
    {
     "data": {
      "image/png": "[encoded data removed]",
      "text/plain": [
       "<Figure size 432x288 with 1 Axes>"
      ]
     },
     "metadata": {
      "needs_background": "light"
     },
     "output_type": "display_data"
    }
   ],
   "source": [
    "sub.toxic.hist(bins=100, log=False, alpha=1)"
   ]
  },
  {
   "cell_type": "code",
   "execution_count": 7,
   "metadata": {
    "execution": {
     "iopub.execute_input": "2020-09-20T14:09:55.153030Z",
     "iopub.status.busy": "2020-09-20T14:09:55.151925Z",
     "iopub.status.idle": "2020-09-20T14:09:55.548980Z",
     "shell.execute_reply": "2020-09-20T14:09:55.548094Z"
    },
    "papermill": {
     "duration": 0.41324,
     "end_time": "2020-09-20T14:09:55.549128",
     "exception": false,
     "start_time": "2020-09-20T14:09:55.135888",
     "status": "completed"
    },
    "tags": []
   },
   "outputs": [],
   "source": [
    "sub.to_csv('submission.csv', index=False)"
   ]
  }
 ],
 "metadata": {
  "kernelspec": {
   "display_name": "Python 3",
   "language": "python",
   "name": "python3"
  },
  "language_info": {
   "codemirror_mode": {
    "name": "ipython",
    "version": 3
   },
   "file_extension": ".py",
   "mimetype": "text/x-python",
   "name": "python",
   "nbconvert_exporter": "python",
   "pygments_lexer": "ipython3",
   "version": "3.7.6"
  },
  "papermill": {
   "duration": 7.33423,
   "end_time": "2020-09-20T14:09:55.670566",
   "environment_variables": {},
   "exception": null,
   "input_path": "__notebook__.ipynb",
   "output_path": "__notebook__.ipynb",
   "parameters": {},
   "start_time": "2020-09-20T14:09:48.336336",
   "version": "2.1.0"
  }
 },
 "nbformat": 4,
 "nbformat_minor": 4
}
