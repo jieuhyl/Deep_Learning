{
 "cells": [
  {
   "cell_type": "markdown",
   "metadata": {
    "papermill": {
     "duration": 0.020131,
     "end_time": "2020-09-13T09:09:34.693412",
     "exception": false,
     "start_time": "2020-09-13T09:09:34.673281",
     "status": "completed"
    },
    "tags": []
   },
   "source": [
    "## Import libraries"
   ]
  },
  {
   "cell_type": "code",
   "execution_count": 1,
   "metadata": {
    "_cell_guid": "b1076dfc-b9ad-4769-8c92-a6c4dae69d19",
    "_uuid": "8f2839f25d086af736a60e9eeb907d3b93b6e0e5",
    "execution": {
     "iopub.execute_input": "2020-09-13T09:09:34.743077Z",
     "iopub.status.busy": "2020-09-13T09:09:34.742388Z",
     "iopub.status.idle": "2020-09-13T09:09:42.300984Z",
     "shell.execute_reply": "2020-09-13T09:09:42.300239Z"
    },
    "papermill": {
     "duration": 7.586659,
     "end_time": "2020-09-13T09:09:42.301109",
     "exception": false,
     "start_time": "2020-09-13T09:09:34.714450",
     "status": "completed"
    },
    "tags": []
   },
   "outputs": [
    {
     "name": "stderr",
     "output_type": "stream",
     "text": [
      "\u001b[34m\u001b[1mwandb\u001b[0m: \u001b[33mWARNING\u001b[0m W&B installed but not logged in.  Run `wandb login` or set the WANDB_API_KEY env variable.\n"
     ]
    }
   ],
   "source": [
    "import warnings\n",
    "warnings.filterwarnings(\"ignore\")\n",
    "import os\n",
    "import gc\n",
    "import numpy as np\n",
    "import pandas as pd\n",
    "import re\n",
    "import matplotlib.pyplot as plt\n",
    "import tensorflow as tf\n",
    "from tensorflow.keras.layers import Dense, Dropout, Input, Concatenate, Average, GlobalAveragePooling1D, GlobalMaxPooling1D\n",
    "from tensorflow.keras.optimizers import Adam\n",
    "from tensorflow.keras.models import Model, load_model\n",
    "from tensorflow.keras.callbacks import ReduceLROnPlateau, LearningRateScheduler, EarlyStopping, ModelCheckpoint\n",
    "from kaggle_datasets import KaggleDatasets\n",
    "import transformers\n",
    "from transformers import TFAutoModel, AutoTokenizer\n",
    "from tqdm.notebook import tqdm\n",
    "from tokenizers import Tokenizer, models, pre_tokenizers, decoders, processors"
   ]
  },
  {
   "cell_type": "markdown",
   "metadata": {
    "papermill": {
     "duration": 0.021244,
     "end_time": "2020-09-13T09:09:42.343759",
     "exception": false,
     "start_time": "2020-09-13T09:09:42.322515",
     "status": "completed"
    },
    "tags": []
   },
   "source": [
    "## Helper functions"
   ]
  },
  {
   "cell_type": "code",
   "execution_count": 2,
   "metadata": {
    "_cell_guid": "79c7e3d0-c299-4dcb-8224-4455121ee9b0",
    "_uuid": "d629ff2d2480ee46fbb7e2d37f6b5fab8052498a",
    "execution": {
     "iopub.execute_input": "2020-09-13T09:09:42.392003Z",
     "iopub.status.busy": "2020-09-13T09:09:42.391339Z",
     "iopub.status.idle": "2020-09-13T09:09:42.393711Z",
     "shell.execute_reply": "2020-09-13T09:09:42.394287Z"
    },
    "papermill": {
     "duration": 0.030364,
     "end_time": "2020-09-13T09:09:42.394422",
     "exception": false,
     "start_time": "2020-09-13T09:09:42.364058",
     "status": "completed"
    },
    "tags": []
   },
   "outputs": [],
   "source": [
    "def clean_text(text):\n",
    "    text = str(text)\n",
    "    text = re.sub(r'[0-9\"]', '', text) # number\n",
    "    text = re.sub(r'#[\\S]+\\b', '', text) # hash\n",
    "    text = re.sub(r'@[\\S]+\\b', '', text) # mention\n",
    "    text = re.sub(r'https?\\S+', '', text) # link\n",
    "    text = re.sub(r'\\s+', ' ', text) # multiple white spaces\n",
    "#     text = re.sub(r'\\W+', ' ', text) # non-alphanumeric\n",
    "    return text.strip()"
   ]
  },
  {
   "cell_type": "code",
   "execution_count": 3,
   "metadata": {
    "execution": {
     "iopub.execute_input": "2020-09-13T09:09:42.439973Z",
     "iopub.status.busy": "2020-09-13T09:09:42.439107Z",
     "iopub.status.idle": "2020-09-13T09:09:42.441504Z",
     "shell.execute_reply": "2020-09-13T09:09:42.442015Z"
    },
    "papermill": {
     "duration": 0.027697,
     "end_time": "2020-09-13T09:09:42.442161",
     "exception": false,
     "start_time": "2020-09-13T09:09:42.414464",
     "status": "completed"
    },
    "tags": []
   },
   "outputs": [],
   "source": [
    "def text_process(text):\n",
    "    ws = text.split(' ')\n",
    "    if(len(ws)>160):\n",
    "        text = ' '.join(ws[:160]) + ' ' + ' '.join(ws[-32:])\n",
    "    return text"
   ]
  },
  {
   "cell_type": "code",
   "execution_count": 4,
   "metadata": {
    "execution": {
     "iopub.execute_input": "2020-09-13T09:09:42.491165Z",
     "iopub.status.busy": "2020-09-13T09:09:42.490228Z",
     "iopub.status.idle": "2020-09-13T09:09:42.492875Z",
     "shell.execute_reply": "2020-09-13T09:09:42.493426Z"
    },
    "papermill": {
     "duration": 0.030199,
     "end_time": "2020-09-13T09:09:42.493567",
     "exception": false,
     "start_time": "2020-09-13T09:09:42.463368",
     "status": "completed"
    },
    "tags": []
   },
   "outputs": [],
   "source": [
    "def dict_encode(texts, tokenizer, maxlen=512):\n",
    "    enc_di = tokenizer.batch_encode_plus(\n",
    "        texts, \n",
    "        return_attention_mask=True, \n",
    "        return_token_type_ids=False,\n",
    "        pad_to_max_length=True,\n",
    "        max_length=maxlen,\n",
    "        truncation=True\n",
    "    )\n",
    "    \n",
    "    return {\n",
    "        \"input_ids\": np.array(enc_di['input_ids']),\n",
    "        \"attention_mask\": np.array(enc_di['attention_mask'])\n",
    "    }"
   ]
  },
  {
   "cell_type": "code",
   "execution_count": 5,
   "metadata": {
    "execution": {
     "iopub.execute_input": "2020-09-13T09:09:42.540734Z",
     "iopub.status.busy": "2020-09-13T09:09:42.540021Z",
     "iopub.status.idle": "2020-09-13T09:09:44.922967Z",
     "shell.execute_reply": "2020-09-13T09:09:44.922389Z"
    },
    "papermill": {
     "duration": 2.408763,
     "end_time": "2020-09-13T09:09:44.923110",
     "exception": false,
     "start_time": "2020-09-13T09:09:42.514347",
     "status": "completed"
    },
    "tags": []
   },
   "outputs": [
    {
     "data": {
      "application/vnd.jupyter.widget-view+json": {
       "model_id": "f33d942888644118b79427692b37231e",
       "version_major": 2,
       "version_minor": 0
      },
      "text/plain": [
       "HBox(children=(FloatProgress(value=0.0, description='Downloading', max=513.0, style=ProgressStyle(description_…"
      ]
     },
     "metadata": {},
     "output_type": "display_data"
    },
    {
     "name": "stdout",
     "output_type": "stream",
     "text": [
      "\n"
     ]
    },
    {
     "data": {
      "application/vnd.jupyter.widget-view+json": {
       "model_id": "c043f68e07a24761a61a134086ba35e8",
       "version_major": 2,
       "version_minor": 0
      },
      "text/plain": [
       "HBox(children=(FloatProgress(value=0.0, description='Downloading', max=5069051.0, style=ProgressStyle(descript…"
      ]
     },
     "metadata": {},
     "output_type": "display_data"
    },
    {
     "name": "stdout",
     "output_type": "stream",
     "text": [
      "\n"
     ]
    }
   ],
   "source": [
    "# First load the real tokenizer\n",
    "tokenizer = AutoTokenizer.from_pretrained('jplu/tf-xlm-roberta-large')"
   ]
  },
  {
   "cell_type": "markdown",
   "metadata": {
    "papermill": {
     "duration": 0.023412,
     "end_time": "2020-09-13T09:09:44.970136",
     "exception": false,
     "start_time": "2020-09-13T09:09:44.946724",
     "status": "completed"
    },
    "tags": []
   },
   "source": [
    "## TPU configs"
   ]
  },
  {
   "cell_type": "code",
   "execution_count": 6,
   "metadata": {
    "execution": {
     "iopub.execute_input": "2020-09-13T09:09:45.104274Z",
     "iopub.status.busy": "2020-09-13T09:09:45.103380Z",
     "iopub.status.idle": "2020-09-13T09:09:49.404594Z",
     "shell.execute_reply": "2020-09-13T09:09:49.403750Z"
    },
    "papermill": {
     "duration": 4.41181,
     "end_time": "2020-09-13T09:09:49.404747",
     "exception": false,
     "start_time": "2020-09-13T09:09:44.992937",
     "status": "completed"
    },
    "tags": []
   },
   "outputs": [
    {
     "name": "stdout",
     "output_type": "stream",
     "text": [
      "Running on TPU  grpc://10.0.0.2:8470\n",
      "REPLICAS:  8\n"
     ]
    }
   ],
   "source": [
    "# Detect hardware, return appropriate distribution strategy\n",
    "try:\n",
    "    # TPU detection. No parameters necessary if TPU_NAME environment variable is\n",
    "    # set: this is always the case on Kaggle.\n",
    "    tpu = tf.distribute.cluster_resolver.TPUClusterResolver()\n",
    "    print('Running on TPU ', tpu.master())\n",
    "except ValueError:\n",
    "    tpu = None\n",
    "\n",
    "if tpu:\n",
    "    tf.config.experimental_connect_to_cluster(tpu)\n",
    "    tf.tpu.experimental.initialize_tpu_system(tpu)\n",
    "    strategy = tf.distribute.experimental.TPUStrategy(tpu)\n",
    "else:\n",
    "    # Default distribution strategy in Tensorflow. Works on CPU and single GPU.\n",
    "    strategy = tf.distribute.get_strategy()\n",
    "\n",
    "print(\"REPLICAS: \", strategy.num_replicas_in_sync)"
   ]
  },
  {
   "cell_type": "code",
   "execution_count": 7,
   "metadata": {
    "execution": {
     "iopub.execute_input": "2020-09-13T09:09:49.458877Z",
     "iopub.status.busy": "2020-09-13T09:09:49.458163Z",
     "iopub.status.idle": "2020-09-13T09:09:49.460336Z",
     "shell.execute_reply": "2020-09-13T09:09:49.460891Z"
    },
    "papermill": {
     "duration": 0.031707,
     "end_time": "2020-09-13T09:09:49.461020",
     "exception": false,
     "start_time": "2020-09-13T09:09:49.429313",
     "status": "completed"
    },
    "tags": []
   },
   "outputs": [],
   "source": [
    "# Configuration\n",
    "MODEL = 'jplu/tf-xlm-roberta-large'\n",
    "AUTO = tf.data.experimental.AUTOTUNE\n",
    "SEED = 2020\n",
    "EPOCHS_1 = 20\n",
    "EPOCHS_2 = 2\n",
    "BATCH_SIZE = 16 * strategy.num_replicas_in_sync\n",
    "MAX_LEN = 192\n",
    "SHUFFLE = 2048\n",
    "VERBOSE = 1"
   ]
  },
  {
   "cell_type": "markdown",
   "metadata": {
    "papermill": {
     "duration": 0.023181,
     "end_time": "2020-09-13T09:09:49.507982",
     "exception": false,
     "start_time": "2020-09-13T09:09:49.484801",
     "status": "completed"
    },
    "tags": []
   },
   "source": [
    "## Read data"
   ]
  },
  {
   "cell_type": "code",
   "execution_count": 8,
   "metadata": {
    "execution": {
     "iopub.execute_input": "2020-09-13T09:09:49.568955Z",
     "iopub.status.busy": "2020-09-13T09:09:49.568304Z",
     "iopub.status.idle": "2020-09-13T09:10:15.743551Z",
     "shell.execute_reply": "2020-09-13T09:10:15.744162Z"
    },
    "papermill": {
     "duration": 26.212486,
     "end_time": "2020-09-13T09:10:15.744357",
     "exception": false,
     "start_time": "2020-09-13T09:09:49.531871",
     "status": "completed"
    },
    "tags": []
   },
   "outputs": [],
   "source": [
    "train1 = pd.read_csv(\"/kaggle/input/jigsaw-multilingual-toxic-comment-classification/jigsaw-toxic-comment-train.csv\")\n",
    "train2 = pd.read_csv(\"/kaggle/input/jigsaw-multilingual-toxic-comment-classification/jigsaw-unintended-bias-train.csv\")\n",
    "train2 = pd.concat([train2[['comment_text', 'toxic']].query('toxic<=0.4'),\n",
    "                    train2[['comment_text', 'toxic']].query('toxic>=0.6')])\n",
    "train2.toxic = train2.toxic.round().astype(int)\n",
    "train2 = train2.sample(frac = 1, random_state=SEED)\n",
    "train3 = pd.read_csv(\"/kaggle/input/jigsaw-train-multilingual-coments-google-api/jigsaw-toxic-comment-train-google-es-cleaned.csv\")\n",
    "train4 = pd.read_csv(\"/kaggle/input/jigsaw-train-multilingual-coments-google-api/jigsaw-toxic-comment-train-google-fr-cleaned.csv\")\n",
    "train5 = pd.read_csv(\"/kaggle/input/jigsaw-train-multilingual-coments-google-api/jigsaw-toxic-comment-train-google-it-cleaned.csv\")\n",
    "train6 = pd.read_csv(\"/kaggle/input/jigsaw-train-multilingual-coments-google-api/jigsaw-toxic-comment-train-google-pt-cleaned.csv\")\n",
    "train7 = pd.read_csv(\"/kaggle/input/jigsaw-train-multilingual-coments-google-api/jigsaw-toxic-comment-train-google-ru-cleaned.csv\")\n",
    "train8 = pd.read_csv(\"/kaggle/input/jigsaw-train-multilingual-coments-google-api/jigsaw-toxic-comment-train-google-tr-cleaned.csv\")\n",
    "\n",
    "\n",
    "valid1 = pd.read_csv('/kaggle/input/jigsaw-multilingual-toxic-comment-classification/validation.csv')\n",
    "valid2 = pd.read_csv('/kaggle/input/jigsaw-multilingual-toxic-test-translated/jigsaw_miltilingual_valid_translated.csv')\n",
    "valid2.rename(columns={'comment_text': 'old_comment_text', 'translated': 'comment_text'}, inplace=True)\n",
    "\n",
    "test = pd.read_csv('../input/jigsaw-multilingual-toxic-comment-classification/test.csv')\n",
    "test1 = pd.read_csv('/kaggle/input/jigsaw-multilingual-toxic-comment-classification/test.csv')\n",
    "test2 = pd.read_csv('/kaggle/input/jigsaw-multilingual-toxic-test-translated/jigsaw_miltilingual_test_translated.csv')\n",
    "\n",
    "sub = pd.read_csv('/kaggle/input/jigsaw-multilingual-toxic-comment-classification/sample_submission.csv')"
   ]
  },
  {
   "cell_type": "code",
   "execution_count": 9,
   "metadata": {
    "execution": {
     "iopub.execute_input": "2020-09-13T09:10:15.805284Z",
     "iopub.status.busy": "2020-09-13T09:10:15.804596Z",
     "iopub.status.idle": "2020-09-13T09:10:16.976568Z",
     "shell.execute_reply": "2020-09-13T09:10:16.975838Z"
    },
    "papermill": {
     "duration": 1.208469,
     "end_time": "2020-09-13T09:10:16.976692",
     "exception": false,
     "start_time": "2020-09-13T09:10:15.768223",
     "status": "completed"
    },
    "tags": []
   },
   "outputs": [],
   "source": [
    "# pseudo labeling\n",
    "train_9 = pd.read_csv(\"../input/xlm-roberta-ensemble/submission_multi.csv\")\n",
    "train_9.rename(columns={'content': 'comment_text'}, inplace=True)\n",
    "train_9 = pd.concat([train_9[['comment_text', 'toxic']].query('toxic<=0.4'),\n",
    "                     train_9[['comment_text', 'toxic']].query('toxic>=0.6')])\n",
    "train_9.toxic = train_9.toxic.round().astype(int)\n",
    "train_9 = train_9.sample(frac = 1, random_state=SEED)\n",
    "train_10 = pd.read_csv(\"../input/xlm-roberta-ensemble/submission_eng.csv\")\n",
    "train_10.rename(columns={'translated': 'comment_text'}, inplace=True)\n",
    "train_10 = pd.concat([train_10[['comment_text', 'toxic']].query('toxic<=0.4'),\n",
    "                      train_10[['comment_text', 'toxic']].query('toxic>=0.6')])\n",
    "train_10.toxic = train_10.toxic.round().astype(int)\n",
    "train_10 = train_10.sample(frac = 1, random_state=SEED)"
   ]
  },
  {
   "cell_type": "code",
   "execution_count": 10,
   "metadata": {
    "execution": {
     "iopub.execute_input": "2020-09-13T09:10:17.055745Z",
     "iopub.status.busy": "2020-09-13T09:10:17.048564Z",
     "iopub.status.idle": "2020-09-13T09:11:14.803457Z",
     "shell.execute_reply": "2020-09-13T09:11:14.804016Z"
    },
    "papermill": {
     "duration": 57.80285,
     "end_time": "2020-09-13T09:11:14.804161",
     "exception": false,
     "start_time": "2020-09-13T09:10:17.001311",
     "status": "completed"
    },
    "tags": []
   },
   "outputs": [
    {
     "data": {
      "text/plain": [
       "34"
      ]
     },
     "execution_count": 10,
     "metadata": {},
     "output_type": "execute_result"
    }
   ],
   "source": [
    "# sampling 50/50\n",
    "train = pd.concat([\n",
    "    train1[['comment_text', 'toxic']].query('toxic==1'),\n",
    "    train1[['comment_text', 'toxic']].query('toxic==0').sample(n=len(train1[train1.toxic == 1]), random_state=SEED),\n",
    "    train2[['comment_text', 'toxic']].query('toxic==1'),\n",
    "    train2[['comment_text', 'toxic']].query('toxic==0').sample(n=len(train2[train2.toxic == 1]), random_state=SEED),\n",
    "    train3[['comment_text', 'toxic']].query('toxic==1'),\n",
    "    train3[['comment_text', 'toxic']].query('toxic==0').sample(n=len(train3[train3.toxic == 1]), random_state=SEED),\n",
    "    train4[['comment_text', 'toxic']].query('toxic==1'),\n",
    "    train4[['comment_text', 'toxic']].query('toxic==0').sample(n=len(train4[train4.toxic == 1]), random_state=SEED),\n",
    "    train5[['comment_text', 'toxic']].query('toxic==1'),\n",
    "    train5[['comment_text', 'toxic']].query('toxic==0').sample(n=len(train5[train5.toxic == 1]), random_state=SEED),\n",
    "    train6[['comment_text', 'toxic']].query('toxic==1'),\n",
    "    train6[['comment_text', 'toxic']].query('toxic==0').sample(n=len(train6[train6.toxic == 1]), random_state=SEED),\n",
    "    train7[['comment_text', 'toxic']].query('toxic==1'),\n",
    "    train7[['comment_text', 'toxic']].query('toxic==0').sample(n=len(train7[train7.toxic == 1]), random_state=SEED),\n",
    "    train8[['comment_text', 'toxic']].query('toxic==1'),\n",
    "    train8[['comment_text', 'toxic']].query('toxic==0').sample(n=len(train8[train8.toxic == 1]), random_state=SEED),\n",
    "    train_9[['comment_text', 'toxic']].query('toxic==1'),\n",
    "    train_9[['comment_text', 'toxic']].query('toxic==0').sample(n=len(train_9[train_9.toxic == 1]), random_state=SEED),\n",
    "    train_10[['comment_text', 'toxic']].query('toxic==1'),\n",
    "    train_10[['comment_text', 'toxic']].query('toxic==0').sample(n=len(train_10[train_10.toxic == 1]), random_state=SEED)\n",
    "])\n",
    "\n",
    "train.toxic = train.toxic.round().astype(int)\n",
    "train = train.sample(frac = 1, random_state=SEED)\n",
    "\n",
    "valid = pd.concat([valid1, valid2])\n",
    "valid = valid.sample(frac = 1, random_state=SEED)\n",
    "\n",
    "\n",
    "train['comment_text'] = train.apply(lambda x: clean_text(x['comment_text']), axis=1)\n",
    "valid['comment_text'] = valid.apply(lambda x: clean_text(x['comment_text']), axis=1)\n",
    "test1['content'] = test1.apply(lambda x: clean_text(x['content']), axis=1)\n",
    "test2['translated'] = test2.apply(lambda x: clean_text(x['translated']), axis=1)\n",
    "\n",
    "train['comment_text'] = train['comment_text'].apply(lambda x: text_process(x))\n",
    "valid['comment_text'] = valid['comment_text'].apply(lambda x: text_process(x))\n",
    "test1['content'] = test1['content'].apply(lambda x: text_process(x))\n",
    "test2['translated'] = test2['translated'].apply(lambda x: text_process(x))\n",
    "\n",
    "\n",
    "n_train_steps = train.shape[0] // (BATCH_SIZE*16)\n",
    "n_valid_steps = valid.shape[0] // (BATCH_SIZE)\n",
    "\n",
    "del train1, train2, train3, train4, train5, train6, train7, train8, train_9, train_10\n",
    "gc.collect()"
   ]
  },
  {
   "cell_type": "code",
   "execution_count": 11,
   "metadata": {
    "execution": {
     "iopub.execute_input": "2020-09-13T09:11:14.876865Z",
     "iopub.status.busy": "2020-09-13T09:11:14.866391Z",
     "iopub.status.idle": "2020-09-13T09:16:47.895079Z",
     "shell.execute_reply": "2020-09-13T09:16:47.894258Z"
    },
    "papermill": {
     "duration": 333.066419,
     "end_time": "2020-09-13T09:16:47.895269",
     "exception": false,
     "start_time": "2020-09-13T09:11:14.828850",
     "status": "completed"
    },
    "tags": []
   },
   "outputs": [
    {
     "name": "stdout",
     "output_type": "stream",
     "text": [
      "CPU times: user 5min 30s, sys: 2.38 s, total: 5min 33s\n",
      "Wall time: 5min 33s\n"
     ]
    },
    {
     "data": {
      "text/plain": [
       "0"
      ]
     },
     "execution_count": 11,
     "metadata": {},
     "output_type": "execute_result"
    }
   ],
   "source": [
    "%%time \n",
    "x_train = dict_encode(train.comment_text.values, tokenizer, maxlen=MAX_LEN)\n",
    "x_valid = dict_encode(valid.comment_text.values, tokenizer, maxlen=MAX_LEN)\n",
    "\n",
    "x_test1 = dict_encode(test1.content.values, tokenizer, maxlen=MAX_LEN)\n",
    "x_test2 = dict_encode(test2.translated.values, tokenizer, maxlen=MAX_LEN)\n",
    "\n",
    "y_train = train.toxic.values\n",
    "y_valid = valid.toxic.values\n",
    "\n",
    "del train, valid\n",
    "gc.collect()"
   ]
  },
  {
   "cell_type": "markdown",
   "metadata": {
    "papermill": {
     "duration": 0.024911,
     "end_time": "2020-09-13T09:16:47.945396",
     "exception": false,
     "start_time": "2020-09-13T09:16:47.920485",
     "status": "completed"
    },
    "tags": []
   },
   "source": [
    "## Dataset object"
   ]
  },
  {
   "cell_type": "code",
   "execution_count": 12,
   "metadata": {
    "execution": {
     "iopub.execute_input": "2020-09-13T09:16:49.527682Z",
     "iopub.status.busy": "2020-09-13T09:16:48.027970Z",
     "iopub.status.idle": "2020-09-13T09:16:53.789014Z",
     "shell.execute_reply": "2020-09-13T09:16:53.788215Z"
    },
    "papermill": {
     "duration": 5.819705,
     "end_time": "2020-09-13T09:16:53.789159",
     "exception": false,
     "start_time": "2020-09-13T09:16:47.969454",
     "status": "completed"
    },
    "tags": []
   },
   "outputs": [
    {
     "data": {
      "text/plain": [
       "0"
      ]
     },
     "execution_count": 12,
     "metadata": {},
     "output_type": "execute_result"
    }
   ],
   "source": [
    "train_dataset = (\n",
    "    tf.data.Dataset\n",
    "    .from_tensor_slices((x_train, y_train))\n",
    "    .repeat()\n",
    "    .shuffle(SHUFFLE)\n",
    "    .batch(BATCH_SIZE)\n",
    "    .prefetch(AUTO)\n",
    ")\n",
    "\n",
    "valid_dataset = (\n",
    "    tf.data.Dataset\n",
    "    .from_tensor_slices((x_valid, y_valid))\n",
    "    .batch(BATCH_SIZE)\n",
    "    .cache()\n",
    "    .prefetch(AUTO)\n",
    ")\n",
    "\n",
    "\n",
    "test1_dataset = (\n",
    "    tf.data.Dataset\n",
    "    .from_tensor_slices(x_test1)\n",
    "    .batch(BATCH_SIZE)\n",
    ")\n",
    "\n",
    "test2_dataset = (\n",
    "    tf.data.Dataset\n",
    "    .from_tensor_slices(x_test2)\n",
    "    .batch(BATCH_SIZE)\n",
    ")\n",
    "\n",
    "del x_train, x_valid, y_train, y_valid, x_test1, x_test2\n",
    "gc.collect()"
   ]
  },
  {
   "cell_type": "markdown",
   "metadata": {
    "papermill": {
     "duration": 0.025642,
     "end_time": "2020-09-13T09:16:53.841334",
     "exception": false,
     "start_time": "2020-09-13T09:16:53.815692",
     "status": "completed"
    },
    "tags": []
   },
   "source": [
    "## callbacks"
   ]
  },
  {
   "cell_type": "code",
   "execution_count": 13,
   "metadata": {
    "execution": {
     "iopub.execute_input": "2020-09-13T09:16:53.900681Z",
     "iopub.status.busy": "2020-09-13T09:16:53.899971Z",
     "iopub.status.idle": "2020-09-13T09:16:53.903034Z",
     "shell.execute_reply": "2020-09-13T09:16:53.902328Z"
    },
    "papermill": {
     "duration": 0.035692,
     "end_time": "2020-09-13T09:16:53.903144",
     "exception": false,
     "start_time": "2020-09-13T09:16:53.867452",
     "status": "completed"
    },
    "tags": []
   },
   "outputs": [],
   "source": [
    "lrs = ReduceLROnPlateau(monitor='val_accuracy', mode ='max', factor = 0.7, min_lr= 1e-7, verbose = 1, patience = 2)\n",
    "es1 = EarlyStopping(monitor='val_accuracy', mode='max', verbose = 1, patience = 5, restore_best_weights=True)\n",
    "es2 = EarlyStopping(monitor='accuracy', mode='max', verbose = 1, patience = 1, restore_best_weights=True)\n",
    "callbacks_list1 = [lrs,es1]\n",
    "callbacks_list2 = [lrs,es2]"
   ]
  },
  {
   "cell_type": "markdown",
   "metadata": {
    "papermill": {
     "duration": 0.02618,
     "end_time": "2020-09-13T09:16:53.955316",
     "exception": false,
     "start_time": "2020-09-13T09:16:53.929136",
     "status": "completed"
    },
    "tags": []
   },
   "source": [
    "## Build model"
   ]
  },
  {
   "cell_type": "code",
   "execution_count": 14,
   "metadata": {
    "execution": {
     "iopub.execute_input": "2020-09-13T09:16:54.032825Z",
     "iopub.status.busy": "2020-09-13T09:16:54.031790Z",
     "iopub.status.idle": "2020-09-13T09:16:54.035003Z",
     "shell.execute_reply": "2020-09-13T09:16:54.035841Z"
    },
    "papermill": {
     "duration": 0.053484,
     "end_time": "2020-09-13T09:16:54.036013",
     "exception": false,
     "start_time": "2020-09-13T09:16:53.982529",
     "status": "completed"
    },
    "tags": []
   },
   "outputs": [],
   "source": [
    "def build_model(transformer, max_len=512):\n",
    "    input_word_ids = Input(shape=(max_len,), dtype=tf.int32, name=\"input_ids\")\n",
    "    attention_mask = Input(shape=(max_len,), dtype=tf.int32, name=\"attention_mask\")\n",
    "    sequence_output = transformer({\"input_ids\": input_word_ids, \"attention_mask\": attention_mask})[0]\n",
    "    \n",
    "    avg_pool = GlobalAveragePooling1D()(sequence_output)\n",
    "    max_pool = GlobalMaxPooling1D()(sequence_output)\n",
    "    cls_token = Concatenate()([avg_pool, max_pool])\n",
    "    \n",
    "    samples = []\n",
    "    for n in range(2):\n",
    "        sample = Dropout(0.4)(cls_token)\n",
    "        sample = Dense(1, activation='sigmoid', name=f'sample_{n}')(sample)\n",
    "        samples.append(sample)\n",
    "    \n",
    "    out = Average(name='output')(samples)\n",
    "    model = Model(inputs={\n",
    "                \"input_ids\": input_word_ids,\n",
    "                \"attention_mask\": attention_mask\n",
    "                }, \n",
    "                outputs=out,\n",
    "                name='XLM-R')\n",
    "    model.compile(Adam(lr=1e-5), loss='binary_crossentropy', metrics=[tf.keras.metrics.AUC(name='auc'), 'accuracy'])\n",
    "    \n",
    "    return model"
   ]
  },
  {
   "cell_type": "markdown",
   "metadata": {
    "papermill": {
     "duration": 0.026894,
     "end_time": "2020-09-13T09:16:54.096569",
     "exception": false,
     "start_time": "2020-09-13T09:16:54.069675",
     "status": "completed"
    },
    "tags": []
   },
   "source": [
    "## Load tpu"
   ]
  },
  {
   "cell_type": "code",
   "execution_count": 15,
   "metadata": {
    "execution": {
     "iopub.execute_input": "2020-09-13T09:16:54.158376Z",
     "iopub.status.busy": "2020-09-13T09:16:54.157362Z",
     "iopub.status.idle": "2020-09-13T09:19:23.212430Z",
     "shell.execute_reply": "2020-09-13T09:19:23.213342Z"
    },
    "papermill": {
     "duration": 149.09028,
     "end_time": "2020-09-13T09:19:23.213586",
     "exception": false,
     "start_time": "2020-09-13T09:16:54.123306",
     "status": "completed"
    },
    "tags": []
   },
   "outputs": [
    {
     "data": {
      "application/vnd.jupyter.widget-view+json": {
       "model_id": "4a196e857cc143f4a5615987ff5e03fe",
       "version_major": 2,
       "version_minor": 0
      },
      "text/plain": [
       "HBox(children=(FloatProgress(value=0.0, description='Downloading', max=3271420488.0, style=ProgressStyle(descr…"
      ]
     },
     "metadata": {},
     "output_type": "display_data"
    },
    {
     "name": "stdout",
     "output_type": "stream",
     "text": [
      "\n",
      "Model: \"XLM-R\"\n",
      "__________________________________________________________________________________________________\n",
      "Layer (type)                    Output Shape         Param #     Connected to                     \n",
      "==================================================================================================\n",
      "attention_mask (InputLayer)     [(None, 192)]        0                                            \n",
      "__________________________________________________________________________________________________\n",
      "input_ids (InputLayer)          [(None, 192)]        0                                            \n",
      "__________________________________________________________________________________________________\n",
      "tf_roberta_model (TFRobertaMode ((None, 192, 1024),  559890432   attention_mask[0][0]             \n",
      "                                                                 input_ids[0][0]                  \n",
      "__________________________________________________________________________________________________\n",
      "global_average_pooling1d (Globa (None, 1024)         0           tf_roberta_model[0][0]           \n",
      "__________________________________________________________________________________________________\n",
      "global_max_pooling1d (GlobalMax (None, 1024)         0           tf_roberta_model[0][0]           \n",
      "__________________________________________________________________________________________________\n",
      "concatenate (Concatenate)       (None, 2048)         0           global_average_pooling1d[0][0]   \n",
      "                                                                 global_max_pooling1d[0][0]       \n",
      "__________________________________________________________________________________________________\n",
      "dropout_74 (Dropout)            (None, 2048)         0           concatenate[0][0]                \n",
      "__________________________________________________________________________________________________\n",
      "dropout_75 (Dropout)            (None, 2048)         0           concatenate[0][0]                \n",
      "__________________________________________________________________________________________________\n",
      "sample_0 (Dense)                (None, 1)            2049        dropout_74[0][0]                 \n",
      "__________________________________________________________________________________________________\n",
      "sample_1 (Dense)                (None, 1)            2049        dropout_75[0][0]                 \n",
      "__________________________________________________________________________________________________\n",
      "output (Average)                (None, 1)            0           sample_0[0][0]                   \n",
      "                                                                 sample_1[0][0]                   \n",
      "==================================================================================================\n",
      "Total params: 559,894,530\n",
      "Trainable params: 559,894,530\n",
      "Non-trainable params: 0\n",
      "__________________________________________________________________________________________________\n",
      "CPU times: user 1min 52s, sys: 32.8 s, total: 2min 25s\n",
      "Wall time: 2min 29s\n"
     ]
    }
   ],
   "source": [
    "%%time\n",
    "with strategy.scope():\n",
    "    transformer_layer = TFAutoModel.from_pretrained(MODEL)\n",
    "    model = build_model(transformer_layer, max_len=MAX_LEN)\n",
    "model.summary()"
   ]
  },
  {
   "cell_type": "markdown",
   "metadata": {
    "papermill": {
     "duration": 0.027567,
     "end_time": "2020-09-13T09:19:23.271561",
     "exception": false,
     "start_time": "2020-09-13T09:19:23.243994",
     "status": "completed"
    },
    "tags": []
   },
   "source": [
    "## Run model"
   ]
  },
  {
   "cell_type": "code",
   "execution_count": 16,
   "metadata": {
    "execution": {
     "iopub.execute_input": "2020-09-13T09:19:23.344172Z",
     "iopub.status.busy": "2020-09-13T09:19:23.334609Z",
     "iopub.status.idle": "2020-09-13T10:02:53.110486Z",
     "shell.execute_reply": "2020-09-13T10:02:53.111351Z"
    },
    "papermill": {
     "duration": 2609.812633,
     "end_time": "2020-09-13T10:02:53.111593",
     "exception": false,
     "start_time": "2020-09-13T09:19:23.298960",
     "status": "completed"
    },
    "tags": []
   },
   "outputs": [
    {
     "name": "stdout",
     "output_type": "stream",
     "text": [
      "Epoch 1/20\n",
      "259/259 [==============================] - 146s 565ms/step - accuracy: 0.8337 - auc: 0.9186 - loss: 0.3645 - val_accuracy: 0.7121 - val_auc: 0.9312 - val_loss: 0.6310 - lr: 1.0000e-05\n",
      "Epoch 2/20\n",
      "259/259 [==============================] - 121s 466ms/step - accuracy: 0.9057 - auc: 0.9631 - loss: 0.2433 - val_accuracy: 0.7061 - val_auc: 0.9305 - val_loss: 0.6676 - lr: 1.0000e-05\n",
      "Epoch 3/20\n",
      "259/259 [==============================] - 126s 488ms/step - accuracy: 0.9101 - auc: 0.9680 - loss: 0.2281 - val_accuracy: 0.7512 - val_auc: 0.9295 - val_loss: 0.5936 - lr: 1.0000e-05\n",
      "Epoch 4/20\n",
      "259/259 [==============================] - 120s 465ms/step - accuracy: 0.9140 - auc: 0.9709 - loss: 0.2170 - val_accuracy: 0.7508 - val_auc: 0.9309 - val_loss: 0.4919 - lr: 1.0000e-05\n",
      "Epoch 5/20\n",
      "259/259 [==============================] - 126s 486ms/step - accuracy: 0.9164 - auc: 0.9722 - loss: 0.2120 - val_accuracy: 0.7900 - val_auc: 0.9318 - val_loss: 0.4364 - lr: 1.0000e-05\n",
      "Epoch 6/20\n",
      "259/259 [==============================] - 125s 484ms/step - accuracy: 0.9185 - auc: 0.9751 - loss: 0.2006 - val_accuracy: 0.8032 - val_auc: 0.9337 - val_loss: 0.4000 - lr: 1.0000e-05\n",
      "Epoch 7/20\n",
      "259/259 [==============================] - 121s 465ms/step - accuracy: 0.9199 - auc: 0.9747 - loss: 0.2020 - val_accuracy: 0.7837 - val_auc: 0.9337 - val_loss: 0.3931 - lr: 1.0000e-05\n",
      "Epoch 8/20\n",
      "259/259 [==============================] - ETA: 0s - accuracy: 0.9194 - auc: 0.9745 - loss: 0.2026\n",
      "Epoch 00008: ReduceLROnPlateau reducing learning rate to 6.9999998231651255e-06.\n",
      "259/259 [==============================] - 121s 468ms/step - accuracy: 0.9194 - auc: 0.9745 - loss: 0.2026 - val_accuracy: 0.7830 - val_auc: 0.9327 - val_loss: 0.3950 - lr: 1.0000e-05\n",
      "Epoch 9/20\n",
      "259/259 [==============================] - 121s 465ms/step - accuracy: 0.9227 - auc: 0.9773 - loss: 0.1900 - val_accuracy: 0.7731 - val_auc: 0.9364 - val_loss: 0.4434 - lr: 7.0000e-06\n",
      "Epoch 10/20\n",
      "259/259 [==============================] - 126s 485ms/step - accuracy: 0.9274 - auc: 0.9785 - loss: 0.1848 - val_accuracy: 0.8249 - val_auc: 0.9333 - val_loss: 0.3448 - lr: 7.0000e-06\n",
      "Epoch 11/20\n",
      "259/259 [==============================] - 121s 465ms/step - accuracy: 0.9250 - auc: 0.9773 - loss: 0.1897 - val_accuracy: 0.8093 - val_auc: 0.9334 - val_loss: 0.3707 - lr: 7.0000e-06\n",
      "Epoch 12/20\n",
      "259/259 [==============================] - ETA: 0s - accuracy: 0.9268 - auc: 0.9792 - loss: 0.1826\n",
      "Epoch 00012: ReduceLROnPlateau reducing learning rate to 4.899999748886329e-06.\n",
      "259/259 [==============================] - 120s 465ms/step - accuracy: 0.9268 - auc: 0.9792 - loss: 0.1826 - val_accuracy: 0.7986 - val_auc: 0.9370 - val_loss: 0.3737 - lr: 7.0000e-06\n",
      "Epoch 13/20\n",
      "259/259 [==============================] - 121s 465ms/step - accuracy: 0.9275 - auc: 0.9789 - loss: 0.1826 - val_accuracy: 0.8053 - val_auc: 0.9384 - val_loss: 0.3627 - lr: 4.9000e-06\n",
      "Epoch 14/20\n",
      "259/259 [==============================] - 126s 486ms/step - accuracy: 0.9305 - auc: 0.9803 - loss: 0.1757 - val_accuracy: 0.8388 - val_auc: 0.9353 - val_loss: 0.2976 - lr: 4.9000e-06\n",
      "Epoch 15/20\n",
      "259/259 [==============================] - 120s 465ms/step - accuracy: 0.9291 - auc: 0.9798 - loss: 0.1780 - val_accuracy: 0.8326 - val_auc: 0.9348 - val_loss: 0.3256 - lr: 4.9000e-06\n",
      "Epoch 16/20\n",
      "259/259 [==============================] - ETA: 0s - accuracy: 0.9272 - auc: 0.9781 - loss: 0.1851\n",
      "Epoch 00016: ReduceLROnPlateau reducing learning rate to 3.4299996968911726e-06.\n",
      "259/259 [==============================] - 121s 466ms/step - accuracy: 0.9272 - auc: 0.9781 - loss: 0.1851 - val_accuracy: 0.8297 - val_auc: 0.9358 - val_loss: 0.3130 - lr: 4.9000e-06\n",
      "Epoch 17/20\n",
      "259/259 [==============================] - 126s 487ms/step - accuracy: 0.9342 - auc: 0.9822 - loss: 0.1672 - val_accuracy: 0.8454 - val_auc: 0.9340 - val_loss: 0.3070 - lr: 3.4300e-06\n",
      "Epoch 18/20\n",
      "259/259 [==============================] - 121s 466ms/step - accuracy: 0.9358 - auc: 0.9829 - loss: 0.1636 - val_accuracy: 0.8216 - val_auc: 0.9379 - val_loss: 0.3602 - lr: 3.4300e-06\n",
      "Epoch 19/20\n",
      "259/259 [==============================] - ETA: 0s - accuracy: 0.9360 - auc: 0.9834 - loss: 0.1610\n",
      "Epoch 00019: ReduceLROnPlateau reducing learning rate to 2.4009997559915063e-06.\n",
      "259/259 [==============================] - 121s 466ms/step - accuracy: 0.9360 - auc: 0.9834 - loss: 0.1610 - val_accuracy: 0.8321 - val_auc: 0.9357 - val_loss: 0.3320 - lr: 3.4300e-06\n",
      "Epoch 20/20\n",
      "259/259 [==============================] - 121s 465ms/step - accuracy: 0.9393 - auc: 0.9838 - loss: 0.1576 - val_accuracy: 0.8310 - val_auc: 0.9378 - val_loss: 0.3261 - lr: 2.4010e-06\n"
     ]
    }
   ],
   "source": [
    "model_history_1 = model.fit(\n",
    "    train_dataset,\n",
    "    steps_per_epoch=n_train_steps,\n",
    "    validation_data=valid_dataset,\n",
    "    epochs=EPOCHS_1,\n",
    "    callbacks=callbacks_list1,\n",
    "    verbose=VERBOSE\n",
    " )"
   ]
  },
  {
   "cell_type": "code",
   "execution_count": 17,
   "metadata": {
    "execution": {
     "iopub.execute_input": "2020-09-13T10:02:57.059169Z",
     "iopub.status.busy": "2020-09-13T10:02:57.054068Z",
     "iopub.status.idle": "2020-09-13T10:04:51.530228Z",
     "shell.execute_reply": "2020-09-13T10:04:51.529545Z"
    },
    "papermill": {
     "duration": 116.467227,
     "end_time": "2020-09-13T10:04:51.530370",
     "exception": false,
     "start_time": "2020-09-13T10:02:55.063143",
     "status": "completed"
    },
    "tags": []
   },
   "outputs": [
    {
     "name": "stdout",
     "output_type": "stream",
     "text": [
      "Epoch 1/2\n",
      "125/125 [==============================] - 56s 447ms/step - accuracy: 0.8976 - auc: 0.9350 - loss: 0.2207 - lr: 2.4010e-06\n",
      "Epoch 2/2\n",
      "125/125 [==============================] - 57s 458ms/step - accuracy: 0.9124 - auc: 0.9514 - loss: 0.1915 - lr: 2.4010e-06\n"
     ]
    }
   ],
   "source": [
    "model_history_2 = model.fit(\n",
    "    valid_dataset.repeat(),\n",
    "    steps_per_epoch=n_valid_steps,\n",
    "    epochs=EPOCHS_2,\n",
    "    callbacks=callbacks_list2,\n",
    "    verbose=VERBOSE\n",
    ")"
   ]
  },
  {
   "cell_type": "markdown",
   "metadata": {
    "papermill": {
     "duration": 2.092313,
     "end_time": "2020-09-13T10:04:55.685581",
     "exception": false,
     "start_time": "2020-09-13T10:04:53.593268",
     "status": "completed"
    },
    "tags": []
   },
   "source": [
    "## Blending"
   ]
  },
  {
   "cell_type": "code",
   "execution_count": 18,
   "metadata": {
    "execution": {
     "iopub.execute_input": "2020-09-13T10:04:59.815973Z",
     "iopub.status.busy": "2020-09-13T10:04:59.815324Z",
     "iopub.status.idle": "2020-09-13T10:07:20.968397Z",
     "shell.execute_reply": "2020-09-13T10:07:20.968950Z"
    },
    "papermill": {
     "duration": 143.224356,
     "end_time": "2020-09-13T10:07:20.969120",
     "exception": false,
     "start_time": "2020-09-13T10:04:57.744764",
     "status": "completed"
    },
    "tags": []
   },
   "outputs": [
    {
     "name": "stdout",
     "output_type": "stream",
     "text": [
      "499/499 [==============================] - 63s 127ms/step\n",
      "499/499 [==============================] - 55s 110ms/step\n"
     ]
    }
   ],
   "source": [
    "multi_sub = model.predict(test1_dataset, verbose=1)\n",
    "eng_sub = model.predict(test2_dataset, verbose=1)\n",
    "\n",
    "sub['toxic'] = multi_sub*0.7 + eng_sub*0.3\n",
    "\n",
    "sub.loc[test[\"lang\"] == \"es\", \"toxic\"] *= 1.12\n",
    "sub.loc[test[\"lang\"] == \"fr\", \"toxic\"] *= 1.07\n",
    "sub.loc[test[\"lang\"] == \"it\", \"toxic\"] *= 0.92\n",
    "sub.loc[test[\"lang\"] == \"pt\", \"toxic\"] *= 0.91\n",
    "sub.loc[test[\"lang\"] == \"tr\", \"toxic\"] *= 0.93\n",
    "\n",
    "sub.toxic -= sub.toxic.min()\n",
    "sub.toxic /= (sub.toxic.max() - sub.toxic.min())"
   ]
  },
  {
   "cell_type": "markdown",
   "metadata": {
    "papermill": {
     "duration": 2.593289,
     "end_time": "2020-09-13T10:07:26.062310",
     "exception": false,
     "start_time": "2020-09-13T10:07:23.469021",
     "status": "completed"
    },
    "tags": []
   },
   "source": [
    "## Submission"
   ]
  },
  {
   "cell_type": "code",
   "execution_count": 19,
   "metadata": {
    "execution": {
     "iopub.execute_input": "2020-09-13T10:07:31.182104Z",
     "iopub.status.busy": "2020-09-13T10:07:31.181346Z",
     "iopub.status.idle": "2020-09-13T10:07:31.559726Z",
     "shell.execute_reply": "2020-09-13T10:07:31.559073Z"
    },
    "papermill": {
     "duration": 2.925101,
     "end_time": "2020-09-13T10:07:31.559845",
     "exception": false,
     "start_time": "2020-09-13T10:07:28.634744",
     "status": "completed"
    },
    "tags": []
   },
   "outputs": [],
   "source": [
    "sub.to_csv('submission.csv', index=False)"
   ]
  }
 ],
 "metadata": {
  "kernelspec": {
   "display_name": "Python 3",
   "language": "python",
   "name": "python3"
  },
  "language_info": {
   "codemirror_mode": {
    "name": "ipython",
    "version": 3
   },
   "file_extension": ".py",
   "mimetype": "text/x-python",
   "name": "python",
   "nbconvert_exporter": "python",
   "pygments_lexer": "ipython3",
   "version": "3.7.6"
  },
  "papermill": {
   "duration": 3483.829815,
   "end_time": "2020-09-13T10:07:34.286242",
   "environment_variables": {},
   "exception": null,
   "input_path": "__notebook__.ipynb",
   "output_path": "__notebook__.ipynb",
   "parameters": {},
   "start_time": "2020-09-13T09:09:30.456427",
   "version": "2.1.0"
  },
  "widgets": {
   "application/vnd.jupyter.widget-state+json": {
    "state": {
     "06e7f15f494a42e9b246eb129b583f88": {
      "model_module": "@jupyter-widgets/controls",
      "model_module_version": "1.5.0",
      "model_name": "HTMLModel",
      "state": {
       "_dom_classes": [],
       "_model_module": "@jupyter-widgets/controls",
       "_model_module_version": "1.5.0",
       "_model_name": "HTMLModel",
       "_view_count": null,
       "_view_module": "@jupyter-widgets/controls",
       "_view_module_version": "1.5.0",
       "_view_name": "HTMLView",
       "description": "",
       "description_tooltip": null,
       "layout": "IPY_MODEL_4fb29624bae244039162ec95c1d8b739",
       "placeholder": "​",
       "style": "IPY_MODEL_34272561c26a4cb7b3f49c53950a8de6",
       "value": " 513/513 [00:00&lt;00:00, 3.13kB/s]"
      }
     },
     "13a8737cb7e44519a57003c97aa930aa": {
      "model_module": "@jupyter-widgets/controls",
      "model_module_version": "1.5.0",
      "model_name": "DescriptionStyleModel",
      "state": {
       "_model_module": "@jupyter-widgets/controls",
       "_model_module_version": "1.5.0",
       "_model_name": "DescriptionStyleModel",
       "_view_count": null,
       "_view_module": "@jupyter-widgets/base",
       "_view_module_version": "1.2.0",
       "_view_name": "StyleView",
       "description_width": ""
      }
     },
     "22cb0b05264347648d16b15655c51a4e": {
      "model_module": "@jupyter-widgets/controls",
      "model_module_version": "1.5.0",
      "model_name": "FloatProgressModel",
      "state": {
       "_dom_classes": [],
       "_model_module": "@jupyter-widgets/controls",
       "_model_module_version": "1.5.0",
       "_model_name": "FloatProgressModel",
       "_view_count": null,
       "_view_module": "@jupyter-widgets/controls",
       "_view_module_version": "1.5.0",
       "_view_name": "ProgressView",
       "bar_style": "success",
       "description": "Downloading: 100%",
       "description_tooltip": null,
       "layout": "IPY_MODEL_beea49010d4043d39d9fd435643df812",
       "max": 513.0,
       "min": 0.0,
       "orientation": "horizontal",
       "style": "IPY_MODEL_a33c5f612cba4194b13fc2a1344a9a31",
       "value": 513.0
      }
     },
     "34272561c26a4cb7b3f49c53950a8de6": {
      "model_module": "@jupyter-widgets/controls",
      "model_module_version": "1.5.0",
      "model_name": "DescriptionStyleModel",
      "state": {
       "_model_module": "@jupyter-widgets/controls",
       "_model_module_version": "1.5.0",
       "_model_name": "DescriptionStyleModel",
       "_view_count": null,
       "_view_module": "@jupyter-widgets/base",
       "_view_module_version": "1.2.0",
       "_view_name": "StyleView",
       "description_width": ""
      }
     },
     "4a196e857cc143f4a5615987ff5e03fe": {
      "model_module": "@jupyter-widgets/controls",
      "model_module_version": "1.5.0",
      "model_name": "HBoxModel",
      "state": {
       "_dom_classes": [],
       "_model_module": "@jupyter-widgets/controls",
       "_model_module_version": "1.5.0",
       "_model_name": "HBoxModel",
       "_view_count": null,
       "_view_module": "@jupyter-widgets/controls",
       "_view_module_version": "1.5.0",
       "_view_name": "HBoxView",
       "box_style": "",
       "children": [
        "IPY_MODEL_a33244868d4c46568bc59814a379de60",
        "IPY_MODEL_c25a8c0e226a4d07812179d5d561b856"
       ],
       "layout": "IPY_MODEL_8c49053db4a24710a7218a21bafd3441"
      }
     },
     "4f7c9cc9d6aa4faa92314390e1361114": {
      "model_module": "@jupyter-widgets/base",
      "model_module_version": "1.2.0",
      "model_name": "LayoutModel",
      "state": {
       "_model_module": "@jupyter-widgets/base",
       "_model_module_version": "1.2.0",
       "_model_name": "LayoutModel",
       "_view_count": null,
       "_view_module": "@jupyter-widgets/base",
       "_view_module_version": "1.2.0",
       "_view_name": "LayoutView",
       "align_content": null,
       "align_items": null,
       "align_self": null,
       "border": null,
       "bottom": null,
       "display": null,
       "flex": null,
       "flex_flow": null,
       "grid_area": null,
       "grid_auto_columns": null,
       "grid_auto_flow": null,
       "grid_auto_rows": null,
       "grid_column": null,
       "grid_gap": null,
       "grid_row": null,
       "grid_template_areas": null,
       "grid_template_columns": null,
       "grid_template_rows": null,
       "height": null,
       "justify_content": null,
       "justify_items": null,
       "left": null,
       "margin": null,
       "max_height": null,
       "max_width": null,
       "min_height": null,
       "min_width": null,
       "object_fit": null,
       "object_position": null,
       "order": null,
       "overflow": null,
       "overflow_x": null,
       "overflow_y": null,
       "padding": null,
       "right": null,
       "top": null,
       "visibility": null,
       "width": null
      }
     },
     "4fb29624bae244039162ec95c1d8b739": {
      "model_module": "@jupyter-widgets/base",
      "model_module_version": "1.2.0",
      "model_name": "LayoutModel",
      "state": {
       "_model_module": "@jupyter-widgets/base",
       "_model_module_version": "1.2.0",
       "_model_name": "LayoutModel",
       "_view_count": null,
       "_view_module": "@jupyter-widgets/base",
       "_view_module_version": "1.2.0",
       "_view_name": "LayoutView",
       "align_content": null,
       "align_items": null,
       "align_self": null,
       "border": null,
       "bottom": null,
       "display": null,
       "flex": null,
       "flex_flow": null,
       "grid_area": null,
       "grid_auto_columns": null,
       "grid_auto_flow": null,
       "grid_auto_rows": null,
       "grid_column": null,
       "grid_gap": null,
       "grid_row": null,
       "grid_template_areas": null,
       "grid_template_columns": null,
       "grid_template_rows": null,
       "height": null,
       "justify_content": null,
       "justify_items": null,
       "left": null,
       "margin": null,
       "max_height": null,
       "max_width": null,
       "min_height": null,
       "min_width": null,
       "object_fit": null,
       "object_position": null,
       "order": null,
       "overflow": null,
       "overflow_x": null,
       "overflow_y": null,
       "padding": null,
       "right": null,
       "top": null,
       "visibility": null,
       "width": null
      }
     },
     "6f2211b8745841059286af46c71980ff": {
      "model_module": "@jupyter-widgets/controls",
      "model_module_version": "1.5.0",
      "model_name": "HTMLModel",
      "state": {
       "_dom_classes": [],
       "_model_module": "@jupyter-widgets/controls",
       "_model_module_version": "1.5.0",
       "_model_name": "HTMLModel",
       "_view_count": null,
       "_view_module": "@jupyter-widgets/controls",
       "_view_module_version": "1.5.0",
       "_view_name": "HTMLView",
       "description": "",
       "description_tooltip": null,
       "layout": "IPY_MODEL_783df81775eb4c6eaf5d0599d63ce2f3",
       "placeholder": "​",
       "style": "IPY_MODEL_13a8737cb7e44519a57003c97aa930aa",
       "value": " 5.07M/5.07M [00:01&lt;00:00, 2.97MB/s]"
      }
     },
     "783df81775eb4c6eaf5d0599d63ce2f3": {
      "model_module": "@jupyter-widgets/base",
      "model_module_version": "1.2.0",
      "model_name": "LayoutModel",
      "state": {
       "_model_module": "@jupyter-widgets/base",
       "_model_module_version": "1.2.0",
       "_model_name": "LayoutModel",
       "_view_count": null,
       "_view_module": "@jupyter-widgets/base",
       "_view_module_version": "1.2.0",
       "_view_name": "LayoutView",
       "align_content": null,
       "align_items": null,
       "align_self": null,
       "border": null,
       "bottom": null,
       "display": null,
       "flex": null,
       "flex_flow": null,
       "grid_area": null,
       "grid_auto_columns": null,
       "grid_auto_flow": null,
       "grid_auto_rows": null,
       "grid_column": null,
       "grid_gap": null,
       "grid_row": null,
       "grid_template_areas": null,
       "grid_template_columns": null,
       "grid_template_rows": null,
       "height": null,
       "justify_content": null,
       "justify_items": null,
       "left": null,
       "margin": null,
       "max_height": null,
       "max_width": null,
       "min_height": null,
       "min_width": null,
       "object_fit": null,
       "object_position": null,
       "order": null,
       "overflow": null,
       "overflow_x": null,
       "overflow_y": null,
       "padding": null,
       "right": null,
       "top": null,
       "visibility": null,
       "width": null
      }
     },
     "8c49053db4a24710a7218a21bafd3441": {
      "model_module": "@jupyter-widgets/base",
      "model_module_version": "1.2.0",
      "model_name": "LayoutModel",
      "state": {
       "_model_module": "@jupyter-widgets/base",
       "_model_module_version": "1.2.0",
       "_model_name": "LayoutModel",
       "_view_count": null,
       "_view_module": "@jupyter-widgets/base",
       "_view_module_version": "1.2.0",
       "_view_name": "LayoutView",
       "align_content": null,
       "align_items": null,
       "align_self": null,
       "border": null,
       "bottom": null,
       "display": null,
       "flex": null,
       "flex_flow": null,
       "grid_area": null,
       "grid_auto_columns": null,
       "grid_auto_flow": null,
       "grid_auto_rows": null,
       "grid_column": null,
       "grid_gap": null,
       "grid_row": null,
       "grid_template_areas": null,
       "grid_template_columns": null,
       "grid_template_rows": null,
       "height": null,
       "justify_content": null,
       "justify_items": null,
       "left": null,
       "margin": null,
       "max_height": null,
       "max_width": null,
       "min_height": null,
       "min_width": null,
       "object_fit": null,
       "object_position": null,
       "order": null,
       "overflow": null,
       "overflow_x": null,
       "overflow_y": null,
       "padding": null,
       "right": null,
       "top": null,
       "visibility": null,
       "width": null
      }
     },
     "95dd8f073f5d49e495771eb4accdd096": {
      "model_module": "@jupyter-widgets/base",
      "model_module_version": "1.2.0",
      "model_name": "LayoutModel",
      "state": {
       "_model_module": "@jupyter-widgets/base",
       "_model_module_version": "1.2.0",
       "_model_name": "LayoutModel",
       "_view_count": null,
       "_view_module": "@jupyter-widgets/base",
       "_view_module_version": "1.2.0",
       "_view_name": "LayoutView",
       "align_content": null,
       "align_items": null,
       "align_self": null,
       "border": null,
       "bottom": null,
       "display": null,
       "flex": null,
       "flex_flow": null,
       "grid_area": null,
       "grid_auto_columns": null,
       "grid_auto_flow": null,
       "grid_auto_rows": null,
       "grid_column": null,
       "grid_gap": null,
       "grid_row": null,
       "grid_template_areas": null,
       "grid_template_columns": null,
       "grid_template_rows": null,
       "height": null,
       "justify_content": null,
       "justify_items": null,
       "left": null,
       "margin": null,
       "max_height": null,
       "max_width": null,
       "min_height": null,
       "min_width": null,
       "object_fit": null,
       "object_position": null,
       "order": null,
       "overflow": null,
       "overflow_x": null,
       "overflow_y": null,
       "padding": null,
       "right": null,
       "top": null,
       "visibility": null,
       "width": null
      }
     },
     "a33244868d4c46568bc59814a379de60": {
      "model_module": "@jupyter-widgets/controls",
      "model_module_version": "1.5.0",
      "model_name": "FloatProgressModel",
      "state": {
       "_dom_classes": [],
       "_model_module": "@jupyter-widgets/controls",
       "_model_module_version": "1.5.0",
       "_model_name": "FloatProgressModel",
       "_view_count": null,
       "_view_module": "@jupyter-widgets/controls",
       "_view_module_version": "1.5.0",
       "_view_name": "ProgressView",
       "bar_style": "success",
       "description": "Downloading: 100%",
       "description_tooltip": null,
       "layout": "IPY_MODEL_e52892f1910d4a8e8f555f44ade72bb5",
       "max": 3271420488.0,
       "min": 0.0,
       "orientation": "horizontal",
       "style": "IPY_MODEL_b054f1ab24bf4aa7a805031eabddc032",
       "value": 3271420488.0
      }
     },
     "a33c5f612cba4194b13fc2a1344a9a31": {
      "model_module": "@jupyter-widgets/controls",
      "model_module_version": "1.5.0",
      "model_name": "ProgressStyleModel",
      "state": {
       "_model_module": "@jupyter-widgets/controls",
       "_model_module_version": "1.5.0",
       "_model_name": "ProgressStyleModel",
       "_view_count": null,
       "_view_module": "@jupyter-widgets/base",
       "_view_module_version": "1.2.0",
       "_view_name": "StyleView",
       "bar_color": null,
       "description_width": "initial"
      }
     },
     "b054f1ab24bf4aa7a805031eabddc032": {
      "model_module": "@jupyter-widgets/controls",
      "model_module_version": "1.5.0",
      "model_name": "ProgressStyleModel",
      "state": {
       "_model_module": "@jupyter-widgets/controls",
       "_model_module_version": "1.5.0",
       "_model_name": "ProgressStyleModel",
       "_view_count": null,
       "_view_module": "@jupyter-widgets/base",
       "_view_module_version": "1.2.0",
       "_view_name": "StyleView",
       "bar_color": null,
       "description_width": "initial"
      }
     },
     "b83c4d9a541344368c02e53653457cdd": {
      "model_module": "@jupyter-widgets/controls",
      "model_module_version": "1.5.0",
      "model_name": "ProgressStyleModel",
      "state": {
       "_model_module": "@jupyter-widgets/controls",
       "_model_module_version": "1.5.0",
       "_model_name": "ProgressStyleModel",
       "_view_count": null,
       "_view_module": "@jupyter-widgets/base",
       "_view_module_version": "1.2.0",
       "_view_name": "StyleView",
       "bar_color": null,
       "description_width": "initial"
      }
     },
     "beea49010d4043d39d9fd435643df812": {
      "model_module": "@jupyter-widgets/base",
      "model_module_version": "1.2.0",
      "model_name": "LayoutModel",
      "state": {
       "_model_module": "@jupyter-widgets/base",
       "_model_module_version": "1.2.0",
       "_model_name": "LayoutModel",
       "_view_count": null,
       "_view_module": "@jupyter-widgets/base",
       "_view_module_version": "1.2.0",
       "_view_name": "LayoutView",
       "align_content": null,
       "align_items": null,
       "align_self": null,
       "border": null,
       "bottom": null,
       "display": null,
       "flex": null,
       "flex_flow": null,
       "grid_area": null,
       "grid_auto_columns": null,
       "grid_auto_flow": null,
       "grid_auto_rows": null,
       "grid_column": null,
       "grid_gap": null,
       "grid_row": null,
       "grid_template_areas": null,
       "grid_template_columns": null,
       "grid_template_rows": null,
       "height": null,
       "justify_content": null,
       "justify_items": null,
       "left": null,
       "margin": null,
       "max_height": null,
       "max_width": null,
       "min_height": null,
       "min_width": null,
       "object_fit": null,
       "object_position": null,
       "order": null,
       "overflow": null,
       "overflow_x": null,
       "overflow_y": null,
       "padding": null,
       "right": null,
       "top": null,
       "visibility": null,
       "width": null
      }
     },
     "c043f68e07a24761a61a134086ba35e8": {
      "model_module": "@jupyter-widgets/controls",
      "model_module_version": "1.5.0",
      "model_name": "HBoxModel",
      "state": {
       "_dom_classes": [],
       "_model_module": "@jupyter-widgets/controls",
       "_model_module_version": "1.5.0",
       "_model_name": "HBoxModel",
       "_view_count": null,
       "_view_module": "@jupyter-widgets/controls",
       "_view_module_version": "1.5.0",
       "_view_name": "HBoxView",
       "box_style": "",
       "children": [
        "IPY_MODEL_f25cbe62fd5a4c1f8412c15996e9a689",
        "IPY_MODEL_6f2211b8745841059286af46c71980ff"
       ],
       "layout": "IPY_MODEL_95dd8f073f5d49e495771eb4accdd096"
      }
     },
     "c1e3446168b2409da9445aaeed0f78f9": {
      "model_module": "@jupyter-widgets/controls",
      "model_module_version": "1.5.0",
      "model_name": "DescriptionStyleModel",
      "state": {
       "_model_module": "@jupyter-widgets/controls",
       "_model_module_version": "1.5.0",
       "_model_name": "DescriptionStyleModel",
       "_view_count": null,
       "_view_module": "@jupyter-widgets/base",
       "_view_module_version": "1.2.0",
       "_view_name": "StyleView",
       "description_width": ""
      }
     },
     "c25a8c0e226a4d07812179d5d561b856": {
      "model_module": "@jupyter-widgets/controls",
      "model_module_version": "1.5.0",
      "model_name": "HTMLModel",
      "state": {
       "_dom_classes": [],
       "_model_module": "@jupyter-widgets/controls",
       "_model_module_version": "1.5.0",
       "_model_name": "HTMLModel",
       "_view_count": null,
       "_view_module": "@jupyter-widgets/controls",
       "_view_module_version": "1.5.0",
       "_view_name": "HTMLView",
       "description": "",
       "description_tooltip": null,
       "layout": "IPY_MODEL_e93895fea15e4297a578082d67696f82",
       "placeholder": "​",
       "style": "IPY_MODEL_c1e3446168b2409da9445aaeed0f78f9",
       "value": " 3.27G/3.27G [01:34&lt;00:00, 34.7MB/s]"
      }
     },
     "e52892f1910d4a8e8f555f44ade72bb5": {
      "model_module": "@jupyter-widgets/base",
      "model_module_version": "1.2.0",
      "model_name": "LayoutModel",
      "state": {
       "_model_module": "@jupyter-widgets/base",
       "_model_module_version": "1.2.0",
       "_model_name": "LayoutModel",
       "_view_count": null,
       "_view_module": "@jupyter-widgets/base",
       "_view_module_version": "1.2.0",
       "_view_name": "LayoutView",
       "align_content": null,
       "align_items": null,
       "align_self": null,
       "border": null,
       "bottom": null,
       "display": null,
       "flex": null,
       "flex_flow": null,
       "grid_area": null,
       "grid_auto_columns": null,
       "grid_auto_flow": null,
       "grid_auto_rows": null,
       "grid_column": null,
       "grid_gap": null,
       "grid_row": null,
       "grid_template_areas": null,
       "grid_template_columns": null,
       "grid_template_rows": null,
       "height": null,
       "justify_content": null,
       "justify_items": null,
       "left": null,
       "margin": null,
       "max_height": null,
       "max_width": null,
       "min_height": null,
       "min_width": null,
       "object_fit": null,
       "object_position": null,
       "order": null,
       "overflow": null,
       "overflow_x": null,
       "overflow_y": null,
       "padding": null,
       "right": null,
       "top": null,
       "visibility": null,
       "width": null
      }
     },
     "e93895fea15e4297a578082d67696f82": {
      "model_module": "@jupyter-widgets/base",
      "model_module_version": "1.2.0",
      "model_name": "LayoutModel",
      "state": {
       "_model_module": "@jupyter-widgets/base",
       "_model_module_version": "1.2.0",
       "_model_name": "LayoutModel",
       "_view_count": null,
       "_view_module": "@jupyter-widgets/base",
       "_view_module_version": "1.2.0",
       "_view_name": "LayoutView",
       "align_content": null,
       "align_items": null,
       "align_self": null,
       "border": null,
       "bottom": null,
       "display": null,
       "flex": null,
       "flex_flow": null,
       "grid_area": null,
       "grid_auto_columns": null,
       "grid_auto_flow": null,
       "grid_auto_rows": null,
       "grid_column": null,
       "grid_gap": null,
       "grid_row": null,
       "grid_template_areas": null,
       "grid_template_columns": null,
       "grid_template_rows": null,
       "height": null,
       "justify_content": null,
       "justify_items": null,
       "left": null,
       "margin": null,
       "max_height": null,
       "max_width": null,
       "min_height": null,
       "min_width": null,
       "object_fit": null,
       "object_position": null,
       "order": null,
       "overflow": null,
       "overflow_x": null,
       "overflow_y": null,
       "padding": null,
       "right": null,
       "top": null,
       "visibility": null,
       "width": null
      }
     },
     "f25cbe62fd5a4c1f8412c15996e9a689": {
      "model_module": "@jupyter-widgets/controls",
      "model_module_version": "1.5.0",
      "model_name": "FloatProgressModel",
      "state": {
       "_dom_classes": [],
       "_model_module": "@jupyter-widgets/controls",
       "_model_module_version": "1.5.0",
       "_model_name": "FloatProgressModel",
       "_view_count": null,
       "_view_module": "@jupyter-widgets/controls",
       "_view_module_version": "1.5.0",
       "_view_name": "ProgressView",
       "bar_style": "success",
       "description": "Downloading: 100%",
       "description_tooltip": null,
       "layout": "IPY_MODEL_fe6515c5e20f404cb27ae5d8433d3735",
       "max": 5069051.0,
       "min": 0.0,
       "orientation": "horizontal",
       "style": "IPY_MODEL_b83c4d9a541344368c02e53653457cdd",
       "value": 5069051.0
      }
     },
     "f33d942888644118b79427692b37231e": {
      "model_module": "@jupyter-widgets/controls",
      "model_module_version": "1.5.0",
      "model_name": "HBoxModel",
      "state": {
       "_dom_classes": [],
       "_model_module": "@jupyter-widgets/controls",
       "_model_module_version": "1.5.0",
       "_model_name": "HBoxModel",
       "_view_count": null,
       "_view_module": "@jupyter-widgets/controls",
       "_view_module_version": "1.5.0",
       "_view_name": "HBoxView",
       "box_style": "",
       "children": [
        "IPY_MODEL_22cb0b05264347648d16b15655c51a4e",
        "IPY_MODEL_06e7f15f494a42e9b246eb129b583f88"
       ],
       "layout": "IPY_MODEL_4f7c9cc9d6aa4faa92314390e1361114"
      }
     },
     "fe6515c5e20f404cb27ae5d8433d3735": {
      "model_module": "@jupyter-widgets/base",
      "model_module_version": "1.2.0",
      "model_name": "LayoutModel",
      "state": {
       "_model_module": "@jupyter-widgets/base",
       "_model_module_version": "1.2.0",
       "_model_name": "LayoutModel",
       "_view_count": null,
       "_view_module": "@jupyter-widgets/base",
       "_view_module_version": "1.2.0",
       "_view_name": "LayoutView",
       "align_content": null,
       "align_items": null,
       "align_self": null,
       "border": null,
       "bottom": null,
       "display": null,
       "flex": null,
       "flex_flow": null,
       "grid_area": null,
       "grid_auto_columns": null,
       "grid_auto_flow": null,
       "grid_auto_rows": null,
       "grid_column": null,
       "grid_gap": null,
       "grid_row": null,
       "grid_template_areas": null,
       "grid_template_columns": null,
       "grid_template_rows": null,
       "height": null,
       "justify_content": null,
       "justify_items": null,
       "left": null,
       "margin": null,
       "max_height": null,
       "max_width": null,
       "min_height": null,
       "min_width": null,
       "object_fit": null,
       "object_position": null,
       "order": null,
       "overflow": null,
       "overflow_x": null,
       "overflow_y": null,
       "padding": null,
       "right": null,
       "top": null,
       "visibility": null,
       "width": null
      }
     }
    },
    "version_major": 2,
    "version_minor": 0
   }
  }
 },
 "nbformat": 4,
 "nbformat_minor": 4
}
