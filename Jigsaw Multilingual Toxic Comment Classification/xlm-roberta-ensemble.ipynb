{
 "cells": [
  {
   "cell_type": "markdown",
   "metadata": {
    "papermill": {
     "duration": 0.017442,
     "end_time": "2020-09-14T10:32:24.653647",
     "exception": false,
     "start_time": "2020-09-14T10:32:24.636205",
     "status": "completed"
    },
    "tags": []
   },
   "source": [
    "### References\n",
    "Run a couple of experiments and ensembles based on the following notebooks and ideas\n",
    "* Notebook 1: [Link](https://www.kaggle.com/xhlulu/jigsaw-tpu-xlm-roberta)\n",
    "* Notebook 2: [Link](https://www.kaggle.com/swannnn/jigsaw-tpu-xlm-roberta-e3ad07)\n",
    "* Discussion 1: [Link](https://www.kaggle.com/c/jigsaw-multilingual-toxic-comment-classification/discussion/160980)"
   ]
  },
  {
   "cell_type": "markdown",
   "metadata": {
    "papermill": {
     "duration": 0.016319,
     "end_time": "2020-09-14T10:32:24.686621",
     "exception": false,
     "start_time": "2020-09-14T10:32:24.670302",
     "status": "completed"
    },
    "tags": []
   },
   "source": [
    "## Import libraries"
   ]
  },
  {
   "cell_type": "code",
   "execution_count": 1,
   "metadata": {
    "_cell_guid": "79c7e3d0-c299-4dcb-8224-4455121ee9b0",
    "_uuid": "d629ff2d2480ee46fbb7e2d37f6b5fab8052498a",
    "execution": {
     "iopub.execute_input": "2020-09-14T10:32:24.728705Z",
     "iopub.status.busy": "2020-09-14T10:32:24.728012Z",
     "iopub.status.idle": "2020-09-14T10:32:32.952873Z",
     "shell.execute_reply": "2020-09-14T10:32:32.953452Z"
    },
    "papermill": {
     "duration": 8.250954,
     "end_time": "2020-09-14T10:32:32.953612",
     "exception": false,
     "start_time": "2020-09-14T10:32:24.702658",
     "status": "completed"
    },
    "tags": []
   },
   "outputs": [
    {
     "name": "stderr",
     "output_type": "stream",
     "text": [
      "\u001b[34m\u001b[1mwandb\u001b[0m: \u001b[33mWARNING\u001b[0m W&B installed but not logged in.  Run `wandb login` or set the WANDB_API_KEY env variable.\n"
     ]
    }
   ],
   "source": [
    "import warnings\n",
    "warnings.filterwarnings(\"ignore\")\n",
    "import os\n",
    "import gc\n",
    "import numpy as np\n",
    "import pandas as pd\n",
    "import re\n",
    "import matplotlib.pyplot as plt\n",
    "import tensorflow as tf\n",
    "from tensorflow.keras.layers import Dense, Dropout, Input, Concatenate, Average, GlobalAveragePooling1D, GlobalMaxPooling1D\n",
    "from tensorflow.keras.optimizers import Adam\n",
    "from tensorflow.keras.models import Model, load_model\n",
    "from tensorflow.keras.callbacks import ReduceLROnPlateau, LearningRateScheduler, EarlyStopping, ModelCheckpoint\n",
    "from kaggle_datasets import KaggleDatasets\n",
    "import transformers\n",
    "from transformers import TFAutoModel, AutoTokenizer\n",
    "from tqdm.notebook import tqdm\n",
    "from tokenizers import Tokenizer, models, pre_tokenizers, decoders, processors"
   ]
  },
  {
   "cell_type": "markdown",
   "metadata": {
    "papermill": {
     "duration": 0.016745,
     "end_time": "2020-09-14T10:32:32.989209",
     "exception": false,
     "start_time": "2020-09-14T10:32:32.972464",
     "status": "completed"
    },
    "tags": []
   },
   "source": [
    "## Helper Functions"
   ]
  },
  {
   "cell_type": "code",
   "execution_count": 2,
   "metadata": {
    "execution": {
     "iopub.execute_input": "2020-09-14T10:32:33.031146Z",
     "iopub.status.busy": "2020-09-14T10:32:33.030541Z",
     "iopub.status.idle": "2020-09-14T10:32:33.033338Z",
     "shell.execute_reply": "2020-09-14T10:32:33.033785Z"
    },
    "papermill": {
     "duration": 0.027164,
     "end_time": "2020-09-14T10:32:33.033949",
     "exception": false,
     "start_time": "2020-09-14T10:32:33.006785",
     "status": "completed"
    },
    "tags": []
   },
   "outputs": [],
   "source": [
    "def clean_text(text):\n",
    "    text = str(text)\n",
    "    text = re.sub(r'[0-9\"]', '', text) # number\n",
    "    text = re.sub(r'#[\\S]+\\b', '', text) # hash\n",
    "    text = re.sub(r'@[\\S]+\\b', '', text) # mention\n",
    "    text = re.sub(r'https?\\S+', '', text) # link\n",
    "    text = re.sub(r'\\s+', ' ', text) # multiple white spaces\n",
    "#     text = re.sub(r'\\W+', ' ', text) # non-alphanumeric\n",
    "    return text.strip()"
   ]
  },
  {
   "cell_type": "code",
   "execution_count": 3,
   "metadata": {
    "execution": {
     "iopub.execute_input": "2020-09-14T10:32:33.073789Z",
     "iopub.status.busy": "2020-09-14T10:32:33.073247Z",
     "iopub.status.idle": "2020-09-14T10:32:33.076142Z",
     "shell.execute_reply": "2020-09-14T10:32:33.076679Z"
    },
    "papermill": {
     "duration": 0.025601,
     "end_time": "2020-09-14T10:32:33.076810",
     "exception": false,
     "start_time": "2020-09-14T10:32:33.051209",
     "status": "completed"
    },
    "tags": []
   },
   "outputs": [],
   "source": [
    "def text_process(text):\n",
    "    ws = text.split(' ')\n",
    "    if(len(ws)>160):\n",
    "        text = ' '.join(ws[:160]) + ' ' + ' '.join(ws[-32:])\n",
    "    return text"
   ]
  },
  {
   "cell_type": "code",
   "execution_count": 4,
   "metadata": {
    "execution": {
     "iopub.execute_input": "2020-09-14T10:32:33.118392Z",
     "iopub.status.busy": "2020-09-14T10:32:33.117446Z",
     "iopub.status.idle": "2020-09-14T10:32:33.119912Z",
     "shell.execute_reply": "2020-09-14T10:32:33.120409Z"
    },
    "papermill": {
     "duration": 0.026944,
     "end_time": "2020-09-14T10:32:33.120544",
     "exception": false,
     "start_time": "2020-09-14T10:32:33.093600",
     "status": "completed"
    },
    "tags": []
   },
   "outputs": [],
   "source": [
    "def dict_encode(texts, tokenizer, maxlen=512):\n",
    "    enc_di = tokenizer.batch_encode_plus(\n",
    "        texts, \n",
    "        return_attention_mask=True, \n",
    "        return_token_type_ids=False,\n",
    "        pad_to_max_length=True,\n",
    "        max_length=maxlen,\n",
    "        truncation=True\n",
    "    )\n",
    "    \n",
    "    return {\n",
    "        \"input_ids\": np.array(enc_di['input_ids']),\n",
    "        \"attention_mask\": np.array(enc_di['attention_mask'])\n",
    "    }"
   ]
  },
  {
   "cell_type": "code",
   "execution_count": 5,
   "metadata": {
    "execution": {
     "iopub.execute_input": "2020-09-14T10:32:33.159739Z",
     "iopub.status.busy": "2020-09-14T10:32:33.159160Z",
     "iopub.status.idle": "2020-09-14T10:32:35.687664Z",
     "shell.execute_reply": "2020-09-14T10:32:35.687052Z"
    },
    "papermill": {
     "duration": 2.549808,
     "end_time": "2020-09-14T10:32:35.687775",
     "exception": false,
     "start_time": "2020-09-14T10:32:33.137967",
     "status": "completed"
    },
    "tags": []
   },
   "outputs": [
    {
     "data": {
      "application/vnd.jupyter.widget-view+json": {
       "model_id": "ee8c582065ef437baa7fdae9eb4dc998",
       "version_major": 2,
       "version_minor": 0
      },
      "text/plain": [
       "HBox(children=(FloatProgress(value=0.0, description='Downloading', max=513.0, style=ProgressStyle(description_…"
      ]
     },
     "metadata": {},
     "output_type": "display_data"
    },
    {
     "name": "stdout",
     "output_type": "stream",
     "text": [
      "\n"
     ]
    },
    {
     "data": {
      "application/vnd.jupyter.widget-view+json": {
       "model_id": "aee31a1c5344422ca80c58f091385e41",
       "version_major": 2,
       "version_minor": 0
      },
      "text/plain": [
       "HBox(children=(FloatProgress(value=0.0, description='Downloading', max=5069051.0, style=ProgressStyle(descript…"
      ]
     },
     "metadata": {},
     "output_type": "display_data"
    },
    {
     "name": "stdout",
     "output_type": "stream",
     "text": [
      "\n"
     ]
    }
   ],
   "source": [
    "# First load the real tokenizer\n",
    "tokenizer = AutoTokenizer.from_pretrained('jplu/tf-xlm-roberta-large')"
   ]
  },
  {
   "cell_type": "markdown",
   "metadata": {
    "papermill": {
     "duration": 0.019688,
     "end_time": "2020-09-14T10:32:35.727854",
     "exception": false,
     "start_time": "2020-09-14T10:32:35.708166",
     "status": "completed"
    },
    "tags": []
   },
   "source": [
    "## TPU configs"
   ]
  },
  {
   "cell_type": "code",
   "execution_count": 6,
   "metadata": {
    "execution": {
     "iopub.execute_input": "2020-09-14T10:32:35.890310Z",
     "iopub.status.busy": "2020-09-14T10:32:35.874462Z",
     "iopub.status.idle": "2020-09-14T10:32:41.097729Z",
     "shell.execute_reply": "2020-09-14T10:32:41.097035Z"
    },
    "papermill": {
     "duration": 5.350186,
     "end_time": "2020-09-14T10:32:41.097859",
     "exception": false,
     "start_time": "2020-09-14T10:32:35.747673",
     "status": "completed"
    },
    "tags": []
   },
   "outputs": [
    {
     "name": "stdout",
     "output_type": "stream",
     "text": [
      "Running on TPU  grpc://10.0.0.2:8470\n",
      "REPLICAS:  8\n"
     ]
    }
   ],
   "source": [
    "# Detect hardware, return appropriate distribution strategy\n",
    "try:\n",
    "    # TPU detection. No parameters necessary if TPU_NAME environment variable is\n",
    "    # set: this is always the case on Kaggle.\n",
    "    tpu = tf.distribute.cluster_resolver.TPUClusterResolver()\n",
    "    print('Running on TPU ', tpu.master())\n",
    "except ValueError:\n",
    "    tpu = None\n",
    "\n",
    "if tpu:\n",
    "    tf.config.experimental_connect_to_cluster(tpu)\n",
    "    tf.tpu.experimental.initialize_tpu_system(tpu)\n",
    "    strategy = tf.distribute.experimental.TPUStrategy(tpu)\n",
    "else:\n",
    "    # Default distribution strategy in Tensorflow. Works on CPU and single GPU.\n",
    "    strategy = tf.distribute.get_strategy()\n",
    "\n",
    "print(\"REPLICAS: \", strategy.num_replicas_in_sync)"
   ]
  },
  {
   "cell_type": "code",
   "execution_count": 7,
   "metadata": {
    "execution": {
     "iopub.execute_input": "2020-09-14T10:32:41.147349Z",
     "iopub.status.busy": "2020-09-14T10:32:41.146361Z",
     "iopub.status.idle": "2020-09-14T10:32:41.149441Z",
     "shell.execute_reply": "2020-09-14T10:32:41.148801Z"
    },
    "papermill": {
     "duration": 0.030241,
     "end_time": "2020-09-14T10:32:41.149549",
     "exception": false,
     "start_time": "2020-09-14T10:32:41.119308",
     "status": "completed"
    },
    "tags": []
   },
   "outputs": [],
   "source": [
    "# Configuration\n",
    "MODEL = 'jplu/tf-xlm-roberta-large'\n",
    "AUTO = tf.data.experimental.AUTOTUNE\n",
    "SEED = 2020\n",
    "EPOCHS_1 = 20\n",
    "EPOCHS_2 = 2\n",
    "BATCH_SIZE = 16 * strategy.num_replicas_in_sync\n",
    "MAX_LEN = 192\n",
    "SHUFFLE = 2048\n",
    "VERBOSE = 1"
   ]
  },
  {
   "cell_type": "markdown",
   "metadata": {
    "papermill": {
     "duration": 0.020699,
     "end_time": "2020-09-14T10:32:41.191240",
     "exception": false,
     "start_time": "2020-09-14T10:32:41.170541",
     "status": "completed"
    },
    "tags": []
   },
   "source": [
    "## Read data"
   ]
  },
  {
   "cell_type": "code",
   "execution_count": 8,
   "metadata": {
    "execution": {
     "iopub.execute_input": "2020-09-14T10:32:41.246808Z",
     "iopub.status.busy": "2020-09-14T10:32:41.246117Z",
     "iopub.status.idle": "2020-09-14T10:33:07.014745Z",
     "shell.execute_reply": "2020-09-14T10:33:07.014140Z"
    },
    "papermill": {
     "duration": 25.802824,
     "end_time": "2020-09-14T10:33:07.014882",
     "exception": false,
     "start_time": "2020-09-14T10:32:41.212058",
     "status": "completed"
    },
    "tags": []
   },
   "outputs": [],
   "source": [
    "train1 = pd.read_csv(\"/kaggle/input/jigsaw-multilingual-toxic-comment-classification/jigsaw-toxic-comment-train.csv\")\n",
    "train2 = pd.read_csv(\"/kaggle/input/jigsaw-multilingual-toxic-comment-classification/jigsaw-unintended-bias-train.csv\")\n",
    "train2 = pd.concat([train2[['comment_text', 'toxic']].query('toxic<=0.4'),\n",
    "                    train2[['comment_text', 'toxic']].query('toxic>=0.6')])\n",
    "train2.toxic = train2.toxic.round().astype(int)\n",
    "train2 = train2.sample(frac = 1, random_state=SEED)\n",
    "train3 = pd.read_csv(\"/kaggle/input/jigsaw-train-multilingual-coments-google-api/jigsaw-toxic-comment-train-google-es-cleaned.csv\")\n",
    "train4 = pd.read_csv(\"/kaggle/input/jigsaw-train-multilingual-coments-google-api/jigsaw-toxic-comment-train-google-fr-cleaned.csv\")\n",
    "train5 = pd.read_csv(\"/kaggle/input/jigsaw-train-multilingual-coments-google-api/jigsaw-toxic-comment-train-google-it-cleaned.csv\")\n",
    "train6 = pd.read_csv(\"/kaggle/input/jigsaw-train-multilingual-coments-google-api/jigsaw-toxic-comment-train-google-pt-cleaned.csv\")\n",
    "train7 = pd.read_csv(\"/kaggle/input/jigsaw-train-multilingual-coments-google-api/jigsaw-toxic-comment-train-google-ru-cleaned.csv\")\n",
    "train8 = pd.read_csv(\"/kaggle/input/jigsaw-train-multilingual-coments-google-api/jigsaw-toxic-comment-train-google-tr-cleaned.csv\")\n",
    "\n",
    "valid1 = pd.read_csv('/kaggle/input/jigsaw-multilingual-toxic-comment-classification/validation.csv')\n",
    "valid2 = pd.read_csv('/kaggle/input/jigsaw-multilingual-toxic-test-translated/jigsaw_miltilingual_valid_translated.csv')\n",
    "valid2.rename(columns={'comment_text': 'old_comment_text', 'translated': 'comment_text'}, inplace=True)\n",
    "\n",
    "test = pd.read_csv('../input/jigsaw-multilingual-toxic-comment-classification/test.csv')\n",
    "test1 = pd.read_csv('/kaggle/input/jigsaw-multilingual-toxic-comment-classification/test.csv')\n",
    "test2 = pd.read_csv('/kaggle/input/jigsaw-multilingual-toxic-test-translated/jigsaw_miltilingual_test_translated.csv')\n",
    "\n",
    "sub = pd.read_csv('/kaggle/input/jigsaw-multilingual-toxic-comment-classification/sample_submission.csv')"
   ]
  },
  {
   "cell_type": "code",
   "execution_count": 9,
   "metadata": {
    "execution": {
     "iopub.execute_input": "2020-09-14T10:33:07.079743Z",
     "iopub.status.busy": "2020-09-14T10:33:07.072984Z",
     "iopub.status.idle": "2020-09-14T10:34:00.670755Z",
     "shell.execute_reply": "2020-09-14T10:34:00.671309Z"
    },
    "papermill": {
     "duration": 53.636941,
     "end_time": "2020-09-14T10:34:00.671465",
     "exception": false,
     "start_time": "2020-09-14T10:33:07.034524",
     "status": "completed"
    },
    "tags": []
   },
   "outputs": [
    {
     "data": {
      "text/plain": [
       "3"
      ]
     },
     "execution_count": 9,
     "metadata": {},
     "output_type": "execute_result"
    }
   ],
   "source": [
    "# sampling 50/50\n",
    "train = pd.concat([\n",
    "    train1[['comment_text', 'toxic']].query('toxic==1'),\n",
    "    train1[['comment_text', 'toxic']].query('toxic==0').sample(n=len(train1[train1.toxic == 1]), random_state=SEED),\n",
    "    train2[['comment_text', 'toxic']].query('toxic==1'),\n",
    "    train2[['comment_text', 'toxic']].query('toxic==0').sample(n=len(train2[train2.toxic == 1]), random_state=SEED),\n",
    "    train3[['comment_text', 'toxic']].query('toxic==1'),\n",
    "    train3[['comment_text', 'toxic']].query('toxic==0').sample(n=len(train3[train3.toxic == 1]), random_state=SEED),\n",
    "    train4[['comment_text', 'toxic']].query('toxic==1'),\n",
    "    train4[['comment_text', 'toxic']].query('toxic==0').sample(n=len(train4[train4.toxic == 1]), random_state=SEED),\n",
    "    train5[['comment_text', 'toxic']].query('toxic==1'),\n",
    "    train5[['comment_text', 'toxic']].query('toxic==0').sample(n=len(train5[train5.toxic == 1]), random_state=SEED),\n",
    "    train6[['comment_text', 'toxic']].query('toxic==1'),\n",
    "    train6[['comment_text', 'toxic']].query('toxic==0').sample(n=len(train6[train6.toxic == 1]), random_state=SEED),\n",
    "    train7[['comment_text', 'toxic']].query('toxic==1'),\n",
    "    train7[['comment_text', 'toxic']].query('toxic==0').sample(n=len(train7[train7.toxic == 1]), random_state=SEED),\n",
    "    train8[['comment_text', 'toxic']].query('toxic==1'),\n",
    "    train8[['comment_text', 'toxic']].query('toxic==0').sample(n=len(train8[train8.toxic == 1]), random_state=SEED),\n",
    "    \n",
    "])\n",
    "\n",
    "train.toxic = train.toxic.round().astype(int)\n",
    "train = train.sample(frac = 1, random_state=SEED)\n",
    "\n",
    "valid = pd.concat([valid1, valid2])\n",
    "valid = valid.sample(frac = 1, random_state=SEED)\n",
    "\n",
    "\n",
    "train['comment_text'] = train.apply(lambda x: clean_text(x['comment_text']), axis=1)\n",
    "valid['comment_text'] = valid.apply(lambda x: clean_text(x['comment_text']), axis=1)\n",
    "test1['content'] = test1.apply(lambda x: clean_text(x['content']), axis=1)\n",
    "test2['translated'] = test2.apply(lambda x: clean_text(x['translated']), axis=1)\n",
    "\n",
    "train['comment_text'] = train['comment_text'].apply(lambda x: text_process(x))\n",
    "valid['comment_text'] = valid['comment_text'].apply(lambda x: text_process(x))\n",
    "test1['content'] = test1['content'].apply(lambda x: text_process(x))\n",
    "test2['translated'] = test2['translated'].apply(lambda x: text_process(x))\n",
    "\n",
    "\n",
    "n_train_steps = train.shape[0] // (BATCH_SIZE*8)\n",
    "n_valid_steps = valid.shape[0] // (BATCH_SIZE)\n",
    "\n",
    "del train1, train2, train3, train4, train5, train6, train7, train8\n",
    "gc.collect()"
   ]
  },
  {
   "cell_type": "code",
   "execution_count": 10,
   "metadata": {
    "execution": {
     "iopub.execute_input": "2020-09-14T10:34:00.748442Z",
     "iopub.status.busy": "2020-09-14T10:34:00.743413Z",
     "iopub.status.idle": "2020-09-14T10:39:25.086422Z",
     "shell.execute_reply": "2020-09-14T10:39:25.085886Z"
    },
    "papermill": {
     "duration": 324.393881,
     "end_time": "2020-09-14T10:39:25.086531",
     "exception": false,
     "start_time": "2020-09-14T10:34:00.692650",
     "status": "completed"
    },
    "tags": []
   },
   "outputs": [
    {
     "name": "stdout",
     "output_type": "stream",
     "text": [
      "CPU times: user 5min 22s, sys: 2.14 s, total: 5min 24s\n",
      "Wall time: 5min 24s\n"
     ]
    },
    {
     "data": {
      "text/plain": [
       "0"
      ]
     },
     "execution_count": 10,
     "metadata": {},
     "output_type": "execute_result"
    }
   ],
   "source": [
    "%%time \n",
    "x_train = dict_encode(train.comment_text.values, tokenizer, maxlen=MAX_LEN)\n",
    "x_valid = dict_encode(valid.comment_text.values, tokenizer, maxlen=MAX_LEN)\n",
    "\n",
    "x_test1 = dict_encode(test1.content.values, tokenizer, maxlen=MAX_LEN)\n",
    "x_test2 = dict_encode(test2.translated.values, tokenizer, maxlen=MAX_LEN)\n",
    "\n",
    "y_train = train.toxic.values\n",
    "y_valid = valid.toxic.values\n",
    "\n",
    "del train, valid\n",
    "gc.collect()"
   ]
  },
  {
   "cell_type": "markdown",
   "metadata": {
    "papermill": {
     "duration": 0.021058,
     "end_time": "2020-09-14T10:39:25.128116",
     "exception": false,
     "start_time": "2020-09-14T10:39:25.107058",
     "status": "completed"
    },
    "tags": []
   },
   "source": [
    "## Dataset objects"
   ]
  },
  {
   "cell_type": "code",
   "execution_count": 11,
   "metadata": {
    "execution": {
     "iopub.execute_input": "2020-09-14T10:39:28.159193Z",
     "iopub.status.busy": "2020-09-14T10:39:28.154947Z",
     "iopub.status.idle": "2020-09-14T10:39:30.827595Z",
     "shell.execute_reply": "2020-09-14T10:39:30.827040Z"
    },
    "papermill": {
     "duration": 5.67869,
     "end_time": "2020-09-14T10:39:30.827731",
     "exception": false,
     "start_time": "2020-09-14T10:39:25.149041",
     "status": "completed"
    },
    "tags": []
   },
   "outputs": [
    {
     "data": {
      "text/plain": [
       "0"
      ]
     },
     "execution_count": 11,
     "metadata": {},
     "output_type": "execute_result"
    }
   ],
   "source": [
    "train_dataset = (\n",
    "    tf.data.Dataset\n",
    "    .from_tensor_slices((x_train, y_train))\n",
    "    .repeat()\n",
    "    .shuffle(SHUFFLE)\n",
    "    .batch(BATCH_SIZE)\n",
    "    .prefetch(AUTO)\n",
    ")\n",
    "\n",
    "valid_dataset = (\n",
    "    tf.data.Dataset\n",
    "    .from_tensor_slices((x_valid, y_valid))\n",
    "    .batch(BATCH_SIZE)\n",
    "    .cache()\n",
    "    .prefetch(AUTO)\n",
    ")\n",
    "\n",
    "\n",
    "test1_dataset = (\n",
    "    tf.data.Dataset\n",
    "    .from_tensor_slices(x_test1)\n",
    "    .batch(BATCH_SIZE)\n",
    ")\n",
    "\n",
    "test2_dataset = (\n",
    "    tf.data.Dataset\n",
    "    .from_tensor_slices(x_test2)\n",
    "    .batch(BATCH_SIZE)\n",
    ")\n",
    "\n",
    "del x_train, x_valid, y_train, y_valid, x_test1, x_test2\n",
    "gc.collect()"
   ]
  },
  {
   "cell_type": "markdown",
   "metadata": {
    "papermill": {
     "duration": 0.020471,
     "end_time": "2020-09-14T10:39:30.869121",
     "exception": false,
     "start_time": "2020-09-14T10:39:30.848650",
     "status": "completed"
    },
    "tags": []
   },
   "source": [
    "## Callbacks"
   ]
  },
  {
   "cell_type": "code",
   "execution_count": 12,
   "metadata": {
    "execution": {
     "iopub.execute_input": "2020-09-14T10:39:30.918495Z",
     "iopub.status.busy": "2020-09-14T10:39:30.917697Z",
     "iopub.status.idle": "2020-09-14T10:39:30.920509Z",
     "shell.execute_reply": "2020-09-14T10:39:30.920016Z"
    },
    "papermill": {
     "duration": 0.03098,
     "end_time": "2020-09-14T10:39:30.920611",
     "exception": false,
     "start_time": "2020-09-14T10:39:30.889631",
     "status": "completed"
    },
    "tags": []
   },
   "outputs": [],
   "source": [
    "lrs = ReduceLROnPlateau(monitor='val_accuracy', mode ='max', factor = 0.7, min_lr= 1e-7, verbose = 1, patience = 2)\n",
    "es1 = EarlyStopping(monitor='val_accuracy', mode='max', verbose = 1, patience = 5, restore_best_weights=True)\n",
    "es2 = EarlyStopping(monitor='accuracy', mode='max', verbose = 1, patience = 1, restore_best_weights=True)\n",
    "callbacks_list1 = [lrs,es1]\n",
    "callbacks_list2 = [lrs,es2]"
   ]
  },
  {
   "cell_type": "markdown",
   "metadata": {
    "papermill": {
     "duration": 0.020872,
     "end_time": "2020-09-14T10:39:30.962458",
     "exception": false,
     "start_time": "2020-09-14T10:39:30.941586",
     "status": "completed"
    },
    "tags": []
   },
   "source": [
    "## Build model"
   ]
  },
  {
   "cell_type": "code",
   "execution_count": 13,
   "metadata": {
    "execution": {
     "iopub.execute_input": "2020-09-14T10:39:31.015973Z",
     "iopub.status.busy": "2020-09-14T10:39:31.015049Z",
     "iopub.status.idle": "2020-09-14T10:39:31.018027Z",
     "shell.execute_reply": "2020-09-14T10:39:31.017425Z"
    },
    "papermill": {
     "duration": 0.034992,
     "end_time": "2020-09-14T10:39:31.018124",
     "exception": false,
     "start_time": "2020-09-14T10:39:30.983132",
     "status": "completed"
    },
    "tags": []
   },
   "outputs": [],
   "source": [
    "def build_model(transformer, max_len=512):\n",
    "    input_word_ids = Input(shape=(max_len,), dtype=tf.int32, name=\"input_ids\")\n",
    "    attention_mask = Input(shape=(max_len,), dtype=tf.int32, name=\"attention_mask\")\n",
    "    sequence_output = transformer({\"input_ids\": input_word_ids, \"attention_mask\": attention_mask})[0]\n",
    "\n",
    "    avg_pool = GlobalAveragePooling1D()(sequence_output)\n",
    "    max_pool = GlobalMaxPooling1D()(sequence_output)\n",
    "    cls_token = Concatenate()([avg_pool, max_pool])\n",
    "    \n",
    "    samples = []\n",
    "    for n in range(2):\n",
    "        sample = Dropout(0.4)(cls_token)\n",
    "        sample = Dense(1, activation='sigmoid', name=f'sample_{n}')(sample)\n",
    "        samples.append(sample)\n",
    "    \n",
    "    out = Average(name='output')(samples)\n",
    "    model = Model(inputs={\n",
    "                \"input_ids\": input_word_ids,\n",
    "                \"attention_mask\": attention_mask\n",
    "                }, \n",
    "                outputs=out,\n",
    "                name='XLM-R')\n",
    "    model.compile(Adam(lr=1e-5), loss='binary_crossentropy', metrics=[tf.keras.metrics.AUC(name='auc'), 'accuracy'])\n",
    "    \n",
    "    return model"
   ]
  },
  {
   "cell_type": "markdown",
   "metadata": {
    "papermill": {
     "duration": 0.020645,
     "end_time": "2020-09-14T10:39:31.059685",
     "exception": false,
     "start_time": "2020-09-14T10:39:31.039040",
     "status": "completed"
    },
    "tags": []
   },
   "source": [
    "## Load to TPU"
   ]
  },
  {
   "cell_type": "code",
   "execution_count": 14,
   "metadata": {
    "execution": {
     "iopub.execute_input": "2020-09-14T10:39:31.107079Z",
     "iopub.status.busy": "2020-09-14T10:39:31.106423Z",
     "iopub.status.idle": "2020-09-14T10:41:53.308612Z",
     "shell.execute_reply": "2020-09-14T10:41:53.309495Z"
    },
    "papermill": {
     "duration": 142.229783,
     "end_time": "2020-09-14T10:41:53.309720",
     "exception": false,
     "start_time": "2020-09-14T10:39:31.079937",
     "status": "completed"
    },
    "tags": []
   },
   "outputs": [
    {
     "data": {
      "application/vnd.jupyter.widget-view+json": {
       "model_id": "d245eaccbcea42f0affa8500ff1d47ce",
       "version_major": 2,
       "version_minor": 0
      },
      "text/plain": [
       "HBox(children=(FloatProgress(value=0.0, description='Downloading', max=3271420488.0, style=ProgressStyle(descr…"
      ]
     },
     "metadata": {},
     "output_type": "display_data"
    },
    {
     "name": "stdout",
     "output_type": "stream",
     "text": [
      "\n",
      "Model: \"XLM-R\"\n",
      "__________________________________________________________________________________________________\n",
      "Layer (type)                    Output Shape         Param #     Connected to                     \n",
      "==================================================================================================\n",
      "attention_mask (InputLayer)     [(None, 192)]        0                                            \n",
      "__________________________________________________________________________________________________\n",
      "input_ids (InputLayer)          [(None, 192)]        0                                            \n",
      "__________________________________________________________________________________________________\n",
      "tf_roberta_model (TFRobertaMode ((None, 192, 1024),  559890432   attention_mask[0][0]             \n",
      "                                                                 input_ids[0][0]                  \n",
      "__________________________________________________________________________________________________\n",
      "global_average_pooling1d (Globa (None, 1024)         0           tf_roberta_model[0][0]           \n",
      "__________________________________________________________________________________________________\n",
      "global_max_pooling1d (GlobalMax (None, 1024)         0           tf_roberta_model[0][0]           \n",
      "__________________________________________________________________________________________________\n",
      "concatenate (Concatenate)       (None, 2048)         0           global_average_pooling1d[0][0]   \n",
      "                                                                 global_max_pooling1d[0][0]       \n",
      "__________________________________________________________________________________________________\n",
      "dropout_74 (Dropout)            (None, 2048)         0           concatenate[0][0]                \n",
      "__________________________________________________________________________________________________\n",
      "dropout_75 (Dropout)            (None, 2048)         0           concatenate[0][0]                \n",
      "__________________________________________________________________________________________________\n",
      "sample_0 (Dense)                (None, 1)            2049        dropout_74[0][0]                 \n",
      "__________________________________________________________________________________________________\n",
      "sample_1 (Dense)                (None, 1)            2049        dropout_75[0][0]                 \n",
      "__________________________________________________________________________________________________\n",
      "output (Average)                (None, 1)            0           sample_0[0][0]                   \n",
      "                                                                 sample_1[0][0]                   \n",
      "==================================================================================================\n",
      "Total params: 559,894,530\n",
      "Trainable params: 559,894,530\n",
      "Non-trainable params: 0\n",
      "__________________________________________________________________________________________________\n",
      "CPU times: user 1min 48s, sys: 34.8 s, total: 2min 23s\n",
      "Wall time: 2min 22s\n"
     ]
    }
   ],
   "source": [
    "%%time\n",
    "with strategy.scope():\n",
    "    transformer_layer = TFAutoModel.from_pretrained(MODEL)\n",
    "    model = build_model(transformer_layer, max_len=MAX_LEN)\n",
    "model.summary()"
   ]
  },
  {
   "cell_type": "markdown",
   "metadata": {
    "papermill": {
     "duration": 0.024162,
     "end_time": "2020-09-14T10:41:53.360801",
     "exception": false,
     "start_time": "2020-09-14T10:41:53.336639",
     "status": "completed"
    },
    "tags": []
   },
   "source": [
    "## Run model"
   ]
  },
  {
   "cell_type": "code",
   "execution_count": 15,
   "metadata": {
    "execution": {
     "iopub.execute_input": "2020-09-14T10:41:53.427808Z",
     "iopub.status.busy": "2020-09-14T10:41:53.427042Z",
     "iopub.status.idle": "2020-09-14T11:17:23.051170Z",
     "shell.execute_reply": "2020-09-14T11:17:23.050242Z"
    },
    "papermill": {
     "duration": 2129.665644,
     "end_time": "2020-09-14T11:17:23.051354",
     "exception": false,
     "start_time": "2020-09-14T10:41:53.385710",
     "status": "completed"
    },
    "tags": []
   },
   "outputs": [
    {
     "name": "stdout",
     "output_type": "stream",
     "text": [
      "Epoch 1/20\n",
      "490/490 [==============================] - 242s 494ms/step - loss: 0.3218 - accuracy: 0.8573 - auc: 0.9371 - val_loss: 0.3841 - val_accuracy: 0.8148 - val_auc: 0.9269 - lr: 1.0000e-05\n",
      "Epoch 2/20\n",
      "490/490 [==============================] - 215s 439ms/step - loss: 0.2396 - accuracy: 0.9038 - auc: 0.9650 - val_loss: 0.3855 - val_accuracy: 0.8015 - val_auc: 0.9253 - lr: 1.0000e-05\n",
      "Epoch 3/20\n",
      "490/490 [==============================] - ETA: 0s - loss: 0.2289 - accuracy: 0.9096 - auc: 0.9675\n",
      "Epoch 00003: ReduceLROnPlateau reducing learning rate to 6.9999998231651255e-06.\n",
      "490/490 [==============================] - 215s 439ms/step - loss: 0.2289 - accuracy: 0.9096 - auc: 0.9675 - val_loss: 0.4092 - val_accuracy: 0.7971 - val_auc: 0.9275 - lr: 1.0000e-05\n",
      "Epoch 4/20\n",
      "490/490 [==============================] - 221s 452ms/step - loss: 0.2120 - accuracy: 0.9151 - auc: 0.9721 - val_loss: 0.2883 - val_accuracy: 0.8451 - val_auc: 0.9316 - lr: 7.0000e-06\n",
      "Epoch 5/20\n",
      "490/490 [==============================] - 216s 442ms/step - loss: 0.2012 - accuracy: 0.9208 - auc: 0.9747 - val_loss: 0.3468 - val_accuracy: 0.8266 - val_auc: 0.9292 - lr: 7.0000e-06\n",
      "Epoch 6/20\n",
      "490/490 [==============================] - ETA: 0s - loss: 0.1947 - accuracy: 0.9224 - auc: 0.9762\n",
      "Epoch 00006: ReduceLROnPlateau reducing learning rate to 4.899999748886329e-06.\n",
      "490/490 [==============================] - 215s 438ms/step - loss: 0.1947 - accuracy: 0.9224 - auc: 0.9762 - val_loss: 0.3299 - val_accuracy: 0.8216 - val_auc: 0.9320 - lr: 7.0000e-06\n",
      "Epoch 7/20\n",
      "490/490 [==============================] - 216s 440ms/step - loss: 0.1941 - accuracy: 0.9241 - auc: 0.9763 - val_loss: 0.3102 - val_accuracy: 0.8276 - val_auc: 0.9321 - lr: 4.9000e-06\n",
      "Epoch 8/20\n",
      "490/490 [==============================] - ETA: 0s - loss: 0.1938 - accuracy: 0.9225 - auc: 0.9763\n",
      "Epoch 00008: ReduceLROnPlateau reducing learning rate to 3.4299996968911726e-06.\n",
      "490/490 [==============================] - 215s 439ms/step - loss: 0.1938 - accuracy: 0.9225 - auc: 0.9763 - val_loss: 0.3414 - val_accuracy: 0.8163 - val_auc: 0.9307 - lr: 4.9000e-06\n",
      "Epoch 9/20\n",
      "490/490 [==============================] - ETA: 0s - loss: 0.1775 - accuracy: 0.9298 - auc: 0.9800Restoring model weights from the end of the best epoch.\n",
      "490/490 [==============================] - 241s 492ms/step - loss: 0.1775 - accuracy: 0.9298 - auc: 0.9800 - val_loss: 0.2979 - val_accuracy: 0.8408 - val_auc: 0.9311 - lr: 3.4300e-06\n",
      "Epoch 00009: early stopping\n"
     ]
    }
   ],
   "source": [
    "model_history_1 = model.fit(\n",
    "    train_dataset,\n",
    "    steps_per_epoch=n_train_steps,\n",
    "    validation_data=valid_dataset,\n",
    "    epochs=EPOCHS_1,\n",
    "    callbacks=callbacks_list1,\n",
    "    verbose=VERBOSE\n",
    " )"
   ]
  },
  {
   "cell_type": "code",
   "execution_count": 16,
   "metadata": {
    "execution": {
     "iopub.execute_input": "2020-09-14T11:17:26.076485Z",
     "iopub.status.busy": "2020-09-14T11:17:26.075591Z",
     "iopub.status.idle": "2020-09-14T11:19:21.604507Z",
     "shell.execute_reply": "2020-09-14T11:19:21.603884Z"
    },
    "papermill": {
     "duration": 116.958056,
     "end_time": "2020-09-14T11:19:21.604629",
     "exception": false,
     "start_time": "2020-09-14T11:17:24.646573",
     "status": "completed"
    },
    "tags": []
   },
   "outputs": [
    {
     "name": "stdout",
     "output_type": "stream",
     "text": [
      "Epoch 1/2\n",
      "125/125 [==============================] - 57s 452ms/step - loss: 0.2294 - accuracy: 0.8943 - auc: 0.9294 - lr: 3.4300e-06\n",
      "Epoch 2/2\n",
      "125/125 [==============================] - 58s 462ms/step - loss: 0.1975 - accuracy: 0.9074 - auc: 0.9484 - lr: 3.4300e-06\n"
     ]
    }
   ],
   "source": [
    "model_history_2 = model.fit(\n",
    "    valid_dataset.repeat(),\n",
    "    steps_per_epoch=n_valid_steps,\n",
    "    epochs=EPOCHS_2,\n",
    "    callbacks=callbacks_list2,\n",
    "    verbose=VERBOSE\n",
    ")"
   ]
  },
  {
   "cell_type": "markdown",
   "metadata": {
    "papermill": {
     "duration": 1.510705,
     "end_time": "2020-09-14T11:19:24.617701",
     "exception": false,
     "start_time": "2020-09-14T11:19:23.106996",
     "status": "completed"
    },
    "tags": []
   },
   "source": [
    "## Blending"
   ]
  },
  {
   "cell_type": "code",
   "execution_count": 17,
   "metadata": {
    "execution": {
     "iopub.execute_input": "2020-09-14T11:19:27.565860Z",
     "iopub.status.busy": "2020-09-14T11:19:27.565152Z",
     "iopub.status.idle": "2020-09-14T11:21:48.597229Z",
     "shell.execute_reply": "2020-09-14T11:21:48.596614Z"
    },
    "papermill": {
     "duration": 142.492637,
     "end_time": "2020-09-14T11:21:48.597347",
     "exception": false,
     "start_time": "2020-09-14T11:19:26.104710",
     "status": "completed"
    },
    "tags": []
   },
   "outputs": [
    {
     "name": "stdout",
     "output_type": "stream",
     "text": [
      "499/499 [==============================] - 64s 128ms/step\n",
      "499/499 [==============================] - 55s 109ms/step\n"
     ]
    },
    {
     "data": {
      "text/plain": [
       "<matplotlib.axes._subplots.AxesSubplot at 0x7f5ff6ba5610>"
      ]
     },
     "execution_count": 17,
     "metadata": {},
     "output_type": "execute_result"
    },
    {
     "data": {
      "image/png": "[encoded data removed]",
      "text/plain": [
       "<Figure size 432x288 with 1 Axes>"
      ]
     },
     "metadata": {
      "needs_background": "light"
     },
     "output_type": "display_data"
    }
   ],
   "source": [
    "#Blending\n",
    "multi_sub = model.predict(test1_dataset, verbose=1)\n",
    "eng_sub = model.predict(test2_dataset, verbose=1)\n",
    "\n",
    "sub['toxic'] = multi_sub*0.75 + eng_sub*0.25\n",
    "\n",
    "#Post-processing\n",
    "sub.loc[test[\"lang\"] == \"es\", \"toxic\"] *= 1.11\n",
    "sub.loc[test[\"lang\"] == \"fr\", \"toxic\"] *= 1.06\n",
    "sub.loc[test[\"lang\"] == \"it\", \"toxic\"] *= 0.93\n",
    "sub.loc[test[\"lang\"] == \"pt\", \"toxic\"] *= 0.92\n",
    "sub.loc[test[\"lang\"] == \"tr\", \"toxic\"] *= 0.94\n",
    "\n",
    "# min-max normalize\n",
    "sub.toxic -= sub.toxic.min()\n",
    "sub.toxic /= (sub.toxic.max() - sub.toxic.min())\n",
    "sub.toxic.hist(bins=100, log=False, alpha=1)"
   ]
  },
  {
   "cell_type": "markdown",
   "metadata": {
    "papermill": {
     "duration": 1.794411,
     "end_time": "2020-09-14T11:21:52.125678",
     "exception": false,
     "start_time": "2020-09-14T11:21:50.331267",
     "status": "completed"
    },
    "tags": []
   },
   "source": [
    "## Submission"
   ]
  },
  {
   "cell_type": "code",
   "execution_count": 18,
   "metadata": {
    "execution": {
     "iopub.execute_input": "2020-09-14T11:21:55.597087Z",
     "iopub.status.busy": "2020-09-14T11:21:55.596436Z",
     "iopub.status.idle": "2020-09-14T11:21:55.985902Z",
     "shell.execute_reply": "2020-09-14T11:21:55.986448Z"
    },
    "papermill": {
     "duration": 2.126567,
     "end_time": "2020-09-14T11:21:55.986587",
     "exception": false,
     "start_time": "2020-09-14T11:21:53.860020",
     "status": "completed"
    },
    "tags": []
   },
   "outputs": [],
   "source": [
    "sub.to_csv('submission.csv', index=False)"
   ]
  }
 ],
 "metadata": {
  "kernelspec": {
   "display_name": "Python 3",
   "language": "python",
   "name": "python3"
  },
  "language_info": {
   "codemirror_mode": {
    "name": "ipython",
    "version": 3
   },
   "file_extension": ".py",
   "mimetype": "text/x-python",
   "name": "python",
   "nbconvert_exporter": "python",
   "pygments_lexer": "ipython3",
   "version": "3.7.6"
  },
  "papermill": {
   "duration": 2977.779179,
   "end_time": "2020-09-14T11:21:57.951446",
   "environment_variables": {},
   "exception": null,
   "input_path": "__notebook__.ipynb",
   "output_path": "__notebook__.ipynb",
   "parameters": {},
   "start_time": "2020-09-14T10:32:20.172267",
   "version": "2.1.0"
  },
  "widgets": {
   "application/vnd.jupyter.widget-state+json": {
    "state": {
     "0ad0633d68b340e3b2bd12eb447bdca7": {
      "model_module": "@jupyter-widgets/controls",
      "model_module_version": "1.5.0",
      "model_name": "DescriptionStyleModel",
      "state": {
       "_model_module": "@jupyter-widgets/controls",
       "_model_module_version": "1.5.0",
       "_model_name": "DescriptionStyleModel",
       "_view_count": null,
       "_view_module": "@jupyter-widgets/base",
       "_view_module_version": "1.2.0",
       "_view_name": "StyleView",
       "description_width": ""
      }
     },
     "0d68ae51412244189a9490ae7b519de5": {
      "model_module": "@jupyter-widgets/base",
      "model_module_version": "1.2.0",
      "model_name": "LayoutModel",
      "state": {
       "_model_module": "@jupyter-widgets/base",
       "_model_module_version": "1.2.0",
       "_model_name": "LayoutModel",
       "_view_count": null,
       "_view_module": "@jupyter-widgets/base",
       "_view_module_version": "1.2.0",
       "_view_name": "LayoutView",
       "align_content": null,
       "align_items": null,
       "align_self": null,
       "border": null,
       "bottom": null,
       "display": null,
       "flex": null,
       "flex_flow": null,
       "grid_area": null,
       "grid_auto_columns": null,
       "grid_auto_flow": null,
       "grid_auto_rows": null,
       "grid_column": null,
       "grid_gap": null,
       "grid_row": null,
       "grid_template_areas": null,
       "grid_template_columns": null,
       "grid_template_rows": null,
       "height": null,
       "justify_content": null,
       "justify_items": null,
       "left": null,
       "margin": null,
       "max_height": null,
       "max_width": null,
       "min_height": null,
       "min_width": null,
       "object_fit": null,
       "object_position": null,
       "order": null,
       "overflow": null,
       "overflow_x": null,
       "overflow_y": null,
       "padding": null,
       "right": null,
       "top": null,
       "visibility": null,
       "width": null
      }
     },
     "18af05bbcd60401597c42428c01b2089": {
      "model_module": "@jupyter-widgets/controls",
      "model_module_version": "1.5.0",
      "model_name": "DescriptionStyleModel",
      "state": {
       "_model_module": "@jupyter-widgets/controls",
       "_model_module_version": "1.5.0",
       "_model_name": "DescriptionStyleModel",
       "_view_count": null,
       "_view_module": "@jupyter-widgets/base",
       "_view_module_version": "1.2.0",
       "_view_name": "StyleView",
       "description_width": ""
      }
     },
     "29d9b87a7ab548a8910864a2f82e76bb": {
      "model_module": "@jupyter-widgets/base",
      "model_module_version": "1.2.0",
      "model_name": "LayoutModel",
      "state": {
       "_model_module": "@jupyter-widgets/base",
       "_model_module_version": "1.2.0",
       "_model_name": "LayoutModel",
       "_view_count": null,
       "_view_module": "@jupyter-widgets/base",
       "_view_module_version": "1.2.0",
       "_view_name": "LayoutView",
       "align_content": null,
       "align_items": null,
       "align_self": null,
       "border": null,
       "bottom": null,
       "display": null,
       "flex": null,
       "flex_flow": null,
       "grid_area": null,
       "grid_auto_columns": null,
       "grid_auto_flow": null,
       "grid_auto_rows": null,
       "grid_column": null,
       "grid_gap": null,
       "grid_row": null,
       "grid_template_areas": null,
       "grid_template_columns": null,
       "grid_template_rows": null,
       "height": null,
       "justify_content": null,
       "justify_items": null,
       "left": null,
       "margin": null,
       "max_height": null,
       "max_width": null,
       "min_height": null,
       "min_width": null,
       "object_fit": null,
       "object_position": null,
       "order": null,
       "overflow": null,
       "overflow_x": null,
       "overflow_y": null,
       "padding": null,
       "right": null,
       "top": null,
       "visibility": null,
       "width": null
      }
     },
     "2e80083473c8425382c1a622dd57039c": {
      "model_module": "@jupyter-widgets/controls",
      "model_module_version": "1.5.0",
      "model_name": "ProgressStyleModel",
      "state": {
       "_model_module": "@jupyter-widgets/controls",
       "_model_module_version": "1.5.0",
       "_model_name": "ProgressStyleModel",
       "_view_count": null,
       "_view_module": "@jupyter-widgets/base",
       "_view_module_version": "1.2.0",
       "_view_name": "StyleView",
       "bar_color": null,
       "description_width": "initial"
      }
     },
     "3ee30d98ca9c48ceabe4f2106dc7e057": {
      "model_module": "@jupyter-widgets/controls",
      "model_module_version": "1.5.0",
      "model_name": "HTMLModel",
      "state": {
       "_dom_classes": [],
       "_model_module": "@jupyter-widgets/controls",
       "_model_module_version": "1.5.0",
       "_model_name": "HTMLModel",
       "_view_count": null,
       "_view_module": "@jupyter-widgets/controls",
       "_view_module_version": "1.5.0",
       "_view_name": "HTMLView",
       "description": "",
       "description_tooltip": null,
       "layout": "IPY_MODEL_0d68ae51412244189a9490ae7b519de5",
       "placeholder": "​",
       "style": "IPY_MODEL_18af05bbcd60401597c42428c01b2089",
       "value": " 5.07M/5.07M [00:01&lt;00:00, 2.78MB/s]"
      }
     },
     "566c157ec77b4bdeae243f5721872e46": {
      "model_module": "@jupyter-widgets/base",
      "model_module_version": "1.2.0",
      "model_name": "LayoutModel",
      "state": {
       "_model_module": "@jupyter-widgets/base",
       "_model_module_version": "1.2.0",
       "_model_name": "LayoutModel",
       "_view_count": null,
       "_view_module": "@jupyter-widgets/base",
       "_view_module_version": "1.2.0",
       "_view_name": "LayoutView",
       "align_content": null,
       "align_items": null,
       "align_self": null,
       "border": null,
       "bottom": null,
       "display": null,
       "flex": null,
       "flex_flow": null,
       "grid_area": null,
       "grid_auto_columns": null,
       "grid_auto_flow": null,
       "grid_auto_rows": null,
       "grid_column": null,
       "grid_gap": null,
       "grid_row": null,
       "grid_template_areas": null,
       "grid_template_columns": null,
       "grid_template_rows": null,
       "height": null,
       "justify_content": null,
       "justify_items": null,
       "left": null,
       "margin": null,
       "max_height": null,
       "max_width": null,
       "min_height": null,
       "min_width": null,
       "object_fit": null,
       "object_position": null,
       "order": null,
       "overflow": null,
       "overflow_x": null,
       "overflow_y": null,
       "padding": null,
       "right": null,
       "top": null,
       "visibility": null,
       "width": null
      }
     },
     "5b53ffb0257c44ad8c23626ffb3f6b24": {
      "model_module": "@jupyter-widgets/base",
      "model_module_version": "1.2.0",
      "model_name": "LayoutModel",
      "state": {
       "_model_module": "@jupyter-widgets/base",
       "_model_module_version": "1.2.0",
       "_model_name": "LayoutModel",
       "_view_count": null,
       "_view_module": "@jupyter-widgets/base",
       "_view_module_version": "1.2.0",
       "_view_name": "LayoutView",
       "align_content": null,
       "align_items": null,
       "align_self": null,
       "border": null,
       "bottom": null,
       "display": null,
       "flex": null,
       "flex_flow": null,
       "grid_area": null,
       "grid_auto_columns": null,
       "grid_auto_flow": null,
       "grid_auto_rows": null,
       "grid_column": null,
       "grid_gap": null,
       "grid_row": null,
       "grid_template_areas": null,
       "grid_template_columns": null,
       "grid_template_rows": null,
       "height": null,
       "justify_content": null,
       "justify_items": null,
       "left": null,
       "margin": null,
       "max_height": null,
       "max_width": null,
       "min_height": null,
       "min_width": null,
       "object_fit": null,
       "object_position": null,
       "order": null,
       "overflow": null,
       "overflow_x": null,
       "overflow_y": null,
       "padding": null,
       "right": null,
       "top": null,
       "visibility": null,
       "width": null
      }
     },
     "65d4938264284110806860251abc9590": {
      "model_module": "@jupyter-widgets/controls",
      "model_module_version": "1.5.0",
      "model_name": "FloatProgressModel",
      "state": {
       "_dom_classes": [],
       "_model_module": "@jupyter-widgets/controls",
       "_model_module_version": "1.5.0",
       "_model_name": "FloatProgressModel",
       "_view_count": null,
       "_view_module": "@jupyter-widgets/controls",
       "_view_module_version": "1.5.0",
       "_view_name": "ProgressView",
       "bar_style": "success",
       "description": "Downloading: 100%",
       "description_tooltip": null,
       "layout": "IPY_MODEL_5b53ffb0257c44ad8c23626ffb3f6b24",
       "max": 513.0,
       "min": 0.0,
       "orientation": "horizontal",
       "style": "IPY_MODEL_2e80083473c8425382c1a622dd57039c",
       "value": 513.0
      }
     },
     "69edfad270ab41c8be8ff6941933d094": {
      "model_module": "@jupyter-widgets/base",
      "model_module_version": "1.2.0",
      "model_name": "LayoutModel",
      "state": {
       "_model_module": "@jupyter-widgets/base",
       "_model_module_version": "1.2.0",
       "_model_name": "LayoutModel",
       "_view_count": null,
       "_view_module": "@jupyter-widgets/base",
       "_view_module_version": "1.2.0",
       "_view_name": "LayoutView",
       "align_content": null,
       "align_items": null,
       "align_self": null,
       "border": null,
       "bottom": null,
       "display": null,
       "flex": null,
       "flex_flow": null,
       "grid_area": null,
       "grid_auto_columns": null,
       "grid_auto_flow": null,
       "grid_auto_rows": null,
       "grid_column": null,
       "grid_gap": null,
       "grid_row": null,
       "grid_template_areas": null,
       "grid_template_columns": null,
       "grid_template_rows": null,
       "height": null,
       "justify_content": null,
       "justify_items": null,
       "left": null,
       "margin": null,
       "max_height": null,
       "max_width": null,
       "min_height": null,
       "min_width": null,
       "object_fit": null,
       "object_position": null,
       "order": null,
       "overflow": null,
       "overflow_x": null,
       "overflow_y": null,
       "padding": null,
       "right": null,
       "top": null,
       "visibility": null,
       "width": null
      }
     },
     "72a65bfd90f54f68a6c7fd4a0c5a6a11": {
      "model_module": "@jupyter-widgets/base",
      "model_module_version": "1.2.0",
      "model_name": "LayoutModel",
      "state": {
       "_model_module": "@jupyter-widgets/base",
       "_model_module_version": "1.2.0",
       "_model_name": "LayoutModel",
       "_view_count": null,
       "_view_module": "@jupyter-widgets/base",
       "_view_module_version": "1.2.0",
       "_view_name": "LayoutView",
       "align_content": null,
       "align_items": null,
       "align_self": null,
       "border": null,
       "bottom": null,
       "display": null,
       "flex": null,
       "flex_flow": null,
       "grid_area": null,
       "grid_auto_columns": null,
       "grid_auto_flow": null,
       "grid_auto_rows": null,
       "grid_column": null,
       "grid_gap": null,
       "grid_row": null,
       "grid_template_areas": null,
       "grid_template_columns": null,
       "grid_template_rows": null,
       "height": null,
       "justify_content": null,
       "justify_items": null,
       "left": null,
       "margin": null,
       "max_height": null,
       "max_width": null,
       "min_height": null,
       "min_width": null,
       "object_fit": null,
       "object_position": null,
       "order": null,
       "overflow": null,
       "overflow_x": null,
       "overflow_y": null,
       "padding": null,
       "right": null,
       "top": null,
       "visibility": null,
       "width": null
      }
     },
     "7f9207a63d6844eaa932f5ccad924e54": {
      "model_module": "@jupyter-widgets/controls",
      "model_module_version": "1.5.0",
      "model_name": "FloatProgressModel",
      "state": {
       "_dom_classes": [],
       "_model_module": "@jupyter-widgets/controls",
       "_model_module_version": "1.5.0",
       "_model_name": "FloatProgressModel",
       "_view_count": null,
       "_view_module": "@jupyter-widgets/controls",
       "_view_module_version": "1.5.0",
       "_view_name": "ProgressView",
       "bar_style": "success",
       "description": "Downloading: 100%",
       "description_tooltip": null,
       "layout": "IPY_MODEL_566c157ec77b4bdeae243f5721872e46",
       "max": 5069051.0,
       "min": 0.0,
       "orientation": "horizontal",
       "style": "IPY_MODEL_c76e4801a59e429298c856aecb929086",
       "value": 5069051.0
      }
     },
     "a6260235f7cd4c96888d14ec67d4aab2": {
      "model_module": "@jupyter-widgets/base",
      "model_module_version": "1.2.0",
      "model_name": "LayoutModel",
      "state": {
       "_model_module": "@jupyter-widgets/base",
       "_model_module_version": "1.2.0",
       "_model_name": "LayoutModel",
       "_view_count": null,
       "_view_module": "@jupyter-widgets/base",
       "_view_module_version": "1.2.0",
       "_view_name": "LayoutView",
       "align_content": null,
       "align_items": null,
       "align_self": null,
       "border": null,
       "bottom": null,
       "display": null,
       "flex": null,
       "flex_flow": null,
       "grid_area": null,
       "grid_auto_columns": null,
       "grid_auto_flow": null,
       "grid_auto_rows": null,
       "grid_column": null,
       "grid_gap": null,
       "grid_row": null,
       "grid_template_areas": null,
       "grid_template_columns": null,
       "grid_template_rows": null,
       "height": null,
       "justify_content": null,
       "justify_items": null,
       "left": null,
       "margin": null,
       "max_height": null,
       "max_width": null,
       "min_height": null,
       "min_width": null,
       "object_fit": null,
       "object_position": null,
       "order": null,
       "overflow": null,
       "overflow_x": null,
       "overflow_y": null,
       "padding": null,
       "right": null,
       "top": null,
       "visibility": null,
       "width": null
      }
     },
     "a8b7070e0a2c4ccc84f8756d22d9cadf": {
      "model_module": "@jupyter-widgets/controls",
      "model_module_version": "1.5.0",
      "model_name": "ProgressStyleModel",
      "state": {
       "_model_module": "@jupyter-widgets/controls",
       "_model_module_version": "1.5.0",
       "_model_name": "ProgressStyleModel",
       "_view_count": null,
       "_view_module": "@jupyter-widgets/base",
       "_view_module_version": "1.2.0",
       "_view_name": "StyleView",
       "bar_color": null,
       "description_width": "initial"
      }
     },
     "aee31a1c5344422ca80c58f091385e41": {
      "model_module": "@jupyter-widgets/controls",
      "model_module_version": "1.5.0",
      "model_name": "HBoxModel",
      "state": {
       "_dom_classes": [],
       "_model_module": "@jupyter-widgets/controls",
       "_model_module_version": "1.5.0",
       "_model_name": "HBoxModel",
       "_view_count": null,
       "_view_module": "@jupyter-widgets/controls",
       "_view_module_version": "1.5.0",
       "_view_name": "HBoxView",
       "box_style": "",
       "children": [
        "IPY_MODEL_7f9207a63d6844eaa932f5ccad924e54",
        "IPY_MODEL_3ee30d98ca9c48ceabe4f2106dc7e057"
       ],
       "layout": "IPY_MODEL_72a65bfd90f54f68a6c7fd4a0c5a6a11"
      }
     },
     "b9e738898be4460c8aa591de4fcbed8f": {
      "model_module": "@jupyter-widgets/controls",
      "model_module_version": "1.5.0",
      "model_name": "HTMLModel",
      "state": {
       "_dom_classes": [],
       "_model_module": "@jupyter-widgets/controls",
       "_model_module_version": "1.5.0",
       "_model_name": "HTMLModel",
       "_view_count": null,
       "_view_module": "@jupyter-widgets/controls",
       "_view_module_version": "1.5.0",
       "_view_name": "HTMLView",
       "description": "",
       "description_tooltip": null,
       "layout": "IPY_MODEL_f4804f48dc2f42efb0e7b74e54b74b4b",
       "placeholder": "​",
       "style": "IPY_MODEL_0ad0633d68b340e3b2bd12eb447bdca7",
       "value": " 513/513 [00:00&lt;00:00, 3.13kB/s]"
      }
     },
     "c76e4801a59e429298c856aecb929086": {
      "model_module": "@jupyter-widgets/controls",
      "model_module_version": "1.5.0",
      "model_name": "ProgressStyleModel",
      "state": {
       "_model_module": "@jupyter-widgets/controls",
       "_model_module_version": "1.5.0",
       "_model_name": "ProgressStyleModel",
       "_view_count": null,
       "_view_module": "@jupyter-widgets/base",
       "_view_module_version": "1.2.0",
       "_view_name": "StyleView",
       "bar_color": null,
       "description_width": "initial"
      }
     },
     "cc3ebda1a3fc40bfb62b2d20230f7d46": {
      "model_module": "@jupyter-widgets/controls",
      "model_module_version": "1.5.0",
      "model_name": "DescriptionStyleModel",
      "state": {
       "_model_module": "@jupyter-widgets/controls",
       "_model_module_version": "1.5.0",
       "_model_name": "DescriptionStyleModel",
       "_view_count": null,
       "_view_module": "@jupyter-widgets/base",
       "_view_module_version": "1.2.0",
       "_view_name": "StyleView",
       "description_width": ""
      }
     },
     "d245eaccbcea42f0affa8500ff1d47ce": {
      "model_module": "@jupyter-widgets/controls",
      "model_module_version": "1.5.0",
      "model_name": "HBoxModel",
      "state": {
       "_dom_classes": [],
       "_model_module": "@jupyter-widgets/controls",
       "_model_module_version": "1.5.0",
       "_model_name": "HBoxModel",
       "_view_count": null,
       "_view_module": "@jupyter-widgets/controls",
       "_view_module_version": "1.5.0",
       "_view_name": "HBoxView",
       "box_style": "",
       "children": [
        "IPY_MODEL_f56f26f4220045c4aedd08851b9df05b",
        "IPY_MODEL_e46109f205eb40c3a71bbfffa9f2d342"
       ],
       "layout": "IPY_MODEL_29d9b87a7ab548a8910864a2f82e76bb"
      }
     },
     "e46109f205eb40c3a71bbfffa9f2d342": {
      "model_module": "@jupyter-widgets/controls",
      "model_module_version": "1.5.0",
      "model_name": "HTMLModel",
      "state": {
       "_dom_classes": [],
       "_model_module": "@jupyter-widgets/controls",
       "_model_module_version": "1.5.0",
       "_model_name": "HTMLModel",
       "_view_count": null,
       "_view_module": "@jupyter-widgets/controls",
       "_view_module_version": "1.5.0",
       "_view_name": "HTMLView",
       "description": "",
       "description_tooltip": null,
       "layout": "IPY_MODEL_69edfad270ab41c8be8ff6941933d094",
       "placeholder": "​",
       "style": "IPY_MODEL_cc3ebda1a3fc40bfb62b2d20230f7d46",
       "value": " 3.27G/3.27G [01:29&lt;00:00, 36.7MB/s]"
      }
     },
     "ed241ee2d1e5478cb5e6cf72497909d2": {
      "model_module": "@jupyter-widgets/base",
      "model_module_version": "1.2.0",
      "model_name": "LayoutModel",
      "state": {
       "_model_module": "@jupyter-widgets/base",
       "_model_module_version": "1.2.0",
       "_model_name": "LayoutModel",
       "_view_count": null,
       "_view_module": "@jupyter-widgets/base",
       "_view_module_version": "1.2.0",
       "_view_name": "LayoutView",
       "align_content": null,
       "align_items": null,
       "align_self": null,
       "border": null,
       "bottom": null,
       "display": null,
       "flex": null,
       "flex_flow": null,
       "grid_area": null,
       "grid_auto_columns": null,
       "grid_auto_flow": null,
       "grid_auto_rows": null,
       "grid_column": null,
       "grid_gap": null,
       "grid_row": null,
       "grid_template_areas": null,
       "grid_template_columns": null,
       "grid_template_rows": null,
       "height": null,
       "justify_content": null,
       "justify_items": null,
       "left": null,
       "margin": null,
       "max_height": null,
       "max_width": null,
       "min_height": null,
       "min_width": null,
       "object_fit": null,
       "object_position": null,
       "order": null,
       "overflow": null,
       "overflow_x": null,
       "overflow_y": null,
       "padding": null,
       "right": null,
       "top": null,
       "visibility": null,
       "width": null
      }
     },
     "ee8c582065ef437baa7fdae9eb4dc998": {
      "model_module": "@jupyter-widgets/controls",
      "model_module_version": "1.5.0",
      "model_name": "HBoxModel",
      "state": {
       "_dom_classes": [],
       "_model_module": "@jupyter-widgets/controls",
       "_model_module_version": "1.5.0",
       "_model_name": "HBoxModel",
       "_view_count": null,
       "_view_module": "@jupyter-widgets/controls",
       "_view_module_version": "1.5.0",
       "_view_name": "HBoxView",
       "box_style": "",
       "children": [
        "IPY_MODEL_65d4938264284110806860251abc9590",
        "IPY_MODEL_b9e738898be4460c8aa591de4fcbed8f"
       ],
       "layout": "IPY_MODEL_ed241ee2d1e5478cb5e6cf72497909d2"
      }
     },
     "f4804f48dc2f42efb0e7b74e54b74b4b": {
      "model_module": "@jupyter-widgets/base",
      "model_module_version": "1.2.0",
      "model_name": "LayoutModel",
      "state": {
       "_model_module": "@jupyter-widgets/base",
       "_model_module_version": "1.2.0",
       "_model_name": "LayoutModel",
       "_view_count": null,
       "_view_module": "@jupyter-widgets/base",
       "_view_module_version": "1.2.0",
       "_view_name": "LayoutView",
       "align_content": null,
       "align_items": null,
       "align_self": null,
       "border": null,
       "bottom": null,
       "display": null,
       "flex": null,
       "flex_flow": null,
       "grid_area": null,
       "grid_auto_columns": null,
       "grid_auto_flow": null,
       "grid_auto_rows": null,
       "grid_column": null,
       "grid_gap": null,
       "grid_row": null,
       "grid_template_areas": null,
       "grid_template_columns": null,
       "grid_template_rows": null,
       "height": null,
       "justify_content": null,
       "justify_items": null,
       "left": null,
       "margin": null,
       "max_height": null,
       "max_width": null,
       "min_height": null,
       "min_width": null,
       "object_fit": null,
       "object_position": null,
       "order": null,
       "overflow": null,
       "overflow_x": null,
       "overflow_y": null,
       "padding": null,
       "right": null,
       "top": null,
       "visibility": null,
       "width": null
      }
     },
     "f56f26f4220045c4aedd08851b9df05b": {
      "model_module": "@jupyter-widgets/controls",
      "model_module_version": "1.5.0",
      "model_name": "FloatProgressModel",
      "state": {
       "_dom_classes": [],
       "_model_module": "@jupyter-widgets/controls",
       "_model_module_version": "1.5.0",
       "_model_name": "FloatProgressModel",
       "_view_count": null,
       "_view_module": "@jupyter-widgets/controls",
       "_view_module_version": "1.5.0",
       "_view_name": "ProgressView",
       "bar_style": "success",
       "description": "Downloading: 100%",
       "description_tooltip": null,
       "layout": "IPY_MODEL_a6260235f7cd4c96888d14ec67d4aab2",
       "max": 3271420488.0,
       "min": 0.0,
       "orientation": "horizontal",
       "style": "IPY_MODEL_a8b7070e0a2c4ccc84f8756d22d9cadf",
       "value": 3271420488.0
      }
     }
    },
    "version_major": 2,
    "version_minor": 0
   }
  }
 },
 "nbformat": 4,
 "nbformat_minor": 4
}
