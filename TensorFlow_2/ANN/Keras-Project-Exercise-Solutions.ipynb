{
 "cells": [
  {
   "cell_type": "markdown",
   "metadata": {},
   "source": [
    "# Keras API Project Exercise - Solutions\n",
    "\n",
    "## The Data\n",
    "\n",
    "We will be using a subset of the LendingClub DataSet obtained from Kaggle: https://www.kaggle.com/wordsforthewise/lending-club\n",
    "\n",
    "## NOTE: Do not download the full zip from the link! We provide a special version of this file that has some extra feature engineering for you to do. You won't be able to follow along with the original file!\n",
    "\n",
    "LendingClub is a US peer-to-peer lending company, headquartered in San Francisco, California.[3] It was the first peer-to-peer lender to register its offerings as securities with the Securities and Exchange Commission (SEC), and to offer loan trading on a secondary market. LendingClub is the world's largest peer-to-peer lending platform.\n",
    "\n",
    "### Our Goal\n",
    "\n",
    "Given historical data on loans given out with information on whether or not the borrower defaulted (charge-off), can we build a model thatcan predict wether or nor a borrower will pay back their loan? This way in the future when we get a new potential customer we can assess whether or not they are likely to pay back the loan. Keep in mind classification metrics when evaluating the performance of your model!\n",
    "\n",
    "The \"loan_status\" column contains our label.\n",
    "\n",
    "### Data Overview"
   ]
  },
  {
   "cell_type": "markdown",
   "metadata": {},
   "source": [
    "----\n",
    "-----\n",
    "There are many LendingClub data sets on Kaggle. Here is the information on this particular data set:\n",
    "\n",
    "<table border=\"1\" class=\"dataframe\">\n",
    "  <thead>\n",
    "    <tr style=\"text-align: right;\">\n",
    "      <th></th>\n",
    "      <th>LoanStatNew</th>\n",
    "      <th>Description</th>\n",
    "    </tr>\n",
    "  </thead>\n",
    "  <tbody>\n",
    "    <tr>\n",
    "      <th>0</th>\n",
    "      <td>loan_amnt</td>\n",
    "      <td>The listed amount of the loan applied for by the borrower. If at some point in time, the credit department reduces the loan amount, then it will be reflected in this value.</td>\n",
    "    </tr>\n",
    "    <tr>\n",
    "      <th>1</th>\n",
    "      <td>term</td>\n",
    "      <td>The number of payments on the loan. Values are in months and can be either 36 or 60.</td>\n",
    "    </tr>\n",
    "    <tr>\n",
    "      <th>2</th>\n",
    "      <td>int_rate</td>\n",
    "      <td>Interest Rate on the loan</td>\n",
    "    </tr>\n",
    "    <tr>\n",
    "      <th>3</th>\n",
    "      <td>installment</td>\n",
    "      <td>The monthly payment owed by the borrower if the loan originates.</td>\n",
    "    </tr>\n",
    "    <tr>\n",
    "      <th>4</th>\n",
    "      <td>grade</td>\n",
    "      <td>LC assigned loan grade</td>\n",
    "    </tr>\n",
    "    <tr>\n",
    "      <th>5</th>\n",
    "      <td>sub_grade</td>\n",
    "      <td>LC assigned loan subgrade</td>\n",
    "    </tr>\n",
    "    <tr>\n",
    "      <th>6</th>\n",
    "      <td>emp_title</td>\n",
    "      <td>The job title supplied by the Borrower when applying for the loan.*</td>\n",
    "    </tr>\n",
    "    <tr>\n",
    "      <th>7</th>\n",
    "      <td>emp_length</td>\n",
    "      <td>Employment length in years. Possible values are between 0 and 10 where 0 means less than one year and 10 means ten or more years.</td>\n",
    "    </tr>\n",
    "    <tr>\n",
    "      <th>8</th>\n",
    "      <td>home_ownership</td>\n",
    "      <td>The home ownership status provided by the borrower during registration or obtained from the credit report. Our values are: RENT, OWN, MORTGAGE, OTHER</td>\n",
    "    </tr>\n",
    "    <tr>\n",
    "      <th>9</th>\n",
    "      <td>annual_inc</td>\n",
    "      <td>The self-reported annual income provided by the borrower during registration.</td>\n",
    "    </tr>\n",
    "    <tr>\n",
    "      <th>10</th>\n",
    "      <td>verification_status</td>\n",
    "      <td>Indicates if income was verified by LC, not verified, or if the income source was verified</td>\n",
    "    </tr>\n",
    "    <tr>\n",
    "      <th>11</th>\n",
    "      <td>issue_d</td>\n",
    "      <td>The month which the loan was funded</td>\n",
    "    </tr>\n",
    "    <tr>\n",
    "      <th>12</th>\n",
    "      <td>loan_status</td>\n",
    "      <td>Current status of the loan</td>\n",
    "    </tr>\n",
    "    <tr>\n",
    "      <th>13</th>\n",
    "      <td>purpose</td>\n",
    "      <td>A category provided by the borrower for the loan request.</td>\n",
    "    </tr>\n",
    "    <tr>\n",
    "      <th>14</th>\n",
    "      <td>title</td>\n",
    "      <td>The loan title provided by the borrower</td>\n",
    "    </tr>\n",
    "    <tr>\n",
    "      <th>15</th>\n",
    "      <td>zip_code</td>\n",
    "      <td>The first 3 numbers of the zip code provided by the borrower in the loan application.</td>\n",
    "    </tr>\n",
    "    <tr>\n",
    "      <th>16</th>\n",
    "      <td>addr_state</td>\n",
    "      <td>The state provided by the borrower in the loan application</td>\n",
    "    </tr>\n",
    "    <tr>\n",
    "      <th>17</th>\n",
    "      <td>dti</td>\n",
    "      <td>A ratio calculated using the borrower’s total monthly debt payments on the total debt obligations, excluding mortgage and the requested LC loan, divided by the borrower’s self-reported monthly income.</td>\n",
    "    </tr>\n",
    "    <tr>\n",
    "      <th>18</th>\n",
    "      <td>earliest_cr_line</td>\n",
    "      <td>The month the borrower's earliest reported credit line was opened</td>\n",
    "    </tr>\n",
    "    <tr>\n",
    "      <th>19</th>\n",
    "      <td>open_acc</td>\n",
    "      <td>The number of open credit lines in the borrower's credit file.</td>\n",
    "    </tr>\n",
    "    <tr>\n",
    "      <th>20</th>\n",
    "      <td>pub_rec</td>\n",
    "      <td>Number of derogatory public records</td>\n",
    "    </tr>\n",
    "    <tr>\n",
    "      <th>21</th>\n",
    "      <td>revol_bal</td>\n",
    "      <td>Total credit revolving balance</td>\n",
    "    </tr>\n",
    "    <tr>\n",
    "      <th>22</th>\n",
    "      <td>revol_util</td>\n",
    "      <td>Revolving line utilization rate, or the amount of credit the borrower is using relative to all available revolving credit.</td>\n",
    "    </tr>\n",
    "    <tr>\n",
    "      <th>23</th>\n",
    "      <td>total_acc</td>\n",
    "      <td>The total number of credit lines currently in the borrower's credit file</td>\n",
    "    </tr>\n",
    "    <tr>\n",
    "      <th>24</th>\n",
    "      <td>initial_list_status</td>\n",
    "      <td>The initial listing status of the loan. Possible values are – W, F</td>\n",
    "    </tr>\n",
    "    <tr>\n",
    "      <th>25</th>\n",
    "      <td>application_type</td>\n",
    "      <td>Indicates whether the loan is an individual application or a joint application with two co-borrowers</td>\n",
    "    </tr>\n",
    "    <tr>\n",
    "      <th>26</th>\n",
    "      <td>mort_acc</td>\n",
    "      <td>Number of mortgage accounts.</td>\n",
    "    </tr>\n",
    "    <tr>\n",
    "      <th>27</th>\n",
    "      <td>pub_rec_bankruptcies</td>\n",
    "      <td>Number of public record bankruptcies</td>\n",
    "    </tr>\n",
    "  </tbody>\n",
    "</table>\n",
    "\n",
    "---\n",
    "----"
   ]
  },
  {
   "cell_type": "markdown",
   "metadata": {},
   "source": [
    "## Starter Code\n",
    "\n",
    "#### Note: We also provide feature information on the data as a .csv file for easy lookup throughout the notebook:"
   ]
  },
  {
   "cell_type": "code",
   "execution_count": 1,
   "metadata": {},
   "outputs": [],
   "source": [
    "import pandas as pd"
   ]
  },
  {
   "cell_type": "code",
   "execution_count": 2,
   "metadata": {},
   "outputs": [],
   "source": [
    "data_info = pd.read_csv('../DATA/lending_club_info.csv',index_col='LoanStatNew')"
   ]
  },
  {
   "cell_type": "code",
   "execution_count": 3,
   "metadata": {},
   "outputs": [
    {
     "name": "stdout",
     "output_type": "stream",
     "text": [
      "Revolving line utilization rate, or the amount of credit the borrower is using relative to all available revolving credit.\n"
     ]
    }
   ],
   "source": [
    "print(data_info.loc['revol_util']['Description'])"
   ]
  },
  {
   "cell_type": "code",
   "execution_count": 4,
   "metadata": {},
   "outputs": [],
   "source": [
    "def feat_info(col_name):\n",
    "    print(data_info.loc[col_name]['Description'])"
   ]
  },
  {
   "cell_type": "code",
   "execution_count": 5,
   "metadata": {},
   "outputs": [
    {
     "name": "stdout",
     "output_type": "stream",
     "text": [
      "Number of mortgage accounts.\n"
     ]
    }
   ],
   "source": [
    "feat_info('mort_acc')"
   ]
  },
  {
   "cell_type": "markdown",
   "metadata": {},
   "source": [
    "## Loading the data and other imports"
   ]
  },
  {
   "cell_type": "code",
   "execution_count": 6,
   "metadata": {},
   "outputs": [],
   "source": [
    "import pandas as pd\n",
    "import numpy as np\n",
    "import matplotlib.pyplot as plt\n",
    "import seaborn as sns\n",
    "\n",
    "# might be needed depending on your version of Jupyter\n",
    "%matplotlib inline"
   ]
  },
  {
   "cell_type": "code",
   "execution_count": 7,
   "metadata": {},
   "outputs": [],
   "source": [
    "df = pd.read_csv('../DATA/lending_club_loan_two.csv')"
   ]
  },
  {
   "cell_type": "code",
   "execution_count": 8,
   "metadata": {},
   "outputs": [
    {
     "name": "stdout",
     "output_type": "stream",
     "text": [
      "<class 'pandas.core.frame.DataFrame'>\n",
      "RangeIndex: 396030 entries, 0 to 396029\n",
      "Data columns (total 27 columns):\n",
      "loan_amnt               396030 non-null float64\n",
      "term                    396030 non-null object\n",
      "int_rate                396030 non-null float64\n",
      "installment             396030 non-null float64\n",
      "grade                   396030 non-null object\n",
      "sub_grade               396030 non-null object\n",
      "emp_title               373103 non-null object\n",
      "emp_length              377729 non-null object\n",
      "home_ownership          396030 non-null object\n",
      "annual_inc              396030 non-null float64\n",
      "verification_status     396030 non-null object\n",
      "issue_d                 396030 non-null object\n",
      "loan_status             396030 non-null object\n",
      "purpose                 396030 non-null object\n",
      "title                   394275 non-null object\n",
      "dti                     396030 non-null float64\n",
      "earliest_cr_line        396030 non-null object\n",
      "open_acc                396030 non-null float64\n",
      "pub_rec                 396030 non-null float64\n",
      "revol_bal               396030 non-null float64\n",
      "revol_util              395754 non-null float64\n",
      "total_acc               396030 non-null float64\n",
      "initial_list_status     396030 non-null object\n",
      "application_type        396030 non-null object\n",
      "mort_acc                358235 non-null float64\n",
      "pub_rec_bankruptcies    395495 non-null float64\n",
      "address                 396030 non-null object\n",
      "dtypes: float64(12), object(15)\n",
      "memory usage: 81.6+ MB\n"
     ]
    }
   ],
   "source": [
    "df.info()"
   ]
  },
  {
   "cell_type": "markdown",
   "metadata": {},
   "source": [
    "# Project Tasks\n",
    "\n",
    "**Complete the tasks below! Keep in mind is usually more than one way to complete the task! Enjoy**\n",
    "\n",
    "-----\n",
    "------\n",
    "\n",
    "# Section 1: Exploratory Data Analysis\n",
    "\n",
    "**OVERALL GOAL: Get an understanding for which variables are important, view summary statistics, and visualize the data**\n",
    "\n",
    "\n",
    "----"
   ]
  },
  {
   "cell_type": "markdown",
   "metadata": {},
   "source": [
    "**TASK: Since we will be attempting to predict loan_status, create a countplot as shown below.**"
   ]
  },
  {
   "cell_type": "code",
   "execution_count": 9,
   "metadata": {},
   "outputs": [
    {
     "data": {
      "text/plain": [
       "<matplotlib.axes._subplots.AxesSubplot at 0x1bff2cf8c88>"
      ]
     },
     "execution_count": 9,
     "metadata": {},
     "output_type": "execute_result"
    },
    {
     "data": {
      "image/png": "[encoded data removed]",
      "text/plain": [
       "<Figure size 432x288 with 1 Axes>"
      ]
     },
     "metadata": {
      "needs_background": "light"
     },
     "output_type": "display_data"
    }
   ],
   "source": [
    "sns.countplot(x='loan_status',data=df)"
   ]
  },
  {
   "cell_type": "markdown",
   "metadata": {},
   "source": [
    "**TASK: Create a histogram of the loan_amnt column.**"
   ]
  },
  {
   "cell_type": "code",
   "execution_count": 10,
   "metadata": {},
   "outputs": [
    {
     "data": {
      "text/plain": [
       "(0, 45000)"
      ]
     },
     "execution_count": 10,
     "metadata": {},
     "output_type": "execute_result"
    },
    {
     "data": {
      "image/png": "[encoded data removed]",
      "text/plain": [
       "<Figure size 864x288 with 1 Axes>"
      ]
     },
     "metadata": {
      "needs_background": "light"
     },
     "output_type": "display_data"
    }
   ],
   "source": [
    "plt.figure(figsize=(12,4))\n",
    "sns.distplot(df['loan_amnt'],kde=False,bins=40)\n",
    "plt.xlim(0,45000)"
   ]
  },
  {
   "cell_type": "markdown",
   "metadata": {},
   "source": [
    "**TASK: Let's explore correlation between the continuous feature variables. Calculate the correlation between all continuous numeric variables using .corr() method.**"
   ]
  },
  {
   "cell_type": "code",
   "execution_count": 11,
   "metadata": {},
   "outputs": [
    {
     "data": {
      "text/html": [
       "<div>\n",
       "<style scoped>\n",
       "    .dataframe tbody tr th:only-of-type {\n",
       "        vertical-align: middle;\n",
       "    }\n",
       "\n",
       "    .dataframe tbody tr th {\n",
       "        vertical-align: top;\n",
       "    }\n",
       "\n",
       "    .dataframe thead th {\n",
       "        text-align: right;\n",
       "    }\n",
       "</style>\n",
       "<table border=\"1\" class=\"dataframe\">\n",
       "  <thead>\n",
       "    <tr style=\"text-align: right;\">\n",
       "      <th></th>\n",
       "      <th>loan_amnt</th>\n",
       "      <th>int_rate</th>\n",
       "      <th>installment</th>\n",
       "      <th>annual_inc</th>\n",
       "      <th>dti</th>\n",
       "      <th>open_acc</th>\n",
       "      <th>pub_rec</th>\n",
       "      <th>revol_bal</th>\n",
       "      <th>revol_util</th>\n",
       "      <th>total_acc</th>\n",
       "      <th>mort_acc</th>\n",
       "      <th>pub_rec_bankruptcies</th>\n",
       "    </tr>\n",
       "  </thead>\n",
       "  <tbody>\n",
       "    <tr>\n",
       "      <th>loan_amnt</th>\n",
       "      <td>1.000000</td>\n",
       "      <td>0.168921</td>\n",
       "      <td>0.953929</td>\n",
       "      <td>0.336887</td>\n",
       "      <td>0.016636</td>\n",
       "      <td>0.198556</td>\n",
       "      <td>-0.077779</td>\n",
       "      <td>0.328320</td>\n",
       "      <td>0.099911</td>\n",
       "      <td>0.223886</td>\n",
       "      <td>0.222315</td>\n",
       "      <td>-0.106539</td>\n",
       "    </tr>\n",
       "    <tr>\n",
       "      <th>int_rate</th>\n",
       "      <td>0.168921</td>\n",
       "      <td>1.000000</td>\n",
       "      <td>0.162758</td>\n",
       "      <td>-0.056771</td>\n",
       "      <td>0.079038</td>\n",
       "      <td>0.011649</td>\n",
       "      <td>0.060986</td>\n",
       "      <td>-0.011280</td>\n",
       "      <td>0.293659</td>\n",
       "      <td>-0.036404</td>\n",
       "      <td>-0.082583</td>\n",
       "      <td>0.057450</td>\n",
       "    </tr>\n",
       "    <tr>\n",
       "      <th>installment</th>\n",
       "      <td>0.953929</td>\n",
       "      <td>0.162758</td>\n",
       "      <td>1.000000</td>\n",
       "      <td>0.330381</td>\n",
       "      <td>0.015786</td>\n",
       "      <td>0.188973</td>\n",
       "      <td>-0.067892</td>\n",
       "      <td>0.316455</td>\n",
       "      <td>0.123915</td>\n",
       "      <td>0.202430</td>\n",
       "      <td>0.193694</td>\n",
       "      <td>-0.098628</td>\n",
       "    </tr>\n",
       "    <tr>\n",
       "      <th>annual_inc</th>\n",
       "      <td>0.336887</td>\n",
       "      <td>-0.056771</td>\n",
       "      <td>0.330381</td>\n",
       "      <td>1.000000</td>\n",
       "      <td>-0.081685</td>\n",
       "      <td>0.136150</td>\n",
       "      <td>-0.013720</td>\n",
       "      <td>0.299773</td>\n",
       "      <td>0.027871</td>\n",
       "      <td>0.193023</td>\n",
       "      <td>0.236320</td>\n",
       "      <td>-0.050162</td>\n",
       "    </tr>\n",
       "    <tr>\n",
       "      <th>dti</th>\n",
       "      <td>0.016636</td>\n",
       "      <td>0.079038</td>\n",
       "      <td>0.015786</td>\n",
       "      <td>-0.081685</td>\n",
       "      <td>1.000000</td>\n",
       "      <td>0.136181</td>\n",
       "      <td>-0.017639</td>\n",
       "      <td>0.063571</td>\n",
       "      <td>0.088375</td>\n",
       "      <td>0.102128</td>\n",
       "      <td>-0.025439</td>\n",
       "      <td>-0.014558</td>\n",
       "    </tr>\n",
       "    <tr>\n",
       "      <th>open_acc</th>\n",
       "      <td>0.198556</td>\n",
       "      <td>0.011649</td>\n",
       "      <td>0.188973</td>\n",
       "      <td>0.136150</td>\n",
       "      <td>0.136181</td>\n",
       "      <td>1.000000</td>\n",
       "      <td>-0.018392</td>\n",
       "      <td>0.221192</td>\n",
       "      <td>-0.131420</td>\n",
       "      <td>0.680728</td>\n",
       "      <td>0.109205</td>\n",
       "      <td>-0.027732</td>\n",
       "    </tr>\n",
       "    <tr>\n",
       "      <th>pub_rec</th>\n",
       "      <td>-0.077779</td>\n",
       "      <td>0.060986</td>\n",
       "      <td>-0.067892</td>\n",
       "      <td>-0.013720</td>\n",
       "      <td>-0.017639</td>\n",
       "      <td>-0.018392</td>\n",
       "      <td>1.000000</td>\n",
       "      <td>-0.101664</td>\n",
       "      <td>-0.075910</td>\n",
       "      <td>0.019723</td>\n",
       "      <td>0.011552</td>\n",
       "      <td>0.699408</td>\n",
       "    </tr>\n",
       "    <tr>\n",
       "      <th>revol_bal</th>\n",
       "      <td>0.328320</td>\n",
       "      <td>-0.011280</td>\n",
       "      <td>0.316455</td>\n",
       "      <td>0.299773</td>\n",
       "      <td>0.063571</td>\n",
       "      <td>0.221192</td>\n",
       "      <td>-0.101664</td>\n",
       "      <td>1.000000</td>\n",
       "      <td>0.226346</td>\n",
       "      <td>0.191616</td>\n",
       "      <td>0.194925</td>\n",
       "      <td>-0.124532</td>\n",
       "    </tr>\n",
       "    <tr>\n",
       "      <th>revol_util</th>\n",
       "      <td>0.099911</td>\n",
       "      <td>0.293659</td>\n",
       "      <td>0.123915</td>\n",
       "      <td>0.027871</td>\n",
       "      <td>0.088375</td>\n",
       "      <td>-0.131420</td>\n",
       "      <td>-0.075910</td>\n",
       "      <td>0.226346</td>\n",
       "      <td>1.000000</td>\n",
       "      <td>-0.104273</td>\n",
       "      <td>0.007514</td>\n",
       "      <td>-0.086751</td>\n",
       "    </tr>\n",
       "    <tr>\n",
       "      <th>total_acc</th>\n",
       "      <td>0.223886</td>\n",
       "      <td>-0.036404</td>\n",
       "      <td>0.202430</td>\n",
       "      <td>0.193023</td>\n",
       "      <td>0.102128</td>\n",
       "      <td>0.680728</td>\n",
       "      <td>0.019723</td>\n",
       "      <td>0.191616</td>\n",
       "      <td>-0.104273</td>\n",
       "      <td>1.000000</td>\n",
       "      <td>0.381072</td>\n",
       "      <td>0.042035</td>\n",
       "    </tr>\n",
       "    <tr>\n",
       "      <th>mort_acc</th>\n",
       "      <td>0.222315</td>\n",
       "      <td>-0.082583</td>\n",
       "      <td>0.193694</td>\n",
       "      <td>0.236320</td>\n",
       "      <td>-0.025439</td>\n",
       "      <td>0.109205</td>\n",
       "      <td>0.011552</td>\n",
       "      <td>0.194925</td>\n",
       "      <td>0.007514</td>\n",
       "      <td>0.381072</td>\n",
       "      <td>1.000000</td>\n",
       "      <td>0.027239</td>\n",
       "    </tr>\n",
       "    <tr>\n",
       "      <th>pub_rec_bankruptcies</th>\n",
       "      <td>-0.106539</td>\n",
       "      <td>0.057450</td>\n",
       "      <td>-0.098628</td>\n",
       "      <td>-0.050162</td>\n",
       "      <td>-0.014558</td>\n",
       "      <td>-0.027732</td>\n",
       "      <td>0.699408</td>\n",
       "      <td>-0.124532</td>\n",
       "      <td>-0.086751</td>\n",
       "      <td>0.042035</td>\n",
       "      <td>0.027239</td>\n",
       "      <td>1.000000</td>\n",
       "    </tr>\n",
       "  </tbody>\n",
       "</table>\n",
       "</div>"
      ],
      "text/plain": [
       "                      loan_amnt  int_rate  installment  annual_inc       dti  \\\n",
       "loan_amnt              1.000000  0.168921     0.953929    0.336887  0.016636   \n",
       "int_rate               0.168921  1.000000     0.162758   -0.056771  0.079038   \n",
       "installment            0.953929  0.162758     1.000000    0.330381  0.015786   \n",
       "annual_inc             0.336887 -0.056771     0.330381    1.000000 -0.081685   \n",
       "dti                    0.016636  0.079038     0.015786   -0.081685  1.000000   \n",
       "open_acc               0.198556  0.011649     0.188973    0.136150  0.136181   \n",
       "pub_rec               -0.077779  0.060986    -0.067892   -0.013720 -0.017639   \n",
       "revol_bal              0.328320 -0.011280     0.316455    0.299773  0.063571   \n",
       "revol_util             0.099911  0.293659     0.123915    0.027871  0.088375   \n",
       "total_acc              0.223886 -0.036404     0.202430    0.193023  0.102128   \n",
       "mort_acc               0.222315 -0.082583     0.193694    0.236320 -0.025439   \n",
       "pub_rec_bankruptcies  -0.106539  0.057450    -0.098628   -0.050162 -0.014558   \n",
       "\n",
       "                      open_acc   pub_rec  revol_bal  revol_util  total_acc  \\\n",
       "loan_amnt             0.198556 -0.077779   0.328320    0.099911   0.223886   \n",
       "int_rate              0.011649  0.060986  -0.011280    0.293659  -0.036404   \n",
       "installment           0.188973 -0.067892   0.316455    0.123915   0.202430   \n",
       "annual_inc            0.136150 -0.013720   0.299773    0.027871   0.193023   \n",
       "dti                   0.136181 -0.017639   0.063571    0.088375   0.102128   \n",
       "open_acc              1.000000 -0.018392   0.221192   -0.131420   0.680728   \n",
       "pub_rec              -0.018392  1.000000  -0.101664   -0.075910   0.019723   \n",
       "revol_bal             0.221192 -0.101664   1.000000    0.226346   0.191616   \n",
       "revol_util           -0.131420 -0.075910   0.226346    1.000000  -0.104273   \n",
       "total_acc             0.680728  0.019723   0.191616   -0.104273   1.000000   \n",
       "mort_acc              0.109205  0.011552   0.194925    0.007514   0.381072   \n",
       "pub_rec_bankruptcies -0.027732  0.699408  -0.124532   -0.086751   0.042035   \n",
       "\n",
       "                      mort_acc  pub_rec_bankruptcies  \n",
       "loan_amnt             0.222315             -0.106539  \n",
       "int_rate             -0.082583              0.057450  \n",
       "installment           0.193694             -0.098628  \n",
       "annual_inc            0.236320             -0.050162  \n",
       "dti                  -0.025439             -0.014558  \n",
       "open_acc              0.109205             -0.027732  \n",
       "pub_rec               0.011552              0.699408  \n",
       "revol_bal             0.194925             -0.124532  \n",
       "revol_util            0.007514             -0.086751  \n",
       "total_acc             0.381072              0.042035  \n",
       "mort_acc              1.000000              0.027239  \n",
       "pub_rec_bankruptcies  0.027239              1.000000  "
      ]
     },
     "execution_count": 11,
     "metadata": {},
     "output_type": "execute_result"
    }
   ],
   "source": [
    "df.corr()"
   ]
  },
  {
   "cell_type": "markdown",
   "metadata": {},
   "source": [
    "**TASK: Visualize this using a heatmap. Depending on your version of matplotlib, you may need to manually adjust the heatmap.**\n",
    "\n",
    "* [Heatmap info](https://seaborn.pydata.org/generated/seaborn.heatmap.html#seaborn.heatmap)\n",
    "* [Help with resizing](https://stackoverflow.com/questions/56942670/matplotlib-seaborn-first-and-last-row-cut-in-half-of-heatmap-plot)"
   ]
  },
  {
   "cell_type": "code",
   "execution_count": 12,
   "metadata": {},
   "outputs": [
    {
     "data": {
      "text/plain": [
       "(10, 0)"
      ]
     },
     "execution_count": 12,
     "metadata": {},
     "output_type": "execute_result"
    },
    {
     "data": {
      "image/png": "[encoded data removed]",
      "text/plain": [
       "<Figure size 864x504 with 2 Axes>"
      ]
     },
     "metadata": {
      "needs_background": "light"
     },
     "output_type": "display_data"
    }
   ],
   "source": [
    "plt.figure(figsize=(12,7))\n",
    "sns.heatmap(df.corr(),annot=True,cmap='viridis')\n",
    "plt.ylim(10, 0)"
   ]
  },
  {
   "cell_type": "markdown",
   "metadata": {},
   "source": [
    "**TASK: You should have noticed almost perfect correlation with the \"installment\" feature. Explore this feature further. Print out their descriptions and perform a scatterplot between them. Does this relationship make sense to you? Do you think there is duplicate information here?**"
   ]
  },
  {
   "cell_type": "code",
   "execution_count": 13,
   "metadata": {},
   "outputs": [
    {
     "name": "stdout",
     "output_type": "stream",
     "text": [
      "The monthly payment owed by the borrower if the loan originates.\n"
     ]
    }
   ],
   "source": [
    "feat_info('installment')"
   ]
  },
  {
   "cell_type": "code",
   "execution_count": 14,
   "metadata": {},
   "outputs": [
    {
     "name": "stdout",
     "output_type": "stream",
     "text": [
      "The listed amount of the loan applied for by the borrower. If at some point in time, the credit department reduces the loan amount, then it will be reflected in this value.\n"
     ]
    }
   ],
   "source": [
    "feat_info('loan_amnt')"
   ]
  },
  {
   "cell_type": "code",
   "execution_count": 15,
   "metadata": {},
   "outputs": [
    {
     "data": {
      "text/plain": [
       "<matplotlib.axes._subplots.AxesSubplot at 0x1bfef89fa08>"
      ]
     },
     "execution_count": 15,
     "metadata": {},
     "output_type": "execute_result"
    },
    {
     "data": {
      "image/png": "[encoded data removed]",
      "text/plain": [
       "<Figure size 432x288 with 1 Axes>"
      ]
     },
     "metadata": {
      "needs_background": "light"
     },
     "output_type": "display_data"
    }
   ],
   "source": [
    "sns.scatterplot(x='installment',y='loan_amnt',data=df,)"
   ]
  },
  {
   "cell_type": "markdown",
   "metadata": {},
   "source": [
    "**TASK: Create a boxplot showing the relationship between the loan_status and the Loan Amount.**"
   ]
  },
  {
   "cell_type": "code",
   "execution_count": 16,
   "metadata": {},
   "outputs": [],
   "source": [
    "# CODE HERE"
   ]
  },
  {
   "cell_type": "code",
   "execution_count": 17,
   "metadata": {},
   "outputs": [
    {
     "data": {
      "text/plain": [
       "<matplotlib.axes._subplots.AxesSubplot at 0x1bff00918c8>"
      ]
     },
     "execution_count": 17,
     "metadata": {},
     "output_type": "execute_result"
    },
    {
     "data": {
      "image/png": "[encoded data removed]",
      "text/plain": [
       "<Figure size 432x288 with 1 Axes>"
      ]
     },
     "metadata": {
      "needs_background": "light"
     },
     "output_type": "display_data"
    }
   ],
   "source": [
    "sns.boxplot(x='loan_status',y='loan_amnt',data=df)"
   ]
  },
  {
   "cell_type": "markdown",
   "metadata": {},
   "source": [
    "**TASK: Calculate the summary statistics for the loan amount, grouped by the loan_status.**"
   ]
  },
  {
   "cell_type": "code",
   "execution_count": 18,
   "metadata": {},
   "outputs": [
    {
     "data": {
      "text/html": [
       "<div>\n",
       "<style scoped>\n",
       "    .dataframe tbody tr th:only-of-type {\n",
       "        vertical-align: middle;\n",
       "    }\n",
       "\n",
       "    .dataframe tbody tr th {\n",
       "        vertical-align: top;\n",
       "    }\n",
       "\n",
       "    .dataframe thead th {\n",
       "        text-align: right;\n",
       "    }\n",
       "</style>\n",
       "<table border=\"1\" class=\"dataframe\">\n",
       "  <thead>\n",
       "    <tr style=\"text-align: right;\">\n",
       "      <th></th>\n",
       "      <th>count</th>\n",
       "      <th>mean</th>\n",
       "      <th>std</th>\n",
       "      <th>min</th>\n",
       "      <th>25%</th>\n",
       "      <th>50%</th>\n",
       "      <th>75%</th>\n",
       "      <th>max</th>\n",
       "    </tr>\n",
       "    <tr>\n",
       "      <th>loan_status</th>\n",
       "      <th></th>\n",
       "      <th></th>\n",
       "      <th></th>\n",
       "      <th></th>\n",
       "      <th></th>\n",
       "      <th></th>\n",
       "      <th></th>\n",
       "      <th></th>\n",
       "    </tr>\n",
       "  </thead>\n",
       "  <tbody>\n",
       "    <tr>\n",
       "      <th>Charged Off</th>\n",
       "      <td>77673.0</td>\n",
       "      <td>15126.300967</td>\n",
       "      <td>8505.090557</td>\n",
       "      <td>1000.0</td>\n",
       "      <td>8525.0</td>\n",
       "      <td>14000.0</td>\n",
       "      <td>20000.0</td>\n",
       "      <td>40000.0</td>\n",
       "    </tr>\n",
       "    <tr>\n",
       "      <th>Fully Paid</th>\n",
       "      <td>318357.0</td>\n",
       "      <td>13866.878771</td>\n",
       "      <td>8302.319699</td>\n",
       "      <td>500.0</td>\n",
       "      <td>7500.0</td>\n",
       "      <td>12000.0</td>\n",
       "      <td>19225.0</td>\n",
       "      <td>40000.0</td>\n",
       "    </tr>\n",
       "  </tbody>\n",
       "</table>\n",
       "</div>"
      ],
      "text/plain": [
       "                count          mean          std     min     25%      50%  \\\n",
       "loan_status                                                                 \n",
       "Charged Off   77673.0  15126.300967  8505.090557  1000.0  8525.0  14000.0   \n",
       "Fully Paid   318357.0  13866.878771  8302.319699   500.0  7500.0  12000.0   \n",
       "\n",
       "                 75%      max  \n",
       "loan_status                    \n",
       "Charged Off  20000.0  40000.0  \n",
       "Fully Paid   19225.0  40000.0  "
      ]
     },
     "execution_count": 18,
     "metadata": {},
     "output_type": "execute_result"
    }
   ],
   "source": [
    "df.groupby('loan_status')['loan_amnt'].describe()"
   ]
  },
  {
   "cell_type": "markdown",
   "metadata": {},
   "source": [
    "**TASK: Let's explore the Grade and SubGrade columns that LendingClub attributes to the loans. What are the unique possible grades and subgrades?**"
   ]
  },
  {
   "cell_type": "code",
   "execution_count": 19,
   "metadata": {},
   "outputs": [],
   "source": [
    "# CODE HERE"
   ]
  },
  {
   "cell_type": "code",
   "execution_count": 20,
   "metadata": {},
   "outputs": [
    {
     "data": {
      "text/plain": [
       "['A', 'B', 'C', 'D', 'E', 'F', 'G']"
      ]
     },
     "execution_count": 20,
     "metadata": {},
     "output_type": "execute_result"
    }
   ],
   "source": [
    "sorted(df['grade'].unique())"
   ]
  },
  {
   "cell_type": "code",
   "execution_count": 21,
   "metadata": {},
   "outputs": [
    {
     "data": {
      "text/plain": [
       "['A1',\n",
       " 'A2',\n",
       " 'A3',\n",
       " 'A4',\n",
       " 'A5',\n",
       " 'B1',\n",
       " 'B2',\n",
       " 'B3',\n",
       " 'B4',\n",
       " 'B5',\n",
       " 'C1',\n",
       " 'C2',\n",
       " 'C3',\n",
       " 'C4',\n",
       " 'C5',\n",
       " 'D1',\n",
       " 'D2',\n",
       " 'D3',\n",
       " 'D4',\n",
       " 'D5',\n",
       " 'E1',\n",
       " 'E2',\n",
       " 'E3',\n",
       " 'E4',\n",
       " 'E5',\n",
       " 'F1',\n",
       " 'F2',\n",
       " 'F3',\n",
       " 'F4',\n",
       " 'F5',\n",
       " 'G1',\n",
       " 'G2',\n",
       " 'G3',\n",
       " 'G4',\n",
       " 'G5']"
      ]
     },
     "execution_count": 21,
     "metadata": {},
     "output_type": "execute_result"
    }
   ],
   "source": [
    "sorted(df['sub_grade'].unique())"
   ]
  },
  {
   "cell_type": "markdown",
   "metadata": {},
   "source": [
    "**TASK: Create a countplot per grade. Set the hue to the loan_status label.**"
   ]
  },
  {
   "cell_type": "code",
   "execution_count": 22,
   "metadata": {},
   "outputs": [
    {
     "data": {
      "text/plain": [
       "<matplotlib.axes._subplots.AxesSubplot at 0x1bff00e3908>"
      ]
     },
     "execution_count": 22,
     "metadata": {},
     "output_type": "execute_result"
    },
    {
     "data": {
      "image/png": "[encoded data removed]",
      "text/plain": [
       "<Figure size 432x288 with 1 Axes>"
      ]
     },
     "metadata": {
      "needs_background": "light"
     },
     "output_type": "display_data"
    }
   ],
   "source": [
    "sns.countplot(x='grade',data=df,hue='loan_status')"
   ]
  },
  {
   "cell_type": "markdown",
   "metadata": {},
   "source": [
    "**TASK: Display a count plot per subgrade. You may need to resize for this plot and reorder the x axis. Feel free to edit the color palette. Explore both all loans made per subgrade as well being separated based on the loan_status**"
   ]
  },
  {
   "cell_type": "code",
   "execution_count": 23,
   "metadata": {},
   "outputs": [
    {
     "data": {
      "text/plain": [
       "<matplotlib.axes._subplots.AxesSubplot at 0x1bff017d748>"
      ]
     },
     "execution_count": 23,
     "metadata": {},
     "output_type": "execute_result"
    },
    {
     "data": {
      "image/png": "[encoded data removed]",
      "text/plain": [
       "<Figure size 864x288 with 1 Axes>"
      ]
     },
     "metadata": {
      "needs_background": "light"
     },
     "output_type": "display_data"
    }
   ],
   "source": [
    "plt.figure(figsize=(12,4))\n",
    "subgrade_order = sorted(df['sub_grade'].unique())\n",
    "sns.countplot(x='sub_grade',data=df,order = subgrade_order,palette='coolwarm' )"
   ]
  },
  {
   "cell_type": "code",
   "execution_count": 24,
   "metadata": {},
   "outputs": [
    {
     "data": {
      "text/plain": [
       "<matplotlib.axes._subplots.AxesSubplot at 0x1bfed746188>"
      ]
     },
     "execution_count": 24,
     "metadata": {},
     "output_type": "execute_result"
    },
    {
     "data": {
      "image/png": "[encoded data removed]",
      "text/plain": [
       "<Figure size 864x288 with 1 Axes>"
      ]
     },
     "metadata": {
      "needs_background": "light"
     },
     "output_type": "display_data"
    }
   ],
   "source": [
    "plt.figure(figsize=(12,4))\n",
    "subgrade_order = sorted(df['sub_grade'].unique())\n",
    "sns.countplot(x='sub_grade',data=df,order = subgrade_order,palette='coolwarm' ,hue='loan_status')"
   ]
  },
  {
   "cell_type": "markdown",
   "metadata": {},
   "source": [
    "**TASK: It looks like F and G subgrades don't get paid back that often. Isloate those and recreate the countplot just for those subgrades.**"
   ]
  },
  {
   "cell_type": "code",
   "execution_count": 25,
   "metadata": {},
   "outputs": [
    {
     "data": {
      "text/plain": [
       "<matplotlib.axes._subplots.AxesSubplot at 0x1bfef84ee48>"
      ]
     },
     "execution_count": 25,
     "metadata": {},
     "output_type": "execute_result"
    },
    {
     "data": {
      "image/png": "[encoded data removed]",
      "text/plain": [
       "<Figure size 864x288 with 1 Axes>"
      ]
     },
     "metadata": {
      "needs_background": "light"
     },
     "output_type": "display_data"
    }
   ],
   "source": [
    "f_and_g = df[(df['grade']=='G') | (df['grade']=='F')]\n",
    "\n",
    "plt.figure(figsize=(12,4))\n",
    "subgrade_order = sorted(f_and_g['sub_grade'].unique())\n",
    "sns.countplot(x='sub_grade',data=f_and_g,order = subgrade_order,hue='loan_status')"
   ]
  },
  {
   "cell_type": "markdown",
   "metadata": {},
   "source": [
    "**TASK: Create a new column called 'load_repaid' which will contain a 1 if the loan status was \"Fully Paid\" and a 0 if it was \"Charged Off\".**"
   ]
  },
  {
   "cell_type": "code",
   "execution_count": 26,
   "metadata": {},
   "outputs": [
    {
     "data": {
      "text/plain": [
       "array(['Fully Paid', 'Charged Off'], dtype=object)"
      ]
     },
     "execution_count": 26,
     "metadata": {},
     "output_type": "execute_result"
    }
   ],
   "source": [
    "df['loan_status'].unique()"
   ]
  },
  {
   "cell_type": "code",
   "execution_count": 27,
   "metadata": {},
   "outputs": [],
   "source": [
    "df['loan_repaid'] = df['loan_status'].map({'Fully Paid':0,'Charged Off':1})"
   ]
  },
  {
   "cell_type": "code",
   "execution_count": 28,
   "metadata": {},
   "outputs": [
    {
     "data": {
      "text/html": [
       "<div>\n",
       "<style scoped>\n",
       "    .dataframe tbody tr th:only-of-type {\n",
       "        vertical-align: middle;\n",
       "    }\n",
       "\n",
       "    .dataframe tbody tr th {\n",
       "        vertical-align: top;\n",
       "    }\n",
       "\n",
       "    .dataframe thead th {\n",
       "        text-align: right;\n",
       "    }\n",
       "</style>\n",
       "<table border=\"1\" class=\"dataframe\">\n",
       "  <thead>\n",
       "    <tr style=\"text-align: right;\">\n",
       "      <th></th>\n",
       "      <th>loan_repaid</th>\n",
       "      <th>loan_status</th>\n",
       "    </tr>\n",
       "  </thead>\n",
       "  <tbody>\n",
       "    <tr>\n",
       "      <th>0</th>\n",
       "      <td>0</td>\n",
       "      <td>Fully Paid</td>\n",
       "    </tr>\n",
       "    <tr>\n",
       "      <th>1</th>\n",
       "      <td>0</td>\n",
       "      <td>Fully Paid</td>\n",
       "    </tr>\n",
       "    <tr>\n",
       "      <th>2</th>\n",
       "      <td>0</td>\n",
       "      <td>Fully Paid</td>\n",
       "    </tr>\n",
       "    <tr>\n",
       "      <th>3</th>\n",
       "      <td>0</td>\n",
       "      <td>Fully Paid</td>\n",
       "    </tr>\n",
       "    <tr>\n",
       "      <th>4</th>\n",
       "      <td>1</td>\n",
       "      <td>Charged Off</td>\n",
       "    </tr>\n",
       "    <tr>\n",
       "      <th>...</th>\n",
       "      <td>...</td>\n",
       "      <td>...</td>\n",
       "    </tr>\n",
       "    <tr>\n",
       "      <th>396025</th>\n",
       "      <td>0</td>\n",
       "      <td>Fully Paid</td>\n",
       "    </tr>\n",
       "    <tr>\n",
       "      <th>396026</th>\n",
       "      <td>0</td>\n",
       "      <td>Fully Paid</td>\n",
       "    </tr>\n",
       "    <tr>\n",
       "      <th>396027</th>\n",
       "      <td>0</td>\n",
       "      <td>Fully Paid</td>\n",
       "    </tr>\n",
       "    <tr>\n",
       "      <th>396028</th>\n",
       "      <td>0</td>\n",
       "      <td>Fully Paid</td>\n",
       "    </tr>\n",
       "    <tr>\n",
       "      <th>396029</th>\n",
       "      <td>0</td>\n",
       "      <td>Fully Paid</td>\n",
       "    </tr>\n",
       "  </tbody>\n",
       "</table>\n",
       "<p>396030 rows × 2 columns</p>\n",
       "</div>"
      ],
      "text/plain": [
       "        loan_repaid  loan_status\n",
       "0                 0   Fully Paid\n",
       "1                 0   Fully Paid\n",
       "2                 0   Fully Paid\n",
       "3                 0   Fully Paid\n",
       "4                 1  Charged Off\n",
       "...             ...          ...\n",
       "396025            0   Fully Paid\n",
       "396026            0   Fully Paid\n",
       "396027            0   Fully Paid\n",
       "396028            0   Fully Paid\n",
       "396029            0   Fully Paid\n",
       "\n",
       "[396030 rows x 2 columns]"
      ]
     },
     "execution_count": 28,
     "metadata": {},
     "output_type": "execute_result"
    }
   ],
   "source": [
    "df[['loan_repaid','loan_status']]"
   ]
  },
  {
   "cell_type": "markdown",
   "metadata": {},
   "source": [
    "**CHALLENGE TASK: (Note this is hard, but can be done in one line!) Create a bar plot showing the correlation of the numeric features to the new loan_repaid column. [Helpful Link](https://pandas.pydata.org/pandas-docs/stable/reference/api/pandas.DataFrame.plot.bar.html)**"
   ]
  },
  {
   "cell_type": "code",
   "execution_count": 29,
   "metadata": {},
   "outputs": [
    {
     "data": {
      "text/plain": [
       "<matplotlib.axes._subplots.AxesSubplot at 0x1bfef7eb048>"
      ]
     },
     "execution_count": 29,
     "metadata": {},
     "output_type": "execute_result"
    },
    {
     "data": {
      "image/png": "[encoded data removed]",
      "text/plain": [
       "<Figure size 432x288 with 1 Axes>"
      ]
     },
     "metadata": {
      "needs_background": "light"
     },
     "output_type": "display_data"
    }
   ],
   "source": [
    "df.corr()['loan_repaid'].sort_values().drop('loan_repaid').plot(kind='bar')"
   ]
  },
  {
   "cell_type": "markdown",
   "metadata": {},
   "source": [
    "---\n",
    "---\n",
    "# Section 2: Data PreProcessing\n",
    "\n",
    "**Section Goals: Remove or fill any missing data. Remove unnecessary or repetitive features. Convert categorical string features to dummy variables.**\n",
    "\n"
   ]
  },
  {
   "cell_type": "code",
   "execution_count": 30,
   "metadata": {},
   "outputs": [
    {
     "data": {
      "text/html": [
       "<div>\n",
       "<style scoped>\n",
       "    .dataframe tbody tr th:only-of-type {\n",
       "        vertical-align: middle;\n",
       "    }\n",
       "\n",
       "    .dataframe tbody tr th {\n",
       "        vertical-align: top;\n",
       "    }\n",
       "\n",
       "    .dataframe thead th {\n",
       "        text-align: right;\n",
       "    }\n",
       "</style>\n",
       "<table border=\"1\" class=\"dataframe\">\n",
       "  <thead>\n",
       "    <tr style=\"text-align: right;\">\n",
       "      <th></th>\n",
       "      <th>loan_amnt</th>\n",
       "      <th>term</th>\n",
       "      <th>int_rate</th>\n",
       "      <th>installment</th>\n",
       "      <th>grade</th>\n",
       "      <th>sub_grade</th>\n",
       "      <th>emp_title</th>\n",
       "      <th>emp_length</th>\n",
       "      <th>home_ownership</th>\n",
       "      <th>annual_inc</th>\n",
       "      <th>...</th>\n",
       "      <th>pub_rec</th>\n",
       "      <th>revol_bal</th>\n",
       "      <th>revol_util</th>\n",
       "      <th>total_acc</th>\n",
       "      <th>initial_list_status</th>\n",
       "      <th>application_type</th>\n",
       "      <th>mort_acc</th>\n",
       "      <th>pub_rec_bankruptcies</th>\n",
       "      <th>address</th>\n",
       "      <th>loan_repaid</th>\n",
       "    </tr>\n",
       "  </thead>\n",
       "  <tbody>\n",
       "    <tr>\n",
       "      <th>0</th>\n",
       "      <td>10000.0</td>\n",
       "      <td>36 months</td>\n",
       "      <td>11.44</td>\n",
       "      <td>329.48</td>\n",
       "      <td>B</td>\n",
       "      <td>B4</td>\n",
       "      <td>Marketing</td>\n",
       "      <td>10+ years</td>\n",
       "      <td>RENT</td>\n",
       "      <td>117000.0</td>\n",
       "      <td>...</td>\n",
       "      <td>0.0</td>\n",
       "      <td>36369.0</td>\n",
       "      <td>41.8</td>\n",
       "      <td>25.0</td>\n",
       "      <td>w</td>\n",
       "      <td>INDIVIDUAL</td>\n",
       "      <td>0.0</td>\n",
       "      <td>0.0</td>\n",
       "      <td>0174 Michelle Gateway\\r\\nMendozaberg, OK 22690</td>\n",
       "      <td>0</td>\n",
       "    </tr>\n",
       "    <tr>\n",
       "      <th>1</th>\n",
       "      <td>8000.0</td>\n",
       "      <td>36 months</td>\n",
       "      <td>11.99</td>\n",
       "      <td>265.68</td>\n",
       "      <td>B</td>\n",
       "      <td>B5</td>\n",
       "      <td>Credit analyst</td>\n",
       "      <td>4 years</td>\n",
       "      <td>MORTGAGE</td>\n",
       "      <td>65000.0</td>\n",
       "      <td>...</td>\n",
       "      <td>0.0</td>\n",
       "      <td>20131.0</td>\n",
       "      <td>53.3</td>\n",
       "      <td>27.0</td>\n",
       "      <td>f</td>\n",
       "      <td>INDIVIDUAL</td>\n",
       "      <td>3.0</td>\n",
       "      <td>0.0</td>\n",
       "      <td>1076 Carney Fort Apt. 347\\r\\nLoganmouth, SD 05113</td>\n",
       "      <td>0</td>\n",
       "    </tr>\n",
       "    <tr>\n",
       "      <th>2</th>\n",
       "      <td>15600.0</td>\n",
       "      <td>36 months</td>\n",
       "      <td>10.49</td>\n",
       "      <td>506.97</td>\n",
       "      <td>B</td>\n",
       "      <td>B3</td>\n",
       "      <td>Statistician</td>\n",
       "      <td>&lt; 1 year</td>\n",
       "      <td>RENT</td>\n",
       "      <td>43057.0</td>\n",
       "      <td>...</td>\n",
       "      <td>0.0</td>\n",
       "      <td>11987.0</td>\n",
       "      <td>92.2</td>\n",
       "      <td>26.0</td>\n",
       "      <td>f</td>\n",
       "      <td>INDIVIDUAL</td>\n",
       "      <td>0.0</td>\n",
       "      <td>0.0</td>\n",
       "      <td>87025 Mark Dale Apt. 269\\r\\nNew Sabrina, WV 05113</td>\n",
       "      <td>0</td>\n",
       "    </tr>\n",
       "    <tr>\n",
       "      <th>3</th>\n",
       "      <td>7200.0</td>\n",
       "      <td>36 months</td>\n",
       "      <td>6.49</td>\n",
       "      <td>220.65</td>\n",
       "      <td>A</td>\n",
       "      <td>A2</td>\n",
       "      <td>Client Advocate</td>\n",
       "      <td>6 years</td>\n",
       "      <td>RENT</td>\n",
       "      <td>54000.0</td>\n",
       "      <td>...</td>\n",
       "      <td>0.0</td>\n",
       "      <td>5472.0</td>\n",
       "      <td>21.5</td>\n",
       "      <td>13.0</td>\n",
       "      <td>f</td>\n",
       "      <td>INDIVIDUAL</td>\n",
       "      <td>0.0</td>\n",
       "      <td>0.0</td>\n",
       "      <td>823 Reid Ford\\r\\nDelacruzside, MA 00813</td>\n",
       "      <td>0</td>\n",
       "    </tr>\n",
       "    <tr>\n",
       "      <th>4</th>\n",
       "      <td>24375.0</td>\n",
       "      <td>60 months</td>\n",
       "      <td>17.27</td>\n",
       "      <td>609.33</td>\n",
       "      <td>C</td>\n",
       "      <td>C5</td>\n",
       "      <td>Destiny Management Inc.</td>\n",
       "      <td>9 years</td>\n",
       "      <td>MORTGAGE</td>\n",
       "      <td>55000.0</td>\n",
       "      <td>...</td>\n",
       "      <td>0.0</td>\n",
       "      <td>24584.0</td>\n",
       "      <td>69.8</td>\n",
       "      <td>43.0</td>\n",
       "      <td>f</td>\n",
       "      <td>INDIVIDUAL</td>\n",
       "      <td>1.0</td>\n",
       "      <td>0.0</td>\n",
       "      <td>679 Luna Roads\\r\\nGreggshire, VA 11650</td>\n",
       "      <td>1</td>\n",
       "    </tr>\n",
       "  </tbody>\n",
       "</table>\n",
       "<p>5 rows × 28 columns</p>\n",
       "</div>"
      ],
      "text/plain": [
       "   loan_amnt        term  int_rate  installment grade sub_grade  \\\n",
       "0    10000.0   36 months     11.44       329.48     B        B4   \n",
       "1     8000.0   36 months     11.99       265.68     B        B5   \n",
       "2    15600.0   36 months     10.49       506.97     B        B3   \n",
       "3     7200.0   36 months      6.49       220.65     A        A2   \n",
       "4    24375.0   60 months     17.27       609.33     C        C5   \n",
       "\n",
       "                 emp_title emp_length home_ownership  annual_inc  ... pub_rec  \\\n",
       "0                Marketing  10+ years           RENT    117000.0  ...     0.0   \n",
       "1          Credit analyst     4 years       MORTGAGE     65000.0  ...     0.0   \n",
       "2             Statistician   < 1 year           RENT     43057.0  ...     0.0   \n",
       "3          Client Advocate    6 years           RENT     54000.0  ...     0.0   \n",
       "4  Destiny Management Inc.    9 years       MORTGAGE     55000.0  ...     0.0   \n",
       "\n",
       "  revol_bal revol_util total_acc initial_list_status  application_type  \\\n",
       "0   36369.0       41.8      25.0                   w        INDIVIDUAL   \n",
       "1   20131.0       53.3      27.0                   f        INDIVIDUAL   \n",
       "2   11987.0       92.2      26.0                   f        INDIVIDUAL   \n",
       "3    5472.0       21.5      13.0                   f        INDIVIDUAL   \n",
       "4   24584.0       69.8      43.0                   f        INDIVIDUAL   \n",
       "\n",
       "  mort_acc  pub_rec_bankruptcies  \\\n",
       "0      0.0                   0.0   \n",
       "1      3.0                   0.0   \n",
       "2      0.0                   0.0   \n",
       "3      0.0                   0.0   \n",
       "4      1.0                   0.0   \n",
       "\n",
       "                                             address  loan_repaid  \n",
       "0     0174 Michelle Gateway\\r\\nMendozaberg, OK 22690            0  \n",
       "1  1076 Carney Fort Apt. 347\\r\\nLoganmouth, SD 05113            0  \n",
       "2  87025 Mark Dale Apt. 269\\r\\nNew Sabrina, WV 05113            0  \n",
       "3            823 Reid Ford\\r\\nDelacruzside, MA 00813            0  \n",
       "4             679 Luna Roads\\r\\nGreggshire, VA 11650            1  \n",
       "\n",
       "[5 rows x 28 columns]"
      ]
     },
     "execution_count": 30,
     "metadata": {},
     "output_type": "execute_result"
    }
   ],
   "source": [
    "df.head()"
   ]
  },
  {
   "cell_type": "markdown",
   "metadata": {},
   "source": [
    "# Missing Data\n",
    "\n",
    "**Let's explore this missing data columns. We use a variety of factors to decide whether or not they would be useful, to see if we should keep, discard, or fill in the missing data.**"
   ]
  },
  {
   "cell_type": "markdown",
   "metadata": {},
   "source": [
    "**TASK: What is the length of the dataframe?**"
   ]
  },
  {
   "cell_type": "code",
   "execution_count": 31,
   "metadata": {},
   "outputs": [
    {
     "data": {
      "text/plain": [
       "396030"
      ]
     },
     "execution_count": 31,
     "metadata": {},
     "output_type": "execute_result"
    }
   ],
   "source": [
    "len(df)"
   ]
  },
  {
   "cell_type": "markdown",
   "metadata": {},
   "source": [
    "**TASK: Create a Series that displays the total count of missing values per column.**"
   ]
  },
  {
   "cell_type": "code",
   "execution_count": 32,
   "metadata": {},
   "outputs": [],
   "source": [
    "# CODE HERE"
   ]
  },
  {
   "cell_type": "code",
   "execution_count": 33,
   "metadata": {},
   "outputs": [
    {
     "data": {
      "text/plain": [
       "loan_amnt                   0\n",
       "term                        0\n",
       "int_rate                    0\n",
       "installment                 0\n",
       "grade                       0\n",
       "sub_grade                   0\n",
       "emp_title               22927\n",
       "emp_length              18301\n",
       "home_ownership              0\n",
       "annual_inc                  0\n",
       "verification_status         0\n",
       "issue_d                     0\n",
       "loan_status                 0\n",
       "purpose                     0\n",
       "title                    1755\n",
       "dti                         0\n",
       "earliest_cr_line            0\n",
       "open_acc                    0\n",
       "pub_rec                     0\n",
       "revol_bal                   0\n",
       "revol_util                276\n",
       "total_acc                   0\n",
       "initial_list_status         0\n",
       "application_type            0\n",
       "mort_acc                37795\n",
       "pub_rec_bankruptcies      535\n",
       "address                     0\n",
       "loan_repaid                 0\n",
       "dtype: int64"
      ]
     },
     "execution_count": 33,
     "metadata": {},
     "output_type": "execute_result"
    }
   ],
   "source": [
    "df.isnull().sum()"
   ]
  },
  {
   "cell_type": "markdown",
   "metadata": {},
   "source": [
    "**TASK: Convert this Series to be in term of percentage of the total DataFrame**"
   ]
  },
  {
   "cell_type": "code",
   "execution_count": 34,
   "metadata": {},
   "outputs": [
    {
     "data": {
      "text/plain": [
       "loan_amnt               0.000000\n",
       "term                    0.000000\n",
       "int_rate                0.000000\n",
       "installment             0.000000\n",
       "grade                   0.000000\n",
       "sub_grade               0.000000\n",
       "emp_title               5.789208\n",
       "emp_length              4.621115\n",
       "home_ownership          0.000000\n",
       "annual_inc              0.000000\n",
       "verification_status     0.000000\n",
       "issue_d                 0.000000\n",
       "loan_status             0.000000\n",
       "purpose                 0.000000\n",
       "title                   0.443148\n",
       "dti                     0.000000\n",
       "earliest_cr_line        0.000000\n",
       "open_acc                0.000000\n",
       "pub_rec                 0.000000\n",
       "revol_bal               0.000000\n",
       "revol_util              0.069692\n",
       "total_acc               0.000000\n",
       "initial_list_status     0.000000\n",
       "application_type        0.000000\n",
       "mort_acc                9.543469\n",
       "pub_rec_bankruptcies    0.135091\n",
       "address                 0.000000\n",
       "loan_repaid             0.000000\n",
       "dtype: float64"
      ]
     },
     "execution_count": 34,
     "metadata": {},
     "output_type": "execute_result"
    }
   ],
   "source": [
    "100* df.isnull().sum()/len(df)"
   ]
  },
  {
   "cell_type": "markdown",
   "metadata": {},
   "source": [
    "**TASK: Let's examine emp_title and emp_length to see whether it will be okay to drop them. Print out their feature information using the feat_info() function from the top of this notebook.**"
   ]
  },
  {
   "cell_type": "code",
   "execution_count": 35,
   "metadata": {},
   "outputs": [
    {
     "name": "stdout",
     "output_type": "stream",
     "text": [
      "The job title supplied by the Borrower when applying for the loan.*\n",
      "\n",
      "\n",
      "Employment length in years. Possible values are between 0 and 10 where 0 means less than one year and 10 means ten or more years. \n"
     ]
    }
   ],
   "source": [
    "feat_info('emp_title')\n",
    "print('\\n')\n",
    "feat_info('emp_length')"
   ]
  },
  {
   "cell_type": "markdown",
   "metadata": {},
   "source": [
    "**TASK: How many unique employment job titles are there?**"
   ]
  },
  {
   "cell_type": "code",
   "execution_count": 36,
   "metadata": {},
   "outputs": [
    {
     "data": {
      "text/plain": [
       "173105"
      ]
     },
     "execution_count": 36,
     "metadata": {},
     "output_type": "execute_result"
    }
   ],
   "source": [
    "df['emp_title'].nunique()"
   ]
  },
  {
   "cell_type": "code",
   "execution_count": 37,
   "metadata": {},
   "outputs": [
    {
     "data": {
      "text/plain": [
       "Teacher                              4389\n",
       "Manager                              4250\n",
       "Registered Nurse                     1856\n",
       "RN                                   1846\n",
       "Supervisor                           1830\n",
       "                                     ... \n",
       "Recon manager                           1\n",
       "CPA Senior Manager                      1\n",
       "OryonTechnologiesDevelopment, LLC       1\n",
       "Sales and Service Associate             1\n",
       "lawrence jewelers                       1\n",
       "Name: emp_title, Length: 173105, dtype: int64"
      ]
     },
     "execution_count": 37,
     "metadata": {},
     "output_type": "execute_result"
    }
   ],
   "source": [
    "df['emp_title'].value_counts()"
   ]
  },
  {
   "cell_type": "markdown",
   "metadata": {},
   "source": [
    "**TASK: Realistically there are too many unique job titles to try to convert this to a dummy variable feature. Let's remove that emp_title column.**"
   ]
  },
  {
   "cell_type": "code",
   "execution_count": 38,
   "metadata": {},
   "outputs": [],
   "source": [
    "df = df.drop('emp_title',axis=1)"
   ]
  },
  {
   "cell_type": "markdown",
   "metadata": {},
   "source": [
    "**TASK: Create a count plot of the emp_length feature column. Challenge: Sort the order of the values.**"
   ]
  },
  {
   "cell_type": "code",
   "execution_count": 39,
   "metadata": {},
   "outputs": [
    {
     "data": {
      "text/plain": [
       "['1 year',\n",
       " '10+ years',\n",
       " '2 years',\n",
       " '3 years',\n",
       " '4 years',\n",
       " '5 years',\n",
       " '6 years',\n",
       " '7 years',\n",
       " '8 years',\n",
       " '9 years',\n",
       " '< 1 year']"
      ]
     },
     "execution_count": 39,
     "metadata": {},
     "output_type": "execute_result"
    }
   ],
   "source": [
    "sorted(df['emp_length'].dropna().unique())"
   ]
  },
  {
   "cell_type": "code",
   "execution_count": 40,
   "metadata": {},
   "outputs": [],
   "source": [
    "emp_length_order = [ '< 1 year',\n",
    "                      '1 year',\n",
    "                     '2 years',\n",
    "                     '3 years',\n",
    "                     '4 years',\n",
    "                     '5 years',\n",
    "                     '6 years',\n",
    "                     '7 years',\n",
    "                     '8 years',\n",
    "                     '9 years',\n",
    "                     '10+ years']"
   ]
  },
  {
   "cell_type": "code",
   "execution_count": 41,
   "metadata": {},
   "outputs": [
    {
     "data": {
      "text/plain": [
       "<matplotlib.axes._subplots.AxesSubplot at 0x1bfed696088>"
      ]
     },
     "execution_count": 41,
     "metadata": {},
     "output_type": "execute_result"
    },
    {
     "data": {
      "image/png": "[encoded data removed]",
      "text/plain": [
       "<Figure size 864x288 with 1 Axes>"
      ]
     },
     "metadata": {
      "needs_background": "light"
     },
     "output_type": "display_data"
    }
   ],
   "source": [
    "plt.figure(figsize=(12,4))\n",
    "\n",
    "sns.countplot(x='emp_length',data=df,order=emp_length_order)"
   ]
  },
  {
   "cell_type": "markdown",
   "metadata": {},
   "source": [
    "**TASK: Plot out the countplot with a hue separating Fully Paid vs Charged Off**"
   ]
  },
  {
   "cell_type": "code",
   "execution_count": 42,
   "metadata": {},
   "outputs": [
    {
     "data": {
      "text/plain": [
       "<matplotlib.axes._subplots.AxesSubplot at 0x1bfef912648>"
      ]
     },
     "execution_count": 42,
     "metadata": {},
     "output_type": "execute_result"
    },
    {
     "data": {
      "image/png": "[encoded data removed]",
      "text/plain": [
       "<Figure size 864x288 with 1 Axes>"
      ]
     },
     "metadata": {
      "needs_background": "light"
     },
     "output_type": "display_data"
    }
   ],
   "source": [
    "plt.figure(figsize=(12,4))\n",
    "sns.countplot(x='emp_length',data=df,order=emp_length_order,hue='loan_status')"
   ]
  },
  {
   "cell_type": "markdown",
   "metadata": {},
   "source": [
    "**CHALLENGE TASK: This still doesn't really inform us if there is a strong relationship between employment length and being charged off, what we want is the percentage of charge offs per category. Essentially informing us what percent of people per employment category didn't pay back their loan. There are a multitude of ways to create this Series. Once you've created it, see if visualize it with a [bar plot](https://pandas.pydata.org/pandas-docs/version/0.23.4/generated/pandas.DataFrame.plot.html). This may be tricky, refer to solutions if you get stuck on creating this Series.**"
   ]
  },
  {
   "cell_type": "code",
   "execution_count": 43,
   "metadata": {},
   "outputs": [],
   "source": [
    "emp_co = df[df['loan_status']==\"Charged Off\"].groupby(\"emp_length\").count()['loan_status']"
   ]
  },
  {
   "cell_type": "code",
   "execution_count": 44,
   "metadata": {},
   "outputs": [],
   "source": [
    "emp_fp = df[df['loan_status']==\"Fully Paid\"].groupby(\"emp_length\").count()['loan_status']"
   ]
  },
  {
   "cell_type": "code",
   "execution_count": 45,
   "metadata": {},
   "outputs": [],
   "source": [
    "emp_len = emp_co/emp_fp"
   ]
  },
  {
   "cell_type": "code",
   "execution_count": 46,
   "metadata": {},
   "outputs": [
    {
     "data": {
      "text/plain": [
       "emp_length\n",
       "1 year       0.248649\n",
       "10+ years    0.225770\n",
       "2 years      0.239560\n",
       "3 years      0.242593\n",
       "4 years      0.238213\n",
       "5 years      0.237911\n",
       "6 years      0.233341\n",
       "7 years      0.241887\n",
       "8 years      0.249625\n",
       "9 years      0.250735\n",
       "< 1 year     0.260830\n",
       "Name: loan_status, dtype: float64"
      ]
     },
     "execution_count": 46,
     "metadata": {},
     "output_type": "execute_result"
    }
   ],
   "source": [
    "emp_len"
   ]
  },
  {
   "cell_type": "code",
   "execution_count": 47,
   "metadata": {},
   "outputs": [
    {
     "data": {
      "text/plain": [
       "<matplotlib.axes._subplots.AxesSubplot at 0x1bf858e3bc8>"
      ]
     },
     "execution_count": 47,
     "metadata": {},
     "output_type": "execute_result"
    },
    {
     "data": {
      "image/png": "[encoded data removed]",
      "text/plain": [
       "<Figure size 432x288 with 1 Axes>"
      ]
     },
     "metadata": {
      "needs_background": "light"
     },
     "output_type": "display_data"
    }
   ],
   "source": [
    "emp_len.plot(kind='bar')"
   ]
  },
  {
   "cell_type": "markdown",
   "metadata": {},
   "source": [
    "**TASK: Charge off rates are extremely similar across all employment lengths. Go ahead and drop the emp_length column.**"
   ]
  },
  {
   "cell_type": "code",
   "execution_count": 48,
   "metadata": {},
   "outputs": [],
   "source": [
    "df = df.drop('emp_length',axis=1)"
   ]
  },
  {
   "cell_type": "markdown",
   "metadata": {},
   "source": [
    "**TASK: Revisit the DataFrame to see what feature columns still have missing data.**"
   ]
  },
  {
   "cell_type": "code",
   "execution_count": 49,
   "metadata": {},
   "outputs": [
    {
     "data": {
      "text/plain": [
       "loan_amnt                   0\n",
       "term                        0\n",
       "int_rate                    0\n",
       "installment                 0\n",
       "grade                       0\n",
       "sub_grade                   0\n",
       "home_ownership              0\n",
       "annual_inc                  0\n",
       "verification_status         0\n",
       "issue_d                     0\n",
       "loan_status                 0\n",
       "purpose                     0\n",
       "title                    1755\n",
       "dti                         0\n",
       "earliest_cr_line            0\n",
       "open_acc                    0\n",
       "pub_rec                     0\n",
       "revol_bal                   0\n",
       "revol_util                276\n",
       "total_acc                   0\n",
       "initial_list_status         0\n",
       "application_type            0\n",
       "mort_acc                37795\n",
       "pub_rec_bankruptcies      535\n",
       "address                     0\n",
       "loan_repaid                 0\n",
       "dtype: int64"
      ]
     },
     "execution_count": 49,
     "metadata": {},
     "output_type": "execute_result"
    }
   ],
   "source": [
    "df.isnull().sum()"
   ]
  },
  {
   "cell_type": "markdown",
   "metadata": {},
   "source": [
    "**TASK: Review the title column vs the purpose column. Is this repeated information?**"
   ]
  },
  {
   "cell_type": "code",
   "execution_count": 50,
   "metadata": {},
   "outputs": [
    {
     "data": {
      "text/plain": [
       "0              vacation\n",
       "1    debt_consolidation\n",
       "2           credit_card\n",
       "3           credit_card\n",
       "4           credit_card\n",
       "5    debt_consolidation\n",
       "6      home_improvement\n",
       "7           credit_card\n",
       "8    debt_consolidation\n",
       "9    debt_consolidation\n",
       "Name: purpose, dtype: object"
      ]
     },
     "execution_count": 50,
     "metadata": {},
     "output_type": "execute_result"
    }
   ],
   "source": [
    "df['purpose'].head(10)"
   ]
  },
  {
   "cell_type": "code",
   "execution_count": 51,
   "metadata": {},
   "outputs": [
    {
     "data": {
      "text/plain": [
       "0                   Vacation\n",
       "1         Debt consolidation\n",
       "2    Credit card refinancing\n",
       "3    Credit card refinancing\n",
       "4      Credit Card Refinance\n",
       "5         Debt consolidation\n",
       "6           Home improvement\n",
       "7       No More Credit Cards\n",
       "8         Debt consolidation\n",
       "9         Debt Consolidation\n",
       "Name: title, dtype: object"
      ]
     },
     "execution_count": 51,
     "metadata": {},
     "output_type": "execute_result"
    }
   ],
   "source": [
    "df['title'].head(10)"
   ]
  },
  {
   "cell_type": "markdown",
   "metadata": {},
   "source": [
    "**TASK: The title column is simply a string subcategory/description of the purpose column. Go ahead and drop the title column.**"
   ]
  },
  {
   "cell_type": "code",
   "execution_count": 52,
   "metadata": {},
   "outputs": [],
   "source": [
    "df = df.drop('title',axis=1)"
   ]
  },
  {
   "cell_type": "markdown",
   "metadata": {},
   "source": [
    "---\n",
    "**NOTE: This is one of the hardest parts of the project! Refer to the solutions video if you need guidance, feel free to fill or drop the missing values of the mort_acc however you see fit! Here we're going with a very specific approach.**\n",
    "\n",
    "\n",
    "---\n",
    "**TASK: Find out what the mort_acc feature represents**"
   ]
  },
  {
   "cell_type": "code",
   "execution_count": 53,
   "metadata": {},
   "outputs": [
    {
     "name": "stdout",
     "output_type": "stream",
     "text": [
      "Number of mortgage accounts.\n"
     ]
    }
   ],
   "source": [
    "feat_info('mort_acc')"
   ]
  },
  {
   "cell_type": "markdown",
   "metadata": {},
   "source": [
    "**TASK: Create a value_counts of the mort_acc column.**"
   ]
  },
  {
   "cell_type": "code",
   "execution_count": 54,
   "metadata": {},
   "outputs": [
    {
     "data": {
      "text/plain": [
       "0.0     139777\n",
       "1.0      60416\n",
       "2.0      49948\n",
       "3.0      38049\n",
       "4.0      27887\n",
       "5.0      18194\n",
       "6.0      11069\n",
       "7.0       6052\n",
       "8.0       3121\n",
       "9.0       1656\n",
       "10.0       865\n",
       "11.0       479\n",
       "12.0       264\n",
       "13.0       146\n",
       "14.0       107\n",
       "15.0        61\n",
       "16.0        37\n",
       "17.0        22\n",
       "18.0        18\n",
       "19.0        15\n",
       "20.0        13\n",
       "24.0        10\n",
       "22.0         7\n",
       "21.0         4\n",
       "25.0         4\n",
       "27.0         3\n",
       "23.0         2\n",
       "32.0         2\n",
       "26.0         2\n",
       "31.0         2\n",
       "30.0         1\n",
       "28.0         1\n",
       "34.0         1\n",
       "Name: mort_acc, dtype: int64"
      ]
     },
     "execution_count": 54,
     "metadata": {},
     "output_type": "execute_result"
    }
   ],
   "source": [
    "df['mort_acc'].value_counts()"
   ]
  },
  {
   "cell_type": "markdown",
   "metadata": {},
   "source": [
    "**TASK: There are many ways we could deal with this missing data. We could attempt to build a simple model to fill it in, such as a linear model, we could just fill it in based on the mean of the other columns, or you could even bin the columns into categories and then set NaN as its own category. There is no 100% correct approach! Let's review the other columsn to see which most highly correlates to mort_acc**"
   ]
  },
  {
   "cell_type": "code",
   "execution_count": 55,
   "metadata": {},
   "outputs": [
    {
     "name": "stdout",
     "output_type": "stream",
     "text": [
      "Correlation with the mort_acc column\n"
     ]
    },
    {
     "data": {
      "text/plain": [
       "int_rate               -0.082583\n",
       "loan_repaid            -0.073111\n",
       "dti                    -0.025439\n",
       "revol_util              0.007514\n",
       "pub_rec                 0.011552\n",
       "pub_rec_bankruptcies    0.027239\n",
       "open_acc                0.109205\n",
       "installment             0.193694\n",
       "revol_bal               0.194925\n",
       "loan_amnt               0.222315\n",
       "annual_inc              0.236320\n",
       "total_acc               0.381072\n",
       "mort_acc                1.000000\n",
       "Name: mort_acc, dtype: float64"
      ]
     },
     "execution_count": 55,
     "metadata": {},
     "output_type": "execute_result"
    }
   ],
   "source": [
    "print(\"Correlation with the mort_acc column\")\n",
    "df.corr()['mort_acc'].sort_values()"
   ]
  },
  {
   "cell_type": "markdown",
   "metadata": {},
   "source": [
    "**TASK: Looks like the total_acc feature correlates with the mort_acc , this makes sense! Let's try this fillna() approach. We will group the dataframe by the total_acc and calculate the mean value for the mort_acc per total_acc entry. To get the result below:**"
   ]
  },
  {
   "cell_type": "code",
   "execution_count": 56,
   "metadata": {},
   "outputs": [
    {
     "name": "stdout",
     "output_type": "stream",
     "text": [
      "Mean of mort_acc column per total_acc\n"
     ]
    },
    {
     "data": {
      "text/plain": [
       "total_acc\n",
       "2.0      0.000000\n",
       "3.0      0.052023\n",
       "4.0      0.066743\n",
       "5.0      0.103289\n",
       "6.0      0.151293\n",
       "           ...   \n",
       "124.0    1.000000\n",
       "129.0    1.000000\n",
       "135.0    3.000000\n",
       "150.0    2.000000\n",
       "151.0    0.000000\n",
       "Name: mort_acc, Length: 118, dtype: float64"
      ]
     },
     "execution_count": 56,
     "metadata": {},
     "output_type": "execute_result"
    }
   ],
   "source": [
    "print(\"Mean of mort_acc column per total_acc\")\n",
    "df.groupby('total_acc').mean()['mort_acc']"
   ]
  },
  {
   "cell_type": "markdown",
   "metadata": {},
   "source": [
    "**CHALLENGE TASK: Let's fill in the missing mort_acc values based on their total_acc value. If the mort_acc is missing, then we will fill in that missing value with the mean value corresponding to its total_acc value from the Series we created above. This involves using an .apply() method with two columns. Check out the link below for more info, or review the solutions video/notebook.**\n",
    "\n",
    "[Helpful Link](https://stackoverflow.com/questions/13331698/how-to-apply-a-function-to-two-columns-of-pandas-dataframe) "
   ]
  },
  {
   "cell_type": "code",
   "execution_count": 57,
   "metadata": {},
   "outputs": [],
   "source": [
    "total_acc_avg = df.groupby('total_acc').mean()['mort_acc']"
   ]
  },
  {
   "cell_type": "code",
   "execution_count": 58,
   "metadata": {},
   "outputs": [
    {
     "data": {
      "text/plain": [
       "0.0"
      ]
     },
     "execution_count": 58,
     "metadata": {},
     "output_type": "execute_result"
    }
   ],
   "source": [
    "total_acc_avg[2.0]"
   ]
  },
  {
   "cell_type": "code",
   "execution_count": 59,
   "metadata": {},
   "outputs": [],
   "source": [
    "def fill_mort_acc(total_acc,mort_acc):\n",
    "    '''\n",
    "    Accepts the total_acc and mort_acc values for the row.\n",
    "    Checks if the mort_acc is NaN , if so, it returns the avg mort_acc value\n",
    "    for the corresponding total_acc value for that row.\n",
    "    \n",
    "    total_acc_avg here should be a Series or dictionary containing the mapping of the\n",
    "    groupby averages of mort_acc per total_acc values.\n",
    "    '''\n",
    "    if np.isnan(mort_acc):\n",
    "        return total_acc_avg[total_acc]\n",
    "    else:\n",
    "        return mort_acc"
   ]
  },
  {
   "cell_type": "code",
   "execution_count": 60,
   "metadata": {},
   "outputs": [],
   "source": [
    "df['mort_acc'] = df.apply(lambda x: fill_mort_acc(x['total_acc'], x['mort_acc']), axis=1)"
   ]
  },
  {
   "cell_type": "code",
   "execution_count": 61,
   "metadata": {},
   "outputs": [
    {
     "data": {
      "text/plain": [
       "loan_amnt                 0\n",
       "term                      0\n",
       "int_rate                  0\n",
       "installment               0\n",
       "grade                     0\n",
       "sub_grade                 0\n",
       "home_ownership            0\n",
       "annual_inc                0\n",
       "verification_status       0\n",
       "issue_d                   0\n",
       "loan_status               0\n",
       "purpose                   0\n",
       "dti                       0\n",
       "earliest_cr_line          0\n",
       "open_acc                  0\n",
       "pub_rec                   0\n",
       "revol_bal                 0\n",
       "revol_util              276\n",
       "total_acc                 0\n",
       "initial_list_status       0\n",
       "application_type          0\n",
       "mort_acc                  0\n",
       "pub_rec_bankruptcies    535\n",
       "address                   0\n",
       "loan_repaid               0\n",
       "dtype: int64"
      ]
     },
     "execution_count": 61,
     "metadata": {},
     "output_type": "execute_result"
    }
   ],
   "source": [
    "df.isnull().sum()"
   ]
  },
  {
   "cell_type": "markdown",
   "metadata": {},
   "source": [
    "**TASK: revol_util and the pub_rec_bankruptcies have missing data points, but they account for less than 0.5% of the total data. Go ahead and remove the rows that are missing those values in those columns with dropna().**"
   ]
  },
  {
   "cell_type": "code",
   "execution_count": 62,
   "metadata": {},
   "outputs": [],
   "source": [
    "df = df.dropna()"
   ]
  },
  {
   "cell_type": "code",
   "execution_count": 63,
   "metadata": {
    "scrolled": true
   },
   "outputs": [
    {
     "data": {
      "text/plain": [
       "loan_amnt               0\n",
       "term                    0\n",
       "int_rate                0\n",
       "installment             0\n",
       "grade                   0\n",
       "sub_grade               0\n",
       "home_ownership          0\n",
       "annual_inc              0\n",
       "verification_status     0\n",
       "issue_d                 0\n",
       "loan_status             0\n",
       "purpose                 0\n",
       "dti                     0\n",
       "earliest_cr_line        0\n",
       "open_acc                0\n",
       "pub_rec                 0\n",
       "revol_bal               0\n",
       "revol_util              0\n",
       "total_acc               0\n",
       "initial_list_status     0\n",
       "application_type        0\n",
       "mort_acc                0\n",
       "pub_rec_bankruptcies    0\n",
       "address                 0\n",
       "loan_repaid             0\n",
       "dtype: int64"
      ]
     },
     "execution_count": 63,
     "metadata": {},
     "output_type": "execute_result"
    }
   ],
   "source": [
    "df.isnull().sum()"
   ]
  },
  {
   "cell_type": "markdown",
   "metadata": {},
   "source": [
    "## Categorical Variables and Dummy Variables\n",
    "\n",
    "**We're done working with the missing data! Now we just need to deal with the string values due to the categorical columns.**\n",
    "\n",
    "**TASK: List all the columns that are currently non-numeric. [Helpful Link](https://stackoverflow.com/questions/22470690/get-list-of-pandas-dataframe-columns-based-on-data-type)**\n",
    "\n",
    "[Another very useful method call](https://pandas.pydata.org/pandas-docs/stable/reference/api/pandas.DataFrame.select_dtypes.html)"
   ]
  },
  {
   "cell_type": "code",
   "execution_count": 64,
   "metadata": {},
   "outputs": [
    {
     "data": {
      "text/plain": [
       "Index(['term', 'grade', 'sub_grade', 'home_ownership', 'verification_status',\n",
       "       'issue_d', 'loan_status', 'purpose', 'earliest_cr_line',\n",
       "       'initial_list_status', 'application_type', 'address'],\n",
       "      dtype='object')"
      ]
     },
     "execution_count": 64,
     "metadata": {},
     "output_type": "execute_result"
    }
   ],
   "source": [
    "df.select_dtypes(['object']).columns"
   ]
  },
  {
   "cell_type": "markdown",
   "metadata": {},
   "source": [
    "---\n",
    "**Let's now go through all the string features to see what we should do with them.**\n",
    "\n",
    "---\n",
    "\n",
    "\n",
    "### term feature\n",
    "\n",
    "**TASK: Convert the term feature into either a 36 or 60 integer numeric data type using .apply() or .map().**"
   ]
  },
  {
   "cell_type": "code",
   "execution_count": 65,
   "metadata": {},
   "outputs": [
    {
     "data": {
      "text/plain": [
       " 36 months    301247\n",
       " 60 months     93972\n",
       "Name: term, dtype: int64"
      ]
     },
     "execution_count": 65,
     "metadata": {},
     "output_type": "execute_result"
    }
   ],
   "source": [
    "df['term'].value_counts()"
   ]
  },
  {
   "cell_type": "code",
   "execution_count": 66,
   "metadata": {},
   "outputs": [],
   "source": [
    "# Or just use .map()\n",
    "df['term'] = df['term'].apply(lambda term: int(term[:3]))"
   ]
  },
  {
   "cell_type": "markdown",
   "metadata": {},
   "source": [
    "### grade feature\n",
    "\n",
    "**TASK: We already know grade is part of sub_grade, so just drop the grade feature.**"
   ]
  },
  {
   "cell_type": "code",
   "execution_count": 67,
   "metadata": {},
   "outputs": [],
   "source": [
    "df = df.drop('grade',axis=1)"
   ]
  },
  {
   "cell_type": "markdown",
   "metadata": {},
   "source": [
    "**TASK: Convert the subgrade into dummy variables. Then concatenate these new columns to the original dataframe. Remember to drop the original subgrade column and to add drop_first=True to your get_dummies call.**"
   ]
  },
  {
   "cell_type": "code",
   "execution_count": 68,
   "metadata": {},
   "outputs": [],
   "source": [
    "subgrade_dummies = pd.get_dummies(df['sub_grade'],drop_first=True)"
   ]
  },
  {
   "cell_type": "code",
   "execution_count": 69,
   "metadata": {},
   "outputs": [],
   "source": [
    "df = pd.concat([df.drop('sub_grade',axis=1),subgrade_dummies],axis=1)"
   ]
  },
  {
   "cell_type": "code",
   "execution_count": 70,
   "metadata": {},
   "outputs": [
    {
     "data": {
      "text/plain": [
       "Index(['loan_amnt', 'term', 'int_rate', 'installment', 'home_ownership',\n",
       "       'annual_inc', 'verification_status', 'issue_d', 'loan_status',\n",
       "       'purpose', 'dti', 'earliest_cr_line', 'open_acc', 'pub_rec',\n",
       "       'revol_bal', 'revol_util', 'total_acc', 'initial_list_status',\n",
       "       'application_type', 'mort_acc', 'pub_rec_bankruptcies', 'address',\n",
       "       'loan_repaid', 'A2', 'A3', 'A4', 'A5', 'B1', 'B2', 'B3', 'B4', 'B5',\n",
       "       'C1', 'C2', 'C3', 'C4', 'C5', 'D1', 'D2', 'D3', 'D4', 'D5', 'E1', 'E2',\n",
       "       'E3', 'E4', 'E5', 'F1', 'F2', 'F3', 'F4', 'F5', 'G1', 'G2', 'G3', 'G4',\n",
       "       'G5'],\n",
       "      dtype='object')"
      ]
     },
     "execution_count": 70,
     "metadata": {},
     "output_type": "execute_result"
    }
   ],
   "source": [
    "df.columns"
   ]
  },
  {
   "cell_type": "code",
   "execution_count": 71,
   "metadata": {},
   "outputs": [
    {
     "data": {
      "text/plain": [
       "Index(['home_ownership', 'verification_status', 'issue_d', 'loan_status',\n",
       "       'purpose', 'earliest_cr_line', 'initial_list_status',\n",
       "       'application_type', 'address'],\n",
       "      dtype='object')"
      ]
     },
     "execution_count": 71,
     "metadata": {},
     "output_type": "execute_result"
    }
   ],
   "source": [
    "df.select_dtypes(['object']).columns"
   ]
  },
  {
   "cell_type": "markdown",
   "metadata": {},
   "source": [
    "### verification_status, application_type,initial_list_status,purpose \n",
    "**TASK: Convert these columns: ['verification_status', 'application_type','initial_list_status','purpose'] into dummy variables and concatenate them with the original dataframe. Remember to set drop_first=True and to drop the original columns.**"
   ]
  },
  {
   "cell_type": "code",
   "execution_count": 72,
   "metadata": {},
   "outputs": [],
   "source": [
    "dummies = pd.get_dummies(df[['verification_status', 'application_type','initial_list_status','purpose' ]],drop_first=True)\n",
    "df = df.drop(['verification_status', 'application_type','initial_list_status','purpose'],axis=1)\n",
    "df = pd.concat([df,dummies],axis=1)"
   ]
  },
  {
   "cell_type": "markdown",
   "metadata": {},
   "source": [
    "### home_ownership\n",
    "**TASK:Review the value_counts for the home_ownership column.**"
   ]
  },
  {
   "cell_type": "code",
   "execution_count": 73,
   "metadata": {},
   "outputs": [
    {
     "data": {
      "text/plain": [
       "MORTGAGE    198022\n",
       "RENT        159395\n",
       "OWN          37660\n",
       "OTHER          110\n",
       "NONE            29\n",
       "ANY              3\n",
       "Name: home_ownership, dtype: int64"
      ]
     },
     "execution_count": 73,
     "metadata": {},
     "output_type": "execute_result"
    }
   ],
   "source": [
    "df['home_ownership'].value_counts()"
   ]
  },
  {
   "cell_type": "markdown",
   "metadata": {},
   "source": [
    "**TASK: Convert these to dummy variables, but [replace](https://pandas.pydata.org/pandas-docs/stable/reference/api/pandas.DataFrame.replace.html) NONE and ANY with OTHER, so that we end up with just 4 categories, MORTGAGE, RENT, OWN, OTHER. Then concatenate them with the original dataframe. Remember to set drop_first=True and to drop the original columns.**"
   ]
  },
  {
   "cell_type": "code",
   "execution_count": 74,
   "metadata": {},
   "outputs": [],
   "source": [
    "df['home_ownership']=df['home_ownership'].replace(['NONE', 'ANY'], 'OTHER')\n",
    "\n",
    "dummies = pd.get_dummies(df['home_ownership'],drop_first=True)\n",
    "df = df.drop('home_ownership',axis=1)\n",
    "df = pd.concat([df,dummies],axis=1)"
   ]
  },
  {
   "cell_type": "markdown",
   "metadata": {},
   "source": [
    "### address\n",
    "**TASK: Let's feature engineer a zip code column from the address in the data set. Create a column called 'zip_code' that extracts the zip code from the address column.**"
   ]
  },
  {
   "cell_type": "code",
   "execution_count": 75,
   "metadata": {},
   "outputs": [],
   "source": [
    "df['zip_code'] = df['address'].apply(lambda address:address[-5:])"
   ]
  },
  {
   "cell_type": "markdown",
   "metadata": {},
   "source": [
    "**TASK: Now make this zip_code column into dummy variables using pandas. Concatenate the result and drop the original zip_code column along with dropping the address column.**"
   ]
  },
  {
   "cell_type": "code",
   "execution_count": 76,
   "metadata": {},
   "outputs": [],
   "source": [
    "dummies = pd.get_dummies(df['zip_code'],drop_first=True)\n",
    "df = df.drop(['zip_code','address'],axis=1)\n",
    "df = pd.concat([df,dummies],axis=1)"
   ]
  },
  {
   "cell_type": "markdown",
   "metadata": {},
   "source": [
    "### issue_d \n",
    "\n",
    "**TASK: This would be data leakage, we wouldn't know beforehand whether or not a loan would be issued when using our model, so in theory we wouldn't have an issue_date, drop this feature.**"
   ]
  },
  {
   "cell_type": "code",
   "execution_count": 77,
   "metadata": {},
   "outputs": [],
   "source": [
    "df = df.drop('issue_d',axis=1)"
   ]
  },
  {
   "cell_type": "markdown",
   "metadata": {},
   "source": [
    "### earliest_cr_line\n",
    "**TASK: This appears to be a historical time stamp feature. Extract the year from this feature using a .apply function, then convert it to a numeric feature. Set this new data to a feature column called 'earliest_cr_year'.Then drop the earliest_cr_line feature.**"
   ]
  },
  {
   "cell_type": "code",
   "execution_count": 78,
   "metadata": {},
   "outputs": [],
   "source": [
    "df['earliest_cr_year'] = df['earliest_cr_line'].apply(lambda date:int(date[-4:]))\n",
    "df = df.drop('earliest_cr_line',axis=1)"
   ]
  },
  {
   "cell_type": "code",
   "execution_count": 79,
   "metadata": {},
   "outputs": [
    {
     "data": {
      "text/plain": [
       "Index(['loan_status'], dtype='object')"
      ]
     },
     "execution_count": 79,
     "metadata": {},
     "output_type": "execute_result"
    }
   ],
   "source": [
    "df.select_dtypes(['object']).columns"
   ]
  },
  {
   "cell_type": "markdown",
   "metadata": {},
   "source": [
    "## Train Test Split"
   ]
  },
  {
   "cell_type": "markdown",
   "metadata": {},
   "source": [
    "**TASK: Import train_test_split from sklearn.**"
   ]
  },
  {
   "cell_type": "code",
   "execution_count": 80,
   "metadata": {},
   "outputs": [],
   "source": [
    "from sklearn.model_selection import train_test_split"
   ]
  },
  {
   "cell_type": "markdown",
   "metadata": {},
   "source": [
    "**TASK: drop the load_status column we created earlier, since its a duplicate of the loan_repaid column. We'll use the loan_repaid column since its already in 0s and 1s.**"
   ]
  },
  {
   "cell_type": "code",
   "execution_count": 81,
   "metadata": {},
   "outputs": [],
   "source": [
    "df = df.drop('loan_status',axis=1)"
   ]
  },
  {
   "cell_type": "markdown",
   "metadata": {},
   "source": [
    "**TASK: Set X and y variables to the .values of the features and label.**"
   ]
  },
  {
   "cell_type": "code",
   "execution_count": 82,
   "metadata": {},
   "outputs": [],
   "source": [
    "X = df.drop('loan_repaid',axis=1).values\n",
    "y = df['loan_repaid'].values"
   ]
  },
  {
   "cell_type": "markdown",
   "metadata": {},
   "source": [
    "----\n",
    "----\n",
    "\n",
    "# OPTIONAL\n",
    "\n",
    "## Grabbing a Sample for Training Time\n",
    "\n",
    "### OPTIONAL: Use .sample() to grab a sample of the 490k+ entries to save time on training. Highly recommended for lower RAM computers or if you are not using GPU.\n",
    "\n",
    "----\n",
    "----"
   ]
  },
  {
   "cell_type": "code",
   "execution_count": 83,
   "metadata": {},
   "outputs": [
    {
     "name": "stdout",
     "output_type": "stream",
     "text": [
      "395219\n"
     ]
    }
   ],
   "source": [
    "# df = df.sample(frac=0.1,random_state=101)\n",
    "print(len(df))"
   ]
  },
  {
   "cell_type": "markdown",
   "metadata": {},
   "source": [
    "**TASK: Perform a train/test split with test_size=0.2 and a random_state of 101.**"
   ]
  },
  {
   "cell_type": "code",
   "execution_count": 84,
   "metadata": {},
   "outputs": [],
   "source": [
    "X_train, X_test, y_train, y_test = train_test_split(X, y, test_size=0.20, random_state=101)"
   ]
  },
  {
   "cell_type": "markdown",
   "metadata": {},
   "source": [
    "## Normalizing the Data\n",
    "\n",
    "**TASK: Use a MinMaxScaler to normalize the feature data X_train and X_test. Recall we don't want data leakge from the test set so we only fit on the X_train data.**"
   ]
  },
  {
   "cell_type": "code",
   "execution_count": 85,
   "metadata": {},
   "outputs": [],
   "source": [
    "from sklearn.preprocessing import MinMaxScaler"
   ]
  },
  {
   "cell_type": "code",
   "execution_count": 86,
   "metadata": {},
   "outputs": [],
   "source": [
    "scaler = MinMaxScaler()"
   ]
  },
  {
   "cell_type": "code",
   "execution_count": 87,
   "metadata": {},
   "outputs": [],
   "source": [
    "X_train = scaler.fit_transform(X_train)"
   ]
  },
  {
   "cell_type": "code",
   "execution_count": 88,
   "metadata": {},
   "outputs": [],
   "source": [
    "X_test = scaler.transform(X_test)"
   ]
  },
  {
   "cell_type": "markdown",
   "metadata": {},
   "source": [
    "# Creating the Model\n",
    "\n",
    "**TASK: Run the cell below to import the necessary Keras functions.**"
   ]
  },
  {
   "cell_type": "code",
   "execution_count": 89,
   "metadata": {},
   "outputs": [],
   "source": [
    "import tensorflow as tf\n",
    "from tensorflow.keras.models import Sequential\n",
    "from tensorflow.keras.layers import Dense, Activation,Dropout\n",
    "from tensorflow.keras.constraints import max_norm"
   ]
  },
  {
   "cell_type": "markdown",
   "metadata": {},
   "source": [
    "**TASK: Build a sequential model to will be trained on the data. You have unlimited options here, but here is what the solution uses: a model that goes 78 --> 39 --> 19--> 1 output neuron. OPTIONAL: Explore adding [Dropout layers](https://keras.io/layers/core/) [1](https://en.wikipedia.org/wiki/Dropout_(neural_networks)) [2](https://towardsdatascience.com/machine-learning-part-20-dropout-keras-layers-explained-8c9f6dc4c9ab)**"
   ]
  },
  {
   "cell_type": "code",
   "execution_count": 90,
   "metadata": {},
   "outputs": [],
   "source": [
    "model = Sequential()\n",
    "\n",
    "# https://stats.stackexchange.com/questions/181/how-to-choose-the-number-of-hidden-layers-and-nodes-in-a-feedforward-neural-netw\n",
    "\n",
    "\n",
    "# input layer\n",
    "model.add(Dense(78,  activation='relu'))\n",
    "model.add(Dropout(0.2))\n",
    "\n",
    "# hidden layer\n",
    "model.add(Dense(39, activation='relu'))\n",
    "model.add(Dropout(0.2))\n",
    "\n",
    "# hidden layer\n",
    "model.add(Dense(19, activation='relu'))\n",
    "model.add(Dropout(0.2))\n",
    "\n",
    "# output layer\n",
    "model.add(Dense(units=1,activation='sigmoid'))\n",
    "\n",
    "# Compile model\n",
    "model.compile(loss='binary_crossentropy', optimizer='adam')"
   ]
  },
  {
   "cell_type": "markdown",
   "metadata": {},
   "source": [
    "**TASK: Fit the model to the training data for at least 25 epochs. Also add in the validation data for later plotting. Optional: add in a batch_size of 256.**"
   ]
  },
  {
   "cell_type": "code",
   "execution_count": 91,
   "metadata": {},
   "outputs": [
    {
     "name": "stdout",
     "output_type": "stream",
     "text": [
      "Train on 316175 samples, validate on 79044 samples\n",
      "Epoch 1/25\n",
      "316175/316175 [==============================] - 8s 24us/sample - loss: 0.2998 - val_loss: 0.2642\n",
      "Epoch 2/25\n",
      "316175/316175 [==============================] - 6s 20us/sample - loss: 0.2653 - val_loss: 0.2628\n",
      "Epoch 3/25\n",
      "316175/316175 [==============================] - 8s 26us/sample - loss: 0.2631 - val_loss: 0.2626\n",
      "Epoch 4/25\n",
      "316175/316175 [==============================] - 6s 19us/sample - loss: 0.2617 - val_loss: 0.2619\n",
      "Epoch 5/25\n",
      "316175/316175 [==============================] - 6s 18us/sample - loss: 0.2612 - val_loss: 0.2620\n",
      "Epoch 6/25\n",
      "316175/316175 [==============================] - 6s 18us/sample - loss: 0.2605 - val_loss: 0.2627\n",
      "Epoch 7/25\n",
      "316175/316175 [==============================] - 6s 17us/sample - loss: 0.2602 - val_loss: 0.2616\n",
      "Epoch 8/25\n",
      "316175/316175 [==============================] - 5s 17us/sample - loss: 0.2598 - val_loss: 0.2619\n",
      "Epoch 9/25\n",
      "316175/316175 [==============================] - 5s 17us/sample - loss: 0.2594 - val_loss: 0.2614\n",
      "Epoch 10/25\n",
      "316175/316175 [==============================] - 6s 17us/sample - loss: 0.2590 - val_loss: 0.2616\n",
      "Epoch 11/25\n",
      "316175/316175 [==============================] - 6s 18us/sample - loss: 0.2589 - val_loss: 0.2610\n",
      "Epoch 12/25\n",
      "316175/316175 [==============================] - 7s 22us/sample - loss: 0.2586 - val_loss: 0.2615\n",
      "Epoch 13/25\n",
      "316175/316175 [==============================] - 8s 25us/sample - loss: 0.2584 - val_loss: 0.2613\n",
      "Epoch 14/25\n",
      "316175/316175 [==============================] - 7s 24us/sample - loss: 0.2581 - val_loss: 0.2610\n",
      "Epoch 15/25\n",
      "316175/316175 [==============================] - 6s 20us/sample - loss: 0.2581 - val_loss: 0.2610\n",
      "Epoch 16/25\n",
      "316175/316175 [==============================] - 6s 20us/sample - loss: 0.2578 - val_loss: 0.2612\n",
      "Epoch 17/25\n",
      "316175/316175 [==============================] - 6s 18us/sample - loss: 0.2574 - val_loss: 0.2611\n",
      "Epoch 18/25\n",
      "316175/316175 [==============================] - 6s 18us/sample - loss: 0.2574 - val_loss: 0.2614\n",
      "Epoch 19/25\n",
      "316175/316175 [==============================] - 6s 18us/sample - loss: 0.2571 - val_loss: 0.2614\n",
      "Epoch 20/25\n",
      "316175/316175 [==============================] - 6s 18us/sample - loss: 0.2570 - val_loss: 0.2611\n",
      "Epoch 21/25\n",
      "316175/316175 [==============================] - 6s 20us/sample - loss: 0.2568 - val_loss: 0.2608\n",
      "Epoch 22/25\n",
      "316175/316175 [==============================] - 6s 18us/sample - loss: 0.2566 - val_loss: 0.2608\n",
      "Epoch 23/25\n",
      "316175/316175 [==============================] - 6s 18us/sample - loss: 0.2566 - val_loss: 0.2611\n",
      "Epoch 24/25\n",
      "316175/316175 [==============================] - 6s 18us/sample - loss: 0.2564 - val_loss: 0.2613\n",
      "Epoch 25/25\n",
      "316175/316175 [==============================] - 6s 19us/sample - loss: 0.2562 - val_loss: 0.2612\n"
     ]
    },
    {
     "data": {
      "text/plain": [
       "<tensorflow.python.keras.callbacks.History at 0x1bf91a59288>"
      ]
     },
     "execution_count": 91,
     "metadata": {},
     "output_type": "execute_result"
    }
   ],
   "source": [
    "model.fit(x=X_train, \n",
    "          y=y_train, \n",
    "          epochs=25,\n",
    "          batch_size=256,\n",
    "          validation_data=(X_test, y_test), \n",
    "          )"
   ]
  },
  {
   "cell_type": "markdown",
   "metadata": {},
   "source": [
    "**TASK: OPTIONAL: Save your model.**"
   ]
  },
  {
   "cell_type": "code",
   "execution_count": 92,
   "metadata": {},
   "outputs": [],
   "source": [
    "from tensorflow.keras.models import load_model"
   ]
  },
  {
   "cell_type": "code",
   "execution_count": 93,
   "metadata": {},
   "outputs": [],
   "source": [
    "model.save('full_data_project_model.h5')  "
   ]
  },
  {
   "cell_type": "markdown",
   "metadata": {},
   "source": [
    "# Section 3: Evaluating Model Performance.\n",
    "\n",
    "**TASK: Plot out the validation loss versus the training loss.**"
   ]
  },
  {
   "cell_type": "code",
   "execution_count": 94,
   "metadata": {},
   "outputs": [],
   "source": [
    "losses = pd.DataFrame(model.history.history)"
   ]
  },
  {
   "cell_type": "code",
   "execution_count": 95,
   "metadata": {},
   "outputs": [
    {
     "data": {
      "text/plain": [
       "<matplotlib.axes._subplots.AxesSubplot at 0x1bf91a72948>"
      ]
     },
     "execution_count": 95,
     "metadata": {},
     "output_type": "execute_result"
    },
    {
     "data": {
      "image/png": "[encoded data removed]",
      "text/plain": [
       "<Figure size 432x288 with 1 Axes>"
      ]
     },
     "metadata": {
      "needs_background": "light"
     },
     "output_type": "display_data"
    }
   ],
   "source": [
    "losses[['loss','val_loss']].plot()"
   ]
  },
  {
   "cell_type": "markdown",
   "metadata": {},
   "source": [
    "**TASK: Create predictions from the X_test set and display a classification report and confusion matrix for the X_test set.**"
   ]
  },
  {
   "cell_type": "code",
   "execution_count": 96,
   "metadata": {},
   "outputs": [],
   "source": [
    "from sklearn.metrics import classification_report,confusion_matrix"
   ]
  },
  {
   "cell_type": "code",
   "execution_count": 97,
   "metadata": {},
   "outputs": [],
   "source": [
    "predictions = model.predict_classes(X_test)"
   ]
  },
  {
   "cell_type": "code",
   "execution_count": 98,
   "metadata": {},
   "outputs": [
    {
     "name": "stdout",
     "output_type": "stream",
     "text": [
      "              precision    recall  f1-score   support\n",
      "\n",
      "           0       0.88      1.00      0.93     63386\n",
      "           1       0.98      0.44      0.61     15658\n",
      "\n",
      "    accuracy                           0.89     79044\n",
      "   macro avg       0.93      0.72      0.77     79044\n",
      "weighted avg       0.90      0.89      0.87     79044\n",
      "\n"
     ]
    }
   ],
   "source": [
    "print(classification_report(y_test,predictions))"
   ]
  },
  {
   "cell_type": "code",
   "execution_count": 99,
   "metadata": {},
   "outputs": [
    {
     "data": {
      "text/plain": [
       "array([[63259,   127],\n",
       "       [ 8773,  6885]], dtype=int64)"
      ]
     },
     "execution_count": 99,
     "metadata": {},
     "output_type": "execute_result"
    }
   ],
   "source": [
    "confusion_matrix(y_test,predictions)"
   ]
  },
  {
   "cell_type": "markdown",
   "metadata": {},
   "source": [
    "**TASK: Given the customer below, would you offer this person a loan?**"
   ]
  },
  {
   "cell_type": "code",
   "execution_count": 100,
   "metadata": {},
   "outputs": [
    {
     "data": {
      "text/plain": [
       "loan_amnt           25000.00\n",
       "term                   60.00\n",
       "int_rate               18.24\n",
       "installment           638.11\n",
       "annual_inc          61665.00\n",
       "                      ...   \n",
       "48052                   0.00\n",
       "70466                   0.00\n",
       "86630                   0.00\n",
       "93700                   0.00\n",
       "earliest_cr_year     1996.00\n",
       "Name: 305323, Length: 78, dtype: float64"
      ]
     },
     "execution_count": 100,
     "metadata": {},
     "output_type": "execute_result"
    }
   ],
   "source": [
    "import random\n",
    "random.seed(101)\n",
    "random_ind = random.randint(0,len(df))\n",
    "\n",
    "new_customer = df.drop('loan_repaid',axis=1).iloc[random_ind]\n",
    "new_customer"
   ]
  },
  {
   "cell_type": "code",
   "execution_count": 101,
   "metadata": {},
   "outputs": [
    {
     "data": {
      "text/plain": [
       "array([[0]])"
      ]
     },
     "execution_count": 101,
     "metadata": {},
     "output_type": "execute_result"
    }
   ],
   "source": [
    "model.predict_classes(new_customer.values.reshape(1,78))"
   ]
  },
  {
   "cell_type": "markdown",
   "metadata": {},
   "source": [
    "**TASK: Now check, did this person actually end up paying back their loan?**"
   ]
  },
  {
   "cell_type": "code",
   "execution_count": 102,
   "metadata": {},
   "outputs": [
    {
     "data": {
      "text/plain": [
       "0.0"
      ]
     },
     "execution_count": 102,
     "metadata": {},
     "output_type": "execute_result"
    }
   ],
   "source": [
    "df.iloc[random_ind]['loan_repaid']"
   ]
  },
  {
   "cell_type": "markdown",
   "metadata": {},
   "source": [
    "# New network"
   ]
  },
  {
   "cell_type": "code",
   "execution_count": 103,
   "metadata": {},
   "outputs": [],
   "source": [
    "from tensorflow.keras.models import Sequential\n",
    "from tensorflow.keras.layers import Dense, Activation, Dropout\n",
    "from tensorflow.keras.layers import BatchNormalization\n",
    "from tensorflow.keras.optimizers import Adam\n",
    "from tensorflow.keras.callbacks import ReduceLROnPlateau, EarlyStopping, ModelCheckpoint\n",
    "from tensorflow import keras"
   ]
  },
  {
   "cell_type": "code",
   "execution_count": 104,
   "metadata": {},
   "outputs": [
    {
     "name": "stdout",
     "output_type": "stream",
     "text": [
      "Weight for class 0: 0.62\n",
      "Weight for class 1: 2.55\n"
     ]
    }
   ],
   "source": [
    "neg = df['loan_repaid'].value_counts()[0]\n",
    "pos = df['loan_repaid'].value_counts()[1]\n",
    "total = neg+pos\n",
    "\n",
    "weight_for_0 = (1 / neg)*(total)/2.0 \n",
    "weight_for_1 = (1 / pos)*(total)/2.0\n",
    "\n",
    "class_weight = {0: weight_for_0, 1: weight_for_1}\n",
    "\n",
    "print('Weight for class 0: {:.2f}'.format(weight_for_0))\n",
    "print('Weight for class 1: {:.2f}'.format(weight_for_1))"
   ]
  },
  {
   "cell_type": "code",
   "execution_count": 105,
   "metadata": {},
   "outputs": [
    {
     "data": {
      "text/plain": [
       "array([-1.41052028])"
      ]
     },
     "execution_count": 105,
     "metadata": {},
     "output_type": "execute_result"
    }
   ],
   "source": [
    "initial_bias = np.log([pos/neg])\n",
    "initial_bias"
   ]
  },
  {
   "cell_type": "code",
   "execution_count": 106,
   "metadata": {},
   "outputs": [],
   "source": [
    "metrics = [\n",
    "      keras.metrics.BinaryAccuracy(name='accuracy'),\n",
    "      keras.metrics.Precision(name='precision'),\n",
    "      keras.metrics.Recall(name='recall'),\n",
    "      keras.metrics.AUC(name='auc')]"
   ]
  },
  {
   "cell_type": "code",
   "execution_count": 107,
   "metadata": {},
   "outputs": [],
   "source": [
    "rlr = ReduceLROnPlateau(monitor='val_loss', factor=0.5, min_lr=1e-05, verbose = 1, patience=2)\n",
    "es = EarlyStopping(monitor='val_loss', mode='min', verbose = 1, patience=5)\n",
    "mc = ModelCheckpoint('project_best_model.h5', monitor='val_loss', mode='min', verbose = 1, save_best_only=True)"
   ]
  },
  {
   "cell_type": "code",
   "execution_count": 108,
   "metadata": {},
   "outputs": [],
   "source": [
    "def build_model(dr = 0, lr = 0):\n",
    "    model = Sequential()\n",
    "    model.add(Dense(64, input_dim=78, activation ='tanh'))\n",
    "    model.add(BatchNormalization())\n",
    "    model.add(Dropout(dr))\n",
    "    model.add(Dense(64, activation ='tanh'))\n",
    "    model.add(BatchNormalization())\n",
    "    model.add(Dropout(dr))\n",
    "    model.add(Dense(8, activation ='tanh'))\n",
    "    model.add(Dense(1, activation='sigmoid', \n",
    "                    bias_initializer = tf.keras.initializers.Constant(initial_bias)))\n",
    "    \n",
    "    adam = keras.optimizers.Adam(learning_rate= lr)\n",
    "    model.compile(optimizer = adam ,loss='binary_crossentropy', metrics = metrics)\n",
    "    return model"
   ]
  },
  {
   "cell_type": "code",
   "execution_count": 109,
   "metadata": {},
   "outputs": [
    {
     "name": "stdout",
     "output_type": "stream",
     "text": [
      "Model: \"sequential_1\"\n",
      "_________________________________________________________________\n",
      "Layer (type)                 Output Shape              Param #   \n",
      "=================================================================\n",
      "dense_4 (Dense)              (None, 64)                5056      \n",
      "_________________________________________________________________\n",
      "batch_normalization (BatchNo (None, 64)                256       \n",
      "_________________________________________________________________\n",
      "dropout_3 (Dropout)          (None, 64)                0         \n",
      "_________________________________________________________________\n",
      "dense_5 (Dense)              (None, 64)                4160      \n",
      "_________________________________________________________________\n",
      "batch_normalization_1 (Batch (None, 64)                256       \n",
      "_________________________________________________________________\n",
      "dropout_4 (Dropout)          (None, 64)                0         \n",
      "_________________________________________________________________\n",
      "dense_6 (Dense)              (None, 8)                 520       \n",
      "_________________________________________________________________\n",
      "dense_7 (Dense)              (None, 1)                 9         \n",
      "=================================================================\n",
      "Total params: 10,257\n",
      "Trainable params: 10,001\n",
      "Non-trainable params: 256\n",
      "_________________________________________________________________\n",
      "None\n"
     ]
    }
   ],
   "source": [
    "model = build_model(dr = 0.4, lr = 0.01)\n",
    "print(model.summary())"
   ]
  },
  {
   "cell_type": "code",
   "execution_count": 110,
   "metadata": {},
   "outputs": [
    {
     "name": "stdout",
     "output_type": "stream",
     "text": [
      "Train on 252940 samples, validate on 63235 samples\n",
      "Epoch 1/100\n",
      "252416/252940 [============================>.] - ETA: 0s - loss: 0.3953 - accuracy: 0.7783 - precision: 0.4612 - recall: 0.7849 - auc: 0.8827\n",
      "Epoch 00001: val_loss improved from inf to 0.36720, saving model to project_best_model.h5\n",
      "252940/252940 [==============================] - 13s 53us/sample - loss: 0.3953 - accuracy: 0.7784 - precision: 0.4613 - recall: 0.7849 - auc: 0.8827 - val_loss: 0.3672 - val_accuracy: 0.7929 - val_precision: 0.4817 - val_recall: 0.7993 - val_auc: 0.8948\n",
      "Epoch 2/100\n",
      "252672/252940 [============================>.] - ETA: 0s - loss: 0.3719 - accuracy: 0.7826 - precision: 0.4680 - recall: 0.8061 - auc: 0.8919\n",
      "Epoch 00002: val_loss did not improve from 0.36720\n",
      "252940/252940 [==============================] - 8s 33us/sample - loss: 0.3718 - accuracy: 0.7826 - precision: 0.4680 - recall: 0.8061 - auc: 0.8919 - val_loss: 0.3674 - val_accuracy: 0.7954 - val_precision: 0.4850 - val_recall: 0.7757 - val_auc: 0.8947\n",
      "Epoch 3/100\n",
      "251648/252940 [============================>.] - ETA: 0s - loss: 0.3727 - accuracy: 0.7734 - precision: 0.4561 - recall: 0.8162 - auc: 0.8915\n",
      "Epoch 00003: ReduceLROnPlateau reducing learning rate to 0.004999999888241291.\n",
      "\n",
      "Epoch 00003: val_loss improved from 0.36720 to 0.36719, saving model to project_best_model.h5\n",
      "252940/252940 [==============================] - 7s 28us/sample - loss: 0.3726 - accuracy: 0.7732 - precision: 0.4558 - recall: 0.8165 - auc: 0.8915 - val_loss: 0.3672 - val_accuracy: 0.8195 - val_precision: 0.5268 - val_recall: 0.7375 - val_auc: 0.8944\n",
      "Epoch 4/100\n",
      "251392/252940 [============================>.] - ETA: 0s - loss: 0.3689 - accuracy: 0.7689 - precision: 0.4510 - recall: 0.8288 - auc: 0.8935\n",
      "Epoch 00004: val_loss improved from 0.36719 to 0.36410, saving model to project_best_model.h5\n",
      "252940/252940 [==============================] - 7s 28us/sample - loss: 0.3688 - accuracy: 0.7689 - precision: 0.4509 - recall: 0.8291 - auc: 0.8936 - val_loss: 0.3641 - val_accuracy: 0.7543 - val_precision: 0.4345 - val_recall: 0.8586 - val_auc: 0.8970\n",
      "Epoch 5/100\n",
      "252416/252940 [============================>.] - ETA: 0s - loss: 0.3678 - accuracy: 0.7730 - precision: 0.4559 - recall: 0.8219 - auc: 0.8948\n",
      "Epoch 00005: val_loss did not improve from 0.36410\n",
      "252940/252940 [==============================] - 7s 26us/sample - loss: 0.3677 - accuracy: 0.7730 - precision: 0.4558 - recall: 0.8220 - auc: 0.8948 - val_loss: 0.3653 - val_accuracy: 0.7721 - val_precision: 0.4540 - val_recall: 0.8288 - val_auc: 0.8966\n",
      "Epoch 6/100\n",
      "251904/252940 [============================>.] - ETA: 0s - loss: 0.3679 - accuracy: 0.7736 - precision: 0.4566 - recall: 0.8206 - auc: 0.8943\n",
      "Epoch 00006: val_loss improved from 0.36410 to 0.36364, saving model to project_best_model.h5\n",
      "252940/252940 [==============================] - 7s 26us/sample - loss: 0.3678 - accuracy: 0.7735 - precision: 0.4564 - recall: 0.8207 - auc: 0.8944 - val_loss: 0.3636 - val_accuracy: 0.7664 - val_precision: 0.4476 - val_recall: 0.8406 - val_auc: 0.8980\n",
      "Epoch 7/100\n",
      "251136/252940 [============================>.] - ETA: 0s - loss: 0.3670 - accuracy: 0.7717 - precision: 0.4546 - recall: 0.8281 - auc: 0.8951\n",
      "Epoch 00007: val_loss did not improve from 0.36364\n",
      "252940/252940 [==============================] - 6s 26us/sample - loss: 0.3669 - accuracy: 0.7718 - precision: 0.4546 - recall: 0.8281 - auc: 0.8951 - val_loss: 0.3649 - val_accuracy: 0.7781 - val_precision: 0.4613 - val_recall: 0.8183 - val_auc: 0.8959\n",
      "Epoch 8/100\n",
      "252928/252940 [============================>.] - ETA: 0s - loss: 0.3672 - accuracy: 0.7777 - precision: 0.4613 - recall: 0.8074 - auc: 0.8945\n",
      "Epoch 00008: ReduceLROnPlateau reducing learning rate to 0.0024999999441206455.\n",
      "\n",
      "Epoch 00008: val_loss did not improve from 0.36364\n",
      "252940/252940 [==============================] - 7s 26us/sample - loss: 0.3672 - accuracy: 0.7777 - precision: 0.4613 - recall: 0.8074 - auc: 0.8945 - val_loss: 0.3641 - val_accuracy: 0.7460 - val_precision: 0.4257 - val_recall: 0.8640 - val_auc: 0.8971\n",
      "Epoch 9/100\n",
      "251648/252940 [============================>.] - ETA: 0s - loss: 0.3663 - accuracy: 0.7648 - precision: 0.4462 - recall: 0.8350 - auc: 0.8954\n",
      "Epoch 00009: val_loss improved from 0.36364 to 0.36358, saving model to project_best_model.h5\n",
      "252940/252940 [==============================] - 7s 26us/sample - loss: 0.3662 - accuracy: 0.7647 - precision: 0.4461 - recall: 0.8352 - auc: 0.8954 - val_loss: 0.3636 - val_accuracy: 0.7501 - val_precision: 0.4293 - val_recall: 0.8512 - val_auc: 0.8973\n",
      "Epoch 10/100\n",
      "252672/252940 [============================>.] - ETA: 0s - loss: 0.3656 - accuracy: 0.7875 - precision: 0.4746 - recall: 0.7973 - auc: 0.8956\n",
      "Epoch 00010: val_loss improved from 0.36358 to 0.36354, saving model to project_best_model.h5\n",
      "252940/252940 [==============================] - 7s 28us/sample - loss: 0.3656 - accuracy: 0.7875 - precision: 0.4746 - recall: 0.7973 - auc: 0.8956 - val_loss: 0.3635 - val_accuracy: 0.7836 - val_precision: 0.4688 - val_recall: 0.8182 - val_auc: 0.8970\n",
      "Epoch 11/100\n",
      "252672/252940 [============================>.] - ETA: 0s - loss: 0.3653 - accuracy: 0.7741 - precision: 0.4573 - recall: 0.8232 - auc: 0.8962\n",
      "Epoch 00011: val_loss improved from 0.36354 to 0.36333, saving model to project_best_model.h5\n",
      "252940/252940 [==============================] - 7s 30us/sample - loss: 0.3653 - accuracy: 0.7742 - precision: 0.4574 - recall: 0.8233 - auc: 0.8962 - val_loss: 0.3633 - val_accuracy: 0.7514 - val_precision: 0.4311 - val_recall: 0.8557 - val_auc: 0.8983\n",
      "Epoch 12/100\n",
      "251904/252940 [============================>.] - ETA: 0s - loss: 0.3651 - accuracy: 0.7758 - precision: 0.4594 - recall: 0.8237 - auc: 0.8968\n",
      "Epoch 00012: val_loss improved from 0.36333 to 0.36306, saving model to project_best_model.h5\n",
      "252940/252940 [==============================] - 8s 33us/sample - loss: 0.3651 - accuracy: 0.7759 - precision: 0.4596 - recall: 0.8239 - auc: 0.8968 - val_loss: 0.3631 - val_accuracy: 0.7806 - val_precision: 0.4649 - val_recall: 0.8209 - val_auc: 0.8980\n",
      "Epoch 13/100\n",
      "252672/252940 [============================>.] - ETA: 0s - loss: 0.3648 - accuracy: 0.7735 - precision: 0.4567 - recall: 0.8272 - auc: 0.8971\n",
      "Epoch 00013: val_loss improved from 0.36306 to 0.36202, saving model to project_best_model.h5\n",
      "252940/252940 [==============================] - 8s 33us/sample - loss: 0.3648 - accuracy: 0.7735 - precision: 0.4566 - recall: 0.8271 - auc: 0.8971 - val_loss: 0.3620 - val_accuracy: 0.7688 - val_precision: 0.4501 - val_recall: 0.8323 - val_auc: 0.8990\n",
      "Epoch 14/100\n",
      "252928/252940 [============================>.] - ETA: 0s - loss: 0.3645 - accuracy: 0.7801 - precision: 0.4650 - recall: 0.8200 - auc: 0.8978\n",
      "Epoch 00014: val_loss improved from 0.36202 to 0.36116, saving model to project_best_model.h5\n",
      "252940/252940 [==============================] - 8s 31us/sample - loss: 0.3645 - accuracy: 0.7801 - precision: 0.4650 - recall: 0.8200 - auc: 0.8978 - val_loss: 0.3612 - val_accuracy: 0.7943 - val_precision: 0.4838 - val_recall: 0.8038 - val_auc: 0.9004\n",
      "Epoch 15/100\n",
      "252672/252940 [============================>.] - ETA: 0s - loss: 0.3640 - accuracy: 0.7778 - precision: 0.4621 - recall: 0.8234 - auc: 0.8984\n",
      "Epoch 00015: val_loss did not improve from 0.36116\n",
      "252940/252940 [==============================] - 7s 27us/sample - loss: 0.3639 - accuracy: 0.7777 - precision: 0.4621 - recall: 0.8234 - auc: 0.8984 - val_loss: 0.3614 - val_accuracy: 0.7806 - val_precision: 0.4651 - val_recall: 0.8257 - val_auc: 0.9007\n",
      "Epoch 16/100\n",
      "252928/252940 [============================>.] - ETA: 0s - loss: 0.3640 - accuracy: 0.7815 - precision: 0.4671 - recall: 0.8233 - auc: 0.8989\n",
      "Epoch 00016: val_loss improved from 0.36116 to 0.36064, saving model to project_best_model.h5\n",
      "252940/252940 [==============================] - 7s 26us/sample - loss: 0.3640 - accuracy: 0.7815 - precision: 0.4671 - recall: 0.8233 - auc: 0.8989 - val_loss: 0.3606 - val_accuracy: 0.7983 - val_precision: 0.4898 - val_recall: 0.7969 - val_auc: 0.9013\n",
      "Epoch 17/100\n",
      "252928/252940 [============================>.] - ETA: 0s - loss: 0.3632 - accuracy: 0.7828 - precision: 0.4687 - recall: 0.8177 - auc: 0.8993\n",
      "Epoch 00017: val_loss improved from 0.36064 to 0.36022, saving model to project_best_model.h5\n",
      "252940/252940 [==============================] - 7s 27us/sample - loss: 0.3632 - accuracy: 0.7828 - precision: 0.4687 - recall: 0.8177 - auc: 0.8993 - val_loss: 0.3602 - val_accuracy: 0.7857 - val_precision: 0.4718 - val_recall: 0.8205 - val_auc: 0.9012\n"
     ]
    },
    {
     "name": "stdout",
     "output_type": "stream",
     "text": [
      "Epoch 18/100\n",
      "251136/252940 [============================>.] - ETA: 0s - loss: 0.3633 - accuracy: 0.7842 - precision: 0.4706 - recall: 0.8176 - auc: 0.8995\n",
      "Epoch 00018: val_loss improved from 0.36022 to 0.35958, saving model to project_best_model.h5\n",
      "252940/252940 [==============================] - 7s 26us/sample - loss: 0.3632 - accuracy: 0.7842 - precision: 0.4707 - recall: 0.8178 - auc: 0.8995 - val_loss: 0.3596 - val_accuracy: 0.7838 - val_precision: 0.4692 - val_recall: 0.8213 - val_auc: 0.9019\n",
      "Epoch 19/100\n",
      "250880/252940 [============================>.] - ETA: 0s - loss: 0.3626 - accuracy: 0.7846 - precision: 0.4710 - recall: 0.8148 - auc: 0.8998\n",
      "Epoch 00019: val_loss did not improve from 0.35958\n",
      "252940/252940 [==============================] - 6s 26us/sample - loss: 0.3626 - accuracy: 0.7846 - precision: 0.4710 - recall: 0.8148 - auc: 0.8998 - val_loss: 0.3597 - val_accuracy: 0.7729 - val_precision: 0.4553 - val_recall: 0.8323 - val_auc: 0.9017\n",
      "Epoch 20/100\n",
      "252672/252940 [============================>.] - ETA: 0s - loss: 0.3622 - accuracy: 0.7881 - precision: 0.4759 - recall: 0.8107 - auc: 0.9001\n",
      "Epoch 00020: val_loss improved from 0.35958 to 0.35940, saving model to project_best_model.h5\n",
      "252940/252940 [==============================] - 7s 26us/sample - loss: 0.3622 - accuracy: 0.7881 - precision: 0.4758 - recall: 0.8108 - auc: 0.9002 - val_loss: 0.3594 - val_accuracy: 0.7747 - val_precision: 0.4577 - val_recall: 0.8357 - val_auc: 0.9020\n",
      "Epoch 21/100\n",
      "252416/252940 [============================>.] - ETA: 0s - loss: 0.3621 - accuracy: 0.7842 - precision: 0.4707 - recall: 0.8179 - auc: 0.9003\n",
      "Epoch 00021: val_loss did not improve from 0.35940\n",
      "252940/252940 [==============================] - 6s 25us/sample - loss: 0.3620 - accuracy: 0.7843 - precision: 0.4707 - recall: 0.8179 - auc: 0.9003 - val_loss: 0.3599 - val_accuracy: 0.8064 - val_precision: 0.5026 - val_recall: 0.7862 - val_auc: 0.9020\n",
      "Epoch 22/100\n",
      "252672/252940 [============================>.] - ETA: 0s - loss: 0.3623 - accuracy: 0.7879 - precision: 0.4755 - recall: 0.8100 - auc: 0.9001\n",
      "Epoch 00022: ReduceLROnPlateau reducing learning rate to 0.0012499999720603228.\n",
      "\n",
      "Epoch 00022: val_loss did not improve from 0.35940\n",
      "252940/252940 [==============================] - 7s 26us/sample - loss: 0.3623 - accuracy: 0.7879 - precision: 0.4755 - recall: 0.8100 - auc: 0.9001 - val_loss: 0.3595 - val_accuracy: 0.7927 - val_precision: 0.4815 - val_recall: 0.8104 - val_auc: 0.9021\n",
      "Epoch 23/100\n",
      "252928/252940 [============================>.] - ETA: 0s - loss: 0.3616 - accuracy: 0.7878 - precision: 0.4755 - recall: 0.8130 - auc: 0.9007\n",
      "Epoch 00023: val_loss improved from 0.35940 to 0.35914, saving model to project_best_model.h5\n",
      "252940/252940 [==============================] - 8s 30us/sample - loss: 0.3616 - accuracy: 0.7878 - precision: 0.4754 - recall: 0.8130 - auc: 0.9007 - val_loss: 0.3591 - val_accuracy: 0.7953 - val_precision: 0.4853 - val_recall: 0.8019 - val_auc: 0.9023\n",
      "Epoch 24/100\n",
      "252416/252940 [============================>.] - ETA: 0s - loss: 0.3613 - accuracy: 0.7893 - precision: 0.4776 - recall: 0.8138 - auc: 0.9011- ETA: 3s - loss: 0.3626 - accuracy: 0.\n",
      "Epoch 00024: val_loss improved from 0.35914 to 0.35913, saving model to project_best_model.h5\n",
      "252940/252940 [==============================] - 13s 52us/sample - loss: 0.3613 - accuracy: 0.7893 - precision: 0.4776 - recall: 0.8138 - auc: 0.9011 - val_loss: 0.3591 - val_accuracy: 0.7945 - val_precision: 0.4841 - val_recall: 0.8066 - val_auc: 0.9023\n",
      "Epoch 25/100\n",
      "251648/252940 [============================>.] - ETA: 0s - loss: 0.3613 - accuracy: 0.7900 - precision: 0.4784 - recall: 0.8097 - auc: 0.9010\n",
      "Epoch 00025: ReduceLROnPlateau reducing learning rate to 0.0006249999860301614.\n",
      "\n",
      "Epoch 00025: val_loss did not improve from 0.35913\n",
      "252940/252940 [==============================] - 10s 39us/sample - loss: 0.3612 - accuracy: 0.7901 - precision: 0.4788 - recall: 0.8097 - auc: 0.9010 - val_loss: 0.3594 - val_accuracy: 0.8058 - val_precision: 0.5015 - val_recall: 0.7875 - val_auc: 0.9020\n",
      "Epoch 26/100\n",
      "252160/252940 [============================>.] - ETA: 0s - loss: 0.3605 - accuracy: 0.7942 - precision: 0.4845 - recall: 0.8047 - auc: 0.9017\n",
      "Epoch 00026: val_loss improved from 0.35913 to 0.35888, saving model to project_best_model.h5\n",
      "252940/252940 [==============================] - 7s 29us/sample - loss: 0.3606 - accuracy: 0.7942 - precision: 0.4846 - recall: 0.8047 - auc: 0.9017 - val_loss: 0.3589 - val_accuracy: 0.7905 - val_precision: 0.4785 - val_recall: 0.8133 - val_auc: 0.9024\n",
      "Epoch 27/100\n",
      "251904/252940 [============================>.] - ETA: 0s - loss: 0.3607 - accuracy: 0.7906 - precision: 0.4794 - recall: 0.8103 - auc: 0.9014\n",
      "Epoch 00027: val_loss improved from 0.35888 to 0.35879, saving model to project_best_model.h5\n",
      "252940/252940 [==============================] - 7s 26us/sample - loss: 0.3607 - accuracy: 0.7906 - precision: 0.4794 - recall: 0.8104 - auc: 0.9014 - val_loss: 0.3588 - val_accuracy: 0.7889 - val_precision: 0.4762 - val_recall: 0.8154 - val_auc: 0.9023\n",
      "Epoch 28/100\n",
      "251392/252940 [============================>.] - ETA: 0s - loss: 0.3606 - accuracy: 0.7915 - precision: 0.4806 - recall: 0.8090 - auc: 0.9015\n",
      "Epoch 00028: val_loss improved from 0.35879 to 0.35864, saving model to project_best_model.h5\n",
      "252940/252940 [==============================] - 7s 26us/sample - loss: 0.3606 - accuracy: 0.7915 - precision: 0.4806 - recall: 0.8090 - auc: 0.9015 - val_loss: 0.3586 - val_accuracy: 0.7887 - val_precision: 0.4759 - val_recall: 0.8153 - val_auc: 0.9024\n",
      "Epoch 29/100\n",
      "251648/252940 [============================>.] - ETA: 0s - loss: 0.3603 - accuracy: 0.7913 - precision: 0.4805 - recall: 0.8107 - auc: 0.9019\n",
      "Epoch 00029: val_loss did not improve from 0.35864\n",
      "252940/252940 [==============================] - 7s 27us/sample - loss: 0.3602 - accuracy: 0.7913 - precision: 0.4805 - recall: 0.8107 - auc: 0.9019 - val_loss: 0.3587 - val_accuracy: 0.7967 - val_precision: 0.4874 - val_recall: 0.8044 - val_auc: 0.9024\n",
      "Epoch 30/100\n",
      "252672/252940 [============================>.] - ETA: 0s - loss: 0.3602 - accuracy: 0.7947 - precision: 0.4854 - recall: 0.8079 - auc: 0.9019\n",
      "Epoch 00030: ReduceLROnPlateau reducing learning rate to 0.0003124999930150807.\n",
      "\n",
      "Epoch 00030: val_loss did not improve from 0.35864\n",
      "252940/252940 [==============================] - 7s 26us/sample - loss: 0.3602 - accuracy: 0.7947 - precision: 0.4854 - recall: 0.8079 - auc: 0.9019 - val_loss: 0.3586 - val_accuracy: 0.7945 - val_precision: 0.4841 - val_recall: 0.8063 - val_auc: 0.9025\n",
      "Epoch 31/100\n",
      "250880/252940 [============================>.] - ETA: 0s - loss: 0.3602 - accuracy: 0.7920 - precision: 0.4815 - recall: 0.8100 - auc: 0.9020\n",
      "Epoch 00031: val_loss improved from 0.35864 to 0.35845, saving model to project_best_model.h5\n",
      "252940/252940 [==============================] - 7s 27us/sample - loss: 0.3601 - accuracy: 0.7919 - precision: 0.4814 - recall: 0.8099 - auc: 0.9020 - val_loss: 0.3584 - val_accuracy: 0.7869 - val_precision: 0.4735 - val_recall: 0.8192 - val_auc: 0.9025\n",
      "Epoch 32/100\n",
      "251648/252940 [============================>.] - ETA: 0s - loss: 0.3600 - accuracy: 0.7916 - precision: 0.4809 - recall: 0.8124 - auc: 0.9021\n",
      "Epoch 00032: val_loss did not improve from 0.35845\n",
      "252940/252940 [==============================] - 7s 27us/sample - loss: 0.3600 - accuracy: 0.7916 - precision: 0.4809 - recall: 0.8123 - auc: 0.9021 - val_loss: 0.3585 - val_accuracy: 0.7892 - val_precision: 0.4765 - val_recall: 0.8149 - val_auc: 0.9025\n",
      "Epoch 33/100\n",
      "251392/252940 [============================>.] - ETA: 0s - loss: 0.3600 - accuracy: 0.7918 - precision: 0.4812 - recall: 0.8109 - auc: 0.9022\n",
      "Epoch 00033: ReduceLROnPlateau reducing learning rate to 0.00015624999650754035.\n",
      "\n",
      "Epoch 00033: val_loss improved from 0.35845 to 0.35844, saving model to project_best_model.h5\n",
      "252940/252940 [==============================] - 7s 26us/sample - loss: 0.3600 - accuracy: 0.7917 - precision: 0.4811 - recall: 0.8110 - auc: 0.9022 - val_loss: 0.3584 - val_accuracy: 0.7900 - val_precision: 0.4778 - val_recall: 0.8138 - val_auc: 0.9026\n",
      "Epoch 34/100\n"
     ]
    },
    {
     "name": "stdout",
     "output_type": "stream",
     "text": [
      "252928/252940 [============================>.] - ETA: 0s - loss: 0.3599 - accuracy: 0.7921 - precision: 0.4816 - recall: 0.8105 - auc: 0.9021\n",
      "Epoch 00034: val_loss improved from 0.35844 to 0.35843, saving model to project_best_model.h5\n",
      "252940/252940 [==============================] - 7s 27us/sample - loss: 0.3599 - accuracy: 0.7921 - precision: 0.4816 - recall: 0.8105 - auc: 0.9021 - val_loss: 0.3584 - val_accuracy: 0.7894 - val_precision: 0.4769 - val_recall: 0.8145 - val_auc: 0.9026\n",
      "Epoch 35/100\n",
      "251648/252940 [============================>.] - ETA: 0s - loss: 0.3600 - accuracy: 0.7913 - precision: 0.4804 - recall: 0.8106 - auc: 0.9021\n",
      "Epoch 00035: ReduceLROnPlateau reducing learning rate to 7.812499825377017e-05.\n",
      "\n",
      "Epoch 00035: val_loss improved from 0.35843 to 0.35837, saving model to project_best_model.h5\n",
      "252940/252940 [==============================] - 7s 28us/sample - loss: 0.3599 - accuracy: 0.7913 - precision: 0.4805 - recall: 0.8105 - auc: 0.9021 - val_loss: 0.3584 - val_accuracy: 0.7907 - val_precision: 0.4787 - val_recall: 0.8120 - val_auc: 0.9027\n",
      "Epoch 36/100\n",
      "251648/252940 [============================>.] - ETA: 0s - loss: 0.3595 - accuracy: 0.7914 - precision: 0.4807 - recall: 0.8113 - auc: 0.9024\n",
      "Epoch 00036: val_loss improved from 0.35837 to 0.35836, saving model to project_best_model.h5\n",
      "252940/252940 [==============================] - 8s 32us/sample - loss: 0.3595 - accuracy: 0.7914 - precision: 0.4806 - recall: 0.8113 - auc: 0.9024 - val_loss: 0.3584 - val_accuracy: 0.7943 - val_precision: 0.4838 - val_recall: 0.8068 - val_auc: 0.9027\n",
      "Epoch 37/100\n",
      "252672/252940 [============================>.] - ETA: 0s - loss: 0.3601 - accuracy: 0.7931 - precision: 0.4830 - recall: 0.8088 - auc: 0.9020\n",
      "Epoch 00037: ReduceLROnPlateau reducing learning rate to 3.9062499126885086e-05.\n",
      "\n",
      "Epoch 00037: val_loss improved from 0.35836 to 0.35836, saving model to project_best_model.h5\n",
      "252940/252940 [==============================] - 8s 32us/sample - loss: 0.3602 - accuracy: 0.7932 - precision: 0.4832 - recall: 0.8088 - auc: 0.9020 - val_loss: 0.3584 - val_accuracy: 0.7923 - val_precision: 0.4810 - val_recall: 0.8101 - val_auc: 0.9026\n",
      "Epoch 38/100\n",
      "252416/252940 [============================>.] - ETA: 0s - loss: 0.3598 - accuracy: 0.7927 - precision: 0.4825 - recall: 0.8099 - auc: 0.9023\n",
      "Epoch 00038: val_loss did not improve from 0.35836\n",
      "252940/252940 [==============================] - 8s 32us/sample - loss: 0.3597 - accuracy: 0.7927 - precision: 0.4824 - recall: 0.8100 - auc: 0.9024 - val_loss: 0.3584 - val_accuracy: 0.7930 - val_precision: 0.4820 - val_recall: 0.8094 - val_auc: 0.9026\n",
      "Epoch 39/100\n",
      "251648/252940 [============================>.] - ETA: 0s - loss: 0.3596 - accuracy: 0.7931 - precision: 0.4831 - recall: 0.8091 - auc: 0.9023\n",
      "Epoch 00039: ReduceLROnPlateau reducing learning rate to 1.9531249563442543e-05.\n",
      "\n",
      "Epoch 00039: val_loss did not improve from 0.35836\n",
      "252940/252940 [==============================] - 7s 29us/sample - loss: 0.3597 - accuracy: 0.7932 - precision: 0.4831 - recall: 0.8092 - auc: 0.9023 - val_loss: 0.3584 - val_accuracy: 0.7925 - val_precision: 0.4812 - val_recall: 0.8099 - val_auc: 0.9027\n",
      "Epoch 40/100\n",
      "250880/252940 [============================>.] - ETA: 0s - loss: 0.3599 - accuracy: 0.7922 - precision: 0.4818 - recall: 0.8091 - auc: 0.9022\n",
      "Epoch 00040: val_loss did not improve from 0.35836\n",
      "252940/252940 [==============================] - 7s 26us/sample - loss: 0.3599 - accuracy: 0.7921 - precision: 0.4816 - recall: 0.8090 - auc: 0.9021 - val_loss: 0.3584 - val_accuracy: 0.7913 - val_precision: 0.4795 - val_recall: 0.8116 - val_auc: 0.9026\n",
      "Epoch 41/100\n",
      "252928/252940 [============================>.] - ETA: 0s - loss: 0.3599 - accuracy: 0.7925 - precision: 0.4822 - recall: 0.8118 - auc: 0.9023\n",
      "Epoch 00041: val_loss improved from 0.35836 to 0.35835, saving model to project_best_model.h5\n",
      "252940/252940 [==============================] - 7s 26us/sample - loss: 0.3599 - accuracy: 0.7925 - precision: 0.4822 - recall: 0.8118 - auc: 0.9023 - val_loss: 0.3583 - val_accuracy: 0.7908 - val_precision: 0.4788 - val_recall: 0.8123 - val_auc: 0.9026\n",
      "Epoch 42/100\n",
      "251392/252940 [============================>.] - ETA: 0s - loss: 0.3599 - accuracy: 0.7926 - precision: 0.4824 - recall: 0.8100 - auc: 0.9023\n",
      "Epoch 00042: val_loss did not improve from 0.35835\n",
      "252940/252940 [==============================] - 7s 26us/sample - loss: 0.3598 - accuracy: 0.7926 - precision: 0.4824 - recall: 0.8102 - auc: 0.9023 - val_loss: 0.3584 - val_accuracy: 0.7919 - val_precision: 0.4803 - val_recall: 0.8111 - val_auc: 0.9027\n",
      "Epoch 43/100\n",
      "251136/252940 [============================>.] - ETA: 0s - loss: 0.3597 - accuracy: 0.7918 - precision: 0.4812 - recall: 0.8127 - auc: 0.9025\n",
      "Epoch 00043: ReduceLROnPlateau reducing learning rate to 1e-05.\n",
      "\n",
      "Epoch 00043: val_loss did not improve from 0.35835\n",
      "252940/252940 [==============================] - 7s 26us/sample - loss: 0.3596 - accuracy: 0.7918 - precision: 0.4813 - recall: 0.8126 - auc: 0.9025 - val_loss: 0.3583 - val_accuracy: 0.7907 - val_precision: 0.4788 - val_recall: 0.8124 - val_auc: 0.9027\n",
      "Epoch 44/100\n",
      "252928/252940 [============================>.] - ETA: 0s - loss: 0.3601 - accuracy: 0.7920 - precision: 0.4816 - recall: 0.8121 - auc: 0.9021\n",
      "Epoch 00044: val_loss improved from 0.35835 to 0.35834, saving model to project_best_model.h5\n",
      "252940/252940 [==============================] - 6s 26us/sample - loss: 0.3601 - accuracy: 0.7920 - precision: 0.4816 - recall: 0.8121 - auc: 0.9021 - val_loss: 0.3583 - val_accuracy: 0.7906 - val_precision: 0.4785 - val_recall: 0.8127 - val_auc: 0.9027\n",
      "Epoch 45/100\n",
      "252416/252940 [============================>.] - ETA: 0s - loss: 0.3604 - accuracy: 0.7922 - precision: 0.4818 - recall: 0.8105 - auc: 0.9019\n",
      "Epoch 00045: val_loss improved from 0.35834 to 0.35834, saving model to project_best_model.h5\n",
      "252940/252940 [==============================] - 7s 26us/sample - loss: 0.3603 - accuracy: 0.7921 - precision: 0.4816 - recall: 0.8105 - auc: 0.9020 - val_loss: 0.3583 - val_accuracy: 0.7915 - val_precision: 0.4798 - val_recall: 0.8115 - val_auc: 0.9027\n",
      "Epoch 46/100\n",
      "252928/252940 [============================>.] - ETA: 0s - loss: 0.3600 - accuracy: 0.7923 - precision: 0.4819 - recall: 0.8101 - auc: 0.9021\n",
      "Epoch 00046: val_loss improved from 0.35834 to 0.35832, saving model to project_best_model.h5\n",
      "252940/252940 [==============================] - 7s 26us/sample - loss: 0.3600 - accuracy: 0.7923 - precision: 0.4819 - recall: 0.8101 - auc: 0.9021 - val_loss: 0.3583 - val_accuracy: 0.7908 - val_precision: 0.4788 - val_recall: 0.8125 - val_auc: 0.9027\n",
      "Epoch 47/100\n",
      "252672/252940 [============================>.] - ETA: 0s - loss: 0.3600 - accuracy: 0.7913 - precision: 0.4805 - recall: 0.8115 - auc: 0.9022\n",
      "Epoch 00047: val_loss did not improve from 0.35832\n",
      "252940/252940 [==============================] - 7s 28us/sample - loss: 0.3600 - accuracy: 0.7914 - precision: 0.4806 - recall: 0.8115 - auc: 0.9022 - val_loss: 0.3583 - val_accuracy: 0.7919 - val_precision: 0.4803 - val_recall: 0.8107 - val_auc: 0.9026\n",
      "Epoch 48/100\n",
      "252672/252940 [============================>.] - ETA: 0s - loss: 0.3597 - accuracy: 0.7918 - precision: 0.4812 - recall: 0.8099 - auc: 0.9023- ETA: 0s - loss: 0.3597 - accuracy: 0.7918 - precision: 0.4811 - recall: 0.8099 - auc: 0.902\n",
      "Epoch 00048: val_loss did not improve from 0.35832\n",
      "252940/252940 [==============================] - 9s 35us/sample - loss: 0.3597 - accuracy: 0.7918 - precision: 0.4812 - recall: 0.8098 - auc: 0.9022 - val_loss: 0.3583 - val_accuracy: 0.7924 - val_precision: 0.4811 - val_recall: 0.8105 - val_auc: 0.9026\n",
      "Epoch 49/100\n",
      "252928/252940 [============================>.] - ETA: 0s - loss: 0.3596 - accuracy: 0.7918 - precision: 0.4813 - recall: 0.8109 - auc: 0.9025\n",
      "Epoch 00049: val_loss did not improve from 0.35832\n",
      "252940/252940 [==============================] - 9s 35us/sample - loss: 0.3596 - accuracy: 0.7918 - precision: 0.4813 - recall: 0.8109 - auc: 0.9025 - val_loss: 0.3583 - val_accuracy: 0.7930 - val_precision: 0.4820 - val_recall: 0.8094 - val_auc: 0.9026\n",
      "Epoch 50/100\n"
     ]
    },
    {
     "name": "stdout",
     "output_type": "stream",
     "text": [
      "252160/252940 [============================>.] - ETA: 0s - loss: 0.3594 - accuracy: 0.7921 - precision: 0.4816 - recall: 0.8106 - auc: 0.9025\n",
      "Epoch 00050: val_loss improved from 0.35832 to 0.35831, saving model to project_best_model.h5\n",
      "252940/252940 [==============================] - 8s 33us/sample - loss: 0.3595 - accuracy: 0.7921 - precision: 0.4816 - recall: 0.8104 - auc: 0.9024 - val_loss: 0.3583 - val_accuracy: 0.7910 - val_precision: 0.4791 - val_recall: 0.8119 - val_auc: 0.9026\n",
      "Epoch 51/100\n",
      "252416/252940 [============================>.] - ETA: 0s - loss: 0.3596 - accuracy: 0.7924 - precision: 0.4820 - recall: 0.8102 - auc: 0.9024\n",
      "Epoch 00051: val_loss did not improve from 0.35831\n",
      "252940/252940 [==============================] - 8s 31us/sample - loss: 0.3597 - accuracy: 0.7922 - precision: 0.4818 - recall: 0.8100 - auc: 0.9023 - val_loss: 0.3583 - val_accuracy: 0.7924 - val_precision: 0.4811 - val_recall: 0.8102 - val_auc: 0.9026\n",
      "Epoch 52/100\n",
      "251648/252940 [============================>.] - ETA: 0s - loss: 0.3598 - accuracy: 0.7926 - precision: 0.4825 - recall: 0.8108 - auc: 0.9022\n",
      "Epoch 00052: val_loss did not improve from 0.35831\n",
      "252940/252940 [==============================] - 7s 26us/sample - loss: 0.3599 - accuracy: 0.7927 - precision: 0.4824 - recall: 0.8108 - auc: 0.9022 - val_loss: 0.3583 - val_accuracy: 0.7916 - val_precision: 0.4800 - val_recall: 0.8118 - val_auc: 0.9027\n",
      "Epoch 53/100\n",
      "250880/252940 [============================>.] - ETA: 0s - loss: 0.3594 - accuracy: 0.7923 - precision: 0.4819 - recall: 0.8111 - auc: 0.9026\n",
      "Epoch 00053: val_loss did not improve from 0.35831\n",
      "252940/252940 [==============================] - 7s 26us/sample - loss: 0.3594 - accuracy: 0.7922 - precision: 0.4818 - recall: 0.8110 - auc: 0.9025 - val_loss: 0.3583 - val_accuracy: 0.7915 - val_precision: 0.4798 - val_recall: 0.8118 - val_auc: 0.9027\n",
      "Epoch 54/100\n",
      "251648/252940 [============================>.] - ETA: 0s - loss: 0.3597 - accuracy: 0.7916 - precision: 0.4806 - recall: 0.8109 - auc: 0.9022\n",
      "Epoch 00054: val_loss did not improve from 0.35831\n",
      "252940/252940 [==============================] - 7s 26us/sample - loss: 0.3600 - accuracy: 0.7915 - precision: 0.4808 - recall: 0.8107 - auc: 0.9020 - val_loss: 0.3583 - val_accuracy: 0.7913 - val_precision: 0.4796 - val_recall: 0.8118 - val_auc: 0.9027\n",
      "Epoch 55/100\n",
      "251392/252940 [============================>.] - ETA: 0s - loss: 0.3599 - accuracy: 0.7915 - precision: 0.4809 - recall: 0.8105 - auc: 0.9022\n",
      "Epoch 00055: val_loss did not improve from 0.35831\n",
      "252940/252940 [==============================] - 7s 26us/sample - loss: 0.3598 - accuracy: 0.7915 - precision: 0.4808 - recall: 0.8105 - auc: 0.9022 - val_loss: 0.3583 - val_accuracy: 0.7923 - val_precision: 0.4809 - val_recall: 0.8105 - val_auc: 0.9026\n",
      "Epoch 00055: early stopping\n"
     ]
    },
    {
     "data": {
      "text/plain": [
       "<tensorflow.python.keras.callbacks.History at 0x1bf92b0d408>"
      ]
     },
     "execution_count": 110,
     "metadata": {},
     "output_type": "execute_result"
    }
   ],
   "source": [
    "model.fit(x=X_train, y=y_train,\n",
    "          validation_split = 0.2,\n",
    "          batch_size=256, epochs=100,\n",
    "          class_weight=class_weight,\n",
    "          callbacks=[rlr, es, mc])"
   ]
  },
  {
   "cell_type": "code",
   "execution_count": 111,
   "metadata": {},
   "outputs": [
    {
     "data": {
      "text/plain": [
       "<matplotlib.axes._subplots.AxesSubplot at 0x1bf963e9c08>"
      ]
     },
     "execution_count": 111,
     "metadata": {},
     "output_type": "execute_result"
    },
    {
     "data": {
      "image/png": "[encoded data removed]",
      "text/plain": [
       "<Figure size 432x288 with 1 Axes>"
      ]
     },
     "metadata": {
      "needs_background": "light"
     },
     "output_type": "display_data"
    }
   ],
   "source": [
    "losses = pd.DataFrame(model.history.history)\n",
    "losses[['loss','val_loss']].plot()"
   ]
  },
  {
   "cell_type": "code",
   "execution_count": 112,
   "metadata": {},
   "outputs": [
    {
     "data": {
      "text/plain": [
       "<matplotlib.axes._subplots.AxesSubplot at 0x1bf9304a688>"
      ]
     },
     "execution_count": 112,
     "metadata": {},
     "output_type": "execute_result"
    },
    {
     "data": {
      "image/png": "[encoded data removed]",
      "text/plain": [
       "<Figure size 432x288 with 1 Axes>"
      ]
     },
     "metadata": {
      "needs_background": "light"
     },
     "output_type": "display_data"
    }
   ],
   "source": [
    "losses[['accuracy','val_accuracy']].plot()"
   ]
  },
  {
   "cell_type": "code",
   "execution_count": 113,
   "metadata": {},
   "outputs": [
    {
     "data": {
      "image/png": "[encoded data removed]",
      "text/plain": [
       "<Figure size 648x360 with 1 Axes>"
      ]
     },
     "metadata": {
      "needs_background": "light"
     },
     "output_type": "display_data"
    },
    {
     "data": {
      "image/png": "[encoded data removed]",
      "text/plain": [
       "<Figure size 648x360 with 1 Axes>"
      ]
     },
     "metadata": {
      "needs_background": "light"
     },
     "output_type": "display_data"
    },
    {
     "data": {
      "image/png": "[encoded data removed]",
      "text/plain": [
       "<Figure size 648x360 with 1 Axes>"
      ]
     },
     "metadata": {
      "needs_background": "light"
     },
     "output_type": "display_data"
    },
    {
     "data": {
      "image/png": "[encoded data removed]",
      "text/plain": [
       "<Figure size 648x360 with 1 Axes>"
      ]
     },
     "metadata": {
      "needs_background": "light"
     },
     "output_type": "display_data"
    }
   ],
   "source": [
    "def plot_metrics(history):\n",
    "  metrics =  ['loss', 'auc', 'precision', 'recall']\n",
    "  for n, metric in enumerate(metrics):\n",
    "    name = metric.replace(\"_\",\" \").capitalize()\n",
    "    plt.figure(figsize=(9,5))\n",
    "    #plt.subplot(2,2,n+1)\n",
    "    plt.plot(history.epoch,  history.history[metric], label='Train')\n",
    "    plt.plot(history.epoch, history.history['val_'+metric], linestyle=\"--\", label='Val')\n",
    "    plt.xlabel('Epoch')\n",
    "    plt.ylabel(name)\n",
    "    plt.legend()\n",
    "\n",
    "plot_metrics(model.history)"
   ]
  },
  {
   "cell_type": "code",
   "execution_count": 114,
   "metadata": {},
   "outputs": [
    {
     "data": {
      "text/html": [
       "<div>\n",
       "<style scoped>\n",
       "    .dataframe tbody tr th:only-of-type {\n",
       "        vertical-align: middle;\n",
       "    }\n",
       "\n",
       "    .dataframe tbody tr th {\n",
       "        vertical-align: top;\n",
       "    }\n",
       "\n",
       "    .dataframe thead th {\n",
       "        text-align: right;\n",
       "    }\n",
       "</style>\n",
       "<table border=\"1\" class=\"dataframe\">\n",
       "  <thead>\n",
       "    <tr style=\"text-align: right;\">\n",
       "      <th></th>\n",
       "      <th>loss</th>\n",
       "      <th>accuracy</th>\n",
       "      <th>precision</th>\n",
       "      <th>recall</th>\n",
       "      <th>auc</th>\n",
       "      <th>val_loss</th>\n",
       "      <th>val_accuracy</th>\n",
       "      <th>val_precision</th>\n",
       "      <th>val_recall</th>\n",
       "      <th>val_auc</th>\n",
       "      <th>lr</th>\n",
       "    </tr>\n",
       "  </thead>\n",
       "  <tbody>\n",
       "    <tr>\n",
       "      <th>0</th>\n",
       "      <td>0.395270</td>\n",
       "      <td>0.778406</td>\n",
       "      <td>0.461272</td>\n",
       "      <td>0.784888</td>\n",
       "      <td>0.882723</td>\n",
       "      <td>0.367199</td>\n",
       "      <td>0.792947</td>\n",
       "      <td>0.481666</td>\n",
       "      <td>0.799303</td>\n",
       "      <td>0.894837</td>\n",
       "      <td>0.010</td>\n",
       "    </tr>\n",
       "    <tr>\n",
       "      <th>1</th>\n",
       "      <td>0.371803</td>\n",
       "      <td>0.782597</td>\n",
       "      <td>0.467958</td>\n",
       "      <td>0.806110</td>\n",
       "      <td>0.891932</td>\n",
       "      <td>0.367376</td>\n",
       "      <td>0.795446</td>\n",
       "      <td>0.484980</td>\n",
       "      <td>0.775725</td>\n",
       "      <td>0.894693</td>\n",
       "      <td>0.010</td>\n",
       "    </tr>\n",
       "    <tr>\n",
       "      <th>2</th>\n",
       "      <td>0.372595</td>\n",
       "      <td>0.773215</td>\n",
       "      <td>0.455813</td>\n",
       "      <td>0.816530</td>\n",
       "      <td>0.891491</td>\n",
       "      <td>0.367191</td>\n",
       "      <td>0.819467</td>\n",
       "      <td>0.526797</td>\n",
       "      <td>0.737482</td>\n",
       "      <td>0.894400</td>\n",
       "      <td>0.010</td>\n",
       "    </tr>\n",
       "    <tr>\n",
       "      <th>3</th>\n",
       "      <td>0.368781</td>\n",
       "      <td>0.768886</td>\n",
       "      <td>0.450936</td>\n",
       "      <td>0.829110</td>\n",
       "      <td>0.893583</td>\n",
       "      <td>0.364098</td>\n",
       "      <td>0.754282</td>\n",
       "      <td>0.434481</td>\n",
       "      <td>0.858613</td>\n",
       "      <td>0.896992</td>\n",
       "      <td>0.005</td>\n",
       "    </tr>\n",
       "    <tr>\n",
       "      <th>4</th>\n",
       "      <td>0.367730</td>\n",
       "      <td>0.773013</td>\n",
       "      <td>0.455820</td>\n",
       "      <td>0.821982</td>\n",
       "      <td>0.894821</td>\n",
       "      <td>0.365335</td>\n",
       "      <td>0.772072</td>\n",
       "      <td>0.454037</td>\n",
       "      <td>0.828796</td>\n",
       "      <td>0.896562</td>\n",
       "      <td>0.005</td>\n",
       "    </tr>\n",
       "  </tbody>\n",
       "</table>\n",
       "</div>"
      ],
      "text/plain": [
       "       loss  accuracy  precision    recall       auc  val_loss  val_accuracy  \\\n",
       "0  0.395270  0.778406   0.461272  0.784888  0.882723  0.367199      0.792947   \n",
       "1  0.371803  0.782597   0.467958  0.806110  0.891932  0.367376      0.795446   \n",
       "2  0.372595  0.773215   0.455813  0.816530  0.891491  0.367191      0.819467   \n",
       "3  0.368781  0.768886   0.450936  0.829110  0.893583  0.364098      0.754282   \n",
       "4  0.367730  0.773013   0.455820  0.821982  0.894821  0.365335      0.772072   \n",
       "\n",
       "   val_precision  val_recall   val_auc     lr  \n",
       "0       0.481666    0.799303  0.894837  0.010  \n",
       "1       0.484980    0.775725  0.894693  0.010  \n",
       "2       0.526797    0.737482  0.894400  0.010  \n",
       "3       0.434481    0.858613  0.896992  0.005  \n",
       "4       0.454037    0.828796  0.896562  0.005  "
      ]
     },
     "execution_count": 114,
     "metadata": {},
     "output_type": "execute_result"
    }
   ],
   "source": [
    "losses.head(5)"
   ]
  },
  {
   "cell_type": "code",
   "execution_count": 115,
   "metadata": {},
   "outputs": [
    {
     "name": "stdout",
     "output_type": "stream",
     "text": [
      "Loss: 0.3569\n"
     ]
    }
   ],
   "source": [
    "results = model.evaluate(X_train, y_train, batch_size=256, verbose=0)\n",
    "print(\"Loss: {:0.4f}\".format(results[0]))"
   ]
  },
  {
   "cell_type": "code",
   "execution_count": 116,
   "metadata": {},
   "outputs": [
    {
     "name": "stdout",
     "output_type": "stream",
     "text": [
      "[[49682 13704]\n",
      " [ 2937 12721]]\n",
      "              precision    recall  f1-score   support\n",
      "\n",
      "           0       0.94      0.78      0.86     63386\n",
      "           1       0.48      0.81      0.60     15658\n",
      "\n",
      "    accuracy                           0.79     79044\n",
      "   macro avg       0.71      0.80      0.73     79044\n",
      "weighted avg       0.85      0.79      0.81     79044\n",
      "\n"
     ]
    }
   ],
   "source": [
    "predictions = model.predict_classes(X_test)\n",
    "print(confusion_matrix(y_test,predictions))\n",
    "print(classification_report(y_test,predictions))"
   ]
  }
 ],
 "metadata": {
  "kernelspec": {
   "display_name": "Python 3",
   "language": "python",
   "name": "python3"
  },
  "language_info": {
   "codemirror_mode": {
    "name": "ipython",
    "version": 3
   },
   "file_extension": ".py",
   "mimetype": "text/x-python",
   "name": "python",
   "nbconvert_exporter": "python",
   "pygments_lexer": "ipython3",
   "version": "3.7.7"
  }
 },
 "nbformat": 4,
 "nbformat_minor": 2
}
