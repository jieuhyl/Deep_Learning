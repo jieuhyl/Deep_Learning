{
  "nbformat": 4,
  "nbformat_minor": 0,
  "metadata": {
    "colab": {
      "name": "CNN_Cifar10_GPU.ipynb",
      "provenance": []
    },
    "kernelspec": {
      "name": "python3",
      "display_name": "Python 3"
    },
    "accelerator": "GPU"
  },
  "cells": [
    {
      "cell_type": "code",
      "metadata": {
        "id": "N4sJKzjtlaRw",
        "colab_type": "code",
        "colab": {
          "base_uri": "https://localhost:8080/",
          "height": 34
        },
        "outputId": "a8208076-ee52-42c0-9175-03d0174f7c9b"
      },
      "source": [
        "import tensorflow as tf\n",
        "print(tf.__version__)"
      ],
      "execution_count": 1,
      "outputs": [
        {
          "output_type": "stream",
          "text": [
            "2.2.0\n"
          ],
          "name": "stdout"
        }
      ]
    },
    {
      "cell_type": "code",
      "metadata": {
        "id": "IoiqQkfql6cZ",
        "colab_type": "code",
        "colab": {
          "base_uri": "https://localhost:8080/",
          "height": 34
        },
        "outputId": "c5382a1a-9dcb-4a8d-dd5a-d6c7c78f04dd"
      },
      "source": [
        "print(\"Num GPUs Available: \", len(tf.config.experimental.list_physical_devices('GPU')))"
      ],
      "execution_count": 2,
      "outputs": [
        {
          "output_type": "stream",
          "text": [
            "Num GPUs Available:  1\n"
          ],
          "name": "stdout"
        }
      ]
    },
    {
      "cell_type": "code",
      "metadata": {
        "id": "V4uqCi-ZloCh",
        "colab_type": "code",
        "colab": {
          "base_uri": "https://localhost:8080/",
          "height": 34
        },
        "outputId": "43b2cf19-de8f-4ffe-891f-5a677cb1c985"
      },
      "source": [
        "# additional imports\n",
        "import numpy as np\n",
        "import matplotlib.pyplot as plt\n",
        "from keras.preprocessing.image import ImageDataGenerator\n",
        "from tensorflow.keras.layers import Input, Conv2D, Dense, Activation, Flatten, Dropout, GlobalMaxPooling2D, MaxPooling2D, BatchNormalization\n",
        "from tensorflow.keras.models import Sequential, Model\n",
        "from tensorflow.keras.utils import to_categorical\n",
        "from tensorflow.keras import regularizers, optimizers\n",
        "from tensorflow.keras.callbacks import ReduceLROnPlateau, EarlyStopping, ModelCheckpoint"
      ],
      "execution_count": 3,
      "outputs": [
        {
          "output_type": "stream",
          "text": [
            "Using TensorFlow backend.\n"
          ],
          "name": "stderr"
        }
      ]
    },
    {
      "cell_type": "code",
      "metadata": {
        "id": "bufUAKINl1kT",
        "colab_type": "code",
        "colab": {
          "base_uri": "https://localhost:8080/",
          "height": 51
        },
        "outputId": "8046db60-b1e4-477a-f9a0-d19acf2716f9"
      },
      "source": [
        "# Load in the data\n",
        "cifar10 = tf.keras.datasets.cifar10\n",
        "\n",
        "(x_train, y_train), (x_test, y_test) = cifar10.load_data()"
      ],
      "execution_count": 4,
      "outputs": [
        {
          "output_type": "stream",
          "text": [
            "Downloading data from https://www.cs.toronto.edu/~kriz/cifar-10-python.tar.gz\n",
            "170500096/170498071 [==============================] - 2s 0us/step\n"
          ],
          "name": "stdout"
        }
      ]
    },
    {
      "cell_type": "code",
      "metadata": {
        "id": "O6qK0G0HmKLi",
        "colab_type": "code",
        "colab": {
          "base_uri": "https://localhost:8080/",
          "height": 34
        },
        "outputId": "43d58547-dda5-4ab1-8012-def881c00eaa"
      },
      "source": [
        "# number of classes\n",
        "K = len(set(y_train.flatten()))\n",
        "print(\"number of classes:\", K)"
      ],
      "execution_count": 5,
      "outputs": [
        {
          "output_type": "stream",
          "text": [
            "number of classes: 10\n"
          ],
          "name": "stdout"
        }
      ]
    },
    {
      "cell_type": "code",
      "metadata": {
        "id": "nqiQXYaln0hJ",
        "colab_type": "code",
        "colab": {
          "base_uri": "https://localhost:8080/",
          "height": 51
        },
        "outputId": "ca904e41-eb1d-44bb-cb71-784eab1d9d4f"
      },
      "source": [
        "#mean = np.mean(x_train,axis=(0,1,2,3))\n",
        "#std = np.std(x_train,axis=(0,1,2,3))\n",
        "#x_train = (x_train-mean)/(std+1e-7)\n",
        "#x_test = (x_test-mean)/(std+1e-7)\n",
        "x_train = x_train.astype('float32')/255\n",
        "x_test = x_test.astype('float32')/255\n",
        "y_train_cat = to_categorical(y_train, 10)\n",
        "y_test_cat = to_categorical(y_test, 10)\n",
        "print(\"x_train.shape:\", x_train.shape)\n",
        "print(\"y_train_cat.shape\", y_train.shape)"
      ],
      "execution_count": 6,
      "outputs": [
        {
          "output_type": "stream",
          "text": [
            "x_train.shape: (50000, 32, 32, 3)\n",
            "y_train_cat.shape (50000, 1)\n"
          ],
          "name": "stdout"
        }
      ]
    },
    {
      "cell_type": "code",
      "metadata": {
        "id": "-9G44pdzl-ua",
        "colab_type": "code",
        "colab": {}
      },
      "source": [
        "import matplotlib.pyplot as plt"
      ],
      "execution_count": 7,
      "outputs": []
    },
    {
      "cell_type": "code",
      "metadata": {
        "id": "1BAfxbLjmI0C",
        "colab_type": "code",
        "colab": {
          "base_uri": "https://localhost:8080/",
          "height": 283
        },
        "outputId": "86de20f3-405c-4e21-81ff-139537348fde"
      },
      "source": [
        "# FROG\n",
        "plt.imshow(x_train[0])"
      ],
      "execution_count": 8,
      "outputs": [
        {
          "output_type": "execute_result",
          "data": {
            "text/plain": [
              "<matplotlib.image.AxesImage at 0x7f5091132860>"
            ]
          },
          "metadata": {
            "tags": []
          },
          "execution_count": 8
        },
        {
          "output_type": "display_data",
          "data": {
            "image/png": "[encoded data removed]",
            "text/plain": [
              "<Figure size 432x288 with 1 Axes>"
            ]
          },
          "metadata": {
            "tags": [],
            "needs_background": "light"
          }
        }
      ]
    },
    {
      "cell_type": "code",
      "metadata": {
        "id": "HgMstH9bmjMb",
        "colab_type": "code",
        "colab": {
          "base_uri": "https://localhost:8080/",
          "height": 34
        },
        "outputId": "ad14a11b-dc51-47da-e05a-8bf25329c194"
      },
      "source": [
        "x_train.shape[1:]"
      ],
      "execution_count": 9,
      "outputs": [
        {
          "output_type": "execute_result",
          "data": {
            "text/plain": [
              "(32, 32, 3)"
            ]
          },
          "metadata": {
            "tags": []
          },
          "execution_count": 9
        }
      ]
    },
    {
      "cell_type": "code",
      "metadata": {
        "id": "Bt0JAOR5o2PA",
        "colab_type": "code",
        "colab": {
          "base_uri": "https://localhost:8080/",
          "height": 850
        },
        "outputId": "6b596e9b-8a7d-44e3-9c82-8a5c5dcfb8a0"
      },
      "source": [
        "x_train[0]"
      ],
      "execution_count": 10,
      "outputs": [
        {
          "output_type": "execute_result",
          "data": {
            "text/plain": [
              "array([[[0.23137255, 0.24313726, 0.24705882],\n",
              "        [0.16862746, 0.18039216, 0.1764706 ],\n",
              "        [0.19607843, 0.1882353 , 0.16862746],\n",
              "        ...,\n",
              "        [0.61960787, 0.5176471 , 0.42352942],\n",
              "        [0.59607846, 0.49019608, 0.4       ],\n",
              "        [0.5803922 , 0.4862745 , 0.40392157]],\n",
              "\n",
              "       [[0.0627451 , 0.07843138, 0.07843138],\n",
              "        [0.        , 0.        , 0.        ],\n",
              "        [0.07058824, 0.03137255, 0.        ],\n",
              "        ...,\n",
              "        [0.48235294, 0.34509805, 0.21568628],\n",
              "        [0.46666667, 0.3254902 , 0.19607843],\n",
              "        [0.47843137, 0.34117648, 0.22352941]],\n",
              "\n",
              "       [[0.09803922, 0.09411765, 0.08235294],\n",
              "        [0.0627451 , 0.02745098, 0.        ],\n",
              "        [0.19215687, 0.10588235, 0.03137255],\n",
              "        ...,\n",
              "        [0.4627451 , 0.32941177, 0.19607843],\n",
              "        [0.47058824, 0.32941177, 0.19607843],\n",
              "        [0.42745098, 0.28627452, 0.16470589]],\n",
              "\n",
              "       ...,\n",
              "\n",
              "       [[0.8156863 , 0.6666667 , 0.3764706 ],\n",
              "        [0.7882353 , 0.6       , 0.13333334],\n",
              "        [0.7764706 , 0.6313726 , 0.10196079],\n",
              "        ...,\n",
              "        [0.627451  , 0.52156866, 0.27450982],\n",
              "        [0.21960784, 0.12156863, 0.02745098],\n",
              "        [0.20784314, 0.13333334, 0.07843138]],\n",
              "\n",
              "       [[0.7058824 , 0.54509807, 0.3764706 ],\n",
              "        [0.6784314 , 0.48235294, 0.16470589],\n",
              "        [0.7294118 , 0.5647059 , 0.11764706],\n",
              "        ...,\n",
              "        [0.72156864, 0.5803922 , 0.36862746],\n",
              "        [0.38039216, 0.24313726, 0.13333334],\n",
              "        [0.3254902 , 0.20784314, 0.13333334]],\n",
              "\n",
              "       [[0.69411767, 0.5647059 , 0.45490196],\n",
              "        [0.65882355, 0.5058824 , 0.36862746],\n",
              "        [0.7019608 , 0.5568628 , 0.34117648],\n",
              "        ...,\n",
              "        [0.84705883, 0.72156864, 0.54901963],\n",
              "        [0.5921569 , 0.4627451 , 0.32941177],\n",
              "        [0.48235294, 0.36078432, 0.28235295]]], dtype=float32)"
            ]
          },
          "metadata": {
            "tags": []
          },
          "execution_count": 10
        }
      ]
    },
    {
      "cell_type": "code",
      "metadata": {
        "id": "AJ1aSuASq0ff",
        "colab_type": "code",
        "colab": {}
      },
      "source": [
        "#rlr = ReduceLROnPlateau(monitor='val_loss', factor=0.5, min_lr=1e-7, verbose = 1, patience=5)\n",
        "#es = EarlyStopping(monitor='val_loss', mode='min', verbose = 1, patience=30)\n",
        "#mc = ModelCheckpoint('cnn_best_model.h5', monitor='val_loss', mode='min', verbose = 1, save_best_only=True)\n",
        "rlr = ReduceLROnPlateau(monitor='val_accuracy', mode = 'max', factor=0.5, min_lr=1e-7, verbose = 1, patience=10)\n",
        "es = EarlyStopping(monitor='val_accuracy', mode='max', verbose = 1, patience=50)\n",
        "mc = ModelCheckpoint('cnn_best_model.h5', monitor='val_accuracy', mode='max', verbose = 1, save_best_only=True)"
      ],
      "execution_count": 11,
      "outputs": []
    },
    {
      "cell_type": "code",
      "metadata": {
        "id": "XPWiWa2umYQ7",
        "colab_type": "code",
        "colab": {}
      },
      "source": [
        "# build model\n",
        "def build_model(lr = 0, dc = 0, dr = 0):\n",
        "    model = Sequential(name = 'CNN_cifar10')\n",
        "    model.add(Conv2D(32, (3, 3), activation='elu', kernel_initializer='he_uniform', kernel_regularizer=regularizers.l2(1e-4), padding='same', input_shape=(32, 32, 3)))\n",
        "    model.add(BatchNormalization())\n",
        "    model.add(Conv2D(32, (3, 3), activation='elu', kernel_initializer='he_uniform', kernel_regularizer=regularizers.l2(1e-4), padding='same'))\n",
        "    model.add(BatchNormalization())\n",
        "    model.add(MaxPooling2D((2, 2)))\n",
        "    model.add(Dropout(0.2))\n",
        "\n",
        "    model.add(Conv2D(64, (3, 3), activation='elu', kernel_initializer='he_uniform', kernel_regularizer=regularizers.l2(1e-4), padding='same'))\n",
        "    model.add(BatchNormalization())\n",
        "    model.add(Conv2D(64, (3, 3), activation='elu', kernel_initializer='he_uniform', kernel_regularizer=regularizers.l2(1e-4), padding='same'))\n",
        "    model.add(BatchNormalization())\n",
        "    model.add(MaxPooling2D((2, 2)))\n",
        "    model.add(Dropout(0.3))\n",
        "\n",
        "    model.add(Conv2D(128, (3, 3), activation='elu', kernel_initializer='he_uniform', kernel_regularizer=regularizers.l2(1e-4), padding='same'))\n",
        "    model.add(BatchNormalization())\n",
        "    model.add(Conv2D(128, (3, 3), activation='elu', kernel_initializer='he_uniform', kernel_regularizer=regularizers.l2(1e-4), padding='same'))\n",
        "    model.add(BatchNormalization())\n",
        "    model.add(MaxPooling2D((2, 2)))\n",
        "    model.add(Dropout(0.4))\n",
        "\n",
        "    model.add(Flatten())\n",
        "    model.add(Dense(256, activation='elu', kernel_initializer='he_uniform'))\n",
        "    model.add(BatchNormalization())\n",
        "    model.add(Dropout(dr))\n",
        "    model.add(Dense(10, activation='softmax'))\n",
        "    # compile model\n",
        "    opt = optimizers.Adam(lr = lr, decay = dc)\n",
        "    #opt = optimizers.SGD(lr = lr, momentum = mt)\n",
        "    #opt = optimizers.RMSprop(lr = lr, decay = dc)\n",
        "    model.compile(loss='categorical_crossentropy', optimizer=opt, metrics=['accuracy'])\n",
        "    return model"
      ],
      "execution_count": 12,
      "outputs": []
    },
    {
      "cell_type": "code",
      "metadata": {
        "id": "r-vner3i-oQv",
        "colab_type": "code",
        "colab": {}
      },
      "source": [
        "model = build_model(lr = 0.001, dc = 1e-5, dr = 0.5)\n",
        "#model = build_model(lr = 0.01, mt = 0.9, dr = 0.5)\n",
        "#model = build_model(lr = 0.0003, dc = 1e-6, dr = 0.5)"
      ],
      "execution_count": 13,
      "outputs": []
    },
    {
      "cell_type": "code",
      "metadata": {
        "id": "YBqqScMEpMBu",
        "colab_type": "code",
        "colab": {
          "base_uri": "https://localhost:8080/",
          "height": 935
        },
        "outputId": "f1d50e61-08a5-45f0-9d68-1474b522c2cc"
      },
      "source": [
        "model.summary()"
      ],
      "execution_count": 14,
      "outputs": [
        {
          "output_type": "stream",
          "text": [
            "Model: \"CNN_cifar10\"\n",
            "_________________________________________________________________\n",
            "Layer (type)                 Output Shape              Param #   \n",
            "=================================================================\n",
            "conv2d (Conv2D)              (None, 32, 32, 32)        896       \n",
            "_________________________________________________________________\n",
            "batch_normalization (BatchNo (None, 32, 32, 32)        128       \n",
            "_________________________________________________________________\n",
            "conv2d_1 (Conv2D)            (None, 32, 32, 32)        9248      \n",
            "_________________________________________________________________\n",
            "batch_normalization_1 (Batch (None, 32, 32, 32)        128       \n",
            "_________________________________________________________________\n",
            "max_pooling2d (MaxPooling2D) (None, 16, 16, 32)        0         \n",
            "_________________________________________________________________\n",
            "dropout (Dropout)            (None, 16, 16, 32)        0         \n",
            "_________________________________________________________________\n",
            "conv2d_2 (Conv2D)            (None, 16, 16, 64)        18496     \n",
            "_________________________________________________________________\n",
            "batch_normalization_2 (Batch (None, 16, 16, 64)        256       \n",
            "_________________________________________________________________\n",
            "conv2d_3 (Conv2D)            (None, 16, 16, 64)        36928     \n",
            "_________________________________________________________________\n",
            "batch_normalization_3 (Batch (None, 16, 16, 64)        256       \n",
            "_________________________________________________________________\n",
            "max_pooling2d_1 (MaxPooling2 (None, 8, 8, 64)          0         \n",
            "_________________________________________________________________\n",
            "dropout_1 (Dropout)          (None, 8, 8, 64)          0         \n",
            "_________________________________________________________________\n",
            "conv2d_4 (Conv2D)            (None, 8, 8, 128)         73856     \n",
            "_________________________________________________________________\n",
            "batch_normalization_4 (Batch (None, 8, 8, 128)         512       \n",
            "_________________________________________________________________\n",
            "conv2d_5 (Conv2D)            (None, 8, 8, 128)         147584    \n",
            "_________________________________________________________________\n",
            "batch_normalization_5 (Batch (None, 8, 8, 128)         512       \n",
            "_________________________________________________________________\n",
            "max_pooling2d_2 (MaxPooling2 (None, 4, 4, 128)         0         \n",
            "_________________________________________________________________\n",
            "dropout_2 (Dropout)          (None, 4, 4, 128)         0         \n",
            "_________________________________________________________________\n",
            "flatten (Flatten)            (None, 2048)              0         \n",
            "_________________________________________________________________\n",
            "dense (Dense)                (None, 256)               524544    \n",
            "_________________________________________________________________\n",
            "batch_normalization_6 (Batch (None, 256)               1024      \n",
            "_________________________________________________________________\n",
            "dropout_3 (Dropout)          (None, 256)               0         \n",
            "_________________________________________________________________\n",
            "dense_1 (Dense)              (None, 10)                2570      \n",
            "=================================================================\n",
            "Total params: 816,938\n",
            "Trainable params: 815,530\n",
            "Non-trainable params: 1,408\n",
            "_________________________________________________________________\n"
          ],
          "name": "stdout"
        }
      ]
    },
    {
      "cell_type": "code",
      "metadata": {
        "id": "NOtiNvHEpMEu",
        "colab_type": "code",
        "colab": {}
      },
      "source": [
        "#data augmentation\n",
        "datagen = ImageDataGenerator(\n",
        "        rotation_range=15,\n",
        "        width_shift_range=0.1,\n",
        "        height_shift_range=0.1,\n",
        "        horizontal_flip=True,\n",
        "        vertical_flip=False\n",
        "        )\n",
        "datagen.fit(x_train)"
      ],
      "execution_count": 15,
      "outputs": []
    },
    {
      "cell_type": "code",
      "metadata": {
        "id": "P9u-1CfApMHy",
        "colab_type": "code",
        "colab": {
          "base_uri": "https://localhost:8080/",
          "height": 1000
        },
        "outputId": "32f3ed60-f793-490b-d592-60edb4bcda38"
      },
      "source": [
        "# run model\n",
        "model.fit_generator(datagen.flow(x_train, y_train_cat, batch_size = 64),\n",
        "                                 validation_data = (x_test, y_test_cat),\n",
        "                                 steps_per_epoch = x_train.shape[0] // 64, \n",
        "                                 epochs = 400, verbose = 1,\n",
        "                                 callbacks = [rlr, es, mc])\n"
      ],
      "execution_count": 16,
      "outputs": [
        {
          "output_type": "stream",
          "text": [
            "WARNING:tensorflow:From <ipython-input-16-8ff7c6b3b836>:6: Model.fit_generator (from tensorflow.python.keras.engine.training) is deprecated and will be removed in a future version.\n",
            "Instructions for updating:\n",
            "Please use Model.fit, which supports generators.\n",
            "Epoch 1/400\n",
            "781/781 [==============================] - ETA: 0s - loss: 1.8105 - accuracy: 0.4163\n",
            "Epoch 00001: val_accuracy improved from -inf to 0.56920, saving model to cnn_best_model.h5\n",
            "781/781 [==============================] - 46s 58ms/step - loss: 1.8105 - accuracy: 0.4163 - val_loss: 1.3111 - val_accuracy: 0.5692 - lr: 0.0010\n",
            "Epoch 2/400\n",
            "781/781 [==============================] - ETA: 0s - loss: 1.3136 - accuracy: 0.5657\n",
            "Epoch 00002: val_accuracy improved from 0.56920 to 0.60510, saving model to cnn_best_model.h5\n",
            "781/781 [==============================] - 47s 61ms/step - loss: 1.3136 - accuracy: 0.5657 - val_loss: 1.2676 - val_accuracy: 0.6051 - lr: 0.0010\n",
            "Epoch 3/400\n",
            "781/781 [==============================] - ETA: 0s - loss: 1.1480 - accuracy: 0.6255\n",
            "Epoch 00003: val_accuracy improved from 0.60510 to 0.68430, saving model to cnn_best_model.h5\n",
            "781/781 [==============================] - 47s 61ms/step - loss: 1.1480 - accuracy: 0.6255 - val_loss: 1.0034 - val_accuracy: 0.6843 - lr: 0.0010\n",
            "Epoch 4/400\n",
            "781/781 [==============================] - ETA: 0s - loss: 1.0392 - accuracy: 0.6685\n",
            "Epoch 00004: val_accuracy improved from 0.68430 to 0.72670, saving model to cnn_best_model.h5\n",
            "781/781 [==============================] - 47s 60ms/step - loss: 1.0392 - accuracy: 0.6685 - val_loss: 0.8944 - val_accuracy: 0.7267 - lr: 0.0010\n",
            "Epoch 5/400\n",
            "781/781 [==============================] - ETA: 0s - loss: 0.9714 - accuracy: 0.6963\n",
            "Epoch 00005: val_accuracy did not improve from 0.72670\n",
            "781/781 [==============================] - 47s 60ms/step - loss: 0.9714 - accuracy: 0.6963 - val_loss: 0.9088 - val_accuracy: 0.7250 - lr: 0.0010\n",
            "Epoch 6/400\n",
            "781/781 [==============================] - ETA: 0s - loss: 0.9208 - accuracy: 0.7183\n",
            "Epoch 00006: val_accuracy improved from 0.72670 to 0.73750, saving model to cnn_best_model.h5\n",
            "781/781 [==============================] - 47s 61ms/step - loss: 0.9208 - accuracy: 0.7183 - val_loss: 0.9066 - val_accuracy: 0.7375 - lr: 0.0010\n",
            "Epoch 7/400\n",
            "781/781 [==============================] - ETA: 0s - loss: 0.8838 - accuracy: 0.7347\n",
            "Epoch 00007: val_accuracy improved from 0.73750 to 0.74750, saving model to cnn_best_model.h5\n",
            "781/781 [==============================] - 47s 61ms/step - loss: 0.8838 - accuracy: 0.7347 - val_loss: 0.8570 - val_accuracy: 0.7475 - lr: 0.0010\n",
            "Epoch 8/400\n",
            "781/781 [==============================] - ETA: 0s - loss: 0.8530 - accuracy: 0.7466\n",
            "Epoch 00008: val_accuracy improved from 0.74750 to 0.76980, saving model to cnn_best_model.h5\n",
            "781/781 [==============================] - 47s 61ms/step - loss: 0.8530 - accuracy: 0.7466 - val_loss: 0.8002 - val_accuracy: 0.7698 - lr: 0.0010\n",
            "Epoch 9/400\n",
            "781/781 [==============================] - ETA: 0s - loss: 0.8281 - accuracy: 0.7598\n",
            "Epoch 00009: val_accuracy improved from 0.76980 to 0.79380, saving model to cnn_best_model.h5\n",
            "781/781 [==============================] - 47s 61ms/step - loss: 0.8281 - accuracy: 0.7598 - val_loss: 0.7344 - val_accuracy: 0.7938 - lr: 0.0010\n",
            "Epoch 10/400\n",
            "781/781 [==============================] - ETA: 0s - loss: 0.8062 - accuracy: 0.7666\n",
            "Epoch 00010: val_accuracy did not improve from 0.79380\n",
            "781/781 [==============================] - 47s 60ms/step - loss: 0.8062 - accuracy: 0.7666 - val_loss: 0.7943 - val_accuracy: 0.7739 - lr: 0.0010\n",
            "Epoch 11/400\n",
            "781/781 [==============================] - ETA: 0s - loss: 0.7862 - accuracy: 0.7765\n",
            "Epoch 00011: val_accuracy did not improve from 0.79380\n",
            "781/781 [==============================] - 47s 60ms/step - loss: 0.7862 - accuracy: 0.7765 - val_loss: 0.7517 - val_accuracy: 0.7902 - lr: 0.0010\n",
            "Epoch 12/400\n",
            "781/781 [==============================] - ETA: 0s - loss: 0.7751 - accuracy: 0.7809\n",
            "Epoch 00012: val_accuracy improved from 0.79380 to 0.82470, saving model to cnn_best_model.h5\n",
            "781/781 [==============================] - 47s 60ms/step - loss: 0.7751 - accuracy: 0.7809 - val_loss: 0.6591 - val_accuracy: 0.8247 - lr: 0.0010\n",
            "Epoch 13/400\n",
            "781/781 [==============================] - ETA: 0s - loss: 0.7533 - accuracy: 0.7903\n",
            "Epoch 00013: val_accuracy did not improve from 0.82470\n",
            "781/781 [==============================] - 47s 60ms/step - loss: 0.7533 - accuracy: 0.7903 - val_loss: 0.6615 - val_accuracy: 0.8239 - lr: 0.0010\n",
            "Epoch 14/400\n",
            "781/781 [==============================] - ETA: 0s - loss: 0.7428 - accuracy: 0.7924\n",
            "Epoch 00014: val_accuracy did not improve from 0.82470\n",
            "781/781 [==============================] - 47s 60ms/step - loss: 0.7428 - accuracy: 0.7924 - val_loss: 0.6914 - val_accuracy: 0.8130 - lr: 0.0010\n",
            "Epoch 15/400\n",
            "781/781 [==============================] - ETA: 0s - loss: 0.7335 - accuracy: 0.7960\n",
            "Epoch 00015: val_accuracy did not improve from 0.82470\n",
            "781/781 [==============================] - 46s 60ms/step - loss: 0.7335 - accuracy: 0.7960 - val_loss: 0.7633 - val_accuracy: 0.7909 - lr: 0.0010\n",
            "Epoch 16/400\n",
            "781/781 [==============================] - ETA: 0s - loss: 0.7267 - accuracy: 0.7995\n",
            "Epoch 00016: val_accuracy improved from 0.82470 to 0.84140, saving model to cnn_best_model.h5\n",
            "781/781 [==============================] - 46s 59ms/step - loss: 0.7267 - accuracy: 0.7995 - val_loss: 0.6152 - val_accuracy: 0.8414 - lr: 0.0010\n",
            "Epoch 17/400\n",
            "781/781 [==============================] - ETA: 0s - loss: 0.7144 - accuracy: 0.8038\n",
            "Epoch 00017: val_accuracy did not improve from 0.84140\n",
            "781/781 [==============================] - 47s 60ms/step - loss: 0.7144 - accuracy: 0.8038 - val_loss: 0.6505 - val_accuracy: 0.8253 - lr: 0.0010\n",
            "Epoch 18/400\n",
            "781/781 [==============================] - ETA: 0s - loss: 0.7071 - accuracy: 0.8083\n",
            "Epoch 00018: val_accuracy did not improve from 0.84140\n",
            "781/781 [==============================] - 47s 60ms/step - loss: 0.7071 - accuracy: 0.8083 - val_loss: 0.8450 - val_accuracy: 0.7730 - lr: 0.0010\n",
            "Epoch 19/400\n",
            "781/781 [==============================] - ETA: 0s - loss: 0.7051 - accuracy: 0.8086\n",
            "Epoch 00019: val_accuracy did not improve from 0.84140\n",
            "781/781 [==============================] - 46s 59ms/step - loss: 0.7051 - accuracy: 0.8086 - val_loss: 0.6417 - val_accuracy: 0.8332 - lr: 0.0010\n",
            "Epoch 20/400\n",
            "781/781 [==============================] - ETA: 0s - loss: 0.6923 - accuracy: 0.8135\n",
            "Epoch 00020: val_accuracy did not improve from 0.84140\n",
            "781/781 [==============================] - 46s 59ms/step - loss: 0.6923 - accuracy: 0.8135 - val_loss: 0.6477 - val_accuracy: 0.8309 - lr: 0.0010\n",
            "Epoch 21/400\n",
            "781/781 [==============================] - ETA: 0s - loss: 0.6824 - accuracy: 0.8185\n",
            "Epoch 00021: val_accuracy improved from 0.84140 to 0.84660, saving model to cnn_best_model.h5\n",
            "781/781 [==============================] - 47s 60ms/step - loss: 0.6824 - accuracy: 0.8185 - val_loss: 0.5931 - val_accuracy: 0.8466 - lr: 0.0010\n",
            "Epoch 22/400\n",
            "781/781 [==============================] - ETA: 0s - loss: 0.6871 - accuracy: 0.8159\n",
            "Epoch 00022: val_accuracy did not improve from 0.84660\n",
            "781/781 [==============================] - 47s 60ms/step - loss: 0.6871 - accuracy: 0.8159 - val_loss: 0.6525 - val_accuracy: 0.8312 - lr: 0.0010\n",
            "Epoch 23/400\n",
            "781/781 [==============================] - ETA: 0s - loss: 0.6785 - accuracy: 0.8208\n",
            "Epoch 00023: val_accuracy did not improve from 0.84660\n",
            "781/781 [==============================] - 47s 60ms/step - loss: 0.6785 - accuracy: 0.8208 - val_loss: 0.6982 - val_accuracy: 0.8175 - lr: 0.0010\n",
            "Epoch 24/400\n",
            "781/781 [==============================] - ETA: 0s - loss: 0.6700 - accuracy: 0.8221\n",
            "Epoch 00024: val_accuracy improved from 0.84660 to 0.84790, saving model to cnn_best_model.h5\n",
            "781/781 [==============================] - 47s 60ms/step - loss: 0.6700 - accuracy: 0.8221 - val_loss: 0.5926 - val_accuracy: 0.8479 - lr: 0.0010\n",
            "Epoch 25/400\n",
            "781/781 [==============================] - ETA: 0s - loss: 0.6622 - accuracy: 0.8232\n",
            "Epoch 00025: val_accuracy did not improve from 0.84790\n",
            "781/781 [==============================] - 46s 59ms/step - loss: 0.6622 - accuracy: 0.8232 - val_loss: 0.6329 - val_accuracy: 0.8358 - lr: 0.0010\n",
            "Epoch 26/400\n",
            "781/781 [==============================] - ETA: 0s - loss: 0.6627 - accuracy: 0.8248\n",
            "Epoch 00026: val_accuracy improved from 0.84790 to 0.84900, saving model to cnn_best_model.h5\n",
            "781/781 [==============================] - 47s 60ms/step - loss: 0.6627 - accuracy: 0.8248 - val_loss: 0.6004 - val_accuracy: 0.8490 - lr: 0.0010\n",
            "Epoch 27/400\n",
            "781/781 [==============================] - ETA: 0s - loss: 0.6549 - accuracy: 0.8294\n",
            "Epoch 00027: val_accuracy did not improve from 0.84900\n",
            "781/781 [==============================] - 47s 60ms/step - loss: 0.6549 - accuracy: 0.8294 - val_loss: 0.6267 - val_accuracy: 0.8400 - lr: 0.0010\n",
            "Epoch 28/400\n",
            "781/781 [==============================] - ETA: 0s - loss: 0.6494 - accuracy: 0.8295\n",
            "Epoch 00028: val_accuracy improved from 0.84900 to 0.85050, saving model to cnn_best_model.h5\n",
            "781/781 [==============================] - 46s 60ms/step - loss: 0.6494 - accuracy: 0.8295 - val_loss: 0.5964 - val_accuracy: 0.8505 - lr: 0.0010\n",
            "Epoch 29/400\n",
            "781/781 [==============================] - ETA: 0s - loss: 0.6468 - accuracy: 0.8302\n",
            "Epoch 00029: val_accuracy did not improve from 0.85050\n",
            "781/781 [==============================] - 47s 60ms/step - loss: 0.6468 - accuracy: 0.8302 - val_loss: 0.8122 - val_accuracy: 0.7852 - lr: 0.0010\n",
            "Epoch 30/400\n",
            "781/781 [==============================] - ETA: 0s - loss: 0.6472 - accuracy: 0.8300\n",
            "Epoch 00030: val_accuracy did not improve from 0.85050\n",
            "781/781 [==============================] - 48s 61ms/step - loss: 0.6472 - accuracy: 0.8300 - val_loss: 0.6123 - val_accuracy: 0.8432 - lr: 0.0010\n",
            "Epoch 31/400\n",
            "781/781 [==============================] - ETA: 0s - loss: 0.6364 - accuracy: 0.8338\n",
            "Epoch 00031: val_accuracy improved from 0.85050 to 0.85750, saving model to cnn_best_model.h5\n",
            "781/781 [==============================] - 48s 62ms/step - loss: 0.6364 - accuracy: 0.8338 - val_loss: 0.5679 - val_accuracy: 0.8575 - lr: 0.0010\n",
            "Epoch 32/400\n",
            "781/781 [==============================] - ETA: 0s - loss: 0.6369 - accuracy: 0.8341\n",
            "Epoch 00032: val_accuracy did not improve from 0.85750\n",
            "781/781 [==============================] - 48s 61ms/step - loss: 0.6369 - accuracy: 0.8341 - val_loss: 0.5919 - val_accuracy: 0.8490 - lr: 0.0010\n",
            "Epoch 33/400\n",
            "781/781 [==============================] - ETA: 0s - loss: 0.6304 - accuracy: 0.8348\n",
            "Epoch 00033: val_accuracy improved from 0.85750 to 0.86150, saving model to cnn_best_model.h5\n",
            "781/781 [==============================] - 48s 61ms/step - loss: 0.6304 - accuracy: 0.8348 - val_loss: 0.5656 - val_accuracy: 0.8615 - lr: 0.0010\n",
            "Epoch 34/400\n",
            "781/781 [==============================] - ETA: 0s - loss: 0.6243 - accuracy: 0.8379\n",
            "Epoch 00034: val_accuracy did not improve from 0.86150\n",
            "781/781 [==============================] - 47s 61ms/step - loss: 0.6243 - accuracy: 0.8379 - val_loss: 0.5743 - val_accuracy: 0.8571 - lr: 0.0010\n",
            "Epoch 35/400\n",
            "781/781 [==============================] - ETA: 0s - loss: 0.6281 - accuracy: 0.8356\n",
            "Epoch 00035: val_accuracy did not improve from 0.86150\n",
            "781/781 [==============================] - 47s 60ms/step - loss: 0.6281 - accuracy: 0.8356 - val_loss: 0.5885 - val_accuracy: 0.8556 - lr: 0.0010\n",
            "Epoch 36/400\n",
            "781/781 [==============================] - ETA: 0s - loss: 0.6236 - accuracy: 0.8367\n",
            "Epoch 00036: val_accuracy improved from 0.86150 to 0.86770, saving model to cnn_best_model.h5\n",
            "781/781 [==============================] - 47s 60ms/step - loss: 0.6236 - accuracy: 0.8367 - val_loss: 0.5410 - val_accuracy: 0.8677 - lr: 0.0010\n",
            "Epoch 37/400\n",
            "781/781 [==============================] - ETA: 0s - loss: 0.6130 - accuracy: 0.8428\n",
            "Epoch 00037: val_accuracy did not improve from 0.86770\n",
            "781/781 [==============================] - 47s 60ms/step - loss: 0.6130 - accuracy: 0.8428 - val_loss: 0.6078 - val_accuracy: 0.8480 - lr: 0.0010\n",
            "Epoch 38/400\n",
            "781/781 [==============================] - ETA: 0s - loss: 0.6184 - accuracy: 0.8390\n",
            "Epoch 00038: val_accuracy did not improve from 0.86770\n",
            "781/781 [==============================] - 47s 60ms/step - loss: 0.6184 - accuracy: 0.8390 - val_loss: 0.6119 - val_accuracy: 0.8435 - lr: 0.0010\n",
            "Epoch 39/400\n",
            "781/781 [==============================] - ETA: 0s - loss: 0.6083 - accuracy: 0.8425\n",
            "Epoch 00039: val_accuracy did not improve from 0.86770\n",
            "781/781 [==============================] - 46s 59ms/step - loss: 0.6083 - accuracy: 0.8425 - val_loss: 0.6165 - val_accuracy: 0.8447 - lr: 0.0010\n",
            "Epoch 40/400\n",
            "781/781 [==============================] - ETA: 0s - loss: 0.6097 - accuracy: 0.8440\n",
            "Epoch 00040: val_accuracy did not improve from 0.86770\n",
            "781/781 [==============================] - 46s 59ms/step - loss: 0.6097 - accuracy: 0.8440 - val_loss: 0.5868 - val_accuracy: 0.8510 - lr: 0.0010\n",
            "Epoch 41/400\n",
            "781/781 [==============================] - ETA: 0s - loss: 0.6071 - accuracy: 0.8430\n",
            "Epoch 00041: val_accuracy did not improve from 0.86770\n",
            "781/781 [==============================] - 46s 59ms/step - loss: 0.6071 - accuracy: 0.8430 - val_loss: 0.5862 - val_accuracy: 0.8567 - lr: 0.0010\n",
            "Epoch 42/400\n",
            "781/781 [==============================] - ETA: 0s - loss: 0.6031 - accuracy: 0.8439\n",
            "Epoch 00042: val_accuracy improved from 0.86770 to 0.87050, saving model to cnn_best_model.h5\n",
            "781/781 [==============================] - 46s 59ms/step - loss: 0.6031 - accuracy: 0.8439 - val_loss: 0.5411 - val_accuracy: 0.8705 - lr: 0.0010\n",
            "Epoch 43/400\n",
            "781/781 [==============================] - ETA: 0s - loss: 0.5925 - accuracy: 0.8489\n",
            "Epoch 00043: val_accuracy did not improve from 0.87050\n",
            "781/781 [==============================] - 47s 60ms/step - loss: 0.5925 - accuracy: 0.8489 - val_loss: 0.5442 - val_accuracy: 0.8693 - lr: 0.0010\n",
            "Epoch 44/400\n",
            "781/781 [==============================] - ETA: 0s - loss: 0.5953 - accuracy: 0.8490\n",
            "Epoch 00044: val_accuracy did not improve from 0.87050\n",
            "781/781 [==============================] - 47s 60ms/step - loss: 0.5953 - accuracy: 0.8490 - val_loss: 0.5623 - val_accuracy: 0.8630 - lr: 0.0010\n",
            "Epoch 45/400\n",
            "781/781 [==============================] - ETA: 0s - loss: 0.5928 - accuracy: 0.8483\n",
            "Epoch 00045: val_accuracy did not improve from 0.87050\n",
            "781/781 [==============================] - 46s 59ms/step - loss: 0.5928 - accuracy: 0.8483 - val_loss: 0.5435 - val_accuracy: 0.8647 - lr: 0.0010\n",
            "Epoch 46/400\n",
            "781/781 [==============================] - ETA: 0s - loss: 0.5939 - accuracy: 0.8472\n",
            "Epoch 00046: val_accuracy did not improve from 0.87050\n",
            "781/781 [==============================] - 46s 59ms/step - loss: 0.5939 - accuracy: 0.8472 - val_loss: 0.6172 - val_accuracy: 0.8454 - lr: 0.0010\n",
            "Epoch 47/400\n",
            "781/781 [==============================] - ETA: 0s - loss: 0.5945 - accuracy: 0.8478\n",
            "Epoch 00047: val_accuracy did not improve from 0.87050\n",
            "781/781 [==============================] - 47s 60ms/step - loss: 0.5945 - accuracy: 0.8478 - val_loss: 0.7494 - val_accuracy: 0.8069 - lr: 0.0010\n",
            "Epoch 48/400\n",
            "781/781 [==============================] - ETA: 0s - loss: 0.5883 - accuracy: 0.8490\n",
            "Epoch 00048: val_accuracy did not improve from 0.87050\n",
            "781/781 [==============================] - 46s 59ms/step - loss: 0.5883 - accuracy: 0.8490 - val_loss: 0.6149 - val_accuracy: 0.8456 - lr: 0.0010\n",
            "Epoch 49/400\n",
            "781/781 [==============================] - ETA: 0s - loss: 0.5843 - accuracy: 0.8517\n",
            "Epoch 00049: val_accuracy did not improve from 0.87050\n",
            "781/781 [==============================] - 46s 60ms/step - loss: 0.5843 - accuracy: 0.8517 - val_loss: 0.5570 - val_accuracy: 0.8636 - lr: 0.0010\n",
            "Epoch 50/400\n",
            "781/781 [==============================] - ETA: 0s - loss: 0.5856 - accuracy: 0.8507\n",
            "Epoch 00050: val_accuracy did not improve from 0.87050\n",
            "781/781 [==============================] - 47s 60ms/step - loss: 0.5856 - accuracy: 0.8507 - val_loss: 0.5604 - val_accuracy: 0.8633 - lr: 0.0010\n",
            "Epoch 51/400\n",
            "781/781 [==============================] - ETA: 0s - loss: 0.5830 - accuracy: 0.8502\n",
            "Epoch 00051: val_accuracy did not improve from 0.87050\n",
            "781/781 [==============================] - 46s 59ms/step - loss: 0.5830 - accuracy: 0.8502 - val_loss: 0.5852 - val_accuracy: 0.8516 - lr: 0.0010\n",
            "Epoch 52/400\n",
            "781/781 [==============================] - ETA: 0s - loss: 0.5809 - accuracy: 0.8517\n",
            "Epoch 00052: ReduceLROnPlateau reducing learning rate to 0.0005000000237487257.\n",
            "\n",
            "Epoch 00052: val_accuracy did not improve from 0.87050\n",
            "781/781 [==============================] - 47s 60ms/step - loss: 0.5809 - accuracy: 0.8517 - val_loss: 0.5786 - val_accuracy: 0.8551 - lr: 0.0010\n",
            "Epoch 53/400\n",
            "781/781 [==============================] - ETA: 0s - loss: 0.5445 - accuracy: 0.8637\n",
            "Epoch 00053: val_accuracy improved from 0.87050 to 0.88170, saving model to cnn_best_model.h5\n",
            "781/781 [==============================] - 47s 60ms/step - loss: 0.5445 - accuracy: 0.8637 - val_loss: 0.4928 - val_accuracy: 0.8817 - lr: 5.0000e-04\n",
            "Epoch 54/400\n",
            "781/781 [==============================] - ETA: 0s - loss: 0.5261 - accuracy: 0.8673\n",
            "Epoch 00054: val_accuracy improved from 0.88170 to 0.88820, saving model to cnn_best_model.h5\n",
            "781/781 [==============================] - 47s 60ms/step - loss: 0.5261 - accuracy: 0.8673 - val_loss: 0.4771 - val_accuracy: 0.8882 - lr: 5.0000e-04\n",
            "Epoch 55/400\n",
            "781/781 [==============================] - ETA: 0s - loss: 0.5176 - accuracy: 0.8712\n",
            "Epoch 00055: val_accuracy did not improve from 0.88820\n",
            "781/781 [==============================] - 47s 60ms/step - loss: 0.5176 - accuracy: 0.8712 - val_loss: 0.4807 - val_accuracy: 0.8872 - lr: 5.0000e-04\n",
            "Epoch 56/400\n",
            "781/781 [==============================] - ETA: 0s - loss: 0.5145 - accuracy: 0.8704\n",
            "Epoch 00056: val_accuracy did not improve from 0.88820\n",
            "781/781 [==============================] - 46s 59ms/step - loss: 0.5145 - accuracy: 0.8704 - val_loss: 0.4865 - val_accuracy: 0.8824 - lr: 5.0000e-04\n",
            "Epoch 57/400\n",
            "781/781 [==============================] - ETA: 0s - loss: 0.5166 - accuracy: 0.8691\n",
            "Epoch 00057: val_accuracy did not improve from 0.88820\n",
            "781/781 [==============================] - 46s 59ms/step - loss: 0.5166 - accuracy: 0.8691 - val_loss: 0.4691 - val_accuracy: 0.8882 - lr: 5.0000e-04\n",
            "Epoch 58/400\n",
            "781/781 [==============================] - ETA: 0s - loss: 0.5036 - accuracy: 0.8725\n",
            "Epoch 00058: val_accuracy did not improve from 0.88820\n",
            "781/781 [==============================] - 47s 60ms/step - loss: 0.5036 - accuracy: 0.8725 - val_loss: 0.4671 - val_accuracy: 0.8849 - lr: 5.0000e-04\n",
            "Epoch 59/400\n",
            "781/781 [==============================] - ETA: 0s - loss: 0.5013 - accuracy: 0.8724\n",
            "Epoch 00059: val_accuracy did not improve from 0.88820\n",
            "781/781 [==============================] - 47s 60ms/step - loss: 0.5013 - accuracy: 0.8724 - val_loss: 0.4935 - val_accuracy: 0.8772 - lr: 5.0000e-04\n",
            "Epoch 60/400\n",
            "781/781 [==============================] - ETA: 0s - loss: 0.4982 - accuracy: 0.8751\n",
            "Epoch 00060: val_accuracy did not improve from 0.88820\n",
            "781/781 [==============================] - 47s 60ms/step - loss: 0.4982 - accuracy: 0.8751 - val_loss: 0.4670 - val_accuracy: 0.8849 - lr: 5.0000e-04\n",
            "Epoch 61/400\n",
            "781/781 [==============================] - ETA: 0s - loss: 0.4898 - accuracy: 0.8753\n",
            "Epoch 00061: val_accuracy did not improve from 0.88820\n",
            "781/781 [==============================] - 47s 60ms/step - loss: 0.4898 - accuracy: 0.8753 - val_loss: 0.4849 - val_accuracy: 0.8817 - lr: 5.0000e-04\n",
            "Epoch 62/400\n",
            "781/781 [==============================] - ETA: 0s - loss: 0.4899 - accuracy: 0.8755\n",
            "Epoch 00062: val_accuracy did not improve from 0.88820\n",
            "781/781 [==============================] - 47s 60ms/step - loss: 0.4899 - accuracy: 0.8755 - val_loss: 0.4581 - val_accuracy: 0.8862 - lr: 5.0000e-04\n",
            "Epoch 63/400\n",
            "781/781 [==============================] - ETA: 0s - loss: 0.4886 - accuracy: 0.8760\n",
            "Epoch 00063: val_accuracy did not improve from 0.88820\n",
            "781/781 [==============================] - 47s 60ms/step - loss: 0.4886 - accuracy: 0.8760 - val_loss: 0.4782 - val_accuracy: 0.8796 - lr: 5.0000e-04\n",
            "Epoch 64/400\n",
            "781/781 [==============================] - ETA: 0s - loss: 0.4802 - accuracy: 0.8763\n",
            "Epoch 00064: ReduceLROnPlateau reducing learning rate to 0.0002500000118743628.\n",
            "\n",
            "Epoch 00064: val_accuracy did not improve from 0.88820\n",
            "781/781 [==============================] - 46s 59ms/step - loss: 0.4802 - accuracy: 0.8763 - val_loss: 0.4903 - val_accuracy: 0.8763 - lr: 5.0000e-04\n",
            "Epoch 65/400\n",
            "781/781 [==============================] - ETA: 0s - loss: 0.4662 - accuracy: 0.8814\n",
            "Epoch 00065: val_accuracy improved from 0.88820 to 0.89360, saving model to cnn_best_model.h5\n",
            "781/781 [==============================] - 47s 60ms/step - loss: 0.4662 - accuracy: 0.8814 - val_loss: 0.4477 - val_accuracy: 0.8936 - lr: 2.5000e-04\n",
            "Epoch 66/400\n",
            "781/781 [==============================] - ETA: 0s - loss: 0.4600 - accuracy: 0.8841\n",
            "Epoch 00066: val_accuracy did not improve from 0.89360\n",
            "781/781 [==============================] - 47s 60ms/step - loss: 0.4600 - accuracy: 0.8841 - val_loss: 0.4504 - val_accuracy: 0.8891 - lr: 2.5000e-04\n",
            "Epoch 67/400\n",
            "781/781 [==============================] - ETA: 0s - loss: 0.4545 - accuracy: 0.8847\n",
            "Epoch 00067: val_accuracy did not improve from 0.89360\n",
            "781/781 [==============================] - 47s 60ms/step - loss: 0.4545 - accuracy: 0.8847 - val_loss: 0.4547 - val_accuracy: 0.8877 - lr: 2.5000e-04\n",
            "Epoch 68/400\n",
            "781/781 [==============================] - ETA: 0s - loss: 0.4460 - accuracy: 0.8873\n",
            "Epoch 00068: val_accuracy did not improve from 0.89360\n",
            "781/781 [==============================] - 47s 60ms/step - loss: 0.4460 - accuracy: 0.8873 - val_loss: 0.4477 - val_accuracy: 0.8876 - lr: 2.5000e-04\n",
            "Epoch 69/400\n",
            "781/781 [==============================] - ETA: 0s - loss: 0.4441 - accuracy: 0.8888\n",
            "Epoch 00069: val_accuracy did not improve from 0.89360\n",
            "781/781 [==============================] - 47s 60ms/step - loss: 0.4441 - accuracy: 0.8888 - val_loss: 0.4467 - val_accuracy: 0.8905 - lr: 2.5000e-04\n",
            "Epoch 70/400\n",
            "781/781 [==============================] - ETA: 0s - loss: 0.4410 - accuracy: 0.8883\n",
            "Epoch 00070: val_accuracy did not improve from 0.89360\n",
            "781/781 [==============================] - 47s 60ms/step - loss: 0.4410 - accuracy: 0.8883 - val_loss: 0.4404 - val_accuracy: 0.8923 - lr: 2.5000e-04\n",
            "Epoch 71/400\n",
            "781/781 [==============================] - ETA: 0s - loss: 0.4399 - accuracy: 0.8868\n",
            "Epoch 00071: val_accuracy did not improve from 0.89360\n",
            "781/781 [==============================] - 47s 60ms/step - loss: 0.4399 - accuracy: 0.8868 - val_loss: 0.4387 - val_accuracy: 0.8932 - lr: 2.5000e-04\n",
            "Epoch 72/400\n",
            "781/781 [==============================] - ETA: 0s - loss: 0.4378 - accuracy: 0.8889\n",
            "Epoch 00072: val_accuracy did not improve from 0.89360\n",
            "781/781 [==============================] - 47s 60ms/step - loss: 0.4378 - accuracy: 0.8889 - val_loss: 0.4399 - val_accuracy: 0.8907 - lr: 2.5000e-04\n",
            "Epoch 73/400\n",
            "781/781 [==============================] - ETA: 0s - loss: 0.4318 - accuracy: 0.8907\n",
            "Epoch 00073: val_accuracy improved from 0.89360 to 0.89440, saving model to cnn_best_model.h5\n",
            "781/781 [==============================] - 47s 60ms/step - loss: 0.4318 - accuracy: 0.8907 - val_loss: 0.4320 - val_accuracy: 0.8944 - lr: 2.5000e-04\n",
            "Epoch 74/400\n",
            "781/781 [==============================] - ETA: 0s - loss: 0.4362 - accuracy: 0.8879\n",
            "Epoch 00074: val_accuracy did not improve from 0.89440\n",
            "781/781 [==============================] - 47s 60ms/step - loss: 0.4362 - accuracy: 0.8879 - val_loss: 0.4490 - val_accuracy: 0.8882 - lr: 2.5000e-04\n",
            "Epoch 75/400\n",
            "781/781 [==============================] - ETA: 0s - loss: 0.4313 - accuracy: 0.8909\n",
            "Epoch 00075: val_accuracy did not improve from 0.89440\n",
            "781/781 [==============================] - 47s 60ms/step - loss: 0.4313 - accuracy: 0.8909 - val_loss: 0.4431 - val_accuracy: 0.8903 - lr: 2.5000e-04\n",
            "Epoch 76/400\n",
            "781/781 [==============================] - ETA: 0s - loss: 0.4278 - accuracy: 0.8911\n",
            "Epoch 00076: val_accuracy did not improve from 0.89440\n",
            "781/781 [==============================] - 47s 60ms/step - loss: 0.4278 - accuracy: 0.8911 - val_loss: 0.4371 - val_accuracy: 0.8926 - lr: 2.5000e-04\n",
            "Epoch 77/400\n",
            "781/781 [==============================] - ETA: 0s - loss: 0.4244 - accuracy: 0.8915\n",
            "Epoch 00077: val_accuracy did not improve from 0.89440\n",
            "781/781 [==============================] - 46s 59ms/step - loss: 0.4244 - accuracy: 0.8915 - val_loss: 0.4383 - val_accuracy: 0.8904 - lr: 2.5000e-04\n",
            "Epoch 78/400\n",
            "781/781 [==============================] - ETA: 0s - loss: 0.4304 - accuracy: 0.8893\n",
            "Epoch 00078: val_accuracy did not improve from 0.89440\n",
            "781/781 [==============================] - 47s 60ms/step - loss: 0.4304 - accuracy: 0.8893 - val_loss: 0.4521 - val_accuracy: 0.8869 - lr: 2.5000e-04\n",
            "Epoch 79/400\n",
            "781/781 [==============================] - ETA: 0s - loss: 0.4228 - accuracy: 0.8938\n",
            "Epoch 00079: val_accuracy did not improve from 0.89440\n",
            "781/781 [==============================] - 46s 59ms/step - loss: 0.4228 - accuracy: 0.8938 - val_loss: 0.4324 - val_accuracy: 0.8922 - lr: 2.5000e-04\n",
            "Epoch 80/400\n",
            "781/781 [==============================] - ETA: 0s - loss: 0.4219 - accuracy: 0.8906\n",
            "Epoch 00080: val_accuracy improved from 0.89440 to 0.89840, saving model to cnn_best_model.h5\n",
            "781/781 [==============================] - 47s 60ms/step - loss: 0.4219 - accuracy: 0.8906 - val_loss: 0.4155 - val_accuracy: 0.8984 - lr: 2.5000e-04\n",
            "Epoch 81/400\n",
            "781/781 [==============================] - ETA: 0s - loss: 0.4166 - accuracy: 0.8929\n",
            "Epoch 00081: val_accuracy did not improve from 0.89840\n",
            "781/781 [==============================] - 47s 60ms/step - loss: 0.4166 - accuracy: 0.8929 - val_loss: 0.4755 - val_accuracy: 0.8780 - lr: 2.5000e-04\n",
            "Epoch 82/400\n",
            "781/781 [==============================] - ETA: 0s - loss: 0.4170 - accuracy: 0.8920\n",
            "Epoch 00082: val_accuracy did not improve from 0.89840\n",
            "781/781 [==============================] - 47s 60ms/step - loss: 0.4170 - accuracy: 0.8920 - val_loss: 0.4374 - val_accuracy: 0.8921 - lr: 2.5000e-04\n",
            "Epoch 83/400\n",
            "781/781 [==============================] - ETA: 0s - loss: 0.4184 - accuracy: 0.8930\n",
            "Epoch 00083: val_accuracy did not improve from 0.89840\n",
            "781/781 [==============================] - 47s 60ms/step - loss: 0.4184 - accuracy: 0.8930 - val_loss: 0.4114 - val_accuracy: 0.8978 - lr: 2.5000e-04\n",
            "Epoch 84/400\n",
            "781/781 [==============================] - ETA: 0s - loss: 0.4132 - accuracy: 0.8935\n",
            "Epoch 00084: val_accuracy did not improve from 0.89840\n",
            "781/781 [==============================] - 47s 60ms/step - loss: 0.4132 - accuracy: 0.8935 - val_loss: 0.4230 - val_accuracy: 0.8926 - lr: 2.5000e-04\n",
            "Epoch 85/400\n",
            "781/781 [==============================] - ETA: 0s - loss: 0.4113 - accuracy: 0.8942\n",
            "Epoch 00085: val_accuracy did not improve from 0.89840\n",
            "781/781 [==============================] - 47s 60ms/step - loss: 0.4113 - accuracy: 0.8942 - val_loss: 0.4306 - val_accuracy: 0.8933 - lr: 2.5000e-04\n",
            "Epoch 86/400\n",
            "781/781 [==============================] - ETA: 0s - loss: 0.4110 - accuracy: 0.8940\n",
            "Epoch 00086: val_accuracy did not improve from 0.89840\n",
            "781/781 [==============================] - 46s 59ms/step - loss: 0.4110 - accuracy: 0.8940 - val_loss: 0.4267 - val_accuracy: 0.8919 - lr: 2.5000e-04\n",
            "Epoch 87/400\n",
            "781/781 [==============================] - ETA: 0s - loss: 0.4115 - accuracy: 0.8938\n",
            "Epoch 00087: val_accuracy did not improve from 0.89840\n",
            "781/781 [==============================] - 47s 60ms/step - loss: 0.4115 - accuracy: 0.8938 - val_loss: 0.4387 - val_accuracy: 0.8911 - lr: 2.5000e-04\n",
            "Epoch 88/400\n",
            "781/781 [==============================] - ETA: 0s - loss: 0.4069 - accuracy: 0.8950\n",
            "Epoch 00088: val_accuracy did not improve from 0.89840\n",
            "781/781 [==============================] - 46s 59ms/step - loss: 0.4069 - accuracy: 0.8950 - val_loss: 0.4283 - val_accuracy: 0.8943 - lr: 2.5000e-04\n",
            "Epoch 89/400\n",
            "781/781 [==============================] - ETA: 0s - loss: 0.4073 - accuracy: 0.8948\n",
            "Epoch 00089: val_accuracy did not improve from 0.89840\n",
            "781/781 [==============================] - 47s 60ms/step - loss: 0.4073 - accuracy: 0.8948 - val_loss: 0.4254 - val_accuracy: 0.8926 - lr: 2.5000e-04\n",
            "Epoch 90/400\n",
            "781/781 [==============================] - ETA: 0s - loss: 0.4082 - accuracy: 0.8934\n",
            "Epoch 00090: ReduceLROnPlateau reducing learning rate to 0.0001250000059371814.\n",
            "\n",
            "Epoch 00090: val_accuracy did not improve from 0.89840\n",
            "781/781 [==============================] - 47s 60ms/step - loss: 0.4082 - accuracy: 0.8934 - val_loss: 0.4257 - val_accuracy: 0.8934 - lr: 2.5000e-04\n",
            "Epoch 91/400\n",
            "781/781 [==============================] - ETA: 0s - loss: 0.4004 - accuracy: 0.8959\n",
            "Epoch 00091: val_accuracy did not improve from 0.89840\n",
            "781/781 [==============================] - 47s 60ms/step - loss: 0.4004 - accuracy: 0.8959 - val_loss: 0.4108 - val_accuracy: 0.8967 - lr: 1.2500e-04\n",
            "Epoch 92/400\n",
            "781/781 [==============================] - ETA: 0s - loss: 0.3922 - accuracy: 0.8980\n",
            "Epoch 00092: val_accuracy did not improve from 0.89840\n",
            "781/781 [==============================] - 47s 60ms/step - loss: 0.3922 - accuracy: 0.8980 - val_loss: 0.4184 - val_accuracy: 0.8948 - lr: 1.2500e-04\n",
            "Epoch 93/400\n",
            "781/781 [==============================] - ETA: 0s - loss: 0.3891 - accuracy: 0.8995\n",
            "Epoch 00093: val_accuracy did not improve from 0.89840\n",
            "781/781 [==============================] - 47s 60ms/step - loss: 0.3891 - accuracy: 0.8995 - val_loss: 0.4189 - val_accuracy: 0.8962 - lr: 1.2500e-04\n",
            "Epoch 94/400\n",
            "781/781 [==============================] - ETA: 0s - loss: 0.3893 - accuracy: 0.8996\n",
            "Epoch 00094: val_accuracy did not improve from 0.89840\n",
            "781/781 [==============================] - 47s 60ms/step - loss: 0.3893 - accuracy: 0.8996 - val_loss: 0.4109 - val_accuracy: 0.8979 - lr: 1.2500e-04\n",
            "Epoch 95/400\n",
            "781/781 [==============================] - ETA: 0s - loss: 0.3836 - accuracy: 0.9015\n",
            "Epoch 00095: val_accuracy did not improve from 0.89840\n",
            "781/781 [==============================] - 47s 60ms/step - loss: 0.3836 - accuracy: 0.9015 - val_loss: 0.4090 - val_accuracy: 0.8982 - lr: 1.2500e-04\n",
            "Epoch 96/400\n",
            "781/781 [==============================] - ETA: 0s - loss: 0.3866 - accuracy: 0.9004\n",
            "Epoch 00096: val_accuracy did not improve from 0.89840\n",
            "781/781 [==============================] - 47s 60ms/step - loss: 0.3866 - accuracy: 0.9004 - val_loss: 0.4128 - val_accuracy: 0.8982 - lr: 1.2500e-04\n",
            "Epoch 97/400\n",
            "781/781 [==============================] - ETA: 0s - loss: 0.3875 - accuracy: 0.8988\n",
            "Epoch 00097: val_accuracy did not improve from 0.89840\n",
            "781/781 [==============================] - 47s 60ms/step - loss: 0.3875 - accuracy: 0.8988 - val_loss: 0.4133 - val_accuracy: 0.8967 - lr: 1.2500e-04\n",
            "Epoch 98/400\n",
            "781/781 [==============================] - ETA: 0s - loss: 0.3835 - accuracy: 0.9013\n",
            "Epoch 00098: val_accuracy did not improve from 0.89840\n",
            "781/781 [==============================] - 47s 60ms/step - loss: 0.3835 - accuracy: 0.9013 - val_loss: 0.4096 - val_accuracy: 0.8976 - lr: 1.2500e-04\n",
            "Epoch 99/400\n",
            "781/781 [==============================] - ETA: 0s - loss: 0.3839 - accuracy: 0.9012\n",
            "Epoch 00099: val_accuracy did not improve from 0.89840\n",
            "781/781 [==============================] - 47s 60ms/step - loss: 0.3839 - accuracy: 0.9012 - val_loss: 0.4170 - val_accuracy: 0.8955 - lr: 1.2500e-04\n",
            "Epoch 100/400\n",
            "781/781 [==============================] - ETA: 0s - loss: 0.3843 - accuracy: 0.8991\n",
            "Epoch 00100: val_accuracy improved from 0.89840 to 0.89980, saving model to cnn_best_model.h5\n",
            "781/781 [==============================] - 47s 61ms/step - loss: 0.3843 - accuracy: 0.8991 - val_loss: 0.4054 - val_accuracy: 0.8998 - lr: 1.2500e-04\n",
            "Epoch 101/400\n",
            "781/781 [==============================] - ETA: 0s - loss: 0.3800 - accuracy: 0.9019\n",
            "Epoch 00101: val_accuracy did not improve from 0.89980\n",
            "781/781 [==============================] - 47s 60ms/step - loss: 0.3800 - accuracy: 0.9019 - val_loss: 0.4014 - val_accuracy: 0.8992 - lr: 1.2500e-04\n",
            "Epoch 102/400\n",
            "781/781 [==============================] - ETA: 0s - loss: 0.3757 - accuracy: 0.9034\n",
            "Epoch 00102: val_accuracy improved from 0.89980 to 0.90200, saving model to cnn_best_model.h5\n",
            "781/781 [==============================] - 46s 59ms/step - loss: 0.3757 - accuracy: 0.9034 - val_loss: 0.3998 - val_accuracy: 0.9020 - lr: 1.2500e-04\n",
            "Epoch 103/400\n",
            "781/781 [==============================] - ETA: 0s - loss: 0.3788 - accuracy: 0.9021\n",
            "Epoch 00103: val_accuracy did not improve from 0.90200\n",
            "781/781 [==============================] - 47s 61ms/step - loss: 0.3788 - accuracy: 0.9021 - val_loss: 0.4155 - val_accuracy: 0.8959 - lr: 1.2500e-04\n",
            "Epoch 104/400\n",
            "781/781 [==============================] - ETA: 0s - loss: 0.3802 - accuracy: 0.9000\n",
            "Epoch 00104: val_accuracy improved from 0.90200 to 0.90210, saving model to cnn_best_model.h5\n",
            "781/781 [==============================] - 48s 61ms/step - loss: 0.3802 - accuracy: 0.9000 - val_loss: 0.3979 - val_accuracy: 0.9021 - lr: 1.2500e-04\n",
            "Epoch 105/400\n",
            "781/781 [==============================] - ETA: 0s - loss: 0.3785 - accuracy: 0.9025\n",
            "Epoch 00105: val_accuracy did not improve from 0.90210\n",
            "781/781 [==============================] - 47s 60ms/step - loss: 0.3785 - accuracy: 0.9025 - val_loss: 0.4095 - val_accuracy: 0.8985 - lr: 1.2500e-04\n",
            "Epoch 106/400\n",
            "781/781 [==============================] - ETA: 0s - loss: 0.3765 - accuracy: 0.9010\n",
            "Epoch 00106: val_accuracy did not improve from 0.90210\n",
            "781/781 [==============================] - 48s 61ms/step - loss: 0.3765 - accuracy: 0.9010 - val_loss: 0.3975 - val_accuracy: 0.8994 - lr: 1.2500e-04\n",
            "Epoch 107/400\n",
            "781/781 [==============================] - ETA: 0s - loss: 0.3760 - accuracy: 0.9026\n",
            "Epoch 00107: val_accuracy did not improve from 0.90210\n",
            "781/781 [==============================] - 47s 61ms/step - loss: 0.3760 - accuracy: 0.9026 - val_loss: 0.4121 - val_accuracy: 0.8967 - lr: 1.2500e-04\n",
            "Epoch 108/400\n",
            "781/781 [==============================] - ETA: 0s - loss: 0.3770 - accuracy: 0.9022\n",
            "Epoch 00108: val_accuracy improved from 0.90210 to 0.90540, saving model to cnn_best_model.h5\n",
            "781/781 [==============================] - 47s 61ms/step - loss: 0.3770 - accuracy: 0.9022 - val_loss: 0.3863 - val_accuracy: 0.9054 - lr: 1.2500e-04\n",
            "Epoch 109/400\n",
            "781/781 [==============================] - ETA: 0s - loss: 0.3730 - accuracy: 0.9016\n",
            "Epoch 00109: val_accuracy did not improve from 0.90540\n",
            "781/781 [==============================] - 45s 58ms/step - loss: 0.3730 - accuracy: 0.9016 - val_loss: 0.3943 - val_accuracy: 0.9013 - lr: 1.2500e-04\n",
            "Epoch 110/400\n",
            "781/781 [==============================] - ETA: 0s - loss: 0.3763 - accuracy: 0.9016\n",
            "Epoch 00110: val_accuracy did not improve from 0.90540\n",
            "781/781 [==============================] - 46s 59ms/step - loss: 0.3763 - accuracy: 0.9016 - val_loss: 0.3953 - val_accuracy: 0.9011 - lr: 1.2500e-04\n",
            "Epoch 111/400\n",
            "781/781 [==============================] - ETA: 0s - loss: 0.3741 - accuracy: 0.9029\n",
            "Epoch 00111: val_accuracy did not improve from 0.90540\n",
            "781/781 [==============================] - 47s 61ms/step - loss: 0.3741 - accuracy: 0.9029 - val_loss: 0.3987 - val_accuracy: 0.9022 - lr: 1.2500e-04\n",
            "Epoch 112/400\n",
            "781/781 [==============================] - ETA: 0s - loss: 0.3714 - accuracy: 0.9039\n",
            "Epoch 00112: val_accuracy did not improve from 0.90540\n",
            "781/781 [==============================] - 47s 61ms/step - loss: 0.3714 - accuracy: 0.9039 - val_loss: 0.3862 - val_accuracy: 0.9047 - lr: 1.2500e-04\n",
            "Epoch 113/400\n",
            "781/781 [==============================] - ETA: 0s - loss: 0.3685 - accuracy: 0.9031\n",
            "Epoch 00113: val_accuracy did not improve from 0.90540\n",
            "781/781 [==============================] - 47s 60ms/step - loss: 0.3685 - accuracy: 0.9031 - val_loss: 0.3948 - val_accuracy: 0.9017 - lr: 1.2500e-04\n",
            "Epoch 114/400\n",
            "781/781 [==============================] - ETA: 0s - loss: 0.3657 - accuracy: 0.9047\n",
            "Epoch 00114: val_accuracy did not improve from 0.90540\n",
            "781/781 [==============================] - 47s 60ms/step - loss: 0.3657 - accuracy: 0.9047 - val_loss: 0.4033 - val_accuracy: 0.8985 - lr: 1.2500e-04\n",
            "Epoch 115/400\n",
            "781/781 [==============================] - ETA: 0s - loss: 0.3704 - accuracy: 0.9041\n",
            "Epoch 00115: val_accuracy did not improve from 0.90540\n",
            "781/781 [==============================] - 47s 60ms/step - loss: 0.3704 - accuracy: 0.9041 - val_loss: 0.4028 - val_accuracy: 0.8993 - lr: 1.2500e-04\n",
            "Epoch 116/400\n",
            "781/781 [==============================] - ETA: 0s - loss: 0.3691 - accuracy: 0.9045\n",
            "Epoch 00116: val_accuracy did not improve from 0.90540\n",
            "781/781 [==============================] - 47s 61ms/step - loss: 0.3691 - accuracy: 0.9045 - val_loss: 0.4072 - val_accuracy: 0.8973 - lr: 1.2500e-04\n",
            "Epoch 117/400\n",
            "781/781 [==============================] - ETA: 0s - loss: 0.3719 - accuracy: 0.9028\n",
            "Epoch 00117: val_accuracy did not improve from 0.90540\n",
            "781/781 [==============================] - 47s 61ms/step - loss: 0.3719 - accuracy: 0.9028 - val_loss: 0.4089 - val_accuracy: 0.8953 - lr: 1.2500e-04\n",
            "Epoch 118/400\n",
            "781/781 [==============================] - ETA: 0s - loss: 0.3670 - accuracy: 0.9050\n",
            "Epoch 00118: ReduceLROnPlateau reducing learning rate to 6.25000029685907e-05.\n",
            "\n",
            "Epoch 00118: val_accuracy did not improve from 0.90540\n",
            "781/781 [==============================] - 47s 60ms/step - loss: 0.3670 - accuracy: 0.9050 - val_loss: 0.4046 - val_accuracy: 0.8991 - lr: 1.2500e-04\n",
            "Epoch 119/400\n",
            "781/781 [==============================] - ETA: 0s - loss: 0.3652 - accuracy: 0.9046\n",
            "Epoch 00119: val_accuracy did not improve from 0.90540\n",
            "781/781 [==============================] - 46s 59ms/step - loss: 0.3652 - accuracy: 0.9046 - val_loss: 0.3948 - val_accuracy: 0.9014 - lr: 6.2500e-05\n",
            "Epoch 120/400\n",
            "781/781 [==============================] - ETA: 0s - loss: 0.3658 - accuracy: 0.9056\n",
            "Epoch 00120: val_accuracy did not improve from 0.90540\n",
            "781/781 [==============================] - 47s 60ms/step - loss: 0.3658 - accuracy: 0.9056 - val_loss: 0.3910 - val_accuracy: 0.9011 - lr: 6.2500e-05\n",
            "Epoch 121/400\n",
            "781/781 [==============================] - ETA: 0s - loss: 0.3610 - accuracy: 0.9067\n",
            "Epoch 00121: val_accuracy did not improve from 0.90540\n",
            "781/781 [==============================] - 47s 60ms/step - loss: 0.3610 - accuracy: 0.9067 - val_loss: 0.4031 - val_accuracy: 0.8987 - lr: 6.2500e-05\n",
            "Epoch 122/400\n",
            "781/781 [==============================] - ETA: 0s - loss: 0.3628 - accuracy: 0.9064\n",
            "Epoch 00122: val_accuracy did not improve from 0.90540\n",
            "781/781 [==============================] - 47s 60ms/step - loss: 0.3628 - accuracy: 0.9064 - val_loss: 0.3998 - val_accuracy: 0.8989 - lr: 6.2500e-05\n",
            "Epoch 123/400\n",
            "781/781 [==============================] - ETA: 0s - loss: 0.3581 - accuracy: 0.9078\n",
            "Epoch 00123: val_accuracy did not improve from 0.90540\n",
            "781/781 [==============================] - 46s 59ms/step - loss: 0.3581 - accuracy: 0.9078 - val_loss: 0.3909 - val_accuracy: 0.9017 - lr: 6.2500e-05\n",
            "Epoch 124/400\n",
            "781/781 [==============================] - ETA: 0s - loss: 0.3605 - accuracy: 0.9065\n",
            "Epoch 00124: val_accuracy did not improve from 0.90540\n",
            "781/781 [==============================] - 46s 59ms/step - loss: 0.3605 - accuracy: 0.9065 - val_loss: 0.3905 - val_accuracy: 0.9016 - lr: 6.2500e-05\n",
            "Epoch 125/400\n",
            "781/781 [==============================] - ETA: 0s - loss: 0.3636 - accuracy: 0.9062\n",
            "Epoch 00125: val_accuracy did not improve from 0.90540\n",
            "781/781 [==============================] - 47s 60ms/step - loss: 0.3636 - accuracy: 0.9062 - val_loss: 0.3881 - val_accuracy: 0.9025 - lr: 6.2500e-05\n",
            "Epoch 126/400\n",
            "781/781 [==============================] - ETA: 0s - loss: 0.3609 - accuracy: 0.9067\n",
            "Epoch 00126: val_accuracy did not improve from 0.90540\n",
            "781/781 [==============================] - 47s 60ms/step - loss: 0.3609 - accuracy: 0.9067 - val_loss: 0.3921 - val_accuracy: 0.9016 - lr: 6.2500e-05\n",
            "Epoch 127/400\n",
            "781/781 [==============================] - ETA: 0s - loss: 0.3587 - accuracy: 0.9041\n",
            "Epoch 00127: val_accuracy did not improve from 0.90540\n",
            "781/781 [==============================] - 48s 61ms/step - loss: 0.3587 - accuracy: 0.9041 - val_loss: 0.3933 - val_accuracy: 0.9005 - lr: 6.2500e-05\n",
            "Epoch 128/400\n",
            "781/781 [==============================] - ETA: 0s - loss: 0.3593 - accuracy: 0.9058\n",
            "Epoch 00128: ReduceLROnPlateau reducing learning rate to 3.125000148429535e-05.\n",
            "\n",
            "Epoch 00128: val_accuracy did not improve from 0.90540\n",
            "781/781 [==============================] - 47s 61ms/step - loss: 0.3593 - accuracy: 0.9058 - val_loss: 0.3923 - val_accuracy: 0.9015 - lr: 6.2500e-05\n",
            "Epoch 129/400\n",
            "781/781 [==============================] - ETA: 0s - loss: 0.3606 - accuracy: 0.9066\n",
            "Epoch 00129: val_accuracy did not improve from 0.90540\n",
            "781/781 [==============================] - 47s 60ms/step - loss: 0.3606 - accuracy: 0.9066 - val_loss: 0.3894 - val_accuracy: 0.9023 - lr: 3.1250e-05\n",
            "Epoch 130/400\n",
            "781/781 [==============================] - ETA: 0s - loss: 0.3565 - accuracy: 0.9067\n",
            "Epoch 00130: val_accuracy did not improve from 0.90540\n",
            "781/781 [==============================] - 47s 60ms/step - loss: 0.3565 - accuracy: 0.9067 - val_loss: 0.3908 - val_accuracy: 0.9014 - lr: 3.1250e-05\n",
            "Epoch 131/400\n",
            "781/781 [==============================] - ETA: 0s - loss: 0.3538 - accuracy: 0.9094\n",
            "Epoch 00131: val_accuracy did not improve from 0.90540\n",
            "781/781 [==============================] - 47s 60ms/step - loss: 0.3538 - accuracy: 0.9094 - val_loss: 0.3878 - val_accuracy: 0.9019 - lr: 3.1250e-05\n",
            "Epoch 132/400\n",
            "781/781 [==============================] - ETA: 0s - loss: 0.3527 - accuracy: 0.9077\n",
            "Epoch 00132: val_accuracy did not improve from 0.90540\n",
            "781/781 [==============================] - 47s 60ms/step - loss: 0.3527 - accuracy: 0.9077 - val_loss: 0.3907 - val_accuracy: 0.9012 - lr: 3.1250e-05\n",
            "Epoch 133/400\n",
            "781/781 [==============================] - ETA: 0s - loss: 0.3517 - accuracy: 0.9072\n",
            "Epoch 00133: val_accuracy did not improve from 0.90540\n",
            "781/781 [==============================] - 47s 61ms/step - loss: 0.3517 - accuracy: 0.9072 - val_loss: 0.3895 - val_accuracy: 0.9023 - lr: 3.1250e-05\n",
            "Epoch 134/400\n",
            "781/781 [==============================] - ETA: 0s - loss: 0.3499 - accuracy: 0.9096\n",
            "Epoch 00134: val_accuracy did not improve from 0.90540\n",
            "781/781 [==============================] - 47s 60ms/step - loss: 0.3499 - accuracy: 0.9096 - val_loss: 0.3884 - val_accuracy: 0.9024 - lr: 3.1250e-05\n",
            "Epoch 135/400\n",
            "781/781 [==============================] - ETA: 0s - loss: 0.3522 - accuracy: 0.9088\n",
            "Epoch 00135: val_accuracy did not improve from 0.90540\n",
            "781/781 [==============================] - 47s 60ms/step - loss: 0.3522 - accuracy: 0.9088 - val_loss: 0.3906 - val_accuracy: 0.9018 - lr: 3.1250e-05\n",
            "Epoch 136/400\n",
            "781/781 [==============================] - ETA: 0s - loss: 0.3558 - accuracy: 0.9074\n",
            "Epoch 00136: val_accuracy did not improve from 0.90540\n",
            "781/781 [==============================] - 47s 60ms/step - loss: 0.3558 - accuracy: 0.9074 - val_loss: 0.3907 - val_accuracy: 0.9010 - lr: 3.1250e-05\n",
            "Epoch 137/400\n",
            "781/781 [==============================] - ETA: 0s - loss: 0.3477 - accuracy: 0.9097\n",
            "Epoch 00137: val_accuracy did not improve from 0.90540\n",
            "781/781 [==============================] - 47s 60ms/step - loss: 0.3477 - accuracy: 0.9097 - val_loss: 0.3929 - val_accuracy: 0.8994 - lr: 3.1250e-05\n",
            "Epoch 138/400\n",
            "781/781 [==============================] - ETA: 0s - loss: 0.3553 - accuracy: 0.9074\n",
            "Epoch 00138: ReduceLROnPlateau reducing learning rate to 1.5625000742147677e-05.\n",
            "\n",
            "Epoch 00138: val_accuracy did not improve from 0.90540\n",
            "781/781 [==============================] - 47s 60ms/step - loss: 0.3553 - accuracy: 0.9074 - val_loss: 0.3926 - val_accuracy: 0.8992 - lr: 3.1250e-05\n",
            "Epoch 139/400\n",
            "781/781 [==============================] - ETA: 0s - loss: 0.3522 - accuracy: 0.9083\n",
            "Epoch 00139: val_accuracy did not improve from 0.90540\n",
            "781/781 [==============================] - 47s 60ms/step - loss: 0.3522 - accuracy: 0.9083 - val_loss: 0.3888 - val_accuracy: 0.9016 - lr: 1.5625e-05\n",
            "Epoch 140/400\n",
            "781/781 [==============================] - ETA: 0s - loss: 0.3512 - accuracy: 0.9087\n",
            "Epoch 00140: val_accuracy did not improve from 0.90540\n",
            "781/781 [==============================] - 47s 60ms/step - loss: 0.3512 - accuracy: 0.9087 - val_loss: 0.3873 - val_accuracy: 0.9019 - lr: 1.5625e-05\n",
            "Epoch 141/400\n",
            "781/781 [==============================] - ETA: 0s - loss: 0.3525 - accuracy: 0.9070\n",
            "Epoch 00141: val_accuracy did not improve from 0.90540\n",
            "781/781 [==============================] - 46s 59ms/step - loss: 0.3525 - accuracy: 0.9070 - val_loss: 0.3887 - val_accuracy: 0.9022 - lr: 1.5625e-05\n",
            "Epoch 142/400\n",
            "781/781 [==============================] - ETA: 0s - loss: 0.3483 - accuracy: 0.9088\n",
            "Epoch 00142: val_accuracy did not improve from 0.90540\n",
            "781/781 [==============================] - 46s 59ms/step - loss: 0.3483 - accuracy: 0.9088 - val_loss: 0.3904 - val_accuracy: 0.9011 - lr: 1.5625e-05\n",
            "Epoch 143/400\n",
            "781/781 [==============================] - ETA: 0s - loss: 0.3482 - accuracy: 0.9091\n",
            "Epoch 00143: val_accuracy did not improve from 0.90540\n",
            "781/781 [==============================] - 46s 59ms/step - loss: 0.3482 - accuracy: 0.9091 - val_loss: 0.3902 - val_accuracy: 0.9007 - lr: 1.5625e-05\n",
            "Epoch 144/400\n",
            "781/781 [==============================] - ETA: 0s - loss: 0.3520 - accuracy: 0.9069\n",
            "Epoch 00144: val_accuracy did not improve from 0.90540\n",
            "781/781 [==============================] - 46s 59ms/step - loss: 0.3520 - accuracy: 0.9069 - val_loss: 0.3895 - val_accuracy: 0.9009 - lr: 1.5625e-05\n",
            "Epoch 145/400\n",
            "781/781 [==============================] - ETA: 0s - loss: 0.3557 - accuracy: 0.9079\n",
            "Epoch 00145: val_accuracy did not improve from 0.90540\n",
            "781/781 [==============================] - 46s 59ms/step - loss: 0.3557 - accuracy: 0.9079 - val_loss: 0.3889 - val_accuracy: 0.9006 - lr: 1.5625e-05\n",
            "Epoch 146/400\n",
            "781/781 [==============================] - ETA: 0s - loss: 0.3472 - accuracy: 0.9118\n",
            "Epoch 00146: val_accuracy did not improve from 0.90540\n",
            "781/781 [==============================] - 47s 61ms/step - loss: 0.3472 - accuracy: 0.9118 - val_loss: 0.3841 - val_accuracy: 0.9018 - lr: 1.5625e-05\n",
            "Epoch 147/400\n",
            "781/781 [==============================] - ETA: 0s - loss: 0.3512 - accuracy: 0.9084\n",
            "Epoch 00147: val_accuracy did not improve from 0.90540\n",
            "781/781 [==============================] - 47s 61ms/step - loss: 0.3512 - accuracy: 0.9084 - val_loss: 0.3852 - val_accuracy: 0.9021 - lr: 1.5625e-05\n",
            "Epoch 148/400\n",
            "781/781 [==============================] - ETA: 0s - loss: 0.3510 - accuracy: 0.9095\n",
            "Epoch 00148: ReduceLROnPlateau reducing learning rate to 7.812500371073838e-06.\n",
            "\n",
            "Epoch 00148: val_accuracy did not improve from 0.90540\n",
            "781/781 [==============================] - 47s 60ms/step - loss: 0.3510 - accuracy: 0.9095 - val_loss: 0.3854 - val_accuracy: 0.9019 - lr: 1.5625e-05\n",
            "Epoch 149/400\n",
            "781/781 [==============================] - ETA: 0s - loss: 0.3508 - accuracy: 0.9102\n",
            "Epoch 00149: val_accuracy did not improve from 0.90540\n",
            "781/781 [==============================] - 47s 60ms/step - loss: 0.3508 - accuracy: 0.9102 - val_loss: 0.3869 - val_accuracy: 0.9017 - lr: 7.8125e-06\n",
            "Epoch 150/400\n",
            "781/781 [==============================] - ETA: 0s - loss: 0.3495 - accuracy: 0.9092\n",
            "Epoch 00150: val_accuracy did not improve from 0.90540\n",
            "781/781 [==============================] - 47s 60ms/step - loss: 0.3495 - accuracy: 0.9092 - val_loss: 0.3862 - val_accuracy: 0.9010 - lr: 7.8125e-06\n",
            "Epoch 151/400\n",
            "781/781 [==============================] - ETA: 0s - loss: 0.3497 - accuracy: 0.9080\n",
            "Epoch 00151: val_accuracy did not improve from 0.90540\n",
            "781/781 [==============================] - 46s 59ms/step - loss: 0.3497 - accuracy: 0.9080 - val_loss: 0.3859 - val_accuracy: 0.9018 - lr: 7.8125e-06\n",
            "Epoch 152/400\n",
            "781/781 [==============================] - ETA: 0s - loss: 0.3457 - accuracy: 0.9111\n",
            "Epoch 00152: val_accuracy did not improve from 0.90540\n",
            "781/781 [==============================] - 47s 60ms/step - loss: 0.3457 - accuracy: 0.9111 - val_loss: 0.3878 - val_accuracy: 0.9014 - lr: 7.8125e-06\n",
            "Epoch 153/400\n",
            "781/781 [==============================] - ETA: 0s - loss: 0.3500 - accuracy: 0.9100\n",
            "Epoch 00153: val_accuracy did not improve from 0.90540\n",
            "781/781 [==============================] - 47s 61ms/step - loss: 0.3500 - accuracy: 0.9100 - val_loss: 0.3888 - val_accuracy: 0.9013 - lr: 7.8125e-06\n",
            "Epoch 154/400\n",
            "781/781 [==============================] - ETA: 0s - loss: 0.3450 - accuracy: 0.9113\n",
            "Epoch 00154: val_accuracy did not improve from 0.90540\n",
            "781/781 [==============================] - 47s 60ms/step - loss: 0.3450 - accuracy: 0.9113 - val_loss: 0.3871 - val_accuracy: 0.9018 - lr: 7.8125e-06\n",
            "Epoch 155/400\n",
            "781/781 [==============================] - ETA: 0s - loss: 0.3479 - accuracy: 0.9099\n",
            "Epoch 00155: val_accuracy did not improve from 0.90540\n",
            "781/781 [==============================] - 47s 60ms/step - loss: 0.3479 - accuracy: 0.9099 - val_loss: 0.3878 - val_accuracy: 0.9014 - lr: 7.8125e-06\n",
            "Epoch 156/400\n",
            "781/781 [==============================] - ETA: 0s - loss: 0.3463 - accuracy: 0.9112\n",
            "Epoch 00156: val_accuracy did not improve from 0.90540\n",
            "781/781 [==============================] - 47s 60ms/step - loss: 0.3463 - accuracy: 0.9112 - val_loss: 0.3886 - val_accuracy: 0.9017 - lr: 7.8125e-06\n",
            "Epoch 157/400\n",
            "781/781 [==============================] - ETA: 0s - loss: 0.3502 - accuracy: 0.9085\n",
            "Epoch 00157: val_accuracy did not improve from 0.90540\n",
            "781/781 [==============================] - 47s 61ms/step - loss: 0.3502 - accuracy: 0.9085 - val_loss: 0.3880 - val_accuracy: 0.9010 - lr: 7.8125e-06\n",
            "Epoch 158/400\n",
            "781/781 [==============================] - ETA: 0s - loss: 0.3509 - accuracy: 0.9094\n",
            "Epoch 00158: ReduceLROnPlateau reducing learning rate to 3.906250185536919e-06.\n",
            "\n",
            "Epoch 00158: val_accuracy did not improve from 0.90540\n",
            "781/781 [==============================] - 47s 61ms/step - loss: 0.3509 - accuracy: 0.9094 - val_loss: 0.3885 - val_accuracy: 0.9002 - lr: 7.8125e-06\n",
            "Epoch 00158: early stopping\n"
          ],
          "name": "stdout"
        },
        {
          "output_type": "execute_result",
          "data": {
            "text/plain": [
              "<tensorflow.python.keras.callbacks.History at 0x7f5089235358>"
            ]
          },
          "metadata": {
            "tags": []
          },
          "execution_count": 16
        }
      ]
    },
    {
      "cell_type": "code",
      "metadata": {
        "id": "IiwjQJX9pAch",
        "colab_type": "code",
        "colab": {
          "base_uri": "https://localhost:8080/",
          "height": 34
        },
        "outputId": "f20c2f1f-8d5e-44fb-b614-8ba0d9a24833"
      },
      "source": [
        "ls"
      ],
      "execution_count": 17,
      "outputs": [
        {
          "output_type": "stream",
          "text": [
            "cnn_best_model.h5  \u001b[0m\u001b[01;34msample_data\u001b[0m/\n"
          ],
          "name": "stdout"
        }
      ]
    },
    {
      "cell_type": "code",
      "metadata": {
        "id": "h1iV73B8w78h",
        "colab_type": "code",
        "colab": {}
      },
      "source": [
        "def plotmodelhistory(history): \n",
        "    fig, axs = plt.subplots(1,2,figsize=(15,5)) \n",
        "    # summarize history for accuracy\n",
        "    axs[0].plot(history.history['accuracy']) \n",
        "    axs[0].plot(history.history['val_accuracy']) \n",
        "    axs[0].set_title('Model Accuracy')\n",
        "    axs[0].set_ylabel('Accuracy') \n",
        "    axs[0].set_xlabel('Epoch')\n",
        "    axs[0].legend(['train', 'validate'], loc='upper left')\n",
        "    # summarize history for loss\n",
        "    axs[1].plot(history.history['loss']) \n",
        "    axs[1].plot(history.history['val_loss']) \n",
        "    axs[1].set_title('Model Loss')\n",
        "    axs[1].set_ylabel('Loss') \n",
        "    axs[1].set_xlabel('Epoch')\n",
        "    axs[1].legend(['train', 'validate'], loc='upper left')\n",
        "    plt.show()\n",
        "    "
      ],
      "execution_count": 18,
      "outputs": []
    },
    {
      "cell_type": "code",
      "metadata": {
        "id": "LerZGQde1tLb",
        "colab_type": "code",
        "colab": {
          "base_uri": "https://localhost:8080/",
          "height": 34
        },
        "outputId": "6f5ede32-2e50-49f9-e9a9-b5ea5d4c6449"
      },
      "source": [
        "print(model.history.history.keys())"
      ],
      "execution_count": 19,
      "outputs": [
        {
          "output_type": "stream",
          "text": [
            "dict_keys(['loss', 'accuracy', 'val_loss', 'val_accuracy', 'lr'])\n"
          ],
          "name": "stdout"
        }
      ]
    },
    {
      "cell_type": "code",
      "metadata": {
        "id": "wS_cnMWm1tVs",
        "colab_type": "code",
        "colab": {
          "base_uri": "https://localhost:8080/",
          "height": 350
        },
        "outputId": "3c6c9329-aad4-4174-cd31-2ccbe33ea481"
      },
      "source": [
        "plotmodelhistory(model.history)"
      ],
      "execution_count": 20,
      "outputs": [
        {
          "output_type": "display_data",
          "data": {
            "image/png": "[encoded data removed]",
            "text/plain": [
              "<Figure size 1080x360 with 2 Axes>"
            ]
          },
          "metadata": {
            "tags": [],
            "needs_background": "light"
          }
        }
      ]
    },
    {
      "cell_type": "code",
      "metadata": {
        "id": "Hv263G5J13tD",
        "colab_type": "code",
        "colab": {
          "base_uri": "https://localhost:8080/",
          "height": 498
        },
        "outputId": "13f95291-a652-4464-8458-449c906a6dce"
      },
      "source": [
        "# Plot confusion matrix\n",
        "from sklearn.metrics import confusion_matrix\n",
        "import itertools\n",
        "\n",
        "def plot_confusion_matrix(cm, classes,\n",
        "                          normalize=False,\n",
        "                          title='Confusion matrix',\n",
        "                          cmap=plt.cm.Blues):\n",
        "  \"\"\"\n",
        "  This function prints and plots the confusion matrix.\n",
        "  Normalization can be applied by setting `normalize=True`.\n",
        "  \"\"\"\n",
        "  if normalize:\n",
        "      cm = cm.astype('float') / cm.sum(axis=1)[:, np.newaxis]\n",
        "      print(\"Normalized confusion matrix\")\n",
        "  else:\n",
        "      print('Confusion matrix, without normalization')\n",
        "\n",
        "  print(cm)\n",
        "\n",
        "  plt.imshow(cm, interpolation='nearest', cmap=cmap)\n",
        "  plt.title(title)\n",
        "  plt.colorbar()\n",
        "  tick_marks = np.arange(len(classes))\n",
        "  plt.xticks(tick_marks, classes, rotation=45)\n",
        "  plt.yticks(tick_marks, classes)\n",
        "\n",
        "  fmt = '.2f' if normalize else 'd'\n",
        "  thresh = cm.max() / 2.\n",
        "  for i, j in itertools.product(range(cm.shape[0]), range(cm.shape[1])):\n",
        "      plt.text(j, i, format(cm[i, j], fmt),\n",
        "               horizontalalignment=\"center\",\n",
        "               color=\"white\" if cm[i, j] > thresh else \"black\")\n",
        "\n",
        "  plt.tight_layout()\n",
        "  plt.ylabel('True label')\n",
        "  plt.xlabel('Predicted label')\n",
        "  plt.show()\n",
        "\n",
        "\n",
        "p_test = model.predict(x_test).argmax(axis=1)\n",
        "cm = confusion_matrix(y_test, p_test)\n",
        "plot_confusion_matrix(cm, list(range(10)))"
      ],
      "execution_count": 21,
      "outputs": [
        {
          "output_type": "stream",
          "text": [
            "Confusion matrix, without normalization\n",
            "[[910  11  13   2   5   0   8   6  27  18]\n",
            " [  2 967   0   0   0   0   0   0   4  27]\n",
            " [ 22   0 861  11  24  16  47  12   3   4]\n",
            " [ 11   4  30 728  35  73  70  21  12  16]\n",
            " [  2   1  19  13 903   3  36  23   0   0]\n",
            " [  2   4  16  69  25 815  30  27   4   8]\n",
            " [  4   1   6   5   2   0 976   3   1   2]\n",
            " [  3   1   3   6  13   7  10 950   3   4]\n",
            " [ 21  12   2   1   0   0   4   1 939  20]\n",
            " [  3  33   1   0   1   1   1   0   7 953]]\n"
          ],
          "name": "stdout"
        },
        {
          "output_type": "display_data",
          "data": {
            "image/png": "[encoded data removed]",
            "text/plain": [
              "<Figure size 432x288 with 2 Axes>"
            ]
          },
          "metadata": {
            "tags": [],
            "needs_background": "light"
          }
        }
      ]
    },
    {
      "cell_type": "code",
      "metadata": {
        "id": "gjn0hmpA9BOs",
        "colab_type": "code",
        "colab": {}
      },
      "source": [
        "# label mapping\n",
        "labels = '''airplane\n",
        "      automobile\n",
        "      bird\n",
        "      cat\n",
        "      deer\n",
        "      dog\n",
        "      frog\n",
        "      horse\n",
        "      ship\n",
        "      truck'''.split()"
      ],
      "execution_count": 22,
      "outputs": []
    },
    {
      "cell_type": "code",
      "metadata": {
        "id": "q-tIKSFY3KQK",
        "colab_type": "code",
        "colab": {
          "base_uri": "https://localhost:8080/",
          "height": 298
        },
        "outputId": "758bc126-ca72-4684-ee4b-bed9cd7f1493"
      },
      "source": [
        "# Show some misclassified examples\n",
        "misclassified_idx = np.where(p_test != y_test.flatten())[0]\n",
        "i = np.random.choice(misclassified_idx)\n",
        "plt.imshow(x_test[i], cmap='gray')\n",
        "plt.title(\"True label: %s, Predicted: %s\" % (labels[y_test.flatten()[i]], labels[p_test[i]]))\n"
      ],
      "execution_count": 23,
      "outputs": [
        {
          "output_type": "execute_result",
          "data": {
            "text/plain": [
              "Text(0.5, 1.0, 'True label: airplane, Predicted: automobile')"
            ]
          },
          "metadata": {
            "tags": []
          },
          "execution_count": 23
        },
        {
          "output_type": "display_data",
          "data": {
            "image/png": "[encoded data removed]",
            "text/plain": [
              "<Figure size 432x288 with 1 Axes>"
            ]
          },
          "metadata": {
            "tags": [],
            "needs_background": "light"
          }
        }
      ]
    },
    {
      "cell_type": "code",
      "metadata": {
        "id": "GHzyDUz988yU",
        "colab_type": "code",
        "colab": {}
      },
      "source": [
        ""
      ],
      "execution_count": null,
      "outputs": []
    }
  ]
}