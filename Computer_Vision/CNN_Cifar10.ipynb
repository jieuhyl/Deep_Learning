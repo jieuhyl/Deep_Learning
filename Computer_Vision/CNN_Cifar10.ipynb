{
  "nbformat": 4,
  "nbformat_minor": 0,
  "metadata": {
    "colab": {
      "name": "CNN_Cifar10_GPU.ipynb",
      "provenance": []
    },
    "kernelspec": {
      "name": "python3",
      "display_name": "Python 3"
    },
    "accelerator": "GPU"
  },
  "cells": [
    {
      "cell_type": "code",
      "metadata": {
        "id": "N4sJKzjtlaRw",
        "colab_type": "code",
        "colab": {
          "base_uri": "https://localhost:8080/",
          "height": 34
        },
        "outputId": "1948b05b-3daf-4d01-95c6-9b11f868e450"
      },
      "source": [
        "import tensorflow as tf\n",
        "print(tf.__version__)"
      ],
      "execution_count": 1,
      "outputs": [
        {
          "output_type": "stream",
          "text": [
            "2.2.0\n"
          ],
          "name": "stdout"
        }
      ]
    },
    {
      "cell_type": "code",
      "metadata": {
        "id": "IoiqQkfql6cZ",
        "colab_type": "code",
        "colab": {
          "base_uri": "https://localhost:8080/",
          "height": 34
        },
        "outputId": "1df984c4-7245-4c31-a490-df721753ecd0"
      },
      "source": [
        "print(\"Num GPUs Available: \", len(tf.config.experimental.list_physical_devices('GPU')))"
      ],
      "execution_count": 2,
      "outputs": [
        {
          "output_type": "stream",
          "text": [
            "Num GPUs Available:  1\n"
          ],
          "name": "stdout"
        }
      ]
    },
    {
      "cell_type": "code",
      "metadata": {
        "id": "V4uqCi-ZloCh",
        "colab_type": "code",
        "colab": {
          "base_uri": "https://localhost:8080/",
          "height": 34
        },
        "outputId": "22d19fe4-8d62-4acb-9829-6308ffcbb442"
      },
      "source": [
        "# additional imports\n",
        "import numpy as np\n",
        "import matplotlib.pyplot as plt\n",
        "from keras.preprocessing.image import ImageDataGenerator\n",
        "from tensorflow.keras.layers import Input, Conv2D, Dense, Activation, Flatten, Dropout, GlobalMaxPooling2D, MaxPooling2D, BatchNormalization\n",
        "from tensorflow.keras.models import Sequential, Model\n",
        "from tensorflow.keras.utils import to_categorical\n",
        "from tensorflow.keras import regularizers, optimizers\n",
        "from tensorflow.keras.callbacks import ReduceLROnPlateau, EarlyStopping, ModelCheckpoint"
      ],
      "execution_count": 3,
      "outputs": [
        {
          "output_type": "stream",
          "text": [
            "Using TensorFlow backend.\n"
          ],
          "name": "stderr"
        }
      ]
    },
    {
      "cell_type": "code",
      "metadata": {
        "id": "bufUAKINl1kT",
        "colab_type": "code",
        "colab": {
          "base_uri": "https://localhost:8080/",
          "height": 51
        },
        "outputId": "642a1da5-f18c-4945-deeb-45cc137f2252"
      },
      "source": [
        "# Load in the data\n",
        "cifar10 = tf.keras.datasets.cifar10\n",
        "\n",
        "(x_train, y_train), (x_test, y_test) = cifar10.load_data()"
      ],
      "execution_count": 4,
      "outputs": [
        {
          "output_type": "stream",
          "text": [
            "Downloading data from https://www.cs.toronto.edu/~kriz/cifar-10-python.tar.gz\n",
            "170500096/170498071 [==============================] - 6s 0us/step\n"
          ],
          "name": "stdout"
        }
      ]
    },
    {
      "cell_type": "code",
      "metadata": {
        "id": "O6qK0G0HmKLi",
        "colab_type": "code",
        "colab": {
          "base_uri": "https://localhost:8080/",
          "height": 34
        },
        "outputId": "cf55b20b-a69d-433f-8951-ef369c8b64e7"
      },
      "source": [
        "# number of classes\n",
        "K = len(set(y_train.flatten()))\n",
        "print(\"number of classes:\", K)"
      ],
      "execution_count": 5,
      "outputs": [
        {
          "output_type": "stream",
          "text": [
            "number of classes: 10\n"
          ],
          "name": "stdout"
        }
      ]
    },
    {
      "cell_type": "code",
      "metadata": {
        "id": "nqiQXYaln0hJ",
        "colab_type": "code",
        "colab": {
          "base_uri": "https://localhost:8080/",
          "height": 51
        },
        "outputId": "0f330940-1aea-4a87-c727-b58bc41efa94"
      },
      "source": [
        "mean = np.mean(x_train,axis=(0,1,2,3))\n",
        "std = np.std(x_train,axis=(0,1,2,3))\n",
        "x_train = (x_train-mean)/(std+1e-7)\n",
        "x_test = (x_test-mean)/(std+1e-7)\n",
        "#x_train = x_train/255\n",
        "#x_test = x_test/255\n",
        "y_train_cat = to_categorical(y_train, 10)\n",
        "y_test_cat = to_categorical(y_test, 10)\n",
        "print(\"x_train.shape:\", x_train.shape)\n",
        "print(\"y_train_cat.shape\", y_train.shape)"
      ],
      "execution_count": 6,
      "outputs": [
        {
          "output_type": "stream",
          "text": [
            "x_train.shape: (50000, 32, 32, 3)\n",
            "y_train_cat.shape (50000, 1)\n"
          ],
          "name": "stdout"
        }
      ]
    },
    {
      "cell_type": "code",
      "metadata": {
        "id": "-9G44pdzl-ua",
        "colab_type": "code",
        "colab": {}
      },
      "source": [
        "import matplotlib.pyplot as plt"
      ],
      "execution_count": 7,
      "outputs": []
    },
    {
      "cell_type": "code",
      "metadata": {
        "id": "1BAfxbLjmI0C",
        "colab_type": "code",
        "colab": {
          "base_uri": "https://localhost:8080/",
          "height": 300
        },
        "outputId": "7ef02686-5fbe-4464-8ac7-3cca1ac0a9ca"
      },
      "source": [
        "# FROG\n",
        "plt.imshow(x_train[0])"
      ],
      "execution_count": 8,
      "outputs": [
        {
          "output_type": "stream",
          "text": [
            "Clipping input data to the valid range for imshow with RGB data ([0..1] for floats or [0..255] for integers).\n"
          ],
          "name": "stderr"
        },
        {
          "output_type": "execute_result",
          "data": {
            "text/plain": [
              "<matplotlib.image.AxesImage at 0x7f224299fac8>"
            ]
          },
          "metadata": {
            "tags": []
          },
          "execution_count": 8
        },
        {
          "output_type": "display_data",
          "data": {
            "image/png": "[encoded data removed]",
            "text/plain": [
              "<Figure size 432x288 with 1 Axes>"
            ]
          },
          "metadata": {
            "tags": [],
            "needs_background": "light"
          }
        }
      ]
    },
    {
      "cell_type": "code",
      "metadata": {
        "id": "HgMstH9bmjMb",
        "colab_type": "code",
        "colab": {
          "base_uri": "https://localhost:8080/",
          "height": 34
        },
        "outputId": "dbfdad37-3a0b-4ed9-86fd-e1ab862fa916"
      },
      "source": [
        "x_train.shape[1:]"
      ],
      "execution_count": 9,
      "outputs": [
        {
          "output_type": "execute_result",
          "data": {
            "text/plain": [
              "(32, 32, 3)"
            ]
          },
          "metadata": {
            "tags": []
          },
          "execution_count": 9
        }
      ]
    },
    {
      "cell_type": "code",
      "metadata": {
        "id": "Bt0JAOR5o2PA",
        "colab_type": "code",
        "colab": {
          "base_uri": "https://localhost:8080/",
          "height": 850
        },
        "outputId": "29410c20-0b65-49b7-dee7-5a55ac9da915"
      },
      "source": [
        "x_train[0]"
      ],
      "execution_count": 10,
      "outputs": [
        {
          "output_type": "execute_result",
          "data": {
            "text/plain": [
              "array([[[-0.96192505, -0.91515971, -0.89957127],\n",
              "        [-1.21134019, -1.16457485, -1.1801633 ],\n",
              "        [-1.10222107, -1.13339796, -1.21134019],\n",
              "        ...,\n",
              "        [ 0.58133111,  0.17603151, -0.19809119],\n",
              "        [ 0.48780043,  0.06691239, -0.29162187],\n",
              "        [ 0.42544665,  0.05132394, -0.27603342]],\n",
              "\n",
              "       [[-1.63222823, -1.56987445, -1.56987445],\n",
              "        [-1.88164337, -1.88164337, -1.88164337],\n",
              "        [-1.60105134, -1.7569358 , -1.88164337],\n",
              "        ...,\n",
              "        [ 0.0357355 , -0.50986012, -1.02427884],\n",
              "        [-0.02661829, -0.58780235, -1.10222107],\n",
              "        [ 0.02014705, -0.52544856, -0.99310194]],\n",
              "\n",
              "       [[-1.49193222, -1.50752066, -1.554286  ],\n",
              "        [-1.63222823, -1.77252425, -1.88164337],\n",
              "        [-1.11780951, -1.46075533, -1.7569358 ],\n",
              "        ...,\n",
              "        [-0.04220673, -0.5722139 , -1.10222107],\n",
              "        [-0.01102984, -0.5722139 , -1.10222107],\n",
              "        [-0.18250275, -0.74368681, -1.22692863]],\n",
              "\n",
              "       ...,\n",
              "\n",
              "       [[ 1.36075341,  0.76839246, -0.38515255],\n",
              "        [ 1.25163429,  0.50338888, -1.3516362 ],\n",
              "        [ 1.20486895,  0.62809645, -1.47634377],\n",
              "        ...,\n",
              "        [ 0.612508  ,  0.19161996, -0.79045214],\n",
              "        [-1.00869039, -1.39840154, -1.77252425],\n",
              "        [-1.05545573, -1.3516362 , -1.56987445]],\n",
              "\n",
              "       [[ 0.92427692,  0.28515063, -0.38515255],\n",
              "        [ 0.8151578 ,  0.0357355 , -1.22692863],\n",
              "        [ 1.0178076 ,  0.36309286, -1.41398999],\n",
              "        ...,\n",
              "        [ 0.98663071,  0.42544665, -0.41632944],\n",
              "        [-0.3695641 , -0.91515971, -1.3516362 ],\n",
              "        [-0.58780235, -1.05545573, -1.3516362 ]],\n",
              "\n",
              "       [[ 0.87751159,  0.36309286, -0.07338363],\n",
              "        [ 0.73721557,  0.12926617, -0.41632944],\n",
              "        [ 0.90868848,  0.33191597, -0.52544856],\n",
              "        ...,\n",
              "        [ 1.48546098,  0.98663071,  0.30073908],\n",
              "        [ 0.47221199, -0.04220673, -0.5722139 ],\n",
              "        [ 0.0357355 , -0.44750633, -0.75927525]]])"
            ]
          },
          "metadata": {
            "tags": []
          },
          "execution_count": 10
        }
      ]
    },
    {
      "cell_type": "code",
      "metadata": {
        "id": "AJ1aSuASq0ff",
        "colab_type": "code",
        "colab": {}
      },
      "source": [
        "#rlr = ReduceLROnPlateau(monitor='val_loss', factor=0.5, min_lr=1e-7, verbose = 1, patience=5)\n",
        "#es = EarlyStopping(monitor='val_loss', mode='min', verbose = 1, patience=30)\n",
        "#mc = ModelCheckpoint('cnn_best_model.h5', monitor='val_loss', mode='min', verbose = 1, save_best_only=True)\n",
        "rlr = ReduceLROnPlateau(monitor='val_accuracy', mode = 'max', factor=0.5, min_lr=1e-7, verbose = 1, patience=10)\n",
        "es = EarlyStopping(monitor='val_accuracy', mode='max', verbose = 1, patience=50)\n",
        "mc = ModelCheckpoint('cnn_best_model.h5', monitor='val_accuracy', mode='max', verbose = 1, save_best_only=True)"
      ],
      "execution_count": 38,
      "outputs": []
    },
    {
      "cell_type": "code",
      "metadata": {
        "id": "XPWiWa2umYQ7",
        "colab_type": "code",
        "colab": {}
      },
      "source": [
        "# build model\n",
        "def build_model(lr = 0, dc = 0, dr = 0):\n",
        "    model = Sequential(name = 'CNN_cifar10')\n",
        "    model.add(Conv2D(32, (3, 3), activation='elu', kernel_initializer='he_uniform', kernel_regularizer=regularizers.l2(1e-4), padding='same', input_shape=(32, 32, 3)))\n",
        "    model.add(BatchNormalization())\n",
        "    model.add(Conv2D(32, (3, 3), activation='elu', kernel_initializer='he_uniform', kernel_regularizer=regularizers.l2(1e-4), padding='same'))\n",
        "    model.add(BatchNormalization())\n",
        "    model.add(MaxPooling2D((2, 2)))\n",
        "    model.add(Dropout(0.2))\n",
        "\n",
        "    model.add(Conv2D(64, (3, 3), activation='elu', kernel_initializer='he_uniform', kernel_regularizer=regularizers.l2(1e-4), padding='same'))\n",
        "    model.add(BatchNormalization())\n",
        "    model.add(Conv2D(64, (3, 3), activation='elu', kernel_initializer='he_uniform', kernel_regularizer=regularizers.l2(1e-4), padding='same'))\n",
        "    model.add(BatchNormalization())\n",
        "    model.add(MaxPooling2D((2, 2)))\n",
        "    model.add(Dropout(0.3))\n",
        "\n",
        "    model.add(Conv2D(128, (3, 3), activation='elu', kernel_initializer='he_uniform', kernel_regularizer=regularizers.l2(1e-4), padding='same'))\n",
        "    model.add(BatchNormalization())\n",
        "    model.add(Conv2D(128, (3, 3), activation='elu', kernel_initializer='he_uniform', kernel_regularizer=regularizers.l2(1e-4), padding='same'))\n",
        "    model.add(BatchNormalization())\n",
        "    model.add(MaxPooling2D((2, 2)))\n",
        "    model.add(Dropout(0.4))\n",
        "\n",
        "    model.add(Flatten())\n",
        "    model.add(Dense(256, activation='elu', kernel_initializer='he_uniform'))\n",
        "    model.add(BatchNormalization())\n",
        "    model.add(Dropout(dr))\n",
        "    model.add(Dense(10, activation='softmax'))\n",
        "    # compile model\n",
        "    opt = optimizers.Adam(lr = lr, decay = dc)\n",
        "    #opt = optimizers.SGD(lr = lr, momentum = mt)\n",
        "    #opt = optimizers.RMSprop(lr = lr, decay = dc)\n",
        "    model.compile(loss='categorical_crossentropy', optimizer=opt, metrics=['accuracy'])\n",
        "    return model"
      ],
      "execution_count": 39,
      "outputs": []
    },
    {
      "cell_type": "code",
      "metadata": {
        "id": "r-vner3i-oQv",
        "colab_type": "code",
        "colab": {}
      },
      "source": [
        "model = build_model(lr = 0.001, dc = 1e-5, dr = 0.5)\n",
        "#model = build_model(lr = 0.01, mt = 0.9, dr = 0.5)\n",
        "#model = build_model(lr = 0.0003, dc = 1e-6, dr = 0.5)"
      ],
      "execution_count": 40,
      "outputs": []
    },
    {
      "cell_type": "code",
      "metadata": {
        "id": "YBqqScMEpMBu",
        "colab_type": "code",
        "colab": {
          "base_uri": "https://localhost:8080/",
          "height": 935
        },
        "outputId": "0e45c974-5c4d-4f9d-da84-f1b97abebe1b"
      },
      "source": [
        "model.summary()"
      ],
      "execution_count": 41,
      "outputs": [
        {
          "output_type": "stream",
          "text": [
            "Model: \"CNN_cifar10\"\n",
            "_________________________________________________________________\n",
            "Layer (type)                 Output Shape              Param #   \n",
            "=================================================================\n",
            "conv2d_24 (Conv2D)           (None, 32, 32, 32)        896       \n",
            "_________________________________________________________________\n",
            "batch_normalization_28 (Batc (None, 32, 32, 32)        128       \n",
            "_________________________________________________________________\n",
            "conv2d_25 (Conv2D)           (None, 32, 32, 32)        9248      \n",
            "_________________________________________________________________\n",
            "batch_normalization_29 (Batc (None, 32, 32, 32)        128       \n",
            "_________________________________________________________________\n",
            "max_pooling2d_12 (MaxPooling (None, 16, 16, 32)        0         \n",
            "_________________________________________________________________\n",
            "dropout_16 (Dropout)         (None, 16, 16, 32)        0         \n",
            "_________________________________________________________________\n",
            "conv2d_26 (Conv2D)           (None, 16, 16, 64)        18496     \n",
            "_________________________________________________________________\n",
            "batch_normalization_30 (Batc (None, 16, 16, 64)        256       \n",
            "_________________________________________________________________\n",
            "conv2d_27 (Conv2D)           (None, 16, 16, 64)        36928     \n",
            "_________________________________________________________________\n",
            "batch_normalization_31 (Batc (None, 16, 16, 64)        256       \n",
            "_________________________________________________________________\n",
            "max_pooling2d_13 (MaxPooling (None, 8, 8, 64)          0         \n",
            "_________________________________________________________________\n",
            "dropout_17 (Dropout)         (None, 8, 8, 64)          0         \n",
            "_________________________________________________________________\n",
            "conv2d_28 (Conv2D)           (None, 8, 8, 128)         73856     \n",
            "_________________________________________________________________\n",
            "batch_normalization_32 (Batc (None, 8, 8, 128)         512       \n",
            "_________________________________________________________________\n",
            "conv2d_29 (Conv2D)           (None, 8, 8, 128)         147584    \n",
            "_________________________________________________________________\n",
            "batch_normalization_33 (Batc (None, 8, 8, 128)         512       \n",
            "_________________________________________________________________\n",
            "max_pooling2d_14 (MaxPooling (None, 4, 4, 128)         0         \n",
            "_________________________________________________________________\n",
            "dropout_18 (Dropout)         (None, 4, 4, 128)         0         \n",
            "_________________________________________________________________\n",
            "flatten_4 (Flatten)          (None, 2048)              0         \n",
            "_________________________________________________________________\n",
            "dense_8 (Dense)              (None, 256)               524544    \n",
            "_________________________________________________________________\n",
            "batch_normalization_34 (Batc (None, 256)               1024      \n",
            "_________________________________________________________________\n",
            "dropout_19 (Dropout)         (None, 256)               0         \n",
            "_________________________________________________________________\n",
            "dense_9 (Dense)              (None, 10)                2570      \n",
            "=================================================================\n",
            "Total params: 816,938\n",
            "Trainable params: 815,530\n",
            "Non-trainable params: 1,408\n",
            "_________________________________________________________________\n"
          ],
          "name": "stdout"
        }
      ]
    },
    {
      "cell_type": "code",
      "metadata": {
        "id": "NOtiNvHEpMEu",
        "colab_type": "code",
        "colab": {}
      },
      "source": [
        "#data augmentation\n",
        "datagen = ImageDataGenerator(\n",
        "        rotation_range=15,\n",
        "        width_shift_range=0.1,\n",
        "        height_shift_range=0.1,\n",
        "        horizontal_flip=True,\n",
        "        vertical_flip=False\n",
        "        )\n",
        "datagen.fit(x_train)"
      ],
      "execution_count": 42,
      "outputs": []
    },
    {
      "cell_type": "code",
      "metadata": {
        "id": "P9u-1CfApMHy",
        "colab_type": "code",
        "colab": {
          "base_uri": "https://localhost:8080/",
          "height": 1000
        },
        "outputId": "f2c04b1a-0503-454a-d9c9-c0b190ca4190"
      },
      "source": [
        "# run model\n",
        "model.fit_generator(datagen.flow(x_train, y_train_cat, batch_size = 64),\n",
        "                                 validation_data = (x_test, y_test_cat),\n",
        "                                 steps_per_epoch = x_train.shape[0] // 64, \n",
        "                                 epochs = 400, verbose = 1,\n",
        "                                 callbacks = [rlr, es, mc])\n"
      ],
      "execution_count": 43,
      "outputs": [
        {
          "output_type": "stream",
          "text": [
            "Epoch 1/400\n",
            "780/781 [============================>.] - ETA: 0s - loss: 1.8103 - accuracy: 0.4198\n",
            "Epoch 00001: val_accuracy improved from -inf to 0.57880, saving model to cnn_best_model.h5\n",
            "781/781 [==============================] - 27s 35ms/step - loss: 1.8098 - accuracy: 0.4199 - val_loss: 1.3035 - val_accuracy: 0.5788 - lr: 0.0010\n",
            "Epoch 2/400\n",
            "781/781 [==============================] - ETA: 0s - loss: 1.2976 - accuracy: 0.5699\n",
            "Epoch 00002: val_accuracy improved from 0.57880 to 0.64320, saving model to cnn_best_model.h5\n",
            "781/781 [==============================] - 27s 34ms/step - loss: 1.2976 - accuracy: 0.5699 - val_loss: 1.1312 - val_accuracy: 0.6432 - lr: 0.0010\n",
            "Epoch 3/400\n",
            "780/781 [============================>.] - ETA: 0s - loss: 1.1249 - accuracy: 0.6370\n",
            "Epoch 00003: val_accuracy improved from 0.64320 to 0.69860, saving model to cnn_best_model.h5\n",
            "781/781 [==============================] - 26s 33ms/step - loss: 1.1248 - accuracy: 0.6370 - val_loss: 0.9649 - val_accuracy: 0.6986 - lr: 0.0010\n",
            "Epoch 4/400\n",
            "780/781 [============================>.] - ETA: 0s - loss: 1.0298 - accuracy: 0.6740\n",
            "Epoch 00004: val_accuracy improved from 0.69860 to 0.72360, saving model to cnn_best_model.h5\n",
            "781/781 [==============================] - 26s 34ms/step - loss: 1.0297 - accuracy: 0.6740 - val_loss: 0.9033 - val_accuracy: 0.7236 - lr: 0.0010\n",
            "Epoch 5/400\n",
            "780/781 [============================>.] - ETA: 0s - loss: 0.9612 - accuracy: 0.6999\n",
            "Epoch 00005: val_accuracy improved from 0.72360 to 0.73280, saving model to cnn_best_model.h5\n",
            "781/781 [==============================] - 26s 34ms/step - loss: 0.9613 - accuracy: 0.6998 - val_loss: 0.8780 - val_accuracy: 0.7328 - lr: 0.0010\n",
            "Epoch 6/400\n",
            "780/781 [============================>.] - ETA: 0s - loss: 0.9091 - accuracy: 0.7215\n",
            "Epoch 00006: val_accuracy did not improve from 0.73280\n",
            "781/781 [==============================] - 26s 33ms/step - loss: 0.9093 - accuracy: 0.7215 - val_loss: 0.9310 - val_accuracy: 0.7201 - lr: 0.0010\n",
            "Epoch 7/400\n",
            "780/781 [============================>.] - ETA: 0s - loss: 0.8649 - accuracy: 0.7413\n",
            "Epoch 00007: val_accuracy improved from 0.73280 to 0.76580, saving model to cnn_best_model.h5\n",
            "781/781 [==============================] - 26s 33ms/step - loss: 0.8649 - accuracy: 0.7413 - val_loss: 0.8084 - val_accuracy: 0.7658 - lr: 0.0010\n",
            "Epoch 8/400\n",
            "780/781 [============================>.] - ETA: 0s - loss: 0.8448 - accuracy: 0.7482\n",
            "Epoch 00008: val_accuracy improved from 0.76580 to 0.78560, saving model to cnn_best_model.h5\n",
            "781/781 [==============================] - 26s 33ms/step - loss: 0.8449 - accuracy: 0.7482 - val_loss: 0.7531 - val_accuracy: 0.7856 - lr: 0.0010\n",
            "Epoch 9/400\n",
            "780/781 [============================>.] - ETA: 0s - loss: 0.8162 - accuracy: 0.7618\n",
            "Epoch 00009: val_accuracy improved from 0.78560 to 0.78860, saving model to cnn_best_model.h5\n",
            "781/781 [==============================] - 26s 33ms/step - loss: 0.8160 - accuracy: 0.7619 - val_loss: 0.7481 - val_accuracy: 0.7886 - lr: 0.0010\n",
            "Epoch 10/400\n",
            "780/781 [============================>.] - ETA: 0s - loss: 0.7972 - accuracy: 0.7695\n",
            "Epoch 00010: val_accuracy improved from 0.78860 to 0.80140, saving model to cnn_best_model.h5\n",
            "781/781 [==============================] - 26s 33ms/step - loss: 0.7971 - accuracy: 0.7695 - val_loss: 0.7174 - val_accuracy: 0.8014 - lr: 0.0010\n",
            "Epoch 11/400\n",
            "780/781 [============================>.] - ETA: 0s - loss: 0.7801 - accuracy: 0.7748\n",
            "Epoch 00011: val_accuracy improved from 0.80140 to 0.80320, saving model to cnn_best_model.h5\n",
            "781/781 [==============================] - 26s 33ms/step - loss: 0.7799 - accuracy: 0.7749 - val_loss: 0.7175 - val_accuracy: 0.8032 - lr: 0.0010\n",
            "Epoch 12/400\n",
            "780/781 [============================>.] - ETA: 0s - loss: 0.7641 - accuracy: 0.7812\n",
            "Epoch 00012: val_accuracy improved from 0.80320 to 0.82440, saving model to cnn_best_model.h5\n",
            "781/781 [==============================] - 26s 33ms/step - loss: 0.7641 - accuracy: 0.7812 - val_loss: 0.6609 - val_accuracy: 0.8244 - lr: 0.0010\n",
            "Epoch 13/400\n",
            "781/781 [==============================] - ETA: 0s - loss: 0.7491 - accuracy: 0.7873\n",
            "Epoch 00013: val_accuracy did not improve from 0.82440\n",
            "781/781 [==============================] - 25s 33ms/step - loss: 0.7491 - accuracy: 0.7873 - val_loss: 0.6612 - val_accuracy: 0.8224 - lr: 0.0010\n",
            "Epoch 14/400\n",
            "780/781 [============================>.] - ETA: 0s - loss: 0.7419 - accuracy: 0.7944\n",
            "Epoch 00014: val_accuracy did not improve from 0.82440\n",
            "781/781 [==============================] - 26s 33ms/step - loss: 0.7418 - accuracy: 0.7945 - val_loss: 0.6702 - val_accuracy: 0.8229 - lr: 0.0010\n",
            "Epoch 15/400\n",
            "780/781 [============================>.] - ETA: 0s - loss: 0.7276 - accuracy: 0.7993\n",
            "Epoch 00015: val_accuracy did not improve from 0.82440\n",
            "781/781 [==============================] - 25s 32ms/step - loss: 0.7275 - accuracy: 0.7994 - val_loss: 0.6976 - val_accuracy: 0.8165 - lr: 0.0010\n",
            "Epoch 16/400\n",
            "781/781 [==============================] - ETA: 0s - loss: 0.7191 - accuracy: 0.8011\n",
            "Epoch 00016: val_accuracy did not improve from 0.82440\n",
            "781/781 [==============================] - 26s 33ms/step - loss: 0.7191 - accuracy: 0.8011 - val_loss: 0.7762 - val_accuracy: 0.7970 - lr: 0.0010\n",
            "Epoch 17/400\n",
            "780/781 [============================>.] - ETA: 0s - loss: 0.7112 - accuracy: 0.8059\n",
            "Epoch 00017: val_accuracy improved from 0.82440 to 0.83120, saving model to cnn_best_model.h5\n",
            "781/781 [==============================] - 26s 33ms/step - loss: 0.7113 - accuracy: 0.8058 - val_loss: 0.6453 - val_accuracy: 0.8312 - lr: 0.0010\n",
            "Epoch 18/400\n",
            "780/781 [============================>.] - ETA: 0s - loss: 0.6977 - accuracy: 0.8109\n",
            "Epoch 00018: val_accuracy did not improve from 0.83120\n",
            "781/781 [==============================] - 25s 32ms/step - loss: 0.6977 - accuracy: 0.8109 - val_loss: 0.6857 - val_accuracy: 0.8212 - lr: 0.0010\n",
            "Epoch 19/400\n",
            "781/781 [==============================] - ETA: 0s - loss: 0.6947 - accuracy: 0.8110\n",
            "Epoch 00019: val_accuracy improved from 0.83120 to 0.84350, saving model to cnn_best_model.h5\n",
            "781/781 [==============================] - 25s 32ms/step - loss: 0.6947 - accuracy: 0.8110 - val_loss: 0.6160 - val_accuracy: 0.8435 - lr: 0.0010\n",
            "Epoch 20/400\n",
            "780/781 [============================>.] - ETA: 0s - loss: 0.6820 - accuracy: 0.8158\n",
            "Epoch 00020: val_accuracy did not improve from 0.84350\n",
            "781/781 [==============================] - 25s 32ms/step - loss: 0.6821 - accuracy: 0.8157 - val_loss: 0.7311 - val_accuracy: 0.8100 - lr: 0.0010\n",
            "Epoch 21/400\n",
            "780/781 [============================>.] - ETA: 0s - loss: 0.6773 - accuracy: 0.8187\n",
            "Epoch 00021: val_accuracy did not improve from 0.84350\n",
            "781/781 [==============================] - 25s 33ms/step - loss: 0.6772 - accuracy: 0.8187 - val_loss: 0.6593 - val_accuracy: 0.8296 - lr: 0.0010\n",
            "Epoch 22/400\n",
            "780/781 [============================>.] - ETA: 0s - loss: 0.6757 - accuracy: 0.8187\n",
            "Epoch 00022: val_accuracy did not improve from 0.84350\n",
            "781/781 [==============================] - 25s 32ms/step - loss: 0.6757 - accuracy: 0.8187 - val_loss: 0.6418 - val_accuracy: 0.8362 - lr: 0.0010\n",
            "Epoch 23/400\n",
            "780/781 [============================>.] - ETA: 0s - loss: 0.6671 - accuracy: 0.8222\n",
            "Epoch 00023: val_accuracy did not improve from 0.84350\n",
            "781/781 [==============================] - 25s 32ms/step - loss: 0.6670 - accuracy: 0.8223 - val_loss: 0.6663 - val_accuracy: 0.8306 - lr: 0.0010\n",
            "Epoch 24/400\n",
            "781/781 [==============================] - ETA: 0s - loss: 0.6592 - accuracy: 0.8238\n",
            "Epoch 00024: val_accuracy did not improve from 0.84350\n",
            "781/781 [==============================] - 25s 32ms/step - loss: 0.6592 - accuracy: 0.8238 - val_loss: 0.6388 - val_accuracy: 0.8351 - lr: 0.0010\n",
            "Epoch 25/400\n",
            "780/781 [============================>.] - ETA: 0s - loss: 0.6569 - accuracy: 0.8251\n",
            "Epoch 00025: val_accuracy did not improve from 0.84350\n",
            "781/781 [==============================] - 25s 32ms/step - loss: 0.6571 - accuracy: 0.8251 - val_loss: 0.6358 - val_accuracy: 0.8361 - lr: 0.0010\n",
            "Epoch 26/400\n",
            "780/781 [============================>.] - ETA: 0s - loss: 0.6567 - accuracy: 0.8269\n",
            "Epoch 00026: val_accuracy did not improve from 0.84350\n",
            "781/781 [==============================] - 25s 32ms/step - loss: 0.6567 - accuracy: 0.8268 - val_loss: 0.6402 - val_accuracy: 0.8381 - lr: 0.0010\n",
            "Epoch 27/400\n",
            "781/781 [==============================] - ETA: 0s - loss: 0.6434 - accuracy: 0.8339\n",
            "Epoch 00027: val_accuracy improved from 0.84350 to 0.86350, saving model to cnn_best_model.h5\n",
            "781/781 [==============================] - 25s 32ms/step - loss: 0.6434 - accuracy: 0.8339 - val_loss: 0.5514 - val_accuracy: 0.8635 - lr: 0.0010\n",
            "Epoch 28/400\n",
            "780/781 [============================>.] - ETA: 0s - loss: 0.6407 - accuracy: 0.8323\n",
            "Epoch 00028: val_accuracy did not improve from 0.86350\n",
            "781/781 [==============================] - 25s 33ms/step - loss: 0.6407 - accuracy: 0.8322 - val_loss: 0.6217 - val_accuracy: 0.8436 - lr: 0.0010\n",
            "Epoch 29/400\n",
            "780/781 [============================>.] - ETA: 0s - loss: 0.6391 - accuracy: 0.8308\n",
            "Epoch 00029: val_accuracy did not improve from 0.86350\n",
            "781/781 [==============================] - 25s 32ms/step - loss: 0.6392 - accuracy: 0.8309 - val_loss: 0.5761 - val_accuracy: 0.8547 - lr: 0.0010\n",
            "Epoch 30/400\n",
            "781/781 [==============================] - ETA: 0s - loss: 0.6390 - accuracy: 0.8337\n",
            "Epoch 00030: val_accuracy did not improve from 0.86350\n",
            "781/781 [==============================] - 26s 33ms/step - loss: 0.6390 - accuracy: 0.8337 - val_loss: 0.6263 - val_accuracy: 0.8443 - lr: 0.0010\n",
            "Epoch 31/400\n",
            "780/781 [============================>.] - ETA: 0s - loss: 0.6309 - accuracy: 0.8358\n",
            "Epoch 00031: val_accuracy did not improve from 0.86350\n",
            "781/781 [==============================] - 25s 32ms/step - loss: 0.6310 - accuracy: 0.8357 - val_loss: 0.6306 - val_accuracy: 0.8457 - lr: 0.0010\n",
            "Epoch 32/400\n",
            "781/781 [==============================] - ETA: 0s - loss: 0.6279 - accuracy: 0.8361\n",
            "Epoch 00032: val_accuracy did not improve from 0.86350\n",
            "781/781 [==============================] - 25s 32ms/step - loss: 0.6279 - accuracy: 0.8361 - val_loss: 0.6002 - val_accuracy: 0.8505 - lr: 0.0010\n",
            "Epoch 33/400\n",
            "780/781 [============================>.] - ETA: 0s - loss: 0.6267 - accuracy: 0.8365\n",
            "Epoch 00033: val_accuracy improved from 0.86350 to 0.86750, saving model to cnn_best_model.h5\n",
            "781/781 [==============================] - 25s 33ms/step - loss: 0.6266 - accuracy: 0.8365 - val_loss: 0.5449 - val_accuracy: 0.8675 - lr: 0.0010\n",
            "Epoch 34/400\n",
            "780/781 [============================>.] - ETA: 0s - loss: 0.6173 - accuracy: 0.8389\n",
            "Epoch 00034: val_accuracy improved from 0.86750 to 0.87270, saving model to cnn_best_model.h5\n",
            "781/781 [==============================] - 25s 32ms/step - loss: 0.6174 - accuracy: 0.8388 - val_loss: 0.5273 - val_accuracy: 0.8727 - lr: 0.0010\n",
            "Epoch 35/400\n",
            "781/781 [==============================] - ETA: 0s - loss: 0.6071 - accuracy: 0.8430\n",
            "Epoch 00035: val_accuracy did not improve from 0.87270\n",
            "781/781 [==============================] - 25s 32ms/step - loss: 0.6071 - accuracy: 0.8430 - val_loss: 0.5683 - val_accuracy: 0.8575 - lr: 0.0010\n",
            "Epoch 36/400\n",
            "780/781 [============================>.] - ETA: 0s - loss: 0.6207 - accuracy: 0.8395\n",
            "Epoch 00036: val_accuracy did not improve from 0.87270\n",
            "781/781 [==============================] - 25s 32ms/step - loss: 0.6206 - accuracy: 0.8395 - val_loss: 0.6537 - val_accuracy: 0.8380 - lr: 0.0010\n",
            "Epoch 37/400\n",
            "781/781 [==============================] - ETA: 0s - loss: 0.6078 - accuracy: 0.8433\n",
            "Epoch 00037: val_accuracy did not improve from 0.87270\n",
            "781/781 [==============================] - 25s 32ms/step - loss: 0.6078 - accuracy: 0.8433 - val_loss: 0.5979 - val_accuracy: 0.8525 - lr: 0.0010\n",
            "Epoch 38/400\n",
            "780/781 [============================>.] - ETA: 0s - loss: 0.6089 - accuracy: 0.8409\n",
            "Epoch 00038: val_accuracy did not improve from 0.87270\n",
            "781/781 [==============================] - 25s 33ms/step - loss: 0.6089 - accuracy: 0.8409 - val_loss: 0.5623 - val_accuracy: 0.8634 - lr: 0.0010\n",
            "Epoch 39/400\n",
            "780/781 [============================>.] - ETA: 0s - loss: 0.6056 - accuracy: 0.8414\n",
            "Epoch 00039: val_accuracy did not improve from 0.87270\n",
            "781/781 [==============================] - 25s 32ms/step - loss: 0.6061 - accuracy: 0.8413 - val_loss: 0.5713 - val_accuracy: 0.8578 - lr: 0.0010\n",
            "Epoch 40/400\n",
            "780/781 [============================>.] - ETA: 0s - loss: 0.6009 - accuracy: 0.8461\n",
            "Epoch 00040: val_accuracy did not improve from 0.87270\n",
            "781/781 [==============================] - 25s 32ms/step - loss: 0.6007 - accuracy: 0.8462 - val_loss: 0.5843 - val_accuracy: 0.8588 - lr: 0.0010\n",
            "Epoch 41/400\n",
            "780/781 [============================>.] - ETA: 0s - loss: 0.5971 - accuracy: 0.8458\n",
            "Epoch 00041: val_accuracy did not improve from 0.87270\n",
            "781/781 [==============================] - 25s 32ms/step - loss: 0.5975 - accuracy: 0.8456 - val_loss: 0.5646 - val_accuracy: 0.8608 - lr: 0.0010\n",
            "Epoch 42/400\n",
            "781/781 [==============================] - ETA: 0s - loss: 0.5965 - accuracy: 0.8463\n",
            "Epoch 00042: val_accuracy did not improve from 0.87270\n",
            "781/781 [==============================] - 26s 33ms/step - loss: 0.5965 - accuracy: 0.8463 - val_loss: 0.5479 - val_accuracy: 0.8662 - lr: 0.0010\n",
            "Epoch 43/400\n",
            "780/781 [============================>.] - ETA: 0s - loss: 0.5932 - accuracy: 0.8470\n",
            "Epoch 00043: val_accuracy did not improve from 0.87270\n",
            "781/781 [==============================] - 25s 32ms/step - loss: 0.5933 - accuracy: 0.8470 - val_loss: 0.5665 - val_accuracy: 0.8633 - lr: 0.0010\n",
            "Epoch 44/400\n",
            "780/781 [============================>.] - ETA: 0s - loss: 0.5967 - accuracy: 0.8462\n",
            "Epoch 00044: ReduceLROnPlateau reducing learning rate to 0.0005000000237487257.\n",
            "\n",
            "Epoch 00044: val_accuracy did not improve from 0.87270\n",
            "781/781 [==============================] - 25s 32ms/step - loss: 0.5966 - accuracy: 0.8462 - val_loss: 0.5357 - val_accuracy: 0.8690 - lr: 0.0010\n",
            "Epoch 45/400\n",
            "780/781 [============================>.] - ETA: 0s - loss: 0.5538 - accuracy: 0.8605\n",
            "Epoch 00045: val_accuracy improved from 0.87270 to 0.88150, saving model to cnn_best_model.h5\n",
            "781/781 [==============================] - 25s 32ms/step - loss: 0.5536 - accuracy: 0.8605 - val_loss: 0.4945 - val_accuracy: 0.8815 - lr: 5.0000e-04\n",
            "Epoch 46/400\n",
            "780/781 [============================>.] - ETA: 0s - loss: 0.5385 - accuracy: 0.8634\n",
            "Epoch 00046: val_accuracy did not improve from 0.88150\n",
            "781/781 [==============================] - 25s 33ms/step - loss: 0.5385 - accuracy: 0.8633 - val_loss: 0.5119 - val_accuracy: 0.8770 - lr: 5.0000e-04\n",
            "Epoch 47/400\n",
            "779/781 [============================>.] - ETA: 0s - loss: 0.5315 - accuracy: 0.8665\n",
            "Epoch 00047: val_accuracy improved from 0.88150 to 0.88160, saving model to cnn_best_model.h5\n",
            "781/781 [==============================] - 25s 33ms/step - loss: 0.5318 - accuracy: 0.8664 - val_loss: 0.4995 - val_accuracy: 0.8816 - lr: 5.0000e-04\n",
            "Epoch 48/400\n",
            "781/781 [==============================] - ETA: 0s - loss: 0.5187 - accuracy: 0.8701\n",
            "Epoch 00048: val_accuracy did not improve from 0.88160\n",
            "781/781 [==============================] - 25s 32ms/step - loss: 0.5187 - accuracy: 0.8701 - val_loss: 0.4954 - val_accuracy: 0.8764 - lr: 5.0000e-04\n",
            "Epoch 49/400\n",
            "781/781 [==============================] - ETA: 0s - loss: 0.5214 - accuracy: 0.8670\n",
            "Epoch 00049: val_accuracy did not improve from 0.88160\n",
            "781/781 [==============================] - 25s 32ms/step - loss: 0.5214 - accuracy: 0.8670 - val_loss: 0.4931 - val_accuracy: 0.8803 - lr: 5.0000e-04\n",
            "Epoch 50/400\n",
            "780/781 [============================>.] - ETA: 0s - loss: 0.5088 - accuracy: 0.8709\n",
            "Epoch 00050: val_accuracy improved from 0.88160 to 0.88430, saving model to cnn_best_model.h5\n",
            "781/781 [==============================] - 26s 33ms/step - loss: 0.5091 - accuracy: 0.8709 - val_loss: 0.4826 - val_accuracy: 0.8843 - lr: 5.0000e-04\n",
            "Epoch 51/400\n",
            "781/781 [==============================] - ETA: 0s - loss: 0.5115 - accuracy: 0.8701\n",
            "Epoch 00051: val_accuracy improved from 0.88430 to 0.88640, saving model to cnn_best_model.h5\n",
            "781/781 [==============================] - 25s 32ms/step - loss: 0.5115 - accuracy: 0.8701 - val_loss: 0.4773 - val_accuracy: 0.8864 - lr: 5.0000e-04\n",
            "Epoch 52/400\n",
            "780/781 [============================>.] - ETA: 0s - loss: 0.5070 - accuracy: 0.8703\n",
            "Epoch 00052: val_accuracy did not improve from 0.88640\n",
            "781/781 [==============================] - 25s 33ms/step - loss: 0.5072 - accuracy: 0.8701 - val_loss: 0.4914 - val_accuracy: 0.8793 - lr: 5.0000e-04\n",
            "Epoch 53/400\n",
            "780/781 [============================>.] - ETA: 0s - loss: 0.5019 - accuracy: 0.8720\n",
            "Epoch 00053: val_accuracy improved from 0.88640 to 0.88730, saving model to cnn_best_model.h5\n",
            "781/781 [==============================] - 26s 33ms/step - loss: 0.5020 - accuracy: 0.8720 - val_loss: 0.4692 - val_accuracy: 0.8873 - lr: 5.0000e-04\n",
            "Epoch 54/400\n",
            "780/781 [============================>.] - ETA: 0s - loss: 0.4970 - accuracy: 0.8728\n",
            "Epoch 00054: val_accuracy did not improve from 0.88730\n",
            "781/781 [==============================] - 26s 33ms/step - loss: 0.4968 - accuracy: 0.8728 - val_loss: 0.4890 - val_accuracy: 0.8818 - lr: 5.0000e-04\n",
            "Epoch 55/400\n",
            "781/781 [==============================] - ETA: 0s - loss: 0.4936 - accuracy: 0.8730\n",
            "Epoch 00055: val_accuracy did not improve from 0.88730\n",
            "781/781 [==============================] - 25s 32ms/step - loss: 0.4936 - accuracy: 0.8730 - val_loss: 0.4684 - val_accuracy: 0.8816 - lr: 5.0000e-04\n",
            "Epoch 56/400\n",
            "780/781 [============================>.] - ETA: 0s - loss: 0.4881 - accuracy: 0.8731\n",
            "Epoch 00056: val_accuracy did not improve from 0.88730\n",
            "781/781 [==============================] - 25s 32ms/step - loss: 0.4881 - accuracy: 0.8731 - val_loss: 0.4932 - val_accuracy: 0.8747 - lr: 5.0000e-04\n",
            "Epoch 57/400\n",
            "781/781 [==============================] - ETA: 0s - loss: 0.4858 - accuracy: 0.8760\n",
            "Epoch 00057: val_accuracy did not improve from 0.88730\n",
            "781/781 [==============================] - 25s 32ms/step - loss: 0.4858 - accuracy: 0.8760 - val_loss: 0.5090 - val_accuracy: 0.8734 - lr: 5.0000e-04\n",
            "Epoch 58/400\n",
            "781/781 [==============================] - ETA: 0s - loss: 0.4846 - accuracy: 0.8757\n",
            "Epoch 00058: val_accuracy did not improve from 0.88730\n",
            "781/781 [==============================] - 25s 32ms/step - loss: 0.4846 - accuracy: 0.8757 - val_loss: 0.4670 - val_accuracy: 0.8836 - lr: 5.0000e-04\n",
            "Epoch 59/400\n",
            "780/781 [============================>.] - ETA: 0s - loss: 0.4853 - accuracy: 0.8749\n",
            "Epoch 00059: val_accuracy did not improve from 0.88730\n",
            "781/781 [==============================] - 25s 32ms/step - loss: 0.4853 - accuracy: 0.8749 - val_loss: 0.4774 - val_accuracy: 0.8804 - lr: 5.0000e-04\n",
            "Epoch 60/400\n",
            "780/781 [============================>.] - ETA: 0s - loss: 0.4784 - accuracy: 0.8748\n",
            "Epoch 00060: val_accuracy did not improve from 0.88730\n",
            "781/781 [==============================] - 25s 32ms/step - loss: 0.4784 - accuracy: 0.8748 - val_loss: 0.4681 - val_accuracy: 0.8832 - lr: 5.0000e-04\n",
            "Epoch 61/400\n",
            "780/781 [============================>.] - ETA: 0s - loss: 0.4752 - accuracy: 0.8775\n",
            "Epoch 00061: val_accuracy did not improve from 0.88730\n",
            "781/781 [==============================] - 25s 32ms/step - loss: 0.4753 - accuracy: 0.8775 - val_loss: 0.4811 - val_accuracy: 0.8786 - lr: 5.0000e-04\n",
            "Epoch 62/400\n",
            "781/781 [==============================] - ETA: 0s - loss: 0.4750 - accuracy: 0.8770\n",
            "Epoch 00062: val_accuracy did not improve from 0.88730\n",
            "781/781 [==============================] - 25s 32ms/step - loss: 0.4750 - accuracy: 0.8770 - val_loss: 0.4619 - val_accuracy: 0.8853 - lr: 5.0000e-04\n",
            "Epoch 63/400\n",
            "780/781 [============================>.] - ETA: 0s - loss: 0.4771 - accuracy: 0.8748\n",
            "Epoch 00063: ReduceLROnPlateau reducing learning rate to 0.0002500000118743628.\n",
            "\n",
            "Epoch 00063: val_accuracy did not improve from 0.88730\n",
            "781/781 [==============================] - 25s 32ms/step - loss: 0.4774 - accuracy: 0.8747 - val_loss: 0.4578 - val_accuracy: 0.8864 - lr: 5.0000e-04\n",
            "Epoch 64/400\n",
            "780/781 [============================>.] - ETA: 0s - loss: 0.4541 - accuracy: 0.8843\n",
            "Epoch 00064: val_accuracy improved from 0.88730 to 0.89060, saving model to cnn_best_model.h5\n",
            "781/781 [==============================] - 25s 32ms/step - loss: 0.4543 - accuracy: 0.8842 - val_loss: 0.4475 - val_accuracy: 0.8906 - lr: 2.5000e-04\n",
            "Epoch 65/400\n",
            "781/781 [==============================] - ETA: 0s - loss: 0.4453 - accuracy: 0.8868\n",
            "Epoch 00065: val_accuracy did not improve from 0.89060\n",
            "781/781 [==============================] - 25s 33ms/step - loss: 0.4453 - accuracy: 0.8868 - val_loss: 0.4486 - val_accuracy: 0.8890 - lr: 2.5000e-04\n",
            "Epoch 66/400\n",
            "781/781 [==============================] - ETA: 0s - loss: 0.4448 - accuracy: 0.8876\n",
            "Epoch 00066: val_accuracy did not improve from 0.89060\n",
            "781/781 [==============================] - 26s 33ms/step - loss: 0.4448 - accuracy: 0.8876 - val_loss: 0.4446 - val_accuracy: 0.8902 - lr: 2.5000e-04\n",
            "Epoch 67/400\n",
            "781/781 [==============================] - ETA: 0s - loss: 0.4352 - accuracy: 0.8881\n",
            "Epoch 00067: val_accuracy improved from 0.89060 to 0.89230, saving model to cnn_best_model.h5\n",
            "781/781 [==============================] - 25s 33ms/step - loss: 0.4352 - accuracy: 0.8881 - val_loss: 0.4396 - val_accuracy: 0.8923 - lr: 2.5000e-04\n",
            "Epoch 68/400\n",
            "781/781 [==============================] - ETA: 0s - loss: 0.4370 - accuracy: 0.8868\n",
            "Epoch 00068: val_accuracy improved from 0.89230 to 0.89250, saving model to cnn_best_model.h5\n",
            "781/781 [==============================] - 26s 33ms/step - loss: 0.4370 - accuracy: 0.8868 - val_loss: 0.4382 - val_accuracy: 0.8925 - lr: 2.5000e-04\n",
            "Epoch 69/400\n",
            "780/781 [============================>.] - ETA: 0s - loss: 0.4296 - accuracy: 0.8903\n",
            "Epoch 00069: val_accuracy did not improve from 0.89250\n",
            "781/781 [==============================] - 25s 32ms/step - loss: 0.4294 - accuracy: 0.8904 - val_loss: 0.4424 - val_accuracy: 0.8908 - lr: 2.5000e-04\n",
            "Epoch 70/400\n",
            "781/781 [==============================] - ETA: 0s - loss: 0.4328 - accuracy: 0.8885\n",
            "Epoch 00070: val_accuracy improved from 0.89250 to 0.89700, saving model to cnn_best_model.h5\n",
            "781/781 [==============================] - 25s 33ms/step - loss: 0.4328 - accuracy: 0.8885 - val_loss: 0.4221 - val_accuracy: 0.8970 - lr: 2.5000e-04\n",
            "Epoch 71/400\n",
            "780/781 [============================>.] - ETA: 0s - loss: 0.4274 - accuracy: 0.8900\n",
            "Epoch 00071: val_accuracy did not improve from 0.89700\n",
            "781/781 [==============================] - 26s 33ms/step - loss: 0.4273 - accuracy: 0.8900 - val_loss: 0.4280 - val_accuracy: 0.8938 - lr: 2.5000e-04\n",
            "Epoch 72/400\n",
            "781/781 [==============================] - ETA: 0s - loss: 0.4229 - accuracy: 0.8898\n",
            "Epoch 00072: val_accuracy did not improve from 0.89700\n",
            "781/781 [==============================] - 26s 33ms/step - loss: 0.4229 - accuracy: 0.8898 - val_loss: 0.4384 - val_accuracy: 0.8898 - lr: 2.5000e-04\n",
            "Epoch 73/400\n",
            "781/781 [==============================] - ETA: 0s - loss: 0.4230 - accuracy: 0.8907\n",
            "Epoch 00073: val_accuracy did not improve from 0.89700\n",
            "781/781 [==============================] - 26s 33ms/step - loss: 0.4230 - accuracy: 0.8907 - val_loss: 0.4259 - val_accuracy: 0.8936 - lr: 2.5000e-04\n",
            "Epoch 74/400\n",
            "780/781 [============================>.] - ETA: 0s - loss: 0.4253 - accuracy: 0.8905\n",
            "Epoch 00074: val_accuracy did not improve from 0.89700\n",
            "781/781 [==============================] - 26s 34ms/step - loss: 0.4255 - accuracy: 0.8904 - val_loss: 0.4363 - val_accuracy: 0.8890 - lr: 2.5000e-04\n",
            "Epoch 75/400\n",
            "781/781 [==============================] - ETA: 0s - loss: 0.4221 - accuracy: 0.8906\n",
            "Epoch 00075: val_accuracy did not improve from 0.89700\n",
            "781/781 [==============================] - 26s 33ms/step - loss: 0.4221 - accuracy: 0.8906 - val_loss: 0.4281 - val_accuracy: 0.8927 - lr: 2.5000e-04\n",
            "Epoch 76/400\n",
            "780/781 [============================>.] - ETA: 0s - loss: 0.4204 - accuracy: 0.8908\n",
            "Epoch 00076: val_accuracy did not improve from 0.89700\n",
            "781/781 [==============================] - 26s 34ms/step - loss: 0.4203 - accuracy: 0.8908 - val_loss: 0.4283 - val_accuracy: 0.8941 - lr: 2.5000e-04\n",
            "Epoch 77/400\n",
            "780/781 [============================>.] - ETA: 0s - loss: 0.4112 - accuracy: 0.8935\n",
            "Epoch 00077: val_accuracy did not improve from 0.89700\n",
            "781/781 [==============================] - 27s 34ms/step - loss: 0.4114 - accuracy: 0.8935 - val_loss: 0.4387 - val_accuracy: 0.8920 - lr: 2.5000e-04\n",
            "Epoch 78/400\n",
            "780/781 [============================>.] - ETA: 0s - loss: 0.4148 - accuracy: 0.8919\n",
            "Epoch 00078: val_accuracy improved from 0.89700 to 0.89740, saving model to cnn_best_model.h5\n",
            "781/781 [==============================] - 27s 34ms/step - loss: 0.4149 - accuracy: 0.8919 - val_loss: 0.4162 - val_accuracy: 0.8974 - lr: 2.5000e-04\n",
            "Epoch 79/400\n",
            "781/781 [==============================] - ETA: 0s - loss: 0.4088 - accuracy: 0.8941\n",
            "Epoch 00079: val_accuracy did not improve from 0.89740\n",
            "781/781 [==============================] - 27s 34ms/step - loss: 0.4088 - accuracy: 0.8941 - val_loss: 0.4143 - val_accuracy: 0.8967 - lr: 2.5000e-04\n",
            "Epoch 80/400\n",
            "780/781 [============================>.] - ETA: 0s - loss: 0.4100 - accuracy: 0.8930\n",
            "Epoch 00080: val_accuracy did not improve from 0.89740\n",
            "781/781 [==============================] - 27s 34ms/step - loss: 0.4099 - accuracy: 0.8930 - val_loss: 0.4227 - val_accuracy: 0.8951 - lr: 2.5000e-04\n",
            "Epoch 81/400\n",
            "780/781 [============================>.] - ETA: 0s - loss: 0.4084 - accuracy: 0.8939\n",
            "Epoch 00081: val_accuracy did not improve from 0.89740\n",
            "781/781 [==============================] - 27s 34ms/step - loss: 0.4084 - accuracy: 0.8940 - val_loss: 0.4209 - val_accuracy: 0.8945 - lr: 2.5000e-04\n",
            "Epoch 82/400\n",
            "780/781 [============================>.] - ETA: 0s - loss: 0.4072 - accuracy: 0.8938\n",
            "Epoch 00082: val_accuracy did not improve from 0.89740\n",
            "781/781 [==============================] - 27s 34ms/step - loss: 0.4072 - accuracy: 0.8938 - val_loss: 0.4215 - val_accuracy: 0.8956 - lr: 2.5000e-04\n",
            "Epoch 83/400\n",
            "781/781 [==============================] - ETA: 0s - loss: 0.4020 - accuracy: 0.8958\n",
            "Epoch 00083: val_accuracy did not improve from 0.89740\n",
            "781/781 [==============================] - 27s 34ms/step - loss: 0.4020 - accuracy: 0.8958 - val_loss: 0.4098 - val_accuracy: 0.8971 - lr: 2.5000e-04\n",
            "Epoch 84/400\n",
            "780/781 [============================>.] - ETA: 0s - loss: 0.4064 - accuracy: 0.8940\n",
            "Epoch 00084: val_accuracy improved from 0.89740 to 0.89770, saving model to cnn_best_model.h5\n",
            "781/781 [==============================] - 27s 34ms/step - loss: 0.4065 - accuracy: 0.8939 - val_loss: 0.4068 - val_accuracy: 0.8977 - lr: 2.5000e-04\n",
            "Epoch 85/400\n",
            "781/781 [==============================] - ETA: 0s - loss: 0.4025 - accuracy: 0.8967\n",
            "Epoch 00085: val_accuracy did not improve from 0.89770\n",
            "781/781 [==============================] - 27s 34ms/step - loss: 0.4025 - accuracy: 0.8967 - val_loss: 0.4123 - val_accuracy: 0.8975 - lr: 2.5000e-04\n",
            "Epoch 86/400\n",
            "780/781 [============================>.] - ETA: 0s - loss: 0.3973 - accuracy: 0.8970\n",
            "Epoch 00086: val_accuracy did not improve from 0.89770\n",
            "781/781 [==============================] - 27s 34ms/step - loss: 0.3974 - accuracy: 0.8969 - val_loss: 0.4385 - val_accuracy: 0.8904 - lr: 2.5000e-04\n",
            "Epoch 87/400\n",
            "780/781 [============================>.] - ETA: 0s - loss: 0.3985 - accuracy: 0.8975\n",
            "Epoch 00087: val_accuracy did not improve from 0.89770\n",
            "781/781 [==============================] - 27s 35ms/step - loss: 0.3985 - accuracy: 0.8975 - val_loss: 0.4125 - val_accuracy: 0.8958 - lr: 2.5000e-04\n",
            "Epoch 88/400\n",
            "780/781 [============================>.] - ETA: 0s - loss: 0.4026 - accuracy: 0.8955\n",
            "Epoch 00088: val_accuracy did not improve from 0.89770\n",
            "781/781 [==============================] - 27s 35ms/step - loss: 0.4024 - accuracy: 0.8956 - val_loss: 0.4307 - val_accuracy: 0.8900 - lr: 2.5000e-04\n",
            "Epoch 89/400\n",
            "780/781 [============================>.] - ETA: 0s - loss: 0.3971 - accuracy: 0.8967\n",
            "Epoch 00089: val_accuracy did not improve from 0.89770\n",
            "781/781 [==============================] - 27s 35ms/step - loss: 0.3971 - accuracy: 0.8966 - val_loss: 0.4213 - val_accuracy: 0.8937 - lr: 2.5000e-04\n",
            "Epoch 90/400\n",
            "781/781 [==============================] - ETA: 0s - loss: 0.3975 - accuracy: 0.8948\n",
            "Epoch 00090: val_accuracy did not improve from 0.89770\n",
            "781/781 [==============================] - 27s 35ms/step - loss: 0.3975 - accuracy: 0.8948 - val_loss: 0.4236 - val_accuracy: 0.8910 - lr: 2.5000e-04\n",
            "Epoch 91/400\n",
            "781/781 [==============================] - ETA: 0s - loss: 0.3900 - accuracy: 0.8976\n",
            "Epoch 00091: val_accuracy did not improve from 0.89770\n",
            "781/781 [==============================] - 27s 35ms/step - loss: 0.3900 - accuracy: 0.8976 - val_loss: 0.4073 - val_accuracy: 0.8976 - lr: 2.5000e-04\n",
            "Epoch 92/400\n",
            "781/781 [==============================] - ETA: 0s - loss: 0.3939 - accuracy: 0.8958\n",
            "Epoch 00092: val_accuracy improved from 0.89770 to 0.89940, saving model to cnn_best_model.h5\n",
            "781/781 [==============================] - 27s 34ms/step - loss: 0.3939 - accuracy: 0.8958 - val_loss: 0.4053 - val_accuracy: 0.8994 - lr: 2.5000e-04\n",
            "Epoch 93/400\n",
            "780/781 [============================>.] - ETA: 0s - loss: 0.3915 - accuracy: 0.8968\n",
            "Epoch 00093: val_accuracy did not improve from 0.89940\n",
            "781/781 [==============================] - 28s 35ms/step - loss: 0.3914 - accuracy: 0.8968 - val_loss: 0.4247 - val_accuracy: 0.8927 - lr: 2.5000e-04\n",
            "Epoch 94/400\n",
            "780/781 [============================>.] - ETA: 0s - loss: 0.3909 - accuracy: 0.8980\n",
            "Epoch 00094: val_accuracy did not improve from 0.89940\n",
            "781/781 [==============================] - 27s 34ms/step - loss: 0.3908 - accuracy: 0.8980 - val_loss: 0.4248 - val_accuracy: 0.8924 - lr: 2.5000e-04\n",
            "Epoch 95/400\n",
            "781/781 [==============================] - ETA: 0s - loss: 0.3901 - accuracy: 0.8984\n",
            "Epoch 00095: val_accuracy did not improve from 0.89940\n",
            "781/781 [==============================] - 27s 35ms/step - loss: 0.3901 - accuracy: 0.8984 - val_loss: 0.4126 - val_accuracy: 0.8943 - lr: 2.5000e-04\n",
            "Epoch 96/400\n",
            "780/781 [============================>.] - ETA: 0s - loss: 0.3896 - accuracy: 0.8985\n",
            "Epoch 00096: val_accuracy did not improve from 0.89940\n",
            "781/781 [==============================] - 27s 34ms/step - loss: 0.3896 - accuracy: 0.8985 - val_loss: 0.4233 - val_accuracy: 0.8914 - lr: 2.5000e-04\n",
            "Epoch 97/400\n",
            "781/781 [==============================] - ETA: 0s - loss: 0.3879 - accuracy: 0.8983\n",
            "Epoch 00097: val_accuracy did not improve from 0.89940\n",
            "781/781 [==============================] - 27s 35ms/step - loss: 0.3879 - accuracy: 0.8983 - val_loss: 0.4143 - val_accuracy: 0.8940 - lr: 2.5000e-04\n",
            "Epoch 98/400\n",
            "781/781 [==============================] - ETA: 0s - loss: 0.3890 - accuracy: 0.8964\n",
            "Epoch 00098: val_accuracy did not improve from 0.89940\n",
            "781/781 [==============================] - 27s 35ms/step - loss: 0.3890 - accuracy: 0.8964 - val_loss: 0.4135 - val_accuracy: 0.8936 - lr: 2.5000e-04\n",
            "Epoch 99/400\n",
            "781/781 [==============================] - ETA: 0s - loss: 0.3852 - accuracy: 0.8987\n",
            "Epoch 00099: val_accuracy did not improve from 0.89940\n",
            "781/781 [==============================] - 27s 35ms/step - loss: 0.3852 - accuracy: 0.8987 - val_loss: 0.3996 - val_accuracy: 0.8989 - lr: 2.5000e-04\n",
            "Epoch 100/400\n",
            "780/781 [============================>.] - ETA: 0s - loss: 0.3840 - accuracy: 0.9002\n",
            "Epoch 00100: val_accuracy did not improve from 0.89940\n",
            "781/781 [==============================] - 27s 35ms/step - loss: 0.3840 - accuracy: 0.9002 - val_loss: 0.4091 - val_accuracy: 0.8974 - lr: 2.5000e-04\n",
            "Epoch 101/400\n",
            "780/781 [============================>.] - ETA: 0s - loss: 0.3840 - accuracy: 0.8980\n",
            "Epoch 00101: val_accuracy did not improve from 0.89940\n",
            "781/781 [==============================] - 27s 35ms/step - loss: 0.3841 - accuracy: 0.8979 - val_loss: 0.4023 - val_accuracy: 0.8961 - lr: 2.5000e-04\n",
            "Epoch 102/400\n",
            "780/781 [============================>.] - ETA: 0s - loss: 0.3804 - accuracy: 0.8992\n",
            "Epoch 00102: ReduceLROnPlateau reducing learning rate to 0.0001250000059371814.\n",
            "\n",
            "Epoch 00102: val_accuracy did not improve from 0.89940\n",
            "781/781 [==============================] - 27s 35ms/step - loss: 0.3805 - accuracy: 0.8992 - val_loss: 0.4038 - val_accuracy: 0.8963 - lr: 2.5000e-04\n",
            "Epoch 103/400\n",
            "780/781 [============================>.] - ETA: 0s - loss: 0.3729 - accuracy: 0.9033\n",
            "Epoch 00103: val_accuracy did not improve from 0.89940\n",
            "781/781 [==============================] - 27s 35ms/step - loss: 0.3730 - accuracy: 0.9033 - val_loss: 0.4140 - val_accuracy: 0.8952 - lr: 1.2500e-04\n",
            "Epoch 104/400\n",
            "781/781 [==============================] - ETA: 0s - loss: 0.3666 - accuracy: 0.9040\n",
            "Epoch 00104: val_accuracy improved from 0.89940 to 0.89990, saving model to cnn_best_model.h5\n",
            "781/781 [==============================] - 28s 36ms/step - loss: 0.3666 - accuracy: 0.9040 - val_loss: 0.4002 - val_accuracy: 0.8999 - lr: 1.2500e-04\n",
            "Epoch 105/400\n",
            "780/781 [============================>.] - ETA: 0s - loss: 0.3666 - accuracy: 0.9041\n",
            "Epoch 00105: val_accuracy improved from 0.89990 to 0.90040, saving model to cnn_best_model.h5\n",
            "781/781 [==============================] - 27s 35ms/step - loss: 0.3667 - accuracy: 0.9041 - val_loss: 0.3975 - val_accuracy: 0.9004 - lr: 1.2500e-04\n",
            "Epoch 106/400\n",
            "781/781 [==============================] - ETA: 0s - loss: 0.3693 - accuracy: 0.9026\n",
            "Epoch 00106: val_accuracy improved from 0.90040 to 0.90120, saving model to cnn_best_model.h5\n",
            "781/781 [==============================] - 27s 35ms/step - loss: 0.3693 - accuracy: 0.9026 - val_loss: 0.3938 - val_accuracy: 0.9012 - lr: 1.2500e-04\n",
            "Epoch 107/400\n",
            "781/781 [==============================] - ETA: 0s - loss: 0.3715 - accuracy: 0.9028\n",
            "Epoch 00107: val_accuracy did not improve from 0.90120\n",
            "781/781 [==============================] - 27s 35ms/step - loss: 0.3715 - accuracy: 0.9028 - val_loss: 0.4006 - val_accuracy: 0.8989 - lr: 1.2500e-04\n",
            "Epoch 108/400\n",
            "781/781 [==============================] - ETA: 0s - loss: 0.3643 - accuracy: 0.9048\n",
            "Epoch 00108: val_accuracy did not improve from 0.90120\n",
            "781/781 [==============================] - 27s 35ms/step - loss: 0.3643 - accuracy: 0.9048 - val_loss: 0.3970 - val_accuracy: 0.8991 - lr: 1.2500e-04\n",
            "Epoch 109/400\n",
            "780/781 [============================>.] - ETA: 0s - loss: 0.3659 - accuracy: 0.9047\n",
            "Epoch 00109: val_accuracy did not improve from 0.90120\n",
            "781/781 [==============================] - 27s 35ms/step - loss: 0.3659 - accuracy: 0.9047 - val_loss: 0.4008 - val_accuracy: 0.8987 - lr: 1.2500e-04\n",
            "Epoch 110/400\n",
            "781/781 [==============================] - ETA: 0s - loss: 0.3607 - accuracy: 0.9056\n",
            "Epoch 00110: val_accuracy did not improve from 0.90120\n",
            "781/781 [==============================] - 28s 35ms/step - loss: 0.3607 - accuracy: 0.9056 - val_loss: 0.3954 - val_accuracy: 0.9005 - lr: 1.2500e-04\n",
            "Epoch 111/400\n",
            "780/781 [============================>.] - ETA: 0s - loss: 0.3611 - accuracy: 0.9055\n",
            "Epoch 00111: val_accuracy did not improve from 0.90120\n",
            "781/781 [==============================] - 27s 35ms/step - loss: 0.3610 - accuracy: 0.9056 - val_loss: 0.3933 - val_accuracy: 0.8994 - lr: 1.2500e-04\n",
            "Epoch 112/400\n",
            "781/781 [==============================] - ETA: 0s - loss: 0.3608 - accuracy: 0.9066\n",
            "Epoch 00112: val_accuracy did not improve from 0.90120\n",
            "781/781 [==============================] - 27s 35ms/step - loss: 0.3608 - accuracy: 0.9066 - val_loss: 0.4031 - val_accuracy: 0.8977 - lr: 1.2500e-04\n",
            "Epoch 113/400\n",
            "781/781 [==============================] - ETA: 0s - loss: 0.3566 - accuracy: 0.9070\n",
            "Epoch 00113: val_accuracy did not improve from 0.90120\n",
            "781/781 [==============================] - 28s 36ms/step - loss: 0.3566 - accuracy: 0.9070 - val_loss: 0.4029 - val_accuracy: 0.8975 - lr: 1.2500e-04\n",
            "Epoch 114/400\n",
            "780/781 [============================>.] - ETA: 0s - loss: 0.3603 - accuracy: 0.9057\n",
            "Epoch 00114: val_accuracy did not improve from 0.90120\n",
            "781/781 [==============================] - 27s 35ms/step - loss: 0.3602 - accuracy: 0.9058 - val_loss: 0.3987 - val_accuracy: 0.8984 - lr: 1.2500e-04\n",
            "Epoch 115/400\n",
            "780/781 [============================>.] - ETA: 0s - loss: 0.3602 - accuracy: 0.9049\n",
            "Epoch 00115: val_accuracy did not improve from 0.90120\n",
            "781/781 [==============================] - 27s 35ms/step - loss: 0.3604 - accuracy: 0.9049 - val_loss: 0.3938 - val_accuracy: 0.8994 - lr: 1.2500e-04\n",
            "Epoch 116/400\n",
            "780/781 [============================>.] - ETA: 0s - loss: 0.3608 - accuracy: 0.9054\n",
            "Epoch 00116: ReduceLROnPlateau reducing learning rate to 6.25000029685907e-05.\n",
            "\n",
            "Epoch 00116: val_accuracy did not improve from 0.90120\n",
            "781/781 [==============================] - 27s 35ms/step - loss: 0.3606 - accuracy: 0.9055 - val_loss: 0.3955 - val_accuracy: 0.8983 - lr: 1.2500e-04\n",
            "Epoch 117/400\n",
            "780/781 [============================>.] - ETA: 0s - loss: 0.3556 - accuracy: 0.9061\n",
            "Epoch 00117: val_accuracy did not improve from 0.90120\n",
            "781/781 [==============================] - 27s 35ms/step - loss: 0.3553 - accuracy: 0.9062 - val_loss: 0.3965 - val_accuracy: 0.8990 - lr: 6.2500e-05\n",
            "Epoch 118/400\n",
            "781/781 [==============================] - ETA: 0s - loss: 0.3535 - accuracy: 0.9076\n",
            "Epoch 00118: val_accuracy did not improve from 0.90120\n",
            "781/781 [==============================] - 27s 35ms/step - loss: 0.3535 - accuracy: 0.9076 - val_loss: 0.3924 - val_accuracy: 0.9000 - lr: 6.2500e-05\n",
            "Epoch 119/400\n",
            "781/781 [==============================] - ETA: 0s - loss: 0.3512 - accuracy: 0.9082\n",
            "Epoch 00119: val_accuracy improved from 0.90120 to 0.90310, saving model to cnn_best_model.h5\n",
            "781/781 [==============================] - 27s 35ms/step - loss: 0.3512 - accuracy: 0.9082 - val_loss: 0.3857 - val_accuracy: 0.9031 - lr: 6.2500e-05\n",
            "Epoch 120/400\n",
            "781/781 [==============================] - ETA: 0s - loss: 0.3505 - accuracy: 0.9087\n",
            "Epoch 00120: val_accuracy did not improve from 0.90310\n",
            "781/781 [==============================] - 27s 35ms/step - loss: 0.3505 - accuracy: 0.9087 - val_loss: 0.3878 - val_accuracy: 0.9011 - lr: 6.2500e-05\n",
            "Epoch 121/400\n",
            "780/781 [============================>.] - ETA: 0s - loss: 0.3485 - accuracy: 0.9087\n",
            "Epoch 00121: val_accuracy did not improve from 0.90310\n",
            "781/781 [==============================] - 28s 35ms/step - loss: 0.3483 - accuracy: 0.9088 - val_loss: 0.3893 - val_accuracy: 0.9007 - lr: 6.2500e-05\n",
            "Epoch 122/400\n",
            "780/781 [============================>.] - ETA: 0s - loss: 0.3526 - accuracy: 0.9077\n",
            "Epoch 00122: val_accuracy did not improve from 0.90310\n",
            "781/781 [==============================] - 28s 36ms/step - loss: 0.3525 - accuracy: 0.9078 - val_loss: 0.3976 - val_accuracy: 0.8987 - lr: 6.2500e-05\n",
            "Epoch 123/400\n",
            "780/781 [============================>.] - ETA: 0s - loss: 0.3467 - accuracy: 0.9093\n",
            "Epoch 00123: val_accuracy did not improve from 0.90310\n",
            "781/781 [==============================] - 27s 35ms/step - loss: 0.3466 - accuracy: 0.9093 - val_loss: 0.3889 - val_accuracy: 0.9007 - lr: 6.2500e-05\n",
            "Epoch 124/400\n",
            "781/781 [==============================] - ETA: 0s - loss: 0.3479 - accuracy: 0.9094\n",
            "Epoch 00124: val_accuracy did not improve from 0.90310\n",
            "781/781 [==============================] - 28s 36ms/step - loss: 0.3479 - accuracy: 0.9094 - val_loss: 0.3972 - val_accuracy: 0.8988 - lr: 6.2500e-05\n",
            "Epoch 125/400\n",
            "780/781 [============================>.] - ETA: 0s - loss: 0.3503 - accuracy: 0.9079\n",
            "Epoch 00125: val_accuracy did not improve from 0.90310\n",
            "781/781 [==============================] - 28s 35ms/step - loss: 0.3501 - accuracy: 0.9080 - val_loss: 0.3914 - val_accuracy: 0.9000 - lr: 6.2500e-05\n",
            "Epoch 126/400\n",
            "780/781 [============================>.] - ETA: 0s - loss: 0.3475 - accuracy: 0.9093\n",
            "Epoch 00126: val_accuracy did not improve from 0.90310\n",
            "781/781 [==============================] - 27s 35ms/step - loss: 0.3476 - accuracy: 0.9093 - val_loss: 0.3894 - val_accuracy: 0.9021 - lr: 6.2500e-05\n",
            "Epoch 127/400\n",
            "780/781 [============================>.] - ETA: 0s - loss: 0.3481 - accuracy: 0.9075\n",
            "Epoch 00127: val_accuracy did not improve from 0.90310\n",
            "781/781 [==============================] - 28s 35ms/step - loss: 0.3482 - accuracy: 0.9075 - val_loss: 0.3917 - val_accuracy: 0.9005 - lr: 6.2500e-05\n",
            "Epoch 128/400\n",
            "780/781 [============================>.] - ETA: 0s - loss: 0.3441 - accuracy: 0.9089\n",
            "Epoch 00128: val_accuracy did not improve from 0.90310\n",
            "781/781 [==============================] - 27s 35ms/step - loss: 0.3441 - accuracy: 0.9089 - val_loss: 0.3865 - val_accuracy: 0.9016 - lr: 6.2500e-05\n",
            "Epoch 129/400\n",
            "781/781 [==============================] - ETA: 0s - loss: 0.3430 - accuracy: 0.9107\n",
            "Epoch 00129: val_accuracy improved from 0.90310 to 0.90340, saving model to cnn_best_model.h5\n",
            "781/781 [==============================] - 28s 35ms/step - loss: 0.3430 - accuracy: 0.9107 - val_loss: 0.3882 - val_accuracy: 0.9034 - lr: 6.2500e-05\n",
            "Epoch 130/400\n",
            "780/781 [============================>.] - ETA: 0s - loss: 0.3419 - accuracy: 0.9105\n",
            "Epoch 00130: val_accuracy improved from 0.90340 to 0.90380, saving model to cnn_best_model.h5\n",
            "781/781 [==============================] - 27s 35ms/step - loss: 0.3421 - accuracy: 0.9104 - val_loss: 0.3867 - val_accuracy: 0.9038 - lr: 6.2500e-05\n",
            "Epoch 131/400\n",
            "781/781 [==============================] - ETA: 0s - loss: 0.3452 - accuracy: 0.9114\n",
            "Epoch 00131: val_accuracy did not improve from 0.90380\n",
            "781/781 [==============================] - 27s 35ms/step - loss: 0.3452 - accuracy: 0.9114 - val_loss: 0.3876 - val_accuracy: 0.9031 - lr: 6.2500e-05\n",
            "Epoch 132/400\n",
            "781/781 [==============================] - ETA: 0s - loss: 0.3397 - accuracy: 0.9108\n",
            "Epoch 00132: val_accuracy did not improve from 0.90380\n",
            "781/781 [==============================] - 28s 35ms/step - loss: 0.3397 - accuracy: 0.9108 - val_loss: 0.3833 - val_accuracy: 0.9020 - lr: 6.2500e-05\n",
            "Epoch 133/400\n",
            "780/781 [============================>.] - ETA: 0s - loss: 0.3422 - accuracy: 0.9096\n",
            "Epoch 00133: val_accuracy did not improve from 0.90380\n",
            "781/781 [==============================] - 27s 35ms/step - loss: 0.3422 - accuracy: 0.9095 - val_loss: 0.3854 - val_accuracy: 0.9027 - lr: 6.2500e-05\n",
            "Epoch 134/400\n",
            "780/781 [============================>.] - ETA: 0s - loss: 0.3411 - accuracy: 0.9105\n",
            "Epoch 00134: val_accuracy did not improve from 0.90380\n",
            "781/781 [==============================] - 28s 35ms/step - loss: 0.3410 - accuracy: 0.9106 - val_loss: 0.3925 - val_accuracy: 0.9006 - lr: 6.2500e-05\n",
            "Epoch 135/400\n",
            "780/781 [============================>.] - ETA: 0s - loss: 0.3459 - accuracy: 0.9090\n",
            "Epoch 00135: val_accuracy did not improve from 0.90380\n",
            "781/781 [==============================] - 28s 35ms/step - loss: 0.3459 - accuracy: 0.9091 - val_loss: 0.3846 - val_accuracy: 0.9038 - lr: 6.2500e-05\n",
            "Epoch 136/400\n",
            "781/781 [==============================] - ETA: 0s - loss: 0.3445 - accuracy: 0.9106\n",
            "Epoch 00136: val_accuracy did not improve from 0.90380\n",
            "781/781 [==============================] - 28s 35ms/step - loss: 0.3445 - accuracy: 0.9106 - val_loss: 0.3894 - val_accuracy: 0.9025 - lr: 6.2500e-05\n",
            "Epoch 137/400\n",
            "781/781 [==============================] - ETA: 0s - loss: 0.3414 - accuracy: 0.9117\n",
            "Epoch 00137: val_accuracy did not improve from 0.90380\n",
            "781/781 [==============================] - 27s 35ms/step - loss: 0.3414 - accuracy: 0.9117 - val_loss: 0.3914 - val_accuracy: 0.9017 - lr: 6.2500e-05\n",
            "Epoch 138/400\n",
            "780/781 [============================>.] - ETA: 0s - loss: 0.3443 - accuracy: 0.9100\n",
            "Epoch 00138: val_accuracy did not improve from 0.90380\n",
            "781/781 [==============================] - 28s 35ms/step - loss: 0.3443 - accuracy: 0.9101 - val_loss: 0.3848 - val_accuracy: 0.9024 - lr: 6.2500e-05\n",
            "Epoch 139/400\n",
            "780/781 [============================>.] - ETA: 0s - loss: 0.3404 - accuracy: 0.9111\n",
            "Epoch 00139: val_accuracy did not improve from 0.90380\n",
            "781/781 [==============================] - 27s 35ms/step - loss: 0.3407 - accuracy: 0.9110 - val_loss: 0.3853 - val_accuracy: 0.9021 - lr: 6.2500e-05\n",
            "Epoch 140/400\n",
            "780/781 [============================>.] - ETA: 0s - loss: 0.3433 - accuracy: 0.9092\n",
            "Epoch 00140: ReduceLROnPlateau reducing learning rate to 3.125000148429535e-05.\n",
            "\n",
            "Epoch 00140: val_accuracy did not improve from 0.90380\n",
            "781/781 [==============================] - 27s 35ms/step - loss: 0.3431 - accuracy: 0.9093 - val_loss: 0.3860 - val_accuracy: 0.9022 - lr: 6.2500e-05\n",
            "Epoch 141/400\n",
            "781/781 [==============================] - ETA: 0s - loss: 0.3424 - accuracy: 0.9110\n",
            "Epoch 00141: val_accuracy did not improve from 0.90380\n",
            "781/781 [==============================] - 27s 35ms/step - loss: 0.3424 - accuracy: 0.9110 - val_loss: 0.3865 - val_accuracy: 0.9015 - lr: 3.1250e-05\n",
            "Epoch 142/400\n",
            "781/781 [==============================] - ETA: 0s - loss: 0.3368 - accuracy: 0.9122\n",
            "Epoch 00142: val_accuracy did not improve from 0.90380\n",
            "781/781 [==============================] - 28s 35ms/step - loss: 0.3368 - accuracy: 0.9122 - val_loss: 0.3863 - val_accuracy: 0.9010 - lr: 3.1250e-05\n",
            "Epoch 143/400\n",
            "781/781 [==============================] - ETA: 0s - loss: 0.3364 - accuracy: 0.9112\n",
            "Epoch 00143: val_accuracy did not improve from 0.90380\n",
            "781/781 [==============================] - 28s 35ms/step - loss: 0.3364 - accuracy: 0.9112 - val_loss: 0.3884 - val_accuracy: 0.9018 - lr: 3.1250e-05\n",
            "Epoch 144/400\n",
            "781/781 [==============================] - ETA: 0s - loss: 0.3345 - accuracy: 0.9132\n",
            "Epoch 00144: val_accuracy did not improve from 0.90380\n",
            "781/781 [==============================] - 28s 35ms/step - loss: 0.3345 - accuracy: 0.9132 - val_loss: 0.3858 - val_accuracy: 0.9014 - lr: 3.1250e-05\n",
            "Epoch 145/400\n",
            "781/781 [==============================] - ETA: 0s - loss: 0.3367 - accuracy: 0.9131\n",
            "Epoch 00145: val_accuracy did not improve from 0.90380\n",
            "781/781 [==============================] - 28s 36ms/step - loss: 0.3367 - accuracy: 0.9131 - val_loss: 0.3866 - val_accuracy: 0.9015 - lr: 3.1250e-05\n",
            "Epoch 146/400\n",
            "781/781 [==============================] - ETA: 0s - loss: 0.3338 - accuracy: 0.9130\n",
            "Epoch 00146: val_accuracy did not improve from 0.90380\n",
            "781/781 [==============================] - 28s 36ms/step - loss: 0.3338 - accuracy: 0.9130 - val_loss: 0.3874 - val_accuracy: 0.9011 - lr: 3.1250e-05\n",
            "Epoch 147/400\n",
            "781/781 [==============================] - ETA: 0s - loss: 0.3379 - accuracy: 0.9112\n",
            "Epoch 00147: val_accuracy did not improve from 0.90380\n",
            "781/781 [==============================] - 28s 35ms/step - loss: 0.3379 - accuracy: 0.9112 - val_loss: 0.3875 - val_accuracy: 0.9021 - lr: 3.1250e-05\n",
            "Epoch 148/400\n",
            "780/781 [============================>.] - ETA: 0s - loss: 0.3386 - accuracy: 0.9110\n",
            "Epoch 00148: val_accuracy did not improve from 0.90380\n",
            "781/781 [==============================] - 28s 36ms/step - loss: 0.3384 - accuracy: 0.9111 - val_loss: 0.3876 - val_accuracy: 0.9017 - lr: 3.1250e-05\n",
            "Epoch 149/400\n",
            "780/781 [============================>.] - ETA: 0s - loss: 0.3359 - accuracy: 0.9135\n",
            "Epoch 00149: val_accuracy did not improve from 0.90380\n",
            "781/781 [==============================] - 28s 35ms/step - loss: 0.3361 - accuracy: 0.9134 - val_loss: 0.3842 - val_accuracy: 0.9030 - lr: 3.1250e-05\n",
            "Epoch 150/400\n",
            "781/781 [==============================] - ETA: 0s - loss: 0.3348 - accuracy: 0.9126\n",
            "Epoch 00150: ReduceLROnPlateau reducing learning rate to 1.5625000742147677e-05.\n",
            "\n",
            "Epoch 00150: val_accuracy did not improve from 0.90380\n",
            "781/781 [==============================] - 28s 36ms/step - loss: 0.3348 - accuracy: 0.9126 - val_loss: 0.3892 - val_accuracy: 0.9008 - lr: 3.1250e-05\n",
            "Epoch 151/400\n",
            "780/781 [============================>.] - ETA: 0s - loss: 0.3386 - accuracy: 0.9116\n",
            "Epoch 00151: val_accuracy did not improve from 0.90380\n",
            "781/781 [==============================] - 28s 35ms/step - loss: 0.3386 - accuracy: 0.9115 - val_loss: 0.3893 - val_accuracy: 0.9014 - lr: 1.5625e-05\n",
            "Epoch 152/400\n",
            "781/781 [==============================] - ETA: 0s - loss: 0.3326 - accuracy: 0.9138\n",
            "Epoch 00152: val_accuracy did not improve from 0.90380\n",
            "781/781 [==============================] - 28s 36ms/step - loss: 0.3326 - accuracy: 0.9138 - val_loss: 0.3912 - val_accuracy: 0.9011 - lr: 1.5625e-05\n",
            "Epoch 153/400\n",
            "781/781 [==============================] - ETA: 0s - loss: 0.3371 - accuracy: 0.9111\n",
            "Epoch 00153: val_accuracy did not improve from 0.90380\n",
            "781/781 [==============================] - 28s 35ms/step - loss: 0.3371 - accuracy: 0.9111 - val_loss: 0.3895 - val_accuracy: 0.9008 - lr: 1.5625e-05\n",
            "Epoch 154/400\n",
            "781/781 [==============================] - ETA: 0s - loss: 0.3374 - accuracy: 0.9114\n",
            "Epoch 00154: val_accuracy did not improve from 0.90380\n",
            "781/781 [==============================] - 28s 36ms/step - loss: 0.3374 - accuracy: 0.9114 - val_loss: 0.3872 - val_accuracy: 0.9025 - lr: 1.5625e-05\n",
            "Epoch 155/400\n",
            "781/781 [==============================] - ETA: 0s - loss: 0.3356 - accuracy: 0.9124\n",
            "Epoch 00155: val_accuracy did not improve from 0.90380\n",
            "781/781 [==============================] - 28s 36ms/step - loss: 0.3356 - accuracy: 0.9124 - val_loss: 0.3913 - val_accuracy: 0.9008 - lr: 1.5625e-05\n",
            "Epoch 156/400\n",
            "780/781 [============================>.] - ETA: 0s - loss: 0.3369 - accuracy: 0.9127\n",
            "Epoch 00156: val_accuracy did not improve from 0.90380\n",
            "781/781 [==============================] - 28s 35ms/step - loss: 0.3368 - accuracy: 0.9127 - val_loss: 0.3844 - val_accuracy: 0.9025 - lr: 1.5625e-05\n",
            "Epoch 157/400\n",
            "781/781 [==============================] - ETA: 0s - loss: 0.3349 - accuracy: 0.9127\n",
            "Epoch 00157: val_accuracy did not improve from 0.90380\n",
            "781/781 [==============================] - 28s 36ms/step - loss: 0.3349 - accuracy: 0.9127 - val_loss: 0.3855 - val_accuracy: 0.9021 - lr: 1.5625e-05\n",
            "Epoch 158/400\n",
            "780/781 [============================>.] - ETA: 0s - loss: 0.3338 - accuracy: 0.9128\n",
            "Epoch 00158: val_accuracy did not improve from 0.90380\n",
            "781/781 [==============================] - 28s 36ms/step - loss: 0.3336 - accuracy: 0.9129 - val_loss: 0.3865 - val_accuracy: 0.9022 - lr: 1.5625e-05\n",
            "Epoch 159/400\n",
            "780/781 [============================>.] - ETA: 0s - loss: 0.3348 - accuracy: 0.9121\n",
            "Epoch 00159: val_accuracy did not improve from 0.90380\n",
            "781/781 [==============================] - 28s 36ms/step - loss: 0.3348 - accuracy: 0.9120 - val_loss: 0.3880 - val_accuracy: 0.9015 - lr: 1.5625e-05\n",
            "Epoch 160/400\n",
            "781/781 [==============================] - ETA: 0s - loss: 0.3339 - accuracy: 0.9127\n",
            "Epoch 00160: ReduceLROnPlateau reducing learning rate to 7.812500371073838e-06.\n",
            "\n",
            "Epoch 00160: val_accuracy did not improve from 0.90380\n",
            "781/781 [==============================] - 28s 35ms/step - loss: 0.3339 - accuracy: 0.9127 - val_loss: 0.3861 - val_accuracy: 0.9015 - lr: 1.5625e-05\n",
            "Epoch 161/400\n",
            "780/781 [============================>.] - ETA: 0s - loss: 0.3320 - accuracy: 0.9133\n",
            "Epoch 00161: val_accuracy did not improve from 0.90380\n",
            "781/781 [==============================] - 28s 36ms/step - loss: 0.3319 - accuracy: 0.9133 - val_loss: 0.3845 - val_accuracy: 0.9017 - lr: 7.8125e-06\n",
            "Epoch 162/400\n",
            "780/781 [============================>.] - ETA: 0s - loss: 0.3349 - accuracy: 0.9135\n",
            "Epoch 00162: val_accuracy did not improve from 0.90380\n",
            "781/781 [==============================] - 28s 35ms/step - loss: 0.3350 - accuracy: 0.9134 - val_loss: 0.3846 - val_accuracy: 0.9019 - lr: 7.8125e-06\n",
            "Epoch 163/400\n",
            "781/781 [==============================] - ETA: 0s - loss: 0.3304 - accuracy: 0.9144\n",
            "Epoch 00163: val_accuracy did not improve from 0.90380\n",
            "781/781 [==============================] - 28s 35ms/step - loss: 0.3304 - accuracy: 0.9144 - val_loss: 0.3869 - val_accuracy: 0.9018 - lr: 7.8125e-06\n",
            "Epoch 164/400\n",
            "780/781 [============================>.] - ETA: 0s - loss: 0.3324 - accuracy: 0.9138\n",
            "Epoch 00164: val_accuracy did not improve from 0.90380\n",
            "781/781 [==============================] - 28s 36ms/step - loss: 0.3325 - accuracy: 0.9137 - val_loss: 0.3871 - val_accuracy: 0.9010 - lr: 7.8125e-06\n",
            "Epoch 165/400\n",
            "780/781 [============================>.] - ETA: 0s - loss: 0.3350 - accuracy: 0.9130\n",
            "Epoch 00165: val_accuracy did not improve from 0.90380\n",
            "781/781 [==============================] - 28s 36ms/step - loss: 0.3351 - accuracy: 0.9130 - val_loss: 0.3886 - val_accuracy: 0.9011 - lr: 7.8125e-06\n",
            "Epoch 166/400\n",
            "781/781 [==============================] - ETA: 0s - loss: 0.3316 - accuracy: 0.9129\n",
            "Epoch 00166: val_accuracy did not improve from 0.90380\n",
            "781/781 [==============================] - 28s 36ms/step - loss: 0.3316 - accuracy: 0.9129 - val_loss: 0.3859 - val_accuracy: 0.9009 - lr: 7.8125e-06\n",
            "Epoch 167/400\n",
            "781/781 [==============================] - ETA: 0s - loss: 0.3348 - accuracy: 0.9123\n",
            "Epoch 00167: val_accuracy did not improve from 0.90380\n",
            "781/781 [==============================] - 28s 35ms/step - loss: 0.3348 - accuracy: 0.9123 - val_loss: 0.3877 - val_accuracy: 0.9011 - lr: 7.8125e-06\n",
            "Epoch 168/400\n",
            "780/781 [============================>.] - ETA: 0s - loss: 0.3295 - accuracy: 0.9142\n",
            "Epoch 00168: val_accuracy did not improve from 0.90380\n",
            "781/781 [==============================] - 28s 36ms/step - loss: 0.3294 - accuracy: 0.9143 - val_loss: 0.3854 - val_accuracy: 0.9013 - lr: 7.8125e-06\n",
            "Epoch 169/400\n",
            "780/781 [============================>.] - ETA: 0s - loss: 0.3294 - accuracy: 0.9137\n",
            "Epoch 00169: val_accuracy did not improve from 0.90380\n",
            "781/781 [==============================] - 28s 36ms/step - loss: 0.3294 - accuracy: 0.9137 - val_loss: 0.3876 - val_accuracy: 0.9007 - lr: 7.8125e-06\n",
            "Epoch 170/400\n",
            "781/781 [==============================] - ETA: 0s - loss: 0.3306 - accuracy: 0.9145\n",
            "Epoch 00170: ReduceLROnPlateau reducing learning rate to 3.906250185536919e-06.\n",
            "\n",
            "Epoch 00170: val_accuracy did not improve from 0.90380\n",
            "781/781 [==============================] - 28s 36ms/step - loss: 0.3306 - accuracy: 0.9145 - val_loss: 0.3873 - val_accuracy: 0.9008 - lr: 7.8125e-06\n",
            "Epoch 171/400\n",
            "780/781 [============================>.] - ETA: 0s - loss: 0.3362 - accuracy: 0.9126\n",
            "Epoch 00171: val_accuracy did not improve from 0.90380\n",
            "781/781 [==============================] - 28s 36ms/step - loss: 0.3363 - accuracy: 0.9125 - val_loss: 0.3887 - val_accuracy: 0.9011 - lr: 3.9063e-06\n",
            "Epoch 172/400\n",
            "781/781 [==============================] - ETA: 0s - loss: 0.3314 - accuracy: 0.9142\n",
            "Epoch 00172: val_accuracy did not improve from 0.90380\n",
            "781/781 [==============================] - 28s 36ms/step - loss: 0.3314 - accuracy: 0.9142 - val_loss: 0.3870 - val_accuracy: 0.9010 - lr: 3.9063e-06\n",
            "Epoch 173/400\n",
            "780/781 [============================>.] - ETA: 0s - loss: 0.3329 - accuracy: 0.9130\n",
            "Epoch 00173: val_accuracy did not improve from 0.90380\n",
            "781/781 [==============================] - 28s 36ms/step - loss: 0.3329 - accuracy: 0.9130 - val_loss: 0.3855 - val_accuracy: 0.9016 - lr: 3.9063e-06\n",
            "Epoch 174/400\n",
            "780/781 [============================>.] - ETA: 0s - loss: 0.3311 - accuracy: 0.9128\n",
            "Epoch 00174: val_accuracy did not improve from 0.90380\n",
            "781/781 [==============================] - 28s 36ms/step - loss: 0.3311 - accuracy: 0.9128 - val_loss: 0.3846 - val_accuracy: 0.9024 - lr: 3.9063e-06\n",
            "Epoch 175/400\n",
            "781/781 [==============================] - ETA: 0s - loss: 0.3351 - accuracy: 0.9128\n",
            "Epoch 00175: val_accuracy did not improve from 0.90380\n",
            "781/781 [==============================] - 28s 36ms/step - loss: 0.3351 - accuracy: 0.9128 - val_loss: 0.3855 - val_accuracy: 0.9021 - lr: 3.9063e-06\n",
            "Epoch 176/400\n",
            "780/781 [============================>.] - ETA: 0s - loss: 0.3301 - accuracy: 0.9145\n",
            "Epoch 00176: val_accuracy did not improve from 0.90380\n",
            "781/781 [==============================] - 27s 35ms/step - loss: 0.3301 - accuracy: 0.9145 - val_loss: 0.3865 - val_accuracy: 0.9015 - lr: 3.9063e-06\n",
            "Epoch 177/400\n",
            "780/781 [============================>.] - ETA: 0s - loss: 0.3312 - accuracy: 0.9146\n",
            "Epoch 00177: val_accuracy did not improve from 0.90380\n",
            "781/781 [==============================] - 27s 35ms/step - loss: 0.3312 - accuracy: 0.9145 - val_loss: 0.3853 - val_accuracy: 0.9019 - lr: 3.9063e-06\n",
            "Epoch 178/400\n",
            "780/781 [============================>.] - ETA: 0s - loss: 0.3298 - accuracy: 0.9142\n",
            "Epoch 00178: val_accuracy did not improve from 0.90380\n",
            "781/781 [==============================] - 27s 35ms/step - loss: 0.3298 - accuracy: 0.9142 - val_loss: 0.3877 - val_accuracy: 0.9013 - lr: 3.9063e-06\n",
            "Epoch 179/400\n",
            "781/781 [==============================] - ETA: 0s - loss: 0.3345 - accuracy: 0.9118\n",
            "Epoch 00179: val_accuracy did not improve from 0.90380\n",
            "781/781 [==============================] - 27s 34ms/step - loss: 0.3345 - accuracy: 0.9118 - val_loss: 0.3877 - val_accuracy: 0.9015 - lr: 3.9063e-06\n",
            "Epoch 180/400\n",
            "781/781 [==============================] - ETA: 0s - loss: 0.3293 - accuracy: 0.9153\n",
            "Epoch 00180: ReduceLROnPlateau reducing learning rate to 1.9531250927684596e-06.\n",
            "\n",
            "Epoch 00180: val_accuracy did not improve from 0.90380\n",
            "781/781 [==============================] - 27s 35ms/step - loss: 0.3293 - accuracy: 0.9153 - val_loss: 0.3865 - val_accuracy: 0.9019 - lr: 3.9063e-06\n",
            "Epoch 00180: early stopping\n"
          ],
          "name": "stdout"
        },
        {
          "output_type": "execute_result",
          "data": {
            "text/plain": [
              "<tensorflow.python.keras.callbacks.History at 0x7f21b50ac668>"
            ]
          },
          "metadata": {
            "tags": []
          },
          "execution_count": 43
        }
      ]
    },
    {
      "cell_type": "code",
      "metadata": {
        "id": "IiwjQJX9pAch",
        "colab_type": "code",
        "colab": {
          "base_uri": "https://localhost:8080/",
          "height": 34
        },
        "outputId": "4311ea82-b6b9-483f-df17-de235802615a"
      },
      "source": [
        "ls"
      ],
      "execution_count": 44,
      "outputs": [
        {
          "output_type": "stream",
          "text": [
            "cnn_best_model.h5  \u001b[0m\u001b[01;34msample_data\u001b[0m/\n"
          ],
          "name": "stdout"
        }
      ]
    },
    {
      "cell_type": "code",
      "metadata": {
        "id": "h1iV73B8w78h",
        "colab_type": "code",
        "colab": {}
      },
      "source": [
        "def plotmodelhistory(history): \n",
        "    fig, axs = plt.subplots(1,2,figsize=(15,5)) \n",
        "    # summarize history for accuracy\n",
        "    axs[0].plot(history.history['accuracy']) \n",
        "    axs[0].plot(history.history['val_accuracy']) \n",
        "    axs[0].set_title('Model Accuracy')\n",
        "    axs[0].set_ylabel('Accuracy') \n",
        "    axs[0].set_xlabel('Epoch')\n",
        "    axs[0].legend(['train', 'validate'], loc='upper left')\n",
        "    # summarize history for loss\n",
        "    axs[1].plot(history.history['loss']) \n",
        "    axs[1].plot(history.history['val_loss']) \n",
        "    axs[1].set_title('Model Loss')\n",
        "    axs[1].set_ylabel('Loss') \n",
        "    axs[1].set_xlabel('Epoch')\n",
        "    axs[1].legend(['train', 'validate'], loc='upper left')\n",
        "    plt.show()\n",
        "    "
      ],
      "execution_count": 45,
      "outputs": []
    },
    {
      "cell_type": "code",
      "metadata": {
        "id": "LerZGQde1tLb",
        "colab_type": "code",
        "colab": {
          "base_uri": "https://localhost:8080/",
          "height": 34
        },
        "outputId": "5341b308-f6a6-402e-f107-9156b3b39788"
      },
      "source": [
        "print(model.history.history.keys())"
      ],
      "execution_count": 46,
      "outputs": [
        {
          "output_type": "stream",
          "text": [
            "dict_keys(['loss', 'accuracy', 'val_loss', 'val_accuracy', 'lr'])\n"
          ],
          "name": "stdout"
        }
      ]
    },
    {
      "cell_type": "code",
      "metadata": {
        "id": "wS_cnMWm1tVs",
        "colab_type": "code",
        "colab": {
          "base_uri": "https://localhost:8080/",
          "height": 350
        },
        "outputId": "03bdac13-c7bf-4eb1-dcd5-18d4da4945d2"
      },
      "source": [
        "plotmodelhistory(model.history)"
      ],
      "execution_count": 47,
      "outputs": [
        {
          "output_type": "display_data",
          "data": {
            "image/png": "[encoded data removed]",
            "text/plain": [
              "<Figure size 1080x360 with 2 Axes>"
            ]
          },
          "metadata": {
            "tags": [],
            "needs_background": "light"
          }
        }
      ]
    },
    {
      "cell_type": "code",
      "metadata": {
        "id": "Hv263G5J13tD",
        "colab_type": "code",
        "colab": {
          "base_uri": "https://localhost:8080/",
          "height": 498
        },
        "outputId": "e9aa9f77-63b9-4050-e7e4-d9eb089693be"
      },
      "source": [
        "# Plot confusion matrix\n",
        "from sklearn.metrics import confusion_matrix\n",
        "import itertools\n",
        "\n",
        "def plot_confusion_matrix(cm, classes,\n",
        "                          normalize=False,\n",
        "                          title='Confusion matrix',\n",
        "                          cmap=plt.cm.Blues):\n",
        "  \"\"\"\n",
        "  This function prints and plots the confusion matrix.\n",
        "  Normalization can be applied by setting `normalize=True`.\n",
        "  \"\"\"\n",
        "  if normalize:\n",
        "      cm = cm.astype('float') / cm.sum(axis=1)[:, np.newaxis]\n",
        "      print(\"Normalized confusion matrix\")\n",
        "  else:\n",
        "      print('Confusion matrix, without normalization')\n",
        "\n",
        "  print(cm)\n",
        "\n",
        "  plt.imshow(cm, interpolation='nearest', cmap=cmap)\n",
        "  plt.title(title)\n",
        "  plt.colorbar()\n",
        "  tick_marks = np.arange(len(classes))\n",
        "  plt.xticks(tick_marks, classes, rotation=45)\n",
        "  plt.yticks(tick_marks, classes)\n",
        "\n",
        "  fmt = '.2f' if normalize else 'd'\n",
        "  thresh = cm.max() / 2.\n",
        "  for i, j in itertools.product(range(cm.shape[0]), range(cm.shape[1])):\n",
        "      plt.text(j, i, format(cm[i, j], fmt),\n",
        "               horizontalalignment=\"center\",\n",
        "               color=\"white\" if cm[i, j] > thresh else \"black\")\n",
        "\n",
        "  plt.tight_layout()\n",
        "  plt.ylabel('True label')\n",
        "  plt.xlabel('Predicted label')\n",
        "  plt.show()\n",
        "\n",
        "\n",
        "p_test = model.predict(x_test).argmax(axis=1)\n",
        "cm = confusion_matrix(y_test, p_test)\n",
        "plot_confusion_matrix(cm, list(range(10)))"
      ],
      "execution_count": 48,
      "outputs": [
        {
          "output_type": "stream",
          "text": [
            "Confusion matrix, without normalization\n",
            "[[903  15  19   1   4   0   5   7  27  19]\n",
            " [  3 958   0   0   0   0   2   0   3  34]\n",
            " [ 24   0 869  15  26  16  33  14   1   2]\n",
            " [  8   6  28 752  30  75  60  19   6  16]\n",
            " [  2   1  15  14 914   4  30  17   2   1]\n",
            " [  5   1  13  82  27 809  23  33   1   6]\n",
            " [  4   3   9   7   4   0 969   1   1   2]\n",
            " [  3   1   3  11  18  12   7 940   1   4]\n",
            " [ 20   8   2   2   0   0   2   0 944  22]\n",
            " [  4  25   1   2   1   0   0   1   5 961]]\n"
          ],
          "name": "stdout"
        },
        {
          "output_type": "display_data",
          "data": {
            "image/png": "[encoded data removed]",
            "text/plain": [
              "<Figure size 432x288 with 2 Axes>"
            ]
          },
          "metadata": {
            "tags": [],
            "needs_background": "light"
          }
        }
      ]
    },
    {
      "cell_type": "code",
      "metadata": {
        "id": "gjn0hmpA9BOs",
        "colab_type": "code",
        "colab": {}
      },
      "source": [
        "# label mapping\n",
        "labels = '''airplane\n",
        "      automobile\n",
        "      bird\n",
        "      cat\n",
        "      deer\n",
        "      dog\n",
        "      frog\n",
        "      horse\n",
        "      ship\n",
        "      truck'''.split()"
      ],
      "execution_count": 49,
      "outputs": []
    },
    {
      "cell_type": "code",
      "metadata": {
        "id": "q-tIKSFY3KQK",
        "colab_type": "code",
        "colab": {
          "base_uri": "https://localhost:8080/",
          "height": 315
        },
        "outputId": "494e8141-348a-48b0-98ab-88eb391b0816"
      },
      "source": [
        "# Show some misclassified examples\n",
        "misclassified_idx = np.where(p_test != y_test.flatten())[0]\n",
        "i = np.random.choice(misclassified_idx)\n",
        "plt.imshow(x_test[i], cmap='gray')\n",
        "plt.title(\"True label: %s, Predicted: %s\" % (labels[y_test.flatten()[i]], labels[p_test[i]]))\n"
      ],
      "execution_count": 50,
      "outputs": [
        {
          "output_type": "stream",
          "text": [
            "Clipping input data to the valid range for imshow with RGB data ([0..1] for floats or [0..255] for integers).\n"
          ],
          "name": "stderr"
        },
        {
          "output_type": "execute_result",
          "data": {
            "text/plain": [
              "Text(0.5, 1.0, 'True label: airplane, Predicted: ship')"
            ]
          },
          "metadata": {
            "tags": []
          },
          "execution_count": 50
        },
        {
          "output_type": "display_data",
          "data": {
            "image/png": "[encoded data removed]",
            "text/plain": [
              "<Figure size 432x288 with 1 Axes>"
            ]
          },
          "metadata": {
            "tags": [],
            "needs_background": "light"
          }
        }
      ]
    },
    {
      "cell_type": "code",
      "metadata": {
        "id": "GHzyDUz988yU",
        "colab_type": "code",
        "colab": {}
      },
      "source": [
        ""
      ],
      "execution_count": null,
      "outputs": []
    }
  ]
}